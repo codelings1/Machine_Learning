{
 "cells": [
  {
   "cell_type": "markdown",
   "metadata": {},
   "source": [
    "pip install opencv-python"
   ]
  },
  {
   "cell_type": "code",
   "execution_count": 2,
   "metadata": {},
   "outputs": [],
   "source": [
    "import cv2"
   ]
  },
  {
   "cell_type": "code",
   "execution_count": 5,
   "metadata": {},
   "outputs": [
    {
     "data": {
      "text/plain": [
       "array([[[201, 163, 109],\n",
       "        [201, 163, 109],\n",
       "        [201, 163, 109],\n",
       "        ...,\n",
       "        [173, 136,  86],\n",
       "        [173, 135,  87],\n",
       "        [174, 136,  88]],\n",
       "\n",
       "       [[201, 163, 109],\n",
       "        [201, 163, 109],\n",
       "        [201, 163, 109],\n",
       "        ...,\n",
       "        [173, 136,  86],\n",
       "        [173, 135,  87],\n",
       "        [173, 135,  87]],\n",
       "\n",
       "       [[201, 163, 109],\n",
       "        [201, 163, 109],\n",
       "        [201, 163, 109],\n",
       "        ...,\n",
       "        [173, 136,  86],\n",
       "        [173, 135,  87],\n",
       "        [173, 135,  87]],\n",
       "\n",
       "       ...,\n",
       "\n",
       "       [[184, 173, 165],\n",
       "        [184, 173, 165],\n",
       "        [184, 173, 165],\n",
       "        ...,\n",
       "        [150, 134, 128],\n",
       "        [152, 136, 130],\n",
       "        [153, 137, 131]],\n",
       "\n",
       "       [[184, 173, 165],\n",
       "        [184, 173, 165],\n",
       "        [184, 173, 165],\n",
       "        ...,\n",
       "        [150, 134, 128],\n",
       "        [151, 135, 129],\n",
       "        [152, 136, 130]],\n",
       "\n",
       "       [[186, 173, 165],\n",
       "        [186, 173, 165],\n",
       "        [186, 173, 165],\n",
       "        ...,\n",
       "        [150, 134, 128],\n",
       "        [151, 135, 129],\n",
       "        [152, 136, 130]]], dtype=uint8)"
      ]
     },
     "execution_count": 5,
     "metadata": {},
     "output_type": "execute_result"
    }
   ],
   "source": [
    "image1 = cv2.imread(r'C:\\Users\\sarthak.agarwal\\Pictures\\penguins.jpg')\n",
    "image1"
   ]
  },
  {
   "cell_type": "code",
   "execution_count": 4,
   "metadata": {},
   "outputs": [],
   "source": [
    "cv2.imshow(\"Penguins\",image1)\n",
    "\n",
    "cv2.waitKey(0)\n",
    "cv2.destroyAllWindows()"
   ]
  },
  {
   "cell_type": "code",
   "execution_count": 4,
   "metadata": {
    "scrolled": false
   },
   "outputs": [
    {
     "name": "stdout",
     "output_type": "stream",
     "text": [
      "Enter the name of the personsarthak\n",
      "1\n",
      "2\n",
      "3\n",
      "4\n",
      "5\n",
      "6\n",
      "7\n",
      "8\n",
      "9\n",
      "10\n",
      "11\n",
      "12\n",
      "13\n",
      "14\n",
      "15\n",
      "16\n",
      "17\n",
      "18\n",
      "19\n",
      "20\n",
      "21\n",
      "22\n",
      "23\n",
      "24\n",
      "25\n",
      "26\n",
      "27\n",
      "28\n",
      "29\n",
      "30\n",
      "31\n",
      "32\n",
      "33\n",
      "34\n",
      "35\n",
      "36\n",
      "37\n",
      "38\n",
      "39\n",
      "(39, 30000)\n",
      "Data successfully saved to ./data/sarthak.npy\n"
     ]
    }
   ],
   "source": [
    "import numpy as np, cv2\n",
    "\n",
    "cap = cv2.VideoCapture(0)\n",
    "\n",
    "# For face detection\n",
    "face_cascade = cv2.CascadeClassifier(\"./haarcascade_frontalface_alt.xml\")\n",
    "skip = 0\n",
    "face_data = []\n",
    "face_section = []\n",
    "dataset_path = './data/'\n",
    "\n",
    "filename = input(\"Enter the name of the person\")\n",
    "\n",
    "while True:\n",
    "    ret, frame = cap.read()\n",
    " \n",
    "    if ret == False:\n",
    "        continue\n",
    "    grayFrame = cv2.cvtColor(frame, cv2.COLOR_BGR2GRAY)\n",
    "    faces = face_cascade.detectMultiScale(frame, 1.3, 5)\n",
    "    faces = sorted(faces,key=lambda f:f[2]*f[3])\n",
    "   \n",
    "    for face in faces[-1:]:\n",
    "        x,y,w,h = face\n",
    "        cv2.rectangle(frame,(x,y),(x+w,y+h),(255,0,0),2)\n",
    "\n",
    "        offset = 10\n",
    "        face_section = frame[y-offset : y+h+offset, x-offset : x+w+offset]\n",
    "        #print(type(face_section), face_section.shape)\n",
    "        face_section = cv2.resize(face_section,(100,100))\n",
    "        skip += 1\n",
    "        if(skip%10 == 0):\n",
    "            face_data.append(face_section)\n",
    "            print(len(face_data))\n",
    "\n",
    "\n",
    "    cv2.imshow(\"Capturing WebCam content\",frame)\n",
    "    cv2.imshow(\"Face Section\", face_section)\n",
    "    \n",
    "    key_pressed = cv2.waitKey(1) & 0xFF\n",
    "    if(key_pressed) == ord('q'):\n",
    "        break\n",
    "\n",
    "face_data = np.asarray(face_data)\n",
    "face_data = face_data.reshape((face_data.shape[0], -1))\n",
    "print(face_data.shape)\n",
    "\n",
    "np.save(dataset_path + filename + '.npy', face_data)\n",
    "print('Data successfully saved to '+ dataset_path + filename + '.npy')\n",
    "\n",
    "cap.release()\n",
    "cv2.destroyAllWindows()"
   ]
  },
  {
   "cell_type": "code",
   "execution_count": 7,
   "metadata": {},
   "outputs": [
    {
     "name": "stdout",
     "output_type": "stream",
     "text": [
      "(39, 30000)\n",
      "1\n",
      "(39, 30000)\n",
      "(39,)\n"
     ]
    }
   ],
   "source": [
    "import os\n",
    "\n",
    "face_cascade = cv2.CascadeClassifier(\"./haarcascade_frontalface_alt.xml\")\n",
    "skip = 0\n",
    "face_data = []\n",
    "face_section = []\n",
    "dataset_path = './data/'\n",
    "trainData = []\n",
    "labels = []\n",
    "classId = 1\n",
    "\n",
    "for file in os.listdir(dataset_path):\n",
    "    if file.endswith('.npy'):\n",
    "        data_item = np.load(dataset_path+ file)\n",
    "        trainData.append(data_item)\n",
    "#         print(data_item.shape)\n",
    "        target = classId * np.ones((data_item.shape[0]))\n",
    "        \n",
    "        labels.append(target)\n",
    "        classId += 1\n",
    "\n",
    "faceTrainData = np.concatenate(trainData, axis = 0)\n",
    "faceLabelData = np.concatenate(labels, axis = 0)\n",
    "\n",
    "# print(len(trainData))\n",
    "print(faceTrainData.shape)\n",
    "print(faceLabelData.shape)"
   ]
  }
 ],
 "metadata": {
  "kernelspec": {
   "display_name": "Python 3",
   "language": "python",
   "name": "python3"
  },
  "language_info": {
   "codemirror_mode": {
    "name": "ipython",
    "version": 3
   },
   "file_extension": ".py",
   "mimetype": "text/x-python",
   "name": "python",
   "nbconvert_exporter": "python",
   "pygments_lexer": "ipython3",
   "version": "3.7.3"
  }
 },
 "nbformat": 4,
 "nbformat_minor": 2
}
