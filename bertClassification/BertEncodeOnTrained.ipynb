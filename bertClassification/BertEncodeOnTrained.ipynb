{
 "cells": [
  {
   "cell_type": "raw",
   "metadata": {},
   "source": [
    "# COmmand to run from CLI\n",
    "bert-serving-start -model_dir ./Downloads/uncased_L-12_H-768_A-12 -tuned_model_dir ./Work/abusedetection/YatinGoogleDrive/Trained_On_Complete_Dataset_Model-20200129T103225Z-001/Trained_On_Complete_Dataset_Model/ -ckpt_name=model.ckpt-1075\n"
   ]
  },
  {
   "cell_type": "code",
   "execution_count": 1,
   "metadata": {},
   "outputs": [],
   "source": [
    "import pandas as pd"
   ]
  },
  {
   "cell_type": "code",
   "execution_count": 2,
   "metadata": {},
   "outputs": [],
   "source": [
    "trainData = pd.read_csv('train.csv')"
   ]
  },
  {
   "cell_type": "code",
   "execution_count": 3,
   "metadata": {},
   "outputs": [
    {
     "data": {
      "text/html": [
       "<div>\n",
       "<style scoped>\n",
       "    .dataframe tbody tr th:only-of-type {\n",
       "        vertical-align: middle;\n",
       "    }\n",
       "\n",
       "    .dataframe tbody tr th {\n",
       "        vertical-align: top;\n",
       "    }\n",
       "\n",
       "    .dataframe thead th {\n",
       "        text-align: right;\n",
       "    }\n",
       "</style>\n",
       "<table border=\"1\" class=\"dataframe\">\n",
       "  <thead>\n",
       "    <tr style=\"text-align: right;\">\n",
       "      <th></th>\n",
       "      <th>Comment</th>\n",
       "      <th>Class</th>\n",
       "    </tr>\n",
       "  </thead>\n",
       "  <tbody>\n",
       "    <tr>\n",
       "      <th>0</th>\n",
       "      <td>\"You fuck your dad.\"</td>\n",
       "      <td>1</td>\n",
       "    </tr>\n",
       "    <tr>\n",
       "      <th>1</th>\n",
       "      <td>\"i really don't understand your point.\\xa0 It ...</td>\n",
       "      <td>0</td>\n",
       "    </tr>\n",
       "    <tr>\n",
       "      <th>2</th>\n",
       "      <td>\"A\\\\xc2\\\\xa0majority of Canadians can and has ...</td>\n",
       "      <td>0</td>\n",
       "    </tr>\n",
       "    <tr>\n",
       "      <th>3</th>\n",
       "      <td>\"listen if you dont wanna get married to a man...</td>\n",
       "      <td>0</td>\n",
       "    </tr>\n",
       "    <tr>\n",
       "      <th>4</th>\n",
       "      <td>\"C\\xe1c b\\u1ea1n xu\\u1ed1ng \\u0111\\u01b0\\u1edd...</td>\n",
       "      <td>0</td>\n",
       "    </tr>\n",
       "  </tbody>\n",
       "</table>\n",
       "</div>"
      ],
      "text/plain": [
       "                                             Comment  Class\n",
       "0                               \"You fuck your dad.\"      1\n",
       "1  \"i really don't understand your point.\\xa0 It ...      0\n",
       "2  \"A\\\\xc2\\\\xa0majority of Canadians can and has ...      0\n",
       "3  \"listen if you dont wanna get married to a man...      0\n",
       "4  \"C\\xe1c b\\u1ea1n xu\\u1ed1ng \\u0111\\u01b0\\u1edd...      0"
      ]
     },
     "execution_count": 3,
     "metadata": {},
     "output_type": "execute_result"
    }
   ],
   "source": [
    "trainData.head()"
   ]
  },
  {
   "cell_type": "code",
   "execution_count": 31,
   "metadata": {},
   "outputs": [
    {
     "data": {
      "text/plain": [
       "array([[-1.4607856 , -1.3356979 ,  0.15181774, ...,  0.7314374 ,\n",
       "         0.95083904, -0.22632086],\n",
       "       [-1.2321306 , -1.3150991 ,  0.10333592, ...,  0.5036387 ,\n",
       "         1.1127867 ,  0.01645399],\n",
       "       [-1.3529371 , -1.5694213 ,  0.04423429, ...,  0.39017606,\n",
       "         1.0482806 ,  0.14896075]], dtype=float32)"
      ]
     },
     "execution_count": 31,
     "metadata": {},
     "output_type": "execute_result"
    }
   ],
   "source": [
    "from bert_serving.client import BertClient\n",
    "bc = BertClient()\n",
    "bc.encode(['First do it', 'then do it right', 'then do it better'])"
   ]
  },
  {
   "cell_type": "code",
   "execution_count": 5,
   "metadata": {},
   "outputs": [
    {
     "name": "stderr",
     "output_type": "stream",
     "text": [
      "/home/xavient/anaconda3/lib/python3.7/site-packages/bert_serving/client/__init__.py:299: UserWarning: some of your sentences have more tokens than \"max_seq_len=25\" set on the server, as consequence you may get less-accurate or truncated embeddings.\n",
      "here is what you can do:\n",
      "- disable the length-check by create a new \"BertClient(check_length=False)\" when you do not want to display this warning\n",
      "- or, start a new server with a larger \"max_seq_len\"\n",
      "  '- or, start a new server with a larger \"max_seq_len\"' % self.length_limit)\n"
     ]
    }
   ],
   "source": [
    "trainData['BertEncoded'] = trainData.Comment.apply(lambda x: bc.encode([x])[0])\n",
    "\n",
    "newDf = pd.DataFrame(list(trainData.BertEncoded), columns = [\"Col\" + str(i) for i in range(0,768)])\n",
    "newDf[\"Insult\"] = trainData.Class\n",
    "newDf.to_csv('BertEncodedData.csv', index=False)"
   ]
  },
  {
   "cell_type": "code",
   "execution_count": 8,
   "metadata": {},
   "outputs": [
    {
     "data": {
      "text/html": [
       "<div>\n",
       "<style scoped>\n",
       "    .dataframe tbody tr th:only-of-type {\n",
       "        vertical-align: middle;\n",
       "    }\n",
       "\n",
       "    .dataframe tbody tr th {\n",
       "        vertical-align: top;\n",
       "    }\n",
       "\n",
       "    .dataframe thead th {\n",
       "        text-align: right;\n",
       "    }\n",
       "</style>\n",
       "<table border=\"1\" class=\"dataframe\">\n",
       "  <thead>\n",
       "    <tr style=\"text-align: right;\">\n",
       "      <th></th>\n",
       "      <th>Col0</th>\n",
       "      <th>Col1</th>\n",
       "      <th>Col2</th>\n",
       "      <th>Col3</th>\n",
       "      <th>Col4</th>\n",
       "      <th>Col5</th>\n",
       "      <th>Col6</th>\n",
       "      <th>Col7</th>\n",
       "      <th>Col8</th>\n",
       "      <th>Col9</th>\n",
       "      <th>...</th>\n",
       "      <th>Col759</th>\n",
       "      <th>Col760</th>\n",
       "      <th>Col761</th>\n",
       "      <th>Col762</th>\n",
       "      <th>Col763</th>\n",
       "      <th>Col764</th>\n",
       "      <th>Col765</th>\n",
       "      <th>Col766</th>\n",
       "      <th>Col767</th>\n",
       "      <th>Insult</th>\n",
       "    </tr>\n",
       "  </thead>\n",
       "  <tbody>\n",
       "    <tr>\n",
       "      <th>0</th>\n",
       "      <td>-1.613887</td>\n",
       "      <td>-0.954983</td>\n",
       "      <td>-0.033115</td>\n",
       "      <td>-0.482596</td>\n",
       "      <td>-0.252641</td>\n",
       "      <td>-0.506401</td>\n",
       "      <td>-0.436636</td>\n",
       "      <td>1.444905</td>\n",
       "      <td>0.640566</td>\n",
       "      <td>-0.702963</td>\n",
       "      <td>...</td>\n",
       "      <td>1.240674</td>\n",
       "      <td>0.642965</td>\n",
       "      <td>-0.221781</td>\n",
       "      <td>0.872750</td>\n",
       "      <td>0.864134</td>\n",
       "      <td>-1.230446</td>\n",
       "      <td>0.020024</td>\n",
       "      <td>1.465738</td>\n",
       "      <td>-0.029244</td>\n",
       "      <td>1</td>\n",
       "    </tr>\n",
       "    <tr>\n",
       "      <th>1</th>\n",
       "      <td>-1.447952</td>\n",
       "      <td>-0.920585</td>\n",
       "      <td>0.423175</td>\n",
       "      <td>-0.874580</td>\n",
       "      <td>-0.319325</td>\n",
       "      <td>-0.443531</td>\n",
       "      <td>-0.445665</td>\n",
       "      <td>1.106715</td>\n",
       "      <td>0.274117</td>\n",
       "      <td>-0.598053</td>\n",
       "      <td>...</td>\n",
       "      <td>1.341768</td>\n",
       "      <td>0.552965</td>\n",
       "      <td>-0.638997</td>\n",
       "      <td>0.704303</td>\n",
       "      <td>1.099262</td>\n",
       "      <td>-0.795739</td>\n",
       "      <td>0.057477</td>\n",
       "      <td>0.996351</td>\n",
       "      <td>-0.038786</td>\n",
       "      <td>0</td>\n",
       "    </tr>\n",
       "    <tr>\n",
       "      <th>2</th>\n",
       "      <td>-1.557941</td>\n",
       "      <td>-0.690302</td>\n",
       "      <td>0.395983</td>\n",
       "      <td>-0.933049</td>\n",
       "      <td>-0.189672</td>\n",
       "      <td>-0.308341</td>\n",
       "      <td>-0.561640</td>\n",
       "      <td>1.038212</td>\n",
       "      <td>0.060139</td>\n",
       "      <td>-0.981285</td>\n",
       "      <td>...</td>\n",
       "      <td>1.515023</td>\n",
       "      <td>0.507542</td>\n",
       "      <td>-0.727956</td>\n",
       "      <td>0.642189</td>\n",
       "      <td>0.965338</td>\n",
       "      <td>-0.946272</td>\n",
       "      <td>0.264077</td>\n",
       "      <td>1.226565</td>\n",
       "      <td>0.103484</td>\n",
       "      <td>0</td>\n",
       "    </tr>\n",
       "    <tr>\n",
       "      <th>3</th>\n",
       "      <td>-1.561248</td>\n",
       "      <td>-0.978212</td>\n",
       "      <td>0.344685</td>\n",
       "      <td>-0.904927</td>\n",
       "      <td>-0.382290</td>\n",
       "      <td>-0.481175</td>\n",
       "      <td>-0.559459</td>\n",
       "      <td>1.256119</td>\n",
       "      <td>0.355284</td>\n",
       "      <td>-0.525047</td>\n",
       "      <td>...</td>\n",
       "      <td>1.653658</td>\n",
       "      <td>0.504713</td>\n",
       "      <td>-0.556801</td>\n",
       "      <td>0.792939</td>\n",
       "      <td>0.978399</td>\n",
       "      <td>-0.740440</td>\n",
       "      <td>0.202388</td>\n",
       "      <td>1.039600</td>\n",
       "      <td>0.122538</td>\n",
       "      <td>0</td>\n",
       "    </tr>\n",
       "    <tr>\n",
       "      <th>4</th>\n",
       "      <td>-1.296834</td>\n",
       "      <td>-0.838971</td>\n",
       "      <td>-0.016590</td>\n",
       "      <td>-0.774820</td>\n",
       "      <td>-0.389915</td>\n",
       "      <td>-0.393829</td>\n",
       "      <td>-0.518376</td>\n",
       "      <td>1.075417</td>\n",
       "      <td>0.443116</td>\n",
       "      <td>-1.078864</td>\n",
       "      <td>...</td>\n",
       "      <td>1.749387</td>\n",
       "      <td>0.675712</td>\n",
       "      <td>-0.547855</td>\n",
       "      <td>0.608583</td>\n",
       "      <td>1.078333</td>\n",
       "      <td>-0.994598</td>\n",
       "      <td>0.195915</td>\n",
       "      <td>1.256632</td>\n",
       "      <td>0.176020</td>\n",
       "      <td>0</td>\n",
       "    </tr>\n",
       "  </tbody>\n",
       "</table>\n",
       "<p>5 rows × 769 columns</p>\n",
       "</div>"
      ],
      "text/plain": [
       "       Col0      Col1      Col2      Col3      Col4      Col5      Col6  \\\n",
       "0 -1.613887 -0.954983 -0.033115 -0.482596 -0.252641 -0.506401 -0.436636   \n",
       "1 -1.447952 -0.920585  0.423175 -0.874580 -0.319325 -0.443531 -0.445665   \n",
       "2 -1.557941 -0.690302  0.395983 -0.933049 -0.189672 -0.308341 -0.561640   \n",
       "3 -1.561248 -0.978212  0.344685 -0.904927 -0.382290 -0.481175 -0.559459   \n",
       "4 -1.296834 -0.838971 -0.016590 -0.774820 -0.389915 -0.393829 -0.518376   \n",
       "\n",
       "       Col7      Col8      Col9  ...    Col759    Col760    Col761    Col762  \\\n",
       "0  1.444905  0.640566 -0.702963  ...  1.240674  0.642965 -0.221781  0.872750   \n",
       "1  1.106715  0.274117 -0.598053  ...  1.341768  0.552965 -0.638997  0.704303   \n",
       "2  1.038212  0.060139 -0.981285  ...  1.515023  0.507542 -0.727956  0.642189   \n",
       "3  1.256119  0.355284 -0.525047  ...  1.653658  0.504713 -0.556801  0.792939   \n",
       "4  1.075417  0.443116 -1.078864  ...  1.749387  0.675712 -0.547855  0.608583   \n",
       "\n",
       "     Col763    Col764    Col765    Col766    Col767  Insult  \n",
       "0  0.864134 -1.230446  0.020024  1.465738 -0.029244       1  \n",
       "1  1.099262 -0.795739  0.057477  0.996351 -0.038786       0  \n",
       "2  0.965338 -0.946272  0.264077  1.226565  0.103484       0  \n",
       "3  0.978399 -0.740440  0.202388  1.039600  0.122538       0  \n",
       "4  1.078333 -0.994598  0.195915  1.256632  0.176020       0  \n",
       "\n",
       "[5 rows x 769 columns]"
      ]
     },
     "execution_count": 8,
     "metadata": {},
     "output_type": "execute_result"
    }
   ],
   "source": [
    "newDf.head()"
   ]
  },
  {
   "cell_type": "code",
   "execution_count": 10,
   "metadata": {},
   "outputs": [
    {
     "data": {
      "text/plain": [
       "(11476, 769)"
      ]
     },
     "execution_count": 10,
     "metadata": {},
     "output_type": "execute_result"
    }
   ],
   "source": [
    "newDf.shape"
   ]
  },
  {
   "cell_type": "code",
   "execution_count": 9,
   "metadata": {},
   "outputs": [],
   "source": [
    "from sklearn.linear_model import LogisticRegression"
   ]
  },
  {
   "cell_type": "code",
   "execution_count": 11,
   "metadata": {},
   "outputs": [],
   "source": [
    "from sklearn.model_selection import train_test_split"
   ]
  },
  {
   "cell_type": "code",
   "execution_count": 15,
   "metadata": {},
   "outputs": [],
   "source": [
    "X_train, X_test , Y_train, Y_test = train_test_split(newDf.drop(['Insult'], axis = 1), newDf['Insult'], \n",
    "                                                     test_size=0.2, random_state=42)"
   ]
  },
  {
   "cell_type": "code",
   "execution_count": 16,
   "metadata": {},
   "outputs": [
    {
     "data": {
      "text/plain": [
       "((9180, 768), (9180,), (2296, 768), (2296,))"
      ]
     },
     "execution_count": 16,
     "metadata": {},
     "output_type": "execute_result"
    }
   ],
   "source": [
    "X_train.shape, Y_train.shape , X_test.shape, Y_test.shape"
   ]
  },
  {
   "cell_type": "code",
   "execution_count": 14,
   "metadata": {},
   "outputs": [],
   "source": [
    "lr = LogisticRegression()"
   ]
  },
  {
   "cell_type": "code",
   "execution_count": 17,
   "metadata": {},
   "outputs": [
    {
     "name": "stderr",
     "output_type": "stream",
     "text": [
      "/home/xavient/anaconda3/lib/python3.7/site-packages/sklearn/linear_model/logistic.py:432: FutureWarning: Default solver will be changed to 'lbfgs' in 0.22. Specify a solver to silence this warning.\n",
      "  FutureWarning)\n"
     ]
    },
    {
     "data": {
      "text/plain": [
       "LogisticRegression(C=1.0, class_weight=None, dual=False, fit_intercept=True,\n",
       "                   intercept_scaling=1, l1_ratio=None, max_iter=100,\n",
       "                   multi_class='warn', n_jobs=None, penalty='l2',\n",
       "                   random_state=None, solver='warn', tol=0.0001, verbose=0,\n",
       "                   warm_start=False)"
      ]
     },
     "execution_count": 17,
     "metadata": {},
     "output_type": "execute_result"
    }
   ],
   "source": [
    "lr.fit(X_train, Y_train)"
   ]
  },
  {
   "cell_type": "code",
   "execution_count": 18,
   "metadata": {},
   "outputs": [
    {
     "data": {
      "text/plain": [
       "0.7931184668989547"
      ]
     },
     "execution_count": 18,
     "metadata": {},
     "output_type": "execute_result"
    }
   ],
   "source": [
    "lr.score(X_test,Y_test)"
   ]
  },
  {
   "cell_type": "code",
   "execution_count": 19,
   "metadata": {},
   "outputs": [],
   "source": [
    "from sklearn.metrics import classification_report"
   ]
  },
  {
   "cell_type": "code",
   "execution_count": 21,
   "metadata": {},
   "outputs": [
    {
     "name": "stdout",
     "output_type": "stream",
     "text": [
      "              precision    recall  f1-score   support\n",
      "\n",
      "           0       0.82      0.91      0.86      1586\n",
      "           1       0.72      0.54      0.62       710\n",
      "\n",
      "    accuracy                           0.79      2296\n",
      "   macro avg       0.77      0.72      0.74      2296\n",
      "weighted avg       0.79      0.79      0.78      2296\n",
      "\n"
     ]
    }
   ],
   "source": [
    "print(classification_report(Y_test, lr.predict(X_test)))"
   ]
  },
  {
   "cell_type": "code",
   "execution_count": 27,
   "metadata": {},
   "outputs": [],
   "source": [
    "texts = [\n",
    "        ]"
   ]
  },
  {
   "cell_type": "code",
   "execution_count": 28,
   "metadata": {},
   "outputs": [],
   "source": [
    "valData = bc.encode(texts)"
   ]
  },
  {
   "cell_type": "code",
   "execution_count": 30,
   "metadata": {},
   "outputs": [
    {
     "name": "stdout",
     "output_type": "stream",
     "text": [
      "('This is fucking awesome', 0)\n",
      "('Fuck you', 1)\n",
      "('Shut up', 1)\n",
      "('Shut the door', 0)\n",
      "('F**k yeah', 0)\n",
      "('F*ck yeah', 0)\n",
      "('F**k you', 1)\n"
     ]
    }
   ],
   "source": [
    "for i in zip(texts, lr.predict(valData)):\n",
    "    print(i)"
   ]
  }
 ],
 "metadata": {
  "kernelspec": {
   "display_name": "Python 3",
   "language": "python",
   "name": "python3"
  },
  "language_info": {
   "codemirror_mode": {
    "name": "ipython",
    "version": 3
   },
   "file_extension": ".py",
   "mimetype": "text/x-python",
   "name": "python",
   "nbconvert_exporter": "python",
   "pygments_lexer": "ipython3",
   "version": "3.7.4"
  }
 },
 "nbformat": 4,
 "nbformat_minor": 2
}
