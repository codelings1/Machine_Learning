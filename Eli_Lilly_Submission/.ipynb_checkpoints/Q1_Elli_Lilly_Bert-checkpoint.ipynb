{
 "cells": [
  {
   "cell_type": "markdown",
   "metadata": {
    "colab": {},
    "colab_type": "code",
    "id": "XWXUBWLJpli8"
   },
   "source": [
    "#### This notebook need to be run on gpu runtime environment on Google Colab"
   ]
  },
  {
   "cell_type": "code",
   "execution_count": 48,
   "metadata": {
    "colab": {
     "base_uri": "https://localhost:8080/",
     "height": 34
    },
    "colab_type": "code",
    "id": "gcBDSiVjGIT6",
    "outputId": "67a9ba9f-1e91-455a-92b1-0d96bd6f5fe5"
   },
   "outputs": [
    {
     "name": "stdout",
     "output_type": "stream",
     "text": [
      "Drive already mounted at /content/drive; to attempt to forcibly remount, call drive.mount(\"/content/drive\", force_remount=True).\n"
     ]
    }
   ],
   "source": [
    "from google.colab import drive\n",
    "drive.mount('/content/drive', force_remount=False)"
   ]
  },
  {
   "cell_type": "code",
   "execution_count": 49,
   "metadata": {
    "colab": {
     "base_uri": "https://localhost:8080/",
     "height": 34
    },
    "colab_type": "code",
    "id": "L7nlTtM8UPiS",
    "outputId": "f3ddbfc2-471d-4227-b48d-b13add1b65e0"
   },
   "outputs": [
    {
     "name": "stdout",
     "output_type": "stream",
     "text": [
      "/content/drive/My Drive/Eli Lilly\n"
     ]
    }
   ],
   "source": [
    "cd /content/drive/My Drive/Eli Lilly"
   ]
  },
  {
   "cell_type": "code",
   "execution_count": 50,
   "metadata": {
    "colab": {
     "base_uri": "https://localhost:8080/",
     "height": 34
    },
    "colab_type": "code",
    "id": "wIBsxq2XUaCB",
    "outputId": "4b631843-254a-44f9-d3f8-0b0f22d7be45"
   },
   "outputs": [
    {
     "name": "stdout",
     "output_type": "stream",
     "text": [
      "Data.csv  \u001b[0m\u001b[01;34mtrainedModel\u001b[0m/\n"
     ]
    }
   ],
   "source": [
    "ls"
   ]
  },
  {
   "cell_type": "code",
   "execution_count": 51,
   "metadata": {
    "colab": {
     "base_uri": "https://localhost:8080/",
     "height": 374
    },
    "colab_type": "code",
    "id": "8I7VDMrRO9wk",
    "outputId": "5126dd45-a44c-423b-b168-8ebbc2f91f68"
   },
   "outputs": [
    {
     "name": "stdout",
     "output_type": "stream",
     "text": [
      "Requirement already satisfied: tensorflow-gpu==1.15.0 in /usr/local/lib/python3.6/dist-packages (1.15.0)\n",
      "Requirement already satisfied: six>=1.10.0 in /usr/local/lib/python3.6/dist-packages (from tensorflow-gpu==1.15.0) (1.12.0)\n",
      "Requirement already satisfied: termcolor>=1.1.0 in /usr/local/lib/python3.6/dist-packages (from tensorflow-gpu==1.15.0) (1.1.0)\n",
      "Requirement already satisfied: keras-preprocessing>=1.0.5 in /usr/local/lib/python3.6/dist-packages (from tensorflow-gpu==1.15.0) (1.1.0)\n",
      "Requirement already satisfied: grpcio>=1.8.6 in /usr/local/lib/python3.6/dist-packages (from tensorflow-gpu==1.15.0) (1.28.1)\n",
      "Requirement already satisfied: wheel>=0.26 in /usr/local/lib/python3.6/dist-packages (from tensorflow-gpu==1.15.0) (0.34.2)\n",
      "Requirement already satisfied: absl-py>=0.7.0 in /usr/local/lib/python3.6/dist-packages (from tensorflow-gpu==1.15.0) (0.9.0)\n",
      "Requirement already satisfied: numpy<2.0,>=1.16.0 in /usr/local/lib/python3.6/dist-packages (from tensorflow-gpu==1.15.0) (1.18.4)\n",
      "Requirement already satisfied: keras-applications>=1.0.8 in /usr/local/lib/python3.6/dist-packages (from tensorflow-gpu==1.15.0) (1.0.8)\n",
      "Requirement already satisfied: astor>=0.6.0 in /usr/local/lib/python3.6/dist-packages (from tensorflow-gpu==1.15.0) (0.8.1)\n",
      "Requirement already satisfied: gast==0.2.2 in /usr/local/lib/python3.6/dist-packages (from tensorflow-gpu==1.15.0) (0.2.2)\n",
      "Requirement already satisfied: protobuf>=3.6.1 in /usr/local/lib/python3.6/dist-packages (from tensorflow-gpu==1.15.0) (3.10.0)\n",
      "Requirement already satisfied: google-pasta>=0.1.6 in /usr/local/lib/python3.6/dist-packages (from tensorflow-gpu==1.15.0) (0.2.0)\n",
      "Requirement already satisfied: wrapt>=1.11.1 in /usr/local/lib/python3.6/dist-packages (from tensorflow-gpu==1.15.0) (1.12.1)\n",
      "Requirement already satisfied: tensorflow-estimator==1.15.1 in /usr/local/lib/python3.6/dist-packages (from tensorflow-gpu==1.15.0) (1.15.1)\n",
      "Requirement already satisfied: opt-einsum>=2.3.2 in /usr/local/lib/python3.6/dist-packages (from tensorflow-gpu==1.15.0) (3.2.1)\n",
      "Requirement already satisfied: tensorboard<1.16.0,>=1.15.0 in /usr/local/lib/python3.6/dist-packages (from tensorflow-gpu==1.15.0) (1.15.0)\n",
      "Requirement already satisfied: h5py in /usr/local/lib/python3.6/dist-packages (from keras-applications>=1.0.8->tensorflow-gpu==1.15.0) (2.10.0)\n",
      "Requirement already satisfied: setuptools in /usr/local/lib/python3.6/dist-packages (from protobuf>=3.6.1->tensorflow-gpu==1.15.0) (46.3.0)\n",
      "Requirement already satisfied: markdown>=2.6.8 in /usr/local/lib/python3.6/dist-packages (from tensorboard<1.16.0,>=1.15.0->tensorflow-gpu==1.15.0) (3.2.1)\n",
      "Requirement already satisfied: werkzeug>=0.11.15 in /usr/local/lib/python3.6/dist-packages (from tensorboard<1.16.0,>=1.15.0->tensorflow-gpu==1.15.0) (1.0.1)\n"
     ]
    }
   ],
   "source": [
    "!pip install tensorflow-gpu==1.15.0"
   ]
  },
  {
   "cell_type": "code",
   "execution_count": 0,
   "metadata": {
    "colab": {},
    "colab_type": "code",
    "id": "SUrWctabKZg3"
   },
   "outputs": [],
   "source": [
    "\n",
    "from sklearn.model_selection import train_test_split\n",
    "import pandas as pd\n",
    "import tensorflow as tf\n",
    "import tensorflow_hub as hub\n",
    "from datetime import datetime"
   ]
  },
  {
   "cell_type": "code",
   "execution_count": 53,
   "metadata": {
    "colab": {
     "base_uri": "https://localhost:8080/",
     "height": 34
    },
    "colab_type": "code",
    "id": "jgf5ux5H_2RF",
    "outputId": "21eea671-cac6-4f26-d5e8-25a177854baf"
   },
   "outputs": [
    {
     "name": "stdout",
     "output_type": "stream",
     "text": [
      "1.15.0\n"
     ]
    }
   ],
   "source": [
    "# We need to have tf version 1.15.0 to make this code work\n",
    "print(tf.__version__)"
   ]
  },
  {
   "cell_type": "code",
   "execution_count": 54,
   "metadata": {
    "colab": {
     "base_uri": "https://localhost:8080/",
     "height": 51
    },
    "colab_type": "code",
    "id": "1ZYtEGwiGjnE",
    "outputId": "991de618-2c7c-479c-dfa2-be86dc28e684"
   },
   "outputs": [
    {
     "name": "stdout",
     "output_type": "stream",
     "text": [
      "Requirement already satisfied: bert-tensorflow in /usr/local/lib/python3.6/dist-packages (1.0.1)\n",
      "Requirement already satisfied: six in /usr/local/lib/python3.6/dist-packages (from bert-tensorflow) (1.12.0)\n"
     ]
    }
   ],
   "source": [
    "!pip install bert-tensorflow"
   ]
  },
  {
   "cell_type": "code",
   "execution_count": 0,
   "metadata": {
    "colab": {},
    "colab_type": "code",
    "id": "fxG5KpBKGoUD"
   },
   "outputs": [],
   "source": [
    "# Reuired imports\n",
    "import bert\n",
    "from bert import run_classifier\n",
    "from bert import optimization\n",
    "from bert import tokenization"
   ]
  },
  {
   "cell_type": "code",
   "execution_count": 56,
   "metadata": {
    "colab": {
     "base_uri": "https://localhost:8080/",
     "height": 34
    },
    "colab_type": "code",
    "id": "wkxVNgLJIEMv",
    "outputId": "3375ff50-84c6-42c7-a1ce-8355b3415a4e"
   },
   "outputs": [
    {
     "data": {
      "text/plain": [
       "'/content/drive/My Drive/Eli Lilly'"
      ]
     },
     "execution_count": 56,
     "metadata": {
      "tags": []
     },
     "output_type": "execute_result"
    }
   ],
   "source": [
    "pwd"
   ]
  },
  {
   "cell_type": "code",
   "execution_count": 0,
   "metadata": {
    "colab": {},
    "colab_type": "code",
    "id": "q1fURyMLL_Ol"
   },
   "outputs": [],
   "source": [
    "# Set the output directory for saving model file\n",
    "OUTPUT_DIR = 'trainedModel'\n",
    "DO_DELETE = False \n",
    "\n",
    "if DO_DELETE:\n",
    "  try:\n",
    "    tf.gfile.DeleteRecursively(OUTPUT_DIR)\n",
    "  except:\n",
    "    pass\n",
    "tf.gfile.MakeDirs(OUTPUT_DIR)\n"
   ]
  },
  {
   "cell_type": "code",
   "execution_count": 0,
   "metadata": {
    "colab": {},
    "colab_type": "code",
    "id": "lWiMak1HM4KY"
   },
   "outputs": [],
   "source": [
    "import pandas as pd\n",
    "data = pd.read_csv('./Data.csv')\n"
   ]
  },
  {
   "cell_type": "code",
   "execution_count": 59,
   "metadata": {
    "colab": {
     "base_uri": "https://localhost:8080/",
     "height": 204
    },
    "colab_type": "code",
    "id": "3uHh9dPdBSIl",
    "outputId": "bdeba2d8-463e-4ac6-e0d0-4e3e0e4366a9"
   },
   "outputs": [
    {
     "data": {
      "text/html": [
       "<div>\n",
       "<style scoped>\n",
       "    .dataframe tbody tr th:only-of-type {\n",
       "        vertical-align: middle;\n",
       "    }\n",
       "\n",
       "    .dataframe tbody tr th {\n",
       "        vertical-align: top;\n",
       "    }\n",
       "\n",
       "    .dataframe thead th {\n",
       "        text-align: right;\n",
       "    }\n",
       "</style>\n",
       "<table border=\"1\" class=\"dataframe\">\n",
       "  <thead>\n",
       "    <tr style=\"text-align: right;\">\n",
       "      <th></th>\n",
       "      <th>tweet_id</th>\n",
       "      <th>sentiment</th>\n",
       "      <th>name</th>\n",
       "      <th>text</th>\n",
       "      <th>tweet_created</th>\n",
       "      <th>tweet_location</th>\n",
       "      <th>user_timezone</th>\n",
       "    </tr>\n",
       "  </thead>\n",
       "  <tbody>\n",
       "    <tr>\n",
       "      <th>0</th>\n",
       "      <td>1</td>\n",
       "      <td>neutral</td>\n",
       "      <td>cairdin</td>\n",
       "      <td>What @dhepburn said.</td>\n",
       "      <td>24/02/15 11:35</td>\n",
       "      <td>NaN</td>\n",
       "      <td>Eastern Time (US &amp; Canada)</td>\n",
       "    </tr>\n",
       "    <tr>\n",
       "      <th>1</th>\n",
       "      <td>2</td>\n",
       "      <td>positive</td>\n",
       "      <td>jnardino</td>\n",
       "      <td>plus you've added commercials to the experienc...</td>\n",
       "      <td>24/02/15 11:15</td>\n",
       "      <td>NaN</td>\n",
       "      <td>Pacific Time (US &amp; Canada)</td>\n",
       "    </tr>\n",
       "    <tr>\n",
       "      <th>2</th>\n",
       "      <td>3</td>\n",
       "      <td>neutral</td>\n",
       "      <td>yvonnalynn</td>\n",
       "      <td>I didn't today... Must mean I need to take ano...</td>\n",
       "      <td>24/02/15 11:15</td>\n",
       "      <td>Lets Play</td>\n",
       "      <td>Central Time (US &amp; Canada)</td>\n",
       "    </tr>\n",
       "    <tr>\n",
       "      <th>3</th>\n",
       "      <td>4</td>\n",
       "      <td>negative</td>\n",
       "      <td>jnardino</td>\n",
       "      <td>it's really aggressive to blast obnoxious \"ent...</td>\n",
       "      <td>24/02/15 11:15</td>\n",
       "      <td>NaN</td>\n",
       "      <td>Pacific Time (US &amp; Canada)</td>\n",
       "    </tr>\n",
       "    <tr>\n",
       "      <th>4</th>\n",
       "      <td>5</td>\n",
       "      <td>negative</td>\n",
       "      <td>jnardino</td>\n",
       "      <td>and it's a really big bad thing about it</td>\n",
       "      <td>24/02/15 11:14</td>\n",
       "      <td>NaN</td>\n",
       "      <td>Pacific Time (US &amp; Canada)</td>\n",
       "    </tr>\n",
       "  </tbody>\n",
       "</table>\n",
       "</div>"
      ],
      "text/plain": [
       "   tweet_id sentiment  ... tweet_location               user_timezone\n",
       "0         1   neutral  ...            NaN  Eastern Time (US & Canada)\n",
       "1         2  positive  ...            NaN  Pacific Time (US & Canada)\n",
       "2         3   neutral  ...      Lets Play  Central Time (US & Canada)\n",
       "3         4  negative  ...            NaN  Pacific Time (US & Canada)\n",
       "4         5  negative  ...            NaN  Pacific Time (US & Canada)\n",
       "\n",
       "[5 rows x 7 columns]"
      ]
     },
     "execution_count": 59,
     "metadata": {
      "tags": []
     },
     "output_type": "execute_result"
    }
   ],
   "source": [
    "data.head()"
   ]
  },
  {
   "cell_type": "code",
   "execution_count": 0,
   "metadata": {
    "colab": {},
    "colab_type": "code",
    "id": "QeCH2-aNAwty"
   },
   "outputs": [],
   "source": [
    "# train test splitting\n",
    "trainX, valX, trainY, valY = train_test_split(data['text'], data['sentiment'], test_size = 0.2, shuffle=data['sentiment'], random_state = 42)"
   ]
  },
  {
   "cell_type": "code",
   "execution_count": 61,
   "metadata": {
    "colab": {
     "base_uri": "https://localhost:8080/",
     "height": 34
    },
    "colab_type": "code",
    "id": "yG62900BBtYG",
    "outputId": "de2381b3-1d1a-405e-c1bb-7815a928ff61"
   },
   "outputs": [
    {
     "data": {
      "text/plain": [
       "((11712,), (11712,), (2928,), (2928,))"
      ]
     },
     "execution_count": 61,
     "metadata": {
      "tags": []
     },
     "output_type": "execute_result"
    }
   ],
   "source": [
    "trainX.shape, trainY.shape, valX.shape, valY.shape"
   ]
  },
  {
   "cell_type": "code",
   "execution_count": 0,
   "metadata": {
    "colab": {},
    "colab_type": "code",
    "id": "dLBrk8kNBn_Z"
   },
   "outputs": [],
   "source": [
    "train = pd.concat([trainX, trainY], axis = 1)\n",
    "valid = pd.concat([valX, valY], axis = 1)"
   ]
  },
  {
   "cell_type": "code",
   "execution_count": 63,
   "metadata": {
    "colab": {
     "base_uri": "https://localhost:8080/",
     "height": 204
    },
    "colab_type": "code",
    "id": "E0Zm-tz0FMYa",
    "outputId": "4bb1a554-be79-42a2-d0a5-13e7aa1e56b6"
   },
   "outputs": [
    {
     "data": {
      "text/html": [
       "<div>\n",
       "<style scoped>\n",
       "    .dataframe tbody tr th:only-of-type {\n",
       "        vertical-align: middle;\n",
       "    }\n",
       "\n",
       "    .dataframe tbody tr th {\n",
       "        vertical-align: top;\n",
       "    }\n",
       "\n",
       "    .dataframe thead th {\n",
       "        text-align: right;\n",
       "    }\n",
       "</style>\n",
       "<table border=\"1\" class=\"dataframe\">\n",
       "  <thead>\n",
       "    <tr style=\"text-align: right;\">\n",
       "      <th></th>\n",
       "      <th>text</th>\n",
       "      <th>sentiment</th>\n",
       "    </tr>\n",
       "  </thead>\n",
       "  <tbody>\n",
       "    <tr>\n",
       "      <th>4794</th>\n",
       "      <td>you're my early frontrunner for best airline! ...</td>\n",
       "      <td>positive</td>\n",
       "    </tr>\n",
       "    <tr>\n",
       "      <th>10480</th>\n",
       "      <td>how is it that my flt to EWR was Cancelled Fli...</td>\n",
       "      <td>negative</td>\n",
       "    </tr>\n",
       "    <tr>\n",
       "      <th>8067</th>\n",
       "      <td>what is going on with your BDL to DCA flights ...</td>\n",
       "      <td>negative</td>\n",
       "    </tr>\n",
       "    <tr>\n",
       "      <th>8880</th>\n",
       "      <td>do they have to depart from Washington, D.C.??</td>\n",
       "      <td>neutral</td>\n",
       "    </tr>\n",
       "    <tr>\n",
       "      <th>8292</th>\n",
       "      <td>I can probably find some of them. Are the tick...</td>\n",
       "      <td>negative</td>\n",
       "    </tr>\n",
       "  </tbody>\n",
       "</table>\n",
       "</div>"
      ],
      "text/plain": [
       "                                                    text sentiment\n",
       "4794   you're my early frontrunner for best airline! ...  positive\n",
       "10480  how is it that my flt to EWR was Cancelled Fli...  negative\n",
       "8067   what is going on with your BDL to DCA flights ...  negative\n",
       "8880      do they have to depart from Washington, D.C.??   neutral\n",
       "8292   I can probably find some of them. Are the tick...  negative"
      ]
     },
     "execution_count": 63,
     "metadata": {
      "tags": []
     },
     "output_type": "execute_result"
    }
   ],
   "source": [
    "valid.head()"
   ]
  },
  {
   "cell_type": "code",
   "execution_count": 0,
   "metadata": {
    "colab": {},
    "colab_type": "code",
    "id": "lJtFbdcsF1go"
   },
   "outputs": [],
   "source": [
    "from sklearn import preprocessing\n",
    "le = preprocessing.LabelEncoder()"
   ]
  },
  {
   "cell_type": "code",
   "execution_count": 0,
   "metadata": {
    "colab": {},
    "colab_type": "code",
    "id": "MyDGr4YIF3S_"
   },
   "outputs": [],
   "source": [
    "le.fit(train.sentiment)\n",
    "train.loc[:, 'labels'] = le.transform(train.sentiment)\n",
    "valid.loc[:, 'labels'] = le.transform(valid.sentiment)"
   ]
  },
  {
   "cell_type": "code",
   "execution_count": 0,
   "metadata": {
    "colab": {},
    "colab_type": "code",
    "id": "Kaw8PyLRNWI1"
   },
   "outputs": [],
   "source": [
    "labels = ['negative', 'neutral', 'positive']"
   ]
  },
  {
   "cell_type": "code",
   "execution_count": 67,
   "metadata": {
    "colab": {
     "base_uri": "https://localhost:8080/",
     "height": 669
    },
    "colab_type": "code",
    "id": "JVJo4CSAOL2s",
    "outputId": "17613362-d562-4ae5-cbf4-8cac8dd74bef"
   },
   "outputs": [
    {
     "data": {
      "text/html": [
       "<div>\n",
       "<style scoped>\n",
       "    .dataframe tbody tr th:only-of-type {\n",
       "        vertical-align: middle;\n",
       "    }\n",
       "\n",
       "    .dataframe tbody tr th {\n",
       "        vertical-align: top;\n",
       "    }\n",
       "\n",
       "    .dataframe thead th {\n",
       "        text-align: right;\n",
       "    }\n",
       "</style>\n",
       "<table border=\"1\" class=\"dataframe\">\n",
       "  <thead>\n",
       "    <tr style=\"text-align: right;\">\n",
       "      <th></th>\n",
       "      <th>text</th>\n",
       "      <th>sentiment</th>\n",
       "      <th>labels</th>\n",
       "    </tr>\n",
       "  </thead>\n",
       "  <tbody>\n",
       "    <tr>\n",
       "      <th>750</th>\n",
       "      <td>you are offering us 8 rooms for 32 people #FAIL</td>\n",
       "      <td>negative</td>\n",
       "      <td>0</td>\n",
       "    </tr>\n",
       "    <tr>\n",
       "      <th>6875</th>\n",
       "      <td>JFK NYC staff is amazing. The #lax JetBlue... ...</td>\n",
       "      <td>negative</td>\n",
       "      <td>0</td>\n",
       "    </tr>\n",
       "    <tr>\n",
       "      <th>7598</th>\n",
       "      <td>well, the last update was in the right directi...</td>\n",
       "      <td>positive</td>\n",
       "      <td>2</td>\n",
       "    </tr>\n",
       "    <tr>\n",
       "      <th>14124</th>\n",
       "      <td>flight 3056 still sitting at DFW waiting for b...</td>\n",
       "      <td>negative</td>\n",
       "      <td>0</td>\n",
       "    </tr>\n",
       "    <tr>\n",
       "      <th>6187</th>\n",
       "      <td>is your companion pass broken today? \\npurchas...</td>\n",
       "      <td>neutral</td>\n",
       "      <td>1</td>\n",
       "    </tr>\n",
       "    <tr>\n",
       "      <th>1839</th>\n",
       "      <td>Pushing 2 hours on hold. Priceless. http://t...</td>\n",
       "      <td>negative</td>\n",
       "      <td>0</td>\n",
       "    </tr>\n",
       "    <tr>\n",
       "      <th>13188</th>\n",
       "      <td>I've been trying to reach your customer servic...</td>\n",
       "      <td>negative</td>\n",
       "      <td>0</td>\n",
       "    </tr>\n",
       "    <tr>\n",
       "      <th>1275</th>\n",
       "      <td>jx4s2t if you can out today would be great it'...</td>\n",
       "      <td>negative</td>\n",
       "      <td>0</td>\n",
       "    </tr>\n",
       "    <tr>\n",
       "      <th>13036</th>\n",
       "      <td>I've been calling you for 3 straight days and ...</td>\n",
       "      <td>negative</td>\n",
       "      <td>0</td>\n",
       "    </tr>\n",
       "    <tr>\n",
       "      <th>9876</th>\n",
       "      <td>... What's going on at @PHLAirport ?!  I've be...</td>\n",
       "      <td>negative</td>\n",
       "      <td>0</td>\n",
       "    </tr>\n",
       "    <tr>\n",
       "      <th>5654</th>\n",
       "      <td>delay is understandable but look at the time o...</td>\n",
       "      <td>negative</td>\n",
       "      <td>0</td>\n",
       "    </tr>\n",
       "    <tr>\n",
       "      <th>7765</th>\n",
       "      <td>not cool. At the gate, turns out my flight fro...</td>\n",
       "      <td>negative</td>\n",
       "      <td>0</td>\n",
       "    </tr>\n",
       "    <tr>\n",
       "      <th>3371</th>\n",
       "      <td>Just saying the truth. You don't even an email...</td>\n",
       "      <td>negative</td>\n",
       "      <td>0</td>\n",
       "    </tr>\n",
       "    <tr>\n",
       "      <th>10216</th>\n",
       "      <td>@AmericanAir  stranded in North Carolina and t...</td>\n",
       "      <td>negative</td>\n",
       "      <td>0</td>\n",
       "    </tr>\n",
       "    <tr>\n",
       "      <th>3024</th>\n",
       "      <td>WTH be honest with your customers.  This bette...</td>\n",
       "      <td>negative</td>\n",
       "      <td>0</td>\n",
       "    </tr>\n",
       "    <tr>\n",
       "      <th>2264</th>\n",
       "      <td>that's great! pls let me know when u start!</td>\n",
       "      <td>positive</td>\n",
       "      <td>2</td>\n",
       "    </tr>\n",
       "    <tr>\n",
       "      <th>10415</th>\n",
       "      <td>Don't want to clog your already-crowded line w...</td>\n",
       "      <td>neutral</td>\n",
       "      <td>1</td>\n",
       "    </tr>\n",
       "    <tr>\n",
       "      <th>4010</th>\n",
       "      <td>it's messed up to refuse to wait 10 min after ...</td>\n",
       "      <td>negative</td>\n",
       "      <td>0</td>\n",
       "    </tr>\n",
       "    <tr>\n",
       "      <th>11387</th>\n",
       "      <td>how does that help me when I get no response f...</td>\n",
       "      <td>negative</td>\n",
       "      <td>0</td>\n",
       "    </tr>\n",
       "    <tr>\n",
       "      <th>6486</th>\n",
       "      <td>very poor customer service thru out each of my...</td>\n",
       "      <td>negative</td>\n",
       "      <td>0</td>\n",
       "    </tr>\n",
       "  </tbody>\n",
       "</table>\n",
       "</div>"
      ],
      "text/plain": [
       "                                                    text sentiment  labels\n",
       "750      you are offering us 8 rooms for 32 people #FAIL  negative       0\n",
       "6875   JFK NYC staff is amazing. The #lax JetBlue... ...  negative       0\n",
       "7598   well, the last update was in the right directi...  positive       2\n",
       "14124  flight 3056 still sitting at DFW waiting for b...  negative       0\n",
       "6187   is your companion pass broken today? \\npurchas...   neutral       1\n",
       "1839     Pushing 2 hours on hold. Priceless. http://t...  negative       0\n",
       "13188  I've been trying to reach your customer servic...  negative       0\n",
       "1275   jx4s2t if you can out today would be great it'...  negative       0\n",
       "13036  I've been calling you for 3 straight days and ...  negative       0\n",
       "9876   ... What's going on at @PHLAirport ?!  I've be...  negative       0\n",
       "5654   delay is understandable but look at the time o...  negative       0\n",
       "7765   not cool. At the gate, turns out my flight fro...  negative       0\n",
       "3371   Just saying the truth. You don't even an email...  negative       0\n",
       "10216  @AmericanAir  stranded in North Carolina and t...  negative       0\n",
       "3024   WTH be honest with your customers.  This bette...  negative       0\n",
       "2264         that's great! pls let me know when u start!  positive       2\n",
       "10415  Don't want to clog your already-crowded line w...   neutral       1\n",
       "4010   it's messed up to refuse to wait 10 min after ...  negative       0\n",
       "11387  how does that help me when I get no response f...  negative       0\n",
       "6486   very poor customer service thru out each of my...  negative       0"
      ]
     },
     "execution_count": 67,
     "metadata": {
      "tags": []
     },
     "output_type": "execute_result"
    }
   ],
   "source": [
    "train.head(20)"
   ]
  },
  {
   "cell_type": "code",
   "execution_count": 68,
   "metadata": {
    "colab": {
     "base_uri": "https://localhost:8080/",
     "height": 34
    },
    "colab_type": "code",
    "id": "152lKlOPG4Zl",
    "outputId": "556618d3-5830-4c85-e5f6-b7fb5a32b0aa"
   },
   "outputs": [
    {
     "data": {
      "text/plain": [
       "((11712, 3), (2928, 3))"
      ]
     },
     "execution_count": 68,
     "metadata": {
      "tags": []
     },
     "output_type": "execute_result"
    }
   ],
   "source": [
    "train.shape, valid.shape"
   ]
  },
  {
   "cell_type": "code",
   "execution_count": 0,
   "metadata": {
    "colab": {},
    "colab_type": "code",
    "id": "smIPMdVROYXw"
   },
   "outputs": [],
   "source": [
    "DATA_COLUMN = 'text'\n",
    "LABEL_COLUMN = 'labels'\n",
    "label_list = [0, 1, 2]"
   ]
  },
  {
   "cell_type": "code",
   "execution_count": 0,
   "metadata": {
    "colab": {},
    "colab_type": "code",
    "id": "1qQ8ItBIOvjN"
   },
   "outputs": [],
   "source": [
    "# Use the InputExample class from BERT's run_classifier code to create examples from the data\n",
    "train_InputExamples = train.apply(lambda x: bert.run_classifier.InputExample(guid=None, # Globally unique ID for bookkeeping, unused in this example\n",
    "                                                                   text_a = x[DATA_COLUMN], \n",
    "                                                                   text_b = None, \n",
    "                                                                   label = x[LABEL_COLUMN]), axis = 1)\n",
    "\n",
    "valid_InputExamples = valid.apply(lambda x: bert.run_classifier.InputExample(guid=None, \n",
    "                                                                   text_a = x[DATA_COLUMN], \n",
    "                                                                   text_b = None, \n",
    "                                                                   label = x[LABEL_COLUMN]), axis = 1)"
   ]
  },
  {
   "cell_type": "code",
   "execution_count": 71,
   "metadata": {
    "colab": {
     "base_uri": "https://localhost:8080/",
     "height": 51
    },
    "colab_type": "code",
    "id": "E8bwUUJlP3Cf",
    "outputId": "c179d2ae-7533-45a2-feca-ebf956cd631d"
   },
   "outputs": [
    {
     "name": "stdout",
     "output_type": "stream",
     "text": [
      "INFO:tensorflow:Saver not created because there are no variables in the graph to restore\n"
     ]
    },
    {
     "name": "stderr",
     "output_type": "stream",
     "text": [
      "INFO:tensorflow:Saver not created because there are no variables in the graph to restore\n"
     ]
    }
   ],
   "source": [
    "# This is a path to an uncased (all lowercase) version of BERT\n",
    "BERT_MODEL_HUB = \"https://tfhub.dev/google/bert_uncased_L-12_H-768_A-12/1\"\n",
    "\n",
    "def create_tokenizer_from_hub_module():\n",
    "  \"\"\"Get the vocab file and casing info from the Hub module.\"\"\"\n",
    "  with tf.Graph().as_default():\n",
    "    bert_module = hub.Module(BERT_MODEL_HUB)\n",
    "    tokenization_info = bert_module(signature=\"tokenization_info\", as_dict=True)\n",
    "    with tf.Session() as sess:\n",
    "      vocab_file, do_lower_case = sess.run([tokenization_info[\"vocab_file\"],\n",
    "                                            tokenization_info[\"do_lower_case\"]])\n",
    "      \n",
    "  return bert.tokenization.FullTokenizer(\n",
    "      vocab_file=vocab_file, do_lower_case=do_lower_case)\n",
    "\n",
    "tokenizer = create_tokenizer_from_hub_module()"
   ]
  },
  {
   "cell_type": "code",
   "execution_count": 72,
   "metadata": {
    "colab": {
     "base_uri": "https://localhost:8080/",
     "height": 1000
    },
    "colab_type": "code",
    "id": "Iin4E-7gQJtd",
    "outputId": "9c2224be-48b5-4fcf-9edd-5c46dea2d139"
   },
   "outputs": [
    {
     "name": "stdout",
     "output_type": "stream",
     "text": [
      "INFO:tensorflow:Writing example 0 of 11712\n"
     ]
    },
    {
     "name": "stderr",
     "output_type": "stream",
     "text": [
      "INFO:tensorflow:Writing example 0 of 11712\n"
     ]
    },
    {
     "name": "stdout",
     "output_type": "stream",
     "text": [
      "INFO:tensorflow:*** Example ***\n"
     ]
    },
    {
     "name": "stderr",
     "output_type": "stream",
     "text": [
      "INFO:tensorflow:*** Example ***\n"
     ]
    },
    {
     "name": "stdout",
     "output_type": "stream",
     "text": [
      "INFO:tensorflow:guid: None\n"
     ]
    },
    {
     "name": "stderr",
     "output_type": "stream",
     "text": [
      "INFO:tensorflow:guid: None\n"
     ]
    },
    {
     "name": "stdout",
     "output_type": "stream",
     "text": [
      "INFO:tensorflow:tokens: [CLS] you are offering us 8 rooms for 32 people # fail [SEP]\n"
     ]
    },
    {
     "name": "stderr",
     "output_type": "stream",
     "text": [
      "INFO:tensorflow:tokens: [CLS] you are offering us 8 rooms for 32 people # fail [SEP]\n"
     ]
    },
    {
     "name": "stdout",
     "output_type": "stream",
     "text": [
      "INFO:tensorflow:input_ids: 101 2017 2024 5378 2149 1022 4734 2005 3590 2111 1001 8246 102 0 0 0 0 0 0 0 0 0 0 0 0 0 0 0 0 0 0 0 0 0 0 0 0 0 0 0 0 0 0 0 0 0 0 0 0 0 0 0 0 0 0 0 0 0 0 0 0 0 0 0 0 0 0 0 0 0 0 0 0 0 0 0 0 0 0 0 0 0 0 0 0 0 0 0 0 0 0 0 0 0 0 0 0 0 0 0 0 0 0 0 0 0 0 0 0 0 0 0 0 0 0 0 0 0 0 0 0 0 0 0 0 0 0 0\n"
     ]
    },
    {
     "name": "stderr",
     "output_type": "stream",
     "text": [
      "INFO:tensorflow:input_ids: 101 2017 2024 5378 2149 1022 4734 2005 3590 2111 1001 8246 102 0 0 0 0 0 0 0 0 0 0 0 0 0 0 0 0 0 0 0 0 0 0 0 0 0 0 0 0 0 0 0 0 0 0 0 0 0 0 0 0 0 0 0 0 0 0 0 0 0 0 0 0 0 0 0 0 0 0 0 0 0 0 0 0 0 0 0 0 0 0 0 0 0 0 0 0 0 0 0 0 0 0 0 0 0 0 0 0 0 0 0 0 0 0 0 0 0 0 0 0 0 0 0 0 0 0 0 0 0 0 0 0 0 0 0\n"
     ]
    },
    {
     "name": "stdout",
     "output_type": "stream",
     "text": [
      "INFO:tensorflow:input_mask: 1 1 1 1 1 1 1 1 1 1 1 1 1 0 0 0 0 0 0 0 0 0 0 0 0 0 0 0 0 0 0 0 0 0 0 0 0 0 0 0 0 0 0 0 0 0 0 0 0 0 0 0 0 0 0 0 0 0 0 0 0 0 0 0 0 0 0 0 0 0 0 0 0 0 0 0 0 0 0 0 0 0 0 0 0 0 0 0 0 0 0 0 0 0 0 0 0 0 0 0 0 0 0 0 0 0 0 0 0 0 0 0 0 0 0 0 0 0 0 0 0 0 0 0 0 0 0 0\n"
     ]
    },
    {
     "name": "stderr",
     "output_type": "stream",
     "text": [
      "INFO:tensorflow:input_mask: 1 1 1 1 1 1 1 1 1 1 1 1 1 0 0 0 0 0 0 0 0 0 0 0 0 0 0 0 0 0 0 0 0 0 0 0 0 0 0 0 0 0 0 0 0 0 0 0 0 0 0 0 0 0 0 0 0 0 0 0 0 0 0 0 0 0 0 0 0 0 0 0 0 0 0 0 0 0 0 0 0 0 0 0 0 0 0 0 0 0 0 0 0 0 0 0 0 0 0 0 0 0 0 0 0 0 0 0 0 0 0 0 0 0 0 0 0 0 0 0 0 0 0 0 0 0 0 0\n"
     ]
    },
    {
     "name": "stdout",
     "output_type": "stream",
     "text": [
      "INFO:tensorflow:segment_ids: 0 0 0 0 0 0 0 0 0 0 0 0 0 0 0 0 0 0 0 0 0 0 0 0 0 0 0 0 0 0 0 0 0 0 0 0 0 0 0 0 0 0 0 0 0 0 0 0 0 0 0 0 0 0 0 0 0 0 0 0 0 0 0 0 0 0 0 0 0 0 0 0 0 0 0 0 0 0 0 0 0 0 0 0 0 0 0 0 0 0 0 0 0 0 0 0 0 0 0 0 0 0 0 0 0 0 0 0 0 0 0 0 0 0 0 0 0 0 0 0 0 0 0 0 0 0 0 0\n"
     ]
    },
    {
     "name": "stderr",
     "output_type": "stream",
     "text": [
      "INFO:tensorflow:segment_ids: 0 0 0 0 0 0 0 0 0 0 0 0 0 0 0 0 0 0 0 0 0 0 0 0 0 0 0 0 0 0 0 0 0 0 0 0 0 0 0 0 0 0 0 0 0 0 0 0 0 0 0 0 0 0 0 0 0 0 0 0 0 0 0 0 0 0 0 0 0 0 0 0 0 0 0 0 0 0 0 0 0 0 0 0 0 0 0 0 0 0 0 0 0 0 0 0 0 0 0 0 0 0 0 0 0 0 0 0 0 0 0 0 0 0 0 0 0 0 0 0 0 0 0 0 0 0 0 0\n"
     ]
    },
    {
     "name": "stdout",
     "output_type": "stream",
     "text": [
      "INFO:tensorflow:label: 0 (id = 0)\n"
     ]
    },
    {
     "name": "stderr",
     "output_type": "stream",
     "text": [
      "INFO:tensorflow:label: 0 (id = 0)\n"
     ]
    },
    {
     "name": "stdout",
     "output_type": "stream",
     "text": [
      "INFO:tensorflow:*** Example ***\n"
     ]
    },
    {
     "name": "stderr",
     "output_type": "stream",
     "text": [
      "INFO:tensorflow:*** Example ***\n"
     ]
    },
    {
     "name": "stdout",
     "output_type": "stream",
     "text": [
      "INFO:tensorflow:guid: None\n"
     ]
    },
    {
     "name": "stderr",
     "output_type": "stream",
     "text": [
      "INFO:tensorflow:guid: None\n"
     ]
    },
    {
     "name": "stdout",
     "output_type": "stream",
     "text": [
      "INFO:tensorflow:tokens: [CLS] j ##fk nyc staff is amazing . the # lax jet ##bl ##ue . . . sending an email with details but it was a disappointing experience @ jet ##bl ##ue ##chee ##ps [SEP]\n"
     ]
    },
    {
     "name": "stderr",
     "output_type": "stream",
     "text": [
      "INFO:tensorflow:tokens: [CLS] j ##fk nyc staff is amazing . the # lax jet ##bl ##ue . . . sending an email with details but it was a disappointing experience @ jet ##bl ##ue ##chee ##ps [SEP]\n"
     ]
    },
    {
     "name": "stdout",
     "output_type": "stream",
     "text": [
      "INFO:tensorflow:input_ids: 101 1046 24316 16392 3095 2003 6429 1012 1996 1001 27327 6892 16558 5657 1012 1012 1012 6016 2019 10373 2007 4751 2021 2009 2001 1037 15640 3325 1030 6892 16558 5657 25923 4523 102 0 0 0 0 0 0 0 0 0 0 0 0 0 0 0 0 0 0 0 0 0 0 0 0 0 0 0 0 0 0 0 0 0 0 0 0 0 0 0 0 0 0 0 0 0 0 0 0 0 0 0 0 0 0 0 0 0 0 0 0 0 0 0 0 0 0 0 0 0 0 0 0 0 0 0 0 0 0 0 0 0 0 0 0 0 0 0 0 0 0 0 0 0\n"
     ]
    },
    {
     "name": "stderr",
     "output_type": "stream",
     "text": [
      "INFO:tensorflow:input_ids: 101 1046 24316 16392 3095 2003 6429 1012 1996 1001 27327 6892 16558 5657 1012 1012 1012 6016 2019 10373 2007 4751 2021 2009 2001 1037 15640 3325 1030 6892 16558 5657 25923 4523 102 0 0 0 0 0 0 0 0 0 0 0 0 0 0 0 0 0 0 0 0 0 0 0 0 0 0 0 0 0 0 0 0 0 0 0 0 0 0 0 0 0 0 0 0 0 0 0 0 0 0 0 0 0 0 0 0 0 0 0 0 0 0 0 0 0 0 0 0 0 0 0 0 0 0 0 0 0 0 0 0 0 0 0 0 0 0 0 0 0 0 0 0 0\n"
     ]
    },
    {
     "name": "stdout",
     "output_type": "stream",
     "text": [
      "INFO:tensorflow:input_mask: 1 1 1 1 1 1 1 1 1 1 1 1 1 1 1 1 1 1 1 1 1 1 1 1 1 1 1 1 1 1 1 1 1 1 1 0 0 0 0 0 0 0 0 0 0 0 0 0 0 0 0 0 0 0 0 0 0 0 0 0 0 0 0 0 0 0 0 0 0 0 0 0 0 0 0 0 0 0 0 0 0 0 0 0 0 0 0 0 0 0 0 0 0 0 0 0 0 0 0 0 0 0 0 0 0 0 0 0 0 0 0 0 0 0 0 0 0 0 0 0 0 0 0 0 0 0 0 0\n"
     ]
    },
    {
     "name": "stderr",
     "output_type": "stream",
     "text": [
      "INFO:tensorflow:input_mask: 1 1 1 1 1 1 1 1 1 1 1 1 1 1 1 1 1 1 1 1 1 1 1 1 1 1 1 1 1 1 1 1 1 1 1 0 0 0 0 0 0 0 0 0 0 0 0 0 0 0 0 0 0 0 0 0 0 0 0 0 0 0 0 0 0 0 0 0 0 0 0 0 0 0 0 0 0 0 0 0 0 0 0 0 0 0 0 0 0 0 0 0 0 0 0 0 0 0 0 0 0 0 0 0 0 0 0 0 0 0 0 0 0 0 0 0 0 0 0 0 0 0 0 0 0 0 0 0\n"
     ]
    },
    {
     "name": "stdout",
     "output_type": "stream",
     "text": [
      "INFO:tensorflow:segment_ids: 0 0 0 0 0 0 0 0 0 0 0 0 0 0 0 0 0 0 0 0 0 0 0 0 0 0 0 0 0 0 0 0 0 0 0 0 0 0 0 0 0 0 0 0 0 0 0 0 0 0 0 0 0 0 0 0 0 0 0 0 0 0 0 0 0 0 0 0 0 0 0 0 0 0 0 0 0 0 0 0 0 0 0 0 0 0 0 0 0 0 0 0 0 0 0 0 0 0 0 0 0 0 0 0 0 0 0 0 0 0 0 0 0 0 0 0 0 0 0 0 0 0 0 0 0 0 0 0\n"
     ]
    },
    {
     "name": "stderr",
     "output_type": "stream",
     "text": [
      "INFO:tensorflow:segment_ids: 0 0 0 0 0 0 0 0 0 0 0 0 0 0 0 0 0 0 0 0 0 0 0 0 0 0 0 0 0 0 0 0 0 0 0 0 0 0 0 0 0 0 0 0 0 0 0 0 0 0 0 0 0 0 0 0 0 0 0 0 0 0 0 0 0 0 0 0 0 0 0 0 0 0 0 0 0 0 0 0 0 0 0 0 0 0 0 0 0 0 0 0 0 0 0 0 0 0 0 0 0 0 0 0 0 0 0 0 0 0 0 0 0 0 0 0 0 0 0 0 0 0 0 0 0 0 0 0\n"
     ]
    },
    {
     "name": "stdout",
     "output_type": "stream",
     "text": [
      "INFO:tensorflow:label: 0 (id = 0)\n"
     ]
    },
    {
     "name": "stderr",
     "output_type": "stream",
     "text": [
      "INFO:tensorflow:label: 0 (id = 0)\n"
     ]
    },
    {
     "name": "stdout",
     "output_type": "stream",
     "text": [
      "INFO:tensorflow:*** Example ***\n"
     ]
    },
    {
     "name": "stderr",
     "output_type": "stream",
     "text": [
      "INFO:tensorflow:*** Example ***\n"
     ]
    },
    {
     "name": "stdout",
     "output_type": "stream",
     "text": [
      "INFO:tensorflow:guid: None\n"
     ]
    },
    {
     "name": "stderr",
     "output_type": "stream",
     "text": [
      "INFO:tensorflow:guid: None\n"
     ]
    },
    {
     "name": "stdout",
     "output_type": "stream",
     "text": [
      "INFO:tensorflow:tokens: [CLS] well , the last update was in the right direction , at least ! i ' ll keep my fingers crossed . [SEP]\n"
     ]
    },
    {
     "name": "stderr",
     "output_type": "stream",
     "text": [
      "INFO:tensorflow:tokens: [CLS] well , the last update was in the right direction , at least ! i ' ll keep my fingers crossed . [SEP]\n"
     ]
    },
    {
     "name": "stdout",
     "output_type": "stream",
     "text": [
      "INFO:tensorflow:input_ids: 101 2092 1010 1996 2197 10651 2001 1999 1996 2157 3257 1010 2012 2560 999 1045 1005 2222 2562 2026 3093 4625 1012 102 0 0 0 0 0 0 0 0 0 0 0 0 0 0 0 0 0 0 0 0 0 0 0 0 0 0 0 0 0 0 0 0 0 0 0 0 0 0 0 0 0 0 0 0 0 0 0 0 0 0 0 0 0 0 0 0 0 0 0 0 0 0 0 0 0 0 0 0 0 0 0 0 0 0 0 0 0 0 0 0 0 0 0 0 0 0 0 0 0 0 0 0 0 0 0 0 0 0 0 0 0 0 0 0\n"
     ]
    },
    {
     "name": "stderr",
     "output_type": "stream",
     "text": [
      "INFO:tensorflow:input_ids: 101 2092 1010 1996 2197 10651 2001 1999 1996 2157 3257 1010 2012 2560 999 1045 1005 2222 2562 2026 3093 4625 1012 102 0 0 0 0 0 0 0 0 0 0 0 0 0 0 0 0 0 0 0 0 0 0 0 0 0 0 0 0 0 0 0 0 0 0 0 0 0 0 0 0 0 0 0 0 0 0 0 0 0 0 0 0 0 0 0 0 0 0 0 0 0 0 0 0 0 0 0 0 0 0 0 0 0 0 0 0 0 0 0 0 0 0 0 0 0 0 0 0 0 0 0 0 0 0 0 0 0 0 0 0 0 0 0 0\n"
     ]
    },
    {
     "name": "stdout",
     "output_type": "stream",
     "text": [
      "INFO:tensorflow:input_mask: 1 1 1 1 1 1 1 1 1 1 1 1 1 1 1 1 1 1 1 1 1 1 1 1 0 0 0 0 0 0 0 0 0 0 0 0 0 0 0 0 0 0 0 0 0 0 0 0 0 0 0 0 0 0 0 0 0 0 0 0 0 0 0 0 0 0 0 0 0 0 0 0 0 0 0 0 0 0 0 0 0 0 0 0 0 0 0 0 0 0 0 0 0 0 0 0 0 0 0 0 0 0 0 0 0 0 0 0 0 0 0 0 0 0 0 0 0 0 0 0 0 0 0 0 0 0 0 0\n"
     ]
    },
    {
     "name": "stderr",
     "output_type": "stream",
     "text": [
      "INFO:tensorflow:input_mask: 1 1 1 1 1 1 1 1 1 1 1 1 1 1 1 1 1 1 1 1 1 1 1 1 0 0 0 0 0 0 0 0 0 0 0 0 0 0 0 0 0 0 0 0 0 0 0 0 0 0 0 0 0 0 0 0 0 0 0 0 0 0 0 0 0 0 0 0 0 0 0 0 0 0 0 0 0 0 0 0 0 0 0 0 0 0 0 0 0 0 0 0 0 0 0 0 0 0 0 0 0 0 0 0 0 0 0 0 0 0 0 0 0 0 0 0 0 0 0 0 0 0 0 0 0 0 0 0\n"
     ]
    },
    {
     "name": "stdout",
     "output_type": "stream",
     "text": [
      "INFO:tensorflow:segment_ids: 0 0 0 0 0 0 0 0 0 0 0 0 0 0 0 0 0 0 0 0 0 0 0 0 0 0 0 0 0 0 0 0 0 0 0 0 0 0 0 0 0 0 0 0 0 0 0 0 0 0 0 0 0 0 0 0 0 0 0 0 0 0 0 0 0 0 0 0 0 0 0 0 0 0 0 0 0 0 0 0 0 0 0 0 0 0 0 0 0 0 0 0 0 0 0 0 0 0 0 0 0 0 0 0 0 0 0 0 0 0 0 0 0 0 0 0 0 0 0 0 0 0 0 0 0 0 0 0\n"
     ]
    },
    {
     "name": "stderr",
     "output_type": "stream",
     "text": [
      "INFO:tensorflow:segment_ids: 0 0 0 0 0 0 0 0 0 0 0 0 0 0 0 0 0 0 0 0 0 0 0 0 0 0 0 0 0 0 0 0 0 0 0 0 0 0 0 0 0 0 0 0 0 0 0 0 0 0 0 0 0 0 0 0 0 0 0 0 0 0 0 0 0 0 0 0 0 0 0 0 0 0 0 0 0 0 0 0 0 0 0 0 0 0 0 0 0 0 0 0 0 0 0 0 0 0 0 0 0 0 0 0 0 0 0 0 0 0 0 0 0 0 0 0 0 0 0 0 0 0 0 0 0 0 0 0\n"
     ]
    },
    {
     "name": "stdout",
     "output_type": "stream",
     "text": [
      "INFO:tensorflow:label: 2 (id = 2)\n"
     ]
    },
    {
     "name": "stderr",
     "output_type": "stream",
     "text": [
      "INFO:tensorflow:label: 2 (id = 2)\n"
     ]
    },
    {
     "name": "stdout",
     "output_type": "stream",
     "text": [
      "INFO:tensorflow:*** Example ***\n"
     ]
    },
    {
     "name": "stderr",
     "output_type": "stream",
     "text": [
      "INFO:tensorflow:*** Example ***\n"
     ]
    },
    {
     "name": "stdout",
     "output_type": "stream",
     "text": [
      "INFO:tensorflow:guid: None\n"
     ]
    },
    {
     "name": "stderr",
     "output_type": "stream",
     "text": [
      "INFO:tensorflow:guid: None\n"
     ]
    },
    {
     "name": "stdout",
     "output_type": "stream",
     "text": [
      "INFO:tensorflow:tokens: [CLS] flight 305 ##6 still sitting at d ##f ##w waiting for baggage to be loaded [SEP]\n"
     ]
    },
    {
     "name": "stderr",
     "output_type": "stream",
     "text": [
      "INFO:tensorflow:tokens: [CLS] flight 305 ##6 still sitting at d ##f ##w waiting for baggage to be loaded [SEP]\n"
     ]
    },
    {
     "name": "stdout",
     "output_type": "stream",
     "text": [
      "INFO:tensorflow:input_ids: 101 3462 20405 2575 2145 3564 2012 1040 2546 2860 3403 2005 20220 2000 2022 8209 102 0 0 0 0 0 0 0 0 0 0 0 0 0 0 0 0 0 0 0 0 0 0 0 0 0 0 0 0 0 0 0 0 0 0 0 0 0 0 0 0 0 0 0 0 0 0 0 0 0 0 0 0 0 0 0 0 0 0 0 0 0 0 0 0 0 0 0 0 0 0 0 0 0 0 0 0 0 0 0 0 0 0 0 0 0 0 0 0 0 0 0 0 0 0 0 0 0 0 0 0 0 0 0 0 0 0 0 0 0 0 0\n"
     ]
    },
    {
     "name": "stderr",
     "output_type": "stream",
     "text": [
      "INFO:tensorflow:input_ids: 101 3462 20405 2575 2145 3564 2012 1040 2546 2860 3403 2005 20220 2000 2022 8209 102 0 0 0 0 0 0 0 0 0 0 0 0 0 0 0 0 0 0 0 0 0 0 0 0 0 0 0 0 0 0 0 0 0 0 0 0 0 0 0 0 0 0 0 0 0 0 0 0 0 0 0 0 0 0 0 0 0 0 0 0 0 0 0 0 0 0 0 0 0 0 0 0 0 0 0 0 0 0 0 0 0 0 0 0 0 0 0 0 0 0 0 0 0 0 0 0 0 0 0 0 0 0 0 0 0 0 0 0 0 0 0\n"
     ]
    },
    {
     "name": "stdout",
     "output_type": "stream",
     "text": [
      "INFO:tensorflow:input_mask: 1 1 1 1 1 1 1 1 1 1 1 1 1 1 1 1 1 0 0 0 0 0 0 0 0 0 0 0 0 0 0 0 0 0 0 0 0 0 0 0 0 0 0 0 0 0 0 0 0 0 0 0 0 0 0 0 0 0 0 0 0 0 0 0 0 0 0 0 0 0 0 0 0 0 0 0 0 0 0 0 0 0 0 0 0 0 0 0 0 0 0 0 0 0 0 0 0 0 0 0 0 0 0 0 0 0 0 0 0 0 0 0 0 0 0 0 0 0 0 0 0 0 0 0 0 0 0 0\n"
     ]
    },
    {
     "name": "stderr",
     "output_type": "stream",
     "text": [
      "INFO:tensorflow:input_mask: 1 1 1 1 1 1 1 1 1 1 1 1 1 1 1 1 1 0 0 0 0 0 0 0 0 0 0 0 0 0 0 0 0 0 0 0 0 0 0 0 0 0 0 0 0 0 0 0 0 0 0 0 0 0 0 0 0 0 0 0 0 0 0 0 0 0 0 0 0 0 0 0 0 0 0 0 0 0 0 0 0 0 0 0 0 0 0 0 0 0 0 0 0 0 0 0 0 0 0 0 0 0 0 0 0 0 0 0 0 0 0 0 0 0 0 0 0 0 0 0 0 0 0 0 0 0 0 0\n"
     ]
    },
    {
     "name": "stdout",
     "output_type": "stream",
     "text": [
      "INFO:tensorflow:segment_ids: 0 0 0 0 0 0 0 0 0 0 0 0 0 0 0 0 0 0 0 0 0 0 0 0 0 0 0 0 0 0 0 0 0 0 0 0 0 0 0 0 0 0 0 0 0 0 0 0 0 0 0 0 0 0 0 0 0 0 0 0 0 0 0 0 0 0 0 0 0 0 0 0 0 0 0 0 0 0 0 0 0 0 0 0 0 0 0 0 0 0 0 0 0 0 0 0 0 0 0 0 0 0 0 0 0 0 0 0 0 0 0 0 0 0 0 0 0 0 0 0 0 0 0 0 0 0 0 0\n"
     ]
    },
    {
     "name": "stderr",
     "output_type": "stream",
     "text": [
      "INFO:tensorflow:segment_ids: 0 0 0 0 0 0 0 0 0 0 0 0 0 0 0 0 0 0 0 0 0 0 0 0 0 0 0 0 0 0 0 0 0 0 0 0 0 0 0 0 0 0 0 0 0 0 0 0 0 0 0 0 0 0 0 0 0 0 0 0 0 0 0 0 0 0 0 0 0 0 0 0 0 0 0 0 0 0 0 0 0 0 0 0 0 0 0 0 0 0 0 0 0 0 0 0 0 0 0 0 0 0 0 0 0 0 0 0 0 0 0 0 0 0 0 0 0 0 0 0 0 0 0 0 0 0 0 0\n"
     ]
    },
    {
     "name": "stdout",
     "output_type": "stream",
     "text": [
      "INFO:tensorflow:label: 0 (id = 0)\n"
     ]
    },
    {
     "name": "stderr",
     "output_type": "stream",
     "text": [
      "INFO:tensorflow:label: 0 (id = 0)\n"
     ]
    },
    {
     "name": "stdout",
     "output_type": "stream",
     "text": [
      "INFO:tensorflow:*** Example ***\n"
     ]
    },
    {
     "name": "stderr",
     "output_type": "stream",
     "text": [
      "INFO:tensorflow:*** Example ***\n"
     ]
    },
    {
     "name": "stdout",
     "output_type": "stream",
     "text": [
      "INFO:tensorflow:guid: None\n"
     ]
    },
    {
     "name": "stderr",
     "output_type": "stream",
     "text": [
      "INFO:tensorflow:guid: None\n"
     ]
    },
    {
     "name": "stdout",
     "output_type": "stream",
     "text": [
      "INFO:tensorflow:tokens: [CLS] is your companion pass broken today ? purchase . error . invalid _ loyalty _ member _ account _ status ( sw ##90 ##00 ##01 - v ##yi ##l ##1 ##x ##k ##lr ##og ##24 ##fs - 91 ##8 ##j _ a ) [SEP]\n"
     ]
    },
    {
     "name": "stderr",
     "output_type": "stream",
     "text": [
      "INFO:tensorflow:tokens: [CLS] is your companion pass broken today ? purchase . error . invalid _ loyalty _ member _ account _ status ( sw ##90 ##00 ##01 - v ##yi ##l ##1 ##x ##k ##lr ##og ##24 ##fs - 91 ##8 ##j _ a ) [SEP]\n"
     ]
    },
    {
     "name": "stdout",
     "output_type": "stream",
     "text": [
      "INFO:tensorflow:input_ids: 101 2003 2115 7452 3413 3714 2651 1029 5309 1012 7561 1012 19528 1035 9721 1035 2266 1035 4070 1035 3570 1006 25430 21057 8889 24096 1011 1058 10139 2140 2487 2595 2243 20974 8649 18827 10343 1011 6205 2620 3501 1035 1037 1007 102 0 0 0 0 0 0 0 0 0 0 0 0 0 0 0 0 0 0 0 0 0 0 0 0 0 0 0 0 0 0 0 0 0 0 0 0 0 0 0 0 0 0 0 0 0 0 0 0 0 0 0 0 0 0 0 0 0 0 0 0 0 0 0 0 0 0 0 0 0 0 0 0 0 0 0 0 0 0 0 0 0 0 0\n"
     ]
    },
    {
     "name": "stderr",
     "output_type": "stream",
     "text": [
      "INFO:tensorflow:input_ids: 101 2003 2115 7452 3413 3714 2651 1029 5309 1012 7561 1012 19528 1035 9721 1035 2266 1035 4070 1035 3570 1006 25430 21057 8889 24096 1011 1058 10139 2140 2487 2595 2243 20974 8649 18827 10343 1011 6205 2620 3501 1035 1037 1007 102 0 0 0 0 0 0 0 0 0 0 0 0 0 0 0 0 0 0 0 0 0 0 0 0 0 0 0 0 0 0 0 0 0 0 0 0 0 0 0 0 0 0 0 0 0 0 0 0 0 0 0 0 0 0 0 0 0 0 0 0 0 0 0 0 0 0 0 0 0 0 0 0 0 0 0 0 0 0 0 0 0 0 0\n"
     ]
    },
    {
     "name": "stdout",
     "output_type": "stream",
     "text": [
      "INFO:tensorflow:input_mask: 1 1 1 1 1 1 1 1 1 1 1 1 1 1 1 1 1 1 1 1 1 1 1 1 1 1 1 1 1 1 1 1 1 1 1 1 1 1 1 1 1 1 1 1 1 0 0 0 0 0 0 0 0 0 0 0 0 0 0 0 0 0 0 0 0 0 0 0 0 0 0 0 0 0 0 0 0 0 0 0 0 0 0 0 0 0 0 0 0 0 0 0 0 0 0 0 0 0 0 0 0 0 0 0 0 0 0 0 0 0 0 0 0 0 0 0 0 0 0 0 0 0 0 0 0 0 0 0\n"
     ]
    },
    {
     "name": "stderr",
     "output_type": "stream",
     "text": [
      "INFO:tensorflow:input_mask: 1 1 1 1 1 1 1 1 1 1 1 1 1 1 1 1 1 1 1 1 1 1 1 1 1 1 1 1 1 1 1 1 1 1 1 1 1 1 1 1 1 1 1 1 1 0 0 0 0 0 0 0 0 0 0 0 0 0 0 0 0 0 0 0 0 0 0 0 0 0 0 0 0 0 0 0 0 0 0 0 0 0 0 0 0 0 0 0 0 0 0 0 0 0 0 0 0 0 0 0 0 0 0 0 0 0 0 0 0 0 0 0 0 0 0 0 0 0 0 0 0 0 0 0 0 0 0 0\n"
     ]
    },
    {
     "name": "stdout",
     "output_type": "stream",
     "text": [
      "INFO:tensorflow:segment_ids: 0 0 0 0 0 0 0 0 0 0 0 0 0 0 0 0 0 0 0 0 0 0 0 0 0 0 0 0 0 0 0 0 0 0 0 0 0 0 0 0 0 0 0 0 0 0 0 0 0 0 0 0 0 0 0 0 0 0 0 0 0 0 0 0 0 0 0 0 0 0 0 0 0 0 0 0 0 0 0 0 0 0 0 0 0 0 0 0 0 0 0 0 0 0 0 0 0 0 0 0 0 0 0 0 0 0 0 0 0 0 0 0 0 0 0 0 0 0 0 0 0 0 0 0 0 0 0 0\n"
     ]
    },
    {
     "name": "stderr",
     "output_type": "stream",
     "text": [
      "INFO:tensorflow:segment_ids: 0 0 0 0 0 0 0 0 0 0 0 0 0 0 0 0 0 0 0 0 0 0 0 0 0 0 0 0 0 0 0 0 0 0 0 0 0 0 0 0 0 0 0 0 0 0 0 0 0 0 0 0 0 0 0 0 0 0 0 0 0 0 0 0 0 0 0 0 0 0 0 0 0 0 0 0 0 0 0 0 0 0 0 0 0 0 0 0 0 0 0 0 0 0 0 0 0 0 0 0 0 0 0 0 0 0 0 0 0 0 0 0 0 0 0 0 0 0 0 0 0 0 0 0 0 0 0 0\n"
     ]
    },
    {
     "name": "stdout",
     "output_type": "stream",
     "text": [
      "INFO:tensorflow:label: 1 (id = 1)\n"
     ]
    },
    {
     "name": "stderr",
     "output_type": "stream",
     "text": [
      "INFO:tensorflow:label: 1 (id = 1)\n"
     ]
    },
    {
     "name": "stdout",
     "output_type": "stream",
     "text": [
      "INFO:tensorflow:Writing example 10000 of 11712\n"
     ]
    },
    {
     "name": "stderr",
     "output_type": "stream",
     "text": [
      "INFO:tensorflow:Writing example 10000 of 11712\n"
     ]
    },
    {
     "name": "stdout",
     "output_type": "stream",
     "text": [
      "INFO:tensorflow:Writing example 0 of 2928\n"
     ]
    },
    {
     "name": "stderr",
     "output_type": "stream",
     "text": [
      "INFO:tensorflow:Writing example 0 of 2928\n"
     ]
    },
    {
     "name": "stdout",
     "output_type": "stream",
     "text": [
      "INFO:tensorflow:*** Example ***\n"
     ]
    },
    {
     "name": "stderr",
     "output_type": "stream",
     "text": [
      "INFO:tensorflow:*** Example ***\n"
     ]
    },
    {
     "name": "stdout",
     "output_type": "stream",
     "text": [
      "INFO:tensorflow:guid: None\n"
     ]
    },
    {
     "name": "stderr",
     "output_type": "stream",
     "text": [
      "INFO:tensorflow:guid: None\n"
     ]
    },
    {
     "name": "stdout",
     "output_type": "stream",
     "text": [
      "INFO:tensorflow:tokens: [CLS] you ' re my early front ##runner for best airline ! # oscar ##s ##20 ##16 [SEP]\n"
     ]
    },
    {
     "name": "stderr",
     "output_type": "stream",
     "text": [
      "INFO:tensorflow:tokens: [CLS] you ' re my early front ##runner for best airline ! # oscar ##s ##20 ##16 [SEP]\n"
     ]
    },
    {
     "name": "stdout",
     "output_type": "stream",
     "text": [
      "INFO:tensorflow:input_ids: 101 2017 1005 2128 2026 2220 2392 23195 2005 2190 8582 999 1001 7436 2015 11387 16048 102 0 0 0 0 0 0 0 0 0 0 0 0 0 0 0 0 0 0 0 0 0 0 0 0 0 0 0 0 0 0 0 0 0 0 0 0 0 0 0 0 0 0 0 0 0 0 0 0 0 0 0 0 0 0 0 0 0 0 0 0 0 0 0 0 0 0 0 0 0 0 0 0 0 0 0 0 0 0 0 0 0 0 0 0 0 0 0 0 0 0 0 0 0 0 0 0 0 0 0 0 0 0 0 0 0 0 0 0 0 0\n"
     ]
    },
    {
     "name": "stderr",
     "output_type": "stream",
     "text": [
      "INFO:tensorflow:input_ids: 101 2017 1005 2128 2026 2220 2392 23195 2005 2190 8582 999 1001 7436 2015 11387 16048 102 0 0 0 0 0 0 0 0 0 0 0 0 0 0 0 0 0 0 0 0 0 0 0 0 0 0 0 0 0 0 0 0 0 0 0 0 0 0 0 0 0 0 0 0 0 0 0 0 0 0 0 0 0 0 0 0 0 0 0 0 0 0 0 0 0 0 0 0 0 0 0 0 0 0 0 0 0 0 0 0 0 0 0 0 0 0 0 0 0 0 0 0 0 0 0 0 0 0 0 0 0 0 0 0 0 0 0 0 0 0\n"
     ]
    },
    {
     "name": "stdout",
     "output_type": "stream",
     "text": [
      "INFO:tensorflow:input_mask: 1 1 1 1 1 1 1 1 1 1 1 1 1 1 1 1 1 1 0 0 0 0 0 0 0 0 0 0 0 0 0 0 0 0 0 0 0 0 0 0 0 0 0 0 0 0 0 0 0 0 0 0 0 0 0 0 0 0 0 0 0 0 0 0 0 0 0 0 0 0 0 0 0 0 0 0 0 0 0 0 0 0 0 0 0 0 0 0 0 0 0 0 0 0 0 0 0 0 0 0 0 0 0 0 0 0 0 0 0 0 0 0 0 0 0 0 0 0 0 0 0 0 0 0 0 0 0 0\n"
     ]
    },
    {
     "name": "stderr",
     "output_type": "stream",
     "text": [
      "INFO:tensorflow:input_mask: 1 1 1 1 1 1 1 1 1 1 1 1 1 1 1 1 1 1 0 0 0 0 0 0 0 0 0 0 0 0 0 0 0 0 0 0 0 0 0 0 0 0 0 0 0 0 0 0 0 0 0 0 0 0 0 0 0 0 0 0 0 0 0 0 0 0 0 0 0 0 0 0 0 0 0 0 0 0 0 0 0 0 0 0 0 0 0 0 0 0 0 0 0 0 0 0 0 0 0 0 0 0 0 0 0 0 0 0 0 0 0 0 0 0 0 0 0 0 0 0 0 0 0 0 0 0 0 0\n"
     ]
    },
    {
     "name": "stdout",
     "output_type": "stream",
     "text": [
      "INFO:tensorflow:segment_ids: 0 0 0 0 0 0 0 0 0 0 0 0 0 0 0 0 0 0 0 0 0 0 0 0 0 0 0 0 0 0 0 0 0 0 0 0 0 0 0 0 0 0 0 0 0 0 0 0 0 0 0 0 0 0 0 0 0 0 0 0 0 0 0 0 0 0 0 0 0 0 0 0 0 0 0 0 0 0 0 0 0 0 0 0 0 0 0 0 0 0 0 0 0 0 0 0 0 0 0 0 0 0 0 0 0 0 0 0 0 0 0 0 0 0 0 0 0 0 0 0 0 0 0 0 0 0 0 0\n"
     ]
    },
    {
     "name": "stderr",
     "output_type": "stream",
     "text": [
      "INFO:tensorflow:segment_ids: 0 0 0 0 0 0 0 0 0 0 0 0 0 0 0 0 0 0 0 0 0 0 0 0 0 0 0 0 0 0 0 0 0 0 0 0 0 0 0 0 0 0 0 0 0 0 0 0 0 0 0 0 0 0 0 0 0 0 0 0 0 0 0 0 0 0 0 0 0 0 0 0 0 0 0 0 0 0 0 0 0 0 0 0 0 0 0 0 0 0 0 0 0 0 0 0 0 0 0 0 0 0 0 0 0 0 0 0 0 0 0 0 0 0 0 0 0 0 0 0 0 0 0 0 0 0 0 0\n"
     ]
    },
    {
     "name": "stdout",
     "output_type": "stream",
     "text": [
      "INFO:tensorflow:label: 2 (id = 2)\n"
     ]
    },
    {
     "name": "stderr",
     "output_type": "stream",
     "text": [
      "INFO:tensorflow:label: 2 (id = 2)\n"
     ]
    },
    {
     "name": "stdout",
     "output_type": "stream",
     "text": [
      "INFO:tensorflow:*** Example ***\n"
     ]
    },
    {
     "name": "stderr",
     "output_type": "stream",
     "text": [
      "INFO:tensorflow:*** Example ***\n"
     ]
    },
    {
     "name": "stdout",
     "output_type": "stream",
     "text": [
      "INFO:tensorflow:guid: None\n"
     ]
    },
    {
     "name": "stderr",
     "output_type": "stream",
     "text": [
      "INFO:tensorflow:guid: None\n"
     ]
    },
    {
     "name": "stdout",
     "output_type": "stream",
     "text": [
      "INFO:tensorflow:tokens: [CLS] how is it that my fl ##t to e ##wr was cancelled flight ##led yet fl ##ts to nyc from usa ##ir ##ways are still flying ? [SEP]\n"
     ]
    },
    {
     "name": "stderr",
     "output_type": "stream",
     "text": [
      "INFO:tensorflow:tokens: [CLS] how is it that my fl ##t to e ##wr was cancelled flight ##led yet fl ##ts to nyc from usa ##ir ##ways are still flying ? [SEP]\n"
     ]
    },
    {
     "name": "stdout",
     "output_type": "stream",
     "text": [
      "INFO:tensorflow:input_ids: 101 2129 2003 2009 2008 2026 13109 2102 2000 1041 13088 2001 8014 3462 3709 2664 13109 3215 2000 16392 2013 3915 4313 14035 2024 2145 3909 1029 102 0 0 0 0 0 0 0 0 0 0 0 0 0 0 0 0 0 0 0 0 0 0 0 0 0 0 0 0 0 0 0 0 0 0 0 0 0 0 0 0 0 0 0 0 0 0 0 0 0 0 0 0 0 0 0 0 0 0 0 0 0 0 0 0 0 0 0 0 0 0 0 0 0 0 0 0 0 0 0 0 0 0 0 0 0 0 0 0 0 0 0 0 0 0 0 0 0 0 0\n"
     ]
    },
    {
     "name": "stderr",
     "output_type": "stream",
     "text": [
      "INFO:tensorflow:input_ids: 101 2129 2003 2009 2008 2026 13109 2102 2000 1041 13088 2001 8014 3462 3709 2664 13109 3215 2000 16392 2013 3915 4313 14035 2024 2145 3909 1029 102 0 0 0 0 0 0 0 0 0 0 0 0 0 0 0 0 0 0 0 0 0 0 0 0 0 0 0 0 0 0 0 0 0 0 0 0 0 0 0 0 0 0 0 0 0 0 0 0 0 0 0 0 0 0 0 0 0 0 0 0 0 0 0 0 0 0 0 0 0 0 0 0 0 0 0 0 0 0 0 0 0 0 0 0 0 0 0 0 0 0 0 0 0 0 0 0 0 0 0\n"
     ]
    },
    {
     "name": "stdout",
     "output_type": "stream",
     "text": [
      "INFO:tensorflow:input_mask: 1 1 1 1 1 1 1 1 1 1 1 1 1 1 1 1 1 1 1 1 1 1 1 1 1 1 1 1 1 0 0 0 0 0 0 0 0 0 0 0 0 0 0 0 0 0 0 0 0 0 0 0 0 0 0 0 0 0 0 0 0 0 0 0 0 0 0 0 0 0 0 0 0 0 0 0 0 0 0 0 0 0 0 0 0 0 0 0 0 0 0 0 0 0 0 0 0 0 0 0 0 0 0 0 0 0 0 0 0 0 0 0 0 0 0 0 0 0 0 0 0 0 0 0 0 0 0 0\n"
     ]
    },
    {
     "name": "stderr",
     "output_type": "stream",
     "text": [
      "INFO:tensorflow:input_mask: 1 1 1 1 1 1 1 1 1 1 1 1 1 1 1 1 1 1 1 1 1 1 1 1 1 1 1 1 1 0 0 0 0 0 0 0 0 0 0 0 0 0 0 0 0 0 0 0 0 0 0 0 0 0 0 0 0 0 0 0 0 0 0 0 0 0 0 0 0 0 0 0 0 0 0 0 0 0 0 0 0 0 0 0 0 0 0 0 0 0 0 0 0 0 0 0 0 0 0 0 0 0 0 0 0 0 0 0 0 0 0 0 0 0 0 0 0 0 0 0 0 0 0 0 0 0 0 0\n"
     ]
    },
    {
     "name": "stdout",
     "output_type": "stream",
     "text": [
      "INFO:tensorflow:segment_ids: 0 0 0 0 0 0 0 0 0 0 0 0 0 0 0 0 0 0 0 0 0 0 0 0 0 0 0 0 0 0 0 0 0 0 0 0 0 0 0 0 0 0 0 0 0 0 0 0 0 0 0 0 0 0 0 0 0 0 0 0 0 0 0 0 0 0 0 0 0 0 0 0 0 0 0 0 0 0 0 0 0 0 0 0 0 0 0 0 0 0 0 0 0 0 0 0 0 0 0 0 0 0 0 0 0 0 0 0 0 0 0 0 0 0 0 0 0 0 0 0 0 0 0 0 0 0 0 0\n"
     ]
    },
    {
     "name": "stderr",
     "output_type": "stream",
     "text": [
      "INFO:tensorflow:segment_ids: 0 0 0 0 0 0 0 0 0 0 0 0 0 0 0 0 0 0 0 0 0 0 0 0 0 0 0 0 0 0 0 0 0 0 0 0 0 0 0 0 0 0 0 0 0 0 0 0 0 0 0 0 0 0 0 0 0 0 0 0 0 0 0 0 0 0 0 0 0 0 0 0 0 0 0 0 0 0 0 0 0 0 0 0 0 0 0 0 0 0 0 0 0 0 0 0 0 0 0 0 0 0 0 0 0 0 0 0 0 0 0 0 0 0 0 0 0 0 0 0 0 0 0 0 0 0 0 0\n"
     ]
    },
    {
     "name": "stdout",
     "output_type": "stream",
     "text": [
      "INFO:tensorflow:label: 0 (id = 0)\n"
     ]
    },
    {
     "name": "stderr",
     "output_type": "stream",
     "text": [
      "INFO:tensorflow:label: 0 (id = 0)\n"
     ]
    },
    {
     "name": "stdout",
     "output_type": "stream",
     "text": [
      "INFO:tensorflow:*** Example ***\n"
     ]
    },
    {
     "name": "stderr",
     "output_type": "stream",
     "text": [
      "INFO:tensorflow:*** Example ***\n"
     ]
    },
    {
     "name": "stdout",
     "output_type": "stream",
     "text": [
      "INFO:tensorflow:guid: None\n"
     ]
    },
    {
     "name": "stderr",
     "output_type": "stream",
     "text": [
      "INFO:tensorflow:guid: None\n"
     ]
    },
    {
     "name": "stdout",
     "output_type": "stream",
     "text": [
      "INFO:tensorflow:tokens: [CLS] what is going on with your b ##dl to dc ##a flights yesterday and today ? ! why is every single one getting delayed ? [SEP]\n"
     ]
    },
    {
     "name": "stderr",
     "output_type": "stream",
     "text": [
      "INFO:tensorflow:tokens: [CLS] what is going on with your b ##dl to dc ##a flights yesterday and today ? ! why is every single one getting delayed ? [SEP]\n"
     ]
    },
    {
     "name": "stdout",
     "output_type": "stream",
     "text": [
      "INFO:tensorflow:input_ids: 101 2054 2003 2183 2006 2007 2115 1038 19422 2000 5887 2050 7599 7483 1998 2651 1029 999 2339 2003 2296 2309 2028 2893 8394 1029 102 0 0 0 0 0 0 0 0 0 0 0 0 0 0 0 0 0 0 0 0 0 0 0 0 0 0 0 0 0 0 0 0 0 0 0 0 0 0 0 0 0 0 0 0 0 0 0 0 0 0 0 0 0 0 0 0 0 0 0 0 0 0 0 0 0 0 0 0 0 0 0 0 0 0 0 0 0 0 0 0 0 0 0 0 0 0 0 0 0 0 0 0 0 0 0 0 0 0 0 0 0\n"
     ]
    },
    {
     "name": "stderr",
     "output_type": "stream",
     "text": [
      "INFO:tensorflow:input_ids: 101 2054 2003 2183 2006 2007 2115 1038 19422 2000 5887 2050 7599 7483 1998 2651 1029 999 2339 2003 2296 2309 2028 2893 8394 1029 102 0 0 0 0 0 0 0 0 0 0 0 0 0 0 0 0 0 0 0 0 0 0 0 0 0 0 0 0 0 0 0 0 0 0 0 0 0 0 0 0 0 0 0 0 0 0 0 0 0 0 0 0 0 0 0 0 0 0 0 0 0 0 0 0 0 0 0 0 0 0 0 0 0 0 0 0 0 0 0 0 0 0 0 0 0 0 0 0 0 0 0 0 0 0 0 0 0 0 0 0 0\n"
     ]
    },
    {
     "name": "stdout",
     "output_type": "stream",
     "text": [
      "INFO:tensorflow:input_mask: 1 1 1 1 1 1 1 1 1 1 1 1 1 1 1 1 1 1 1 1 1 1 1 1 1 1 1 0 0 0 0 0 0 0 0 0 0 0 0 0 0 0 0 0 0 0 0 0 0 0 0 0 0 0 0 0 0 0 0 0 0 0 0 0 0 0 0 0 0 0 0 0 0 0 0 0 0 0 0 0 0 0 0 0 0 0 0 0 0 0 0 0 0 0 0 0 0 0 0 0 0 0 0 0 0 0 0 0 0 0 0 0 0 0 0 0 0 0 0 0 0 0 0 0 0 0 0 0\n"
     ]
    },
    {
     "name": "stderr",
     "output_type": "stream",
     "text": [
      "INFO:tensorflow:input_mask: 1 1 1 1 1 1 1 1 1 1 1 1 1 1 1 1 1 1 1 1 1 1 1 1 1 1 1 0 0 0 0 0 0 0 0 0 0 0 0 0 0 0 0 0 0 0 0 0 0 0 0 0 0 0 0 0 0 0 0 0 0 0 0 0 0 0 0 0 0 0 0 0 0 0 0 0 0 0 0 0 0 0 0 0 0 0 0 0 0 0 0 0 0 0 0 0 0 0 0 0 0 0 0 0 0 0 0 0 0 0 0 0 0 0 0 0 0 0 0 0 0 0 0 0 0 0 0 0\n"
     ]
    },
    {
     "name": "stdout",
     "output_type": "stream",
     "text": [
      "INFO:tensorflow:segment_ids: 0 0 0 0 0 0 0 0 0 0 0 0 0 0 0 0 0 0 0 0 0 0 0 0 0 0 0 0 0 0 0 0 0 0 0 0 0 0 0 0 0 0 0 0 0 0 0 0 0 0 0 0 0 0 0 0 0 0 0 0 0 0 0 0 0 0 0 0 0 0 0 0 0 0 0 0 0 0 0 0 0 0 0 0 0 0 0 0 0 0 0 0 0 0 0 0 0 0 0 0 0 0 0 0 0 0 0 0 0 0 0 0 0 0 0 0 0 0 0 0 0 0 0 0 0 0 0 0\n"
     ]
    },
    {
     "name": "stderr",
     "output_type": "stream",
     "text": [
      "INFO:tensorflow:segment_ids: 0 0 0 0 0 0 0 0 0 0 0 0 0 0 0 0 0 0 0 0 0 0 0 0 0 0 0 0 0 0 0 0 0 0 0 0 0 0 0 0 0 0 0 0 0 0 0 0 0 0 0 0 0 0 0 0 0 0 0 0 0 0 0 0 0 0 0 0 0 0 0 0 0 0 0 0 0 0 0 0 0 0 0 0 0 0 0 0 0 0 0 0 0 0 0 0 0 0 0 0 0 0 0 0 0 0 0 0 0 0 0 0 0 0 0 0 0 0 0 0 0 0 0 0 0 0 0 0\n"
     ]
    },
    {
     "name": "stdout",
     "output_type": "stream",
     "text": [
      "INFO:tensorflow:label: 0 (id = 0)\n"
     ]
    },
    {
     "name": "stderr",
     "output_type": "stream",
     "text": [
      "INFO:tensorflow:label: 0 (id = 0)\n"
     ]
    },
    {
     "name": "stdout",
     "output_type": "stream",
     "text": [
      "INFO:tensorflow:*** Example ***\n"
     ]
    },
    {
     "name": "stderr",
     "output_type": "stream",
     "text": [
      "INFO:tensorflow:*** Example ***\n"
     ]
    },
    {
     "name": "stdout",
     "output_type": "stream",
     "text": [
      "INFO:tensorflow:guid: None\n"
     ]
    },
    {
     "name": "stderr",
     "output_type": "stream",
     "text": [
      "INFO:tensorflow:guid: None\n"
     ]
    },
    {
     "name": "stdout",
     "output_type": "stream",
     "text": [
      "INFO:tensorflow:tokens: [CLS] do they have to depart from washington , d . c . ? ? [SEP]\n"
     ]
    },
    {
     "name": "stderr",
     "output_type": "stream",
     "text": [
      "INFO:tensorflow:tokens: [CLS] do they have to depart from washington , d . c . ? ? [SEP]\n"
     ]
    },
    {
     "name": "stdout",
     "output_type": "stream",
     "text": [
      "INFO:tensorflow:input_ids: 101 2079 2027 2031 2000 18280 2013 2899 1010 1040 1012 1039 1012 1029 1029 102 0 0 0 0 0 0 0 0 0 0 0 0 0 0 0 0 0 0 0 0 0 0 0 0 0 0 0 0 0 0 0 0 0 0 0 0 0 0 0 0 0 0 0 0 0 0 0 0 0 0 0 0 0 0 0 0 0 0 0 0 0 0 0 0 0 0 0 0 0 0 0 0 0 0 0 0 0 0 0 0 0 0 0 0 0 0 0 0 0 0 0 0 0 0 0 0 0 0 0 0 0 0 0 0 0 0 0 0 0 0 0 0\n"
     ]
    },
    {
     "name": "stderr",
     "output_type": "stream",
     "text": [
      "INFO:tensorflow:input_ids: 101 2079 2027 2031 2000 18280 2013 2899 1010 1040 1012 1039 1012 1029 1029 102 0 0 0 0 0 0 0 0 0 0 0 0 0 0 0 0 0 0 0 0 0 0 0 0 0 0 0 0 0 0 0 0 0 0 0 0 0 0 0 0 0 0 0 0 0 0 0 0 0 0 0 0 0 0 0 0 0 0 0 0 0 0 0 0 0 0 0 0 0 0 0 0 0 0 0 0 0 0 0 0 0 0 0 0 0 0 0 0 0 0 0 0 0 0 0 0 0 0 0 0 0 0 0 0 0 0 0 0 0 0 0 0\n"
     ]
    },
    {
     "name": "stdout",
     "output_type": "stream",
     "text": [
      "INFO:tensorflow:input_mask: 1 1 1 1 1 1 1 1 1 1 1 1 1 1 1 1 0 0 0 0 0 0 0 0 0 0 0 0 0 0 0 0 0 0 0 0 0 0 0 0 0 0 0 0 0 0 0 0 0 0 0 0 0 0 0 0 0 0 0 0 0 0 0 0 0 0 0 0 0 0 0 0 0 0 0 0 0 0 0 0 0 0 0 0 0 0 0 0 0 0 0 0 0 0 0 0 0 0 0 0 0 0 0 0 0 0 0 0 0 0 0 0 0 0 0 0 0 0 0 0 0 0 0 0 0 0 0 0\n"
     ]
    },
    {
     "name": "stderr",
     "output_type": "stream",
     "text": [
      "INFO:tensorflow:input_mask: 1 1 1 1 1 1 1 1 1 1 1 1 1 1 1 1 0 0 0 0 0 0 0 0 0 0 0 0 0 0 0 0 0 0 0 0 0 0 0 0 0 0 0 0 0 0 0 0 0 0 0 0 0 0 0 0 0 0 0 0 0 0 0 0 0 0 0 0 0 0 0 0 0 0 0 0 0 0 0 0 0 0 0 0 0 0 0 0 0 0 0 0 0 0 0 0 0 0 0 0 0 0 0 0 0 0 0 0 0 0 0 0 0 0 0 0 0 0 0 0 0 0 0 0 0 0 0 0\n"
     ]
    },
    {
     "name": "stdout",
     "output_type": "stream",
     "text": [
      "INFO:tensorflow:segment_ids: 0 0 0 0 0 0 0 0 0 0 0 0 0 0 0 0 0 0 0 0 0 0 0 0 0 0 0 0 0 0 0 0 0 0 0 0 0 0 0 0 0 0 0 0 0 0 0 0 0 0 0 0 0 0 0 0 0 0 0 0 0 0 0 0 0 0 0 0 0 0 0 0 0 0 0 0 0 0 0 0 0 0 0 0 0 0 0 0 0 0 0 0 0 0 0 0 0 0 0 0 0 0 0 0 0 0 0 0 0 0 0 0 0 0 0 0 0 0 0 0 0 0 0 0 0 0 0 0\n"
     ]
    },
    {
     "name": "stderr",
     "output_type": "stream",
     "text": [
      "INFO:tensorflow:segment_ids: 0 0 0 0 0 0 0 0 0 0 0 0 0 0 0 0 0 0 0 0 0 0 0 0 0 0 0 0 0 0 0 0 0 0 0 0 0 0 0 0 0 0 0 0 0 0 0 0 0 0 0 0 0 0 0 0 0 0 0 0 0 0 0 0 0 0 0 0 0 0 0 0 0 0 0 0 0 0 0 0 0 0 0 0 0 0 0 0 0 0 0 0 0 0 0 0 0 0 0 0 0 0 0 0 0 0 0 0 0 0 0 0 0 0 0 0 0 0 0 0 0 0 0 0 0 0 0 0\n"
     ]
    },
    {
     "name": "stdout",
     "output_type": "stream",
     "text": [
      "INFO:tensorflow:label: 1 (id = 1)\n"
     ]
    },
    {
     "name": "stderr",
     "output_type": "stream",
     "text": [
      "INFO:tensorflow:label: 1 (id = 1)\n"
     ]
    },
    {
     "name": "stdout",
     "output_type": "stream",
     "text": [
      "INFO:tensorflow:*** Example ***\n"
     ]
    },
    {
     "name": "stderr",
     "output_type": "stream",
     "text": [
      "INFO:tensorflow:*** Example ***\n"
     ]
    },
    {
     "name": "stdout",
     "output_type": "stream",
     "text": [
      "INFO:tensorflow:guid: None\n"
     ]
    },
    {
     "name": "stderr",
     "output_type": "stream",
     "text": [
      "INFO:tensorflow:guid: None\n"
     ]
    },
    {
     "name": "stdout",
     "output_type": "stream",
     "text": [
      "INFO:tensorflow:tokens: [CLS] i can probably find some of them . are the ticket # s on there ? [SEP]\n"
     ]
    },
    {
     "name": "stderr",
     "output_type": "stream",
     "text": [
      "INFO:tensorflow:tokens: [CLS] i can probably find some of them . are the ticket # s on there ? [SEP]\n"
     ]
    },
    {
     "name": "stdout",
     "output_type": "stream",
     "text": [
      "INFO:tensorflow:input_ids: 101 1045 2064 2763 2424 2070 1997 2068 1012 2024 1996 7281 1001 1055 2006 2045 1029 102 0 0 0 0 0 0 0 0 0 0 0 0 0 0 0 0 0 0 0 0 0 0 0 0 0 0 0 0 0 0 0 0 0 0 0 0 0 0 0 0 0 0 0 0 0 0 0 0 0 0 0 0 0 0 0 0 0 0 0 0 0 0 0 0 0 0 0 0 0 0 0 0 0 0 0 0 0 0 0 0 0 0 0 0 0 0 0 0 0 0 0 0 0 0 0 0 0 0 0 0 0 0 0 0 0 0 0 0 0 0\n"
     ]
    },
    {
     "name": "stderr",
     "output_type": "stream",
     "text": [
      "INFO:tensorflow:input_ids: 101 1045 2064 2763 2424 2070 1997 2068 1012 2024 1996 7281 1001 1055 2006 2045 1029 102 0 0 0 0 0 0 0 0 0 0 0 0 0 0 0 0 0 0 0 0 0 0 0 0 0 0 0 0 0 0 0 0 0 0 0 0 0 0 0 0 0 0 0 0 0 0 0 0 0 0 0 0 0 0 0 0 0 0 0 0 0 0 0 0 0 0 0 0 0 0 0 0 0 0 0 0 0 0 0 0 0 0 0 0 0 0 0 0 0 0 0 0 0 0 0 0 0 0 0 0 0 0 0 0 0 0 0 0 0 0\n"
     ]
    },
    {
     "name": "stdout",
     "output_type": "stream",
     "text": [
      "INFO:tensorflow:input_mask: 1 1 1 1 1 1 1 1 1 1 1 1 1 1 1 1 1 1 0 0 0 0 0 0 0 0 0 0 0 0 0 0 0 0 0 0 0 0 0 0 0 0 0 0 0 0 0 0 0 0 0 0 0 0 0 0 0 0 0 0 0 0 0 0 0 0 0 0 0 0 0 0 0 0 0 0 0 0 0 0 0 0 0 0 0 0 0 0 0 0 0 0 0 0 0 0 0 0 0 0 0 0 0 0 0 0 0 0 0 0 0 0 0 0 0 0 0 0 0 0 0 0 0 0 0 0 0 0\n"
     ]
    },
    {
     "name": "stderr",
     "output_type": "stream",
     "text": [
      "INFO:tensorflow:input_mask: 1 1 1 1 1 1 1 1 1 1 1 1 1 1 1 1 1 1 0 0 0 0 0 0 0 0 0 0 0 0 0 0 0 0 0 0 0 0 0 0 0 0 0 0 0 0 0 0 0 0 0 0 0 0 0 0 0 0 0 0 0 0 0 0 0 0 0 0 0 0 0 0 0 0 0 0 0 0 0 0 0 0 0 0 0 0 0 0 0 0 0 0 0 0 0 0 0 0 0 0 0 0 0 0 0 0 0 0 0 0 0 0 0 0 0 0 0 0 0 0 0 0 0 0 0 0 0 0\n"
     ]
    },
    {
     "name": "stdout",
     "output_type": "stream",
     "text": [
      "INFO:tensorflow:segment_ids: 0 0 0 0 0 0 0 0 0 0 0 0 0 0 0 0 0 0 0 0 0 0 0 0 0 0 0 0 0 0 0 0 0 0 0 0 0 0 0 0 0 0 0 0 0 0 0 0 0 0 0 0 0 0 0 0 0 0 0 0 0 0 0 0 0 0 0 0 0 0 0 0 0 0 0 0 0 0 0 0 0 0 0 0 0 0 0 0 0 0 0 0 0 0 0 0 0 0 0 0 0 0 0 0 0 0 0 0 0 0 0 0 0 0 0 0 0 0 0 0 0 0 0 0 0 0 0 0\n"
     ]
    },
    {
     "name": "stderr",
     "output_type": "stream",
     "text": [
      "INFO:tensorflow:segment_ids: 0 0 0 0 0 0 0 0 0 0 0 0 0 0 0 0 0 0 0 0 0 0 0 0 0 0 0 0 0 0 0 0 0 0 0 0 0 0 0 0 0 0 0 0 0 0 0 0 0 0 0 0 0 0 0 0 0 0 0 0 0 0 0 0 0 0 0 0 0 0 0 0 0 0 0 0 0 0 0 0 0 0 0 0 0 0 0 0 0 0 0 0 0 0 0 0 0 0 0 0 0 0 0 0 0 0 0 0 0 0 0 0 0 0 0 0 0 0 0 0 0 0 0 0 0 0 0 0\n"
     ]
    },
    {
     "name": "stdout",
     "output_type": "stream",
     "text": [
      "INFO:tensorflow:label: 0 (id = 0)\n"
     ]
    },
    {
     "name": "stderr",
     "output_type": "stream",
     "text": [
      "INFO:tensorflow:label: 0 (id = 0)\n"
     ]
    }
   ],
   "source": [
    "# We'll set sequences to be at most 128 tokens long.\n",
    "MAX_SEQ_LENGTH = 128\n",
    "# Convert our train and test features to InputFeatures that BERT understands.\n",
    "train_features = bert.run_classifier.convert_examples_to_features(train_InputExamples, label_list, MAX_SEQ_LENGTH, tokenizer)\n",
    "valid_features = bert.run_classifier.convert_examples_to_features(valid_InputExamples, label_list, MAX_SEQ_LENGTH, tokenizer)"
   ]
  },
  {
   "cell_type": "code",
   "execution_count": 73,
   "metadata": {
    "colab": {
     "base_uri": "https://localhost:8080/",
     "height": 34
    },
    "colab_type": "code",
    "id": "B2WKjQM9UYgd",
    "outputId": "adb93149-5881-4236-fb90-07173eda2769"
   },
   "outputs": [
    {
     "data": {
      "text/plain": [
       "<bert.run_classifier.InputFeatures at 0x7fd86396bcf8>"
      ]
     },
     "execution_count": 73,
     "metadata": {
      "tags": []
     },
     "output_type": "execute_result"
    }
   ],
   "source": [
    "train_features[0]"
   ]
  },
  {
   "cell_type": "code",
   "execution_count": 0,
   "metadata": {
    "colab": {},
    "colab_type": "code",
    "id": "H3dtXIT9QbEU"
   },
   "outputs": [],
   "source": [
    "def create_model(is_predicting, input_ids, input_mask, segment_ids, labels,\n",
    "                 num_labels):\n",
    "  \"\"\"Creates a classification model.\"\"\"\n",
    "\n",
    "  input_ids = tf.cast(input_ids, tf.int32)\n",
    "  input_mask = tf.cast(input_mask, tf.int32)\n",
    "  segment_ids = tf.cast(segment_ids, tf.int32)\n",
    "\n",
    "  bert_module = hub.Module(\n",
    "      BERT_MODEL_HUB,\n",
    "      trainable=True)\n",
    "  bert_inputs = dict(\n",
    "      input_ids=input_ids,\n",
    "      input_mask=input_mask,\n",
    "      segment_ids=segment_ids)\n",
    "  bert_outputs = bert_module(\n",
    "      inputs=bert_inputs,\n",
    "      signature=\"tokens\",\n",
    "      as_dict=True)\n",
    "\n",
    "  # Use \"pooled_output\" for classification tasks on an entire sentence.\n",
    "  # Use \"sequence_outputs\" for token-level output.\n",
    "  output_layer = bert_outputs[\"pooled_output\"]\n",
    "\n",
    "  hidden_size = output_layer.shape[-1].value\n",
    "\n",
    "  # Create our own layer to tune for politeness data.\n",
    "  output_weights = tf.get_variable(\n",
    "      \"output_weights\", [num_labels, hidden_size],\n",
    "      initializer=tf.truncated_normal_initializer(stddev=0.02))\n",
    "\n",
    "  output_bias = tf.get_variable(\n",
    "      \"output_bias\", [num_labels], initializer=tf.zeros_initializer())\n",
    "\n",
    "  with tf.variable_scope(\"loss\"):\n",
    "\n",
    "    # Dropout helps prevent overfitting\n",
    "    output_layer = tf.nn.dropout(output_layer, keep_prob=0.9)\n",
    "\n",
    "    logits = tf.matmul(output_layer, output_weights, transpose_b=True)\n",
    "    logits = tf.nn.bias_add(logits, output_bias)\n",
    "    log_probs = tf.nn.log_softmax(logits, axis=-1)\n",
    "\n",
    "    # Convert labels into one-hot encoding\n",
    "    one_hot_labels = tf.one_hot(labels, depth=num_labels, dtype=tf.float32)\n",
    "\n",
    "    predicted_labels = tf.squeeze(tf.argmax(log_probs, axis=-1, output_type=tf.int32))\n",
    "    # If we're predicting, we want predicted labels and the probabiltiies.\n",
    "    if is_predicting:\n",
    "      return (predicted_labels, log_probs)\n",
    "\n",
    "    # If we're train/eval, compute loss between predicted and actual label\n",
    "    per_example_loss = -tf.reduce_sum(one_hot_labels * log_probs, axis=-1)\n",
    "    loss = tf.reduce_mean(per_example_loss)\n",
    "    return (loss, predicted_labels, log_probs)"
   ]
  },
  {
   "cell_type": "code",
   "execution_count": 0,
   "metadata": {
    "colab": {},
    "colab_type": "code",
    "id": "Yg0x5Cn0QwOB"
   },
   "outputs": [],
   "source": [
    "# model_fn_builder actually creates our model function\n",
    "# using the passed parameters for num_labels, learning_rate, etc.\n",
    "def model_fn_builder(num_labels, learning_rate, num_train_steps,\n",
    "                     num_warmup_steps):\n",
    "  \"\"\"Returns `model_fn` closure for TPUEstimator.\"\"\"\n",
    "  def model_fn(features, labels, mode, params):  # pylint: disable=unused-argument\n",
    "    \"\"\"The `model_fn` for TPUEstimator.\"\"\"\n",
    "\n",
    "    input_ids = features[\"input_ids\"]\n",
    "    input_mask = features[\"input_mask\"]\n",
    "    segment_ids = features[\"segment_ids\"]\n",
    "    label_ids = features[\"label_ids\"]\n",
    "\n",
    "    is_predicting = (mode == tf.estimator.ModeKeys.PREDICT)\n",
    "    \n",
    "    # TRAIN and EVAL\n",
    "    if not is_predicting:\n",
    "\n",
    "      (loss, predicted_labels, log_probs) = create_model(\n",
    "        is_predicting, input_ids, input_mask, segment_ids, label_ids, num_labels)\n",
    "\n",
    "      train_op = bert.optimization.create_optimizer(\n",
    "          loss, learning_rate, num_train_steps, num_warmup_steps, use_tpu=False)\n",
    "\n",
    "      # Calculate evaluation metrics. \n",
    "      def metric_fn(label_ids, predicted_labels):\n",
    "        accuracy = tf.metrics.accuracy(label_ids, predicted_labels)\n",
    "        f1_score = tf.contrib.metrics.f1_score(\n",
    "            label_ids,\n",
    "            predicted_labels)\n",
    "        auc = tf.metrics.auc(\n",
    "            label_ids,\n",
    "            predicted_labels)\n",
    "        recall = tf.metrics.recall(\n",
    "            label_ids,\n",
    "            predicted_labels)\n",
    "        precision = tf.metrics.precision(\n",
    "            label_ids,\n",
    "            predicted_labels) \n",
    "        true_pos = tf.metrics.true_positives(\n",
    "            label_ids,\n",
    "            predicted_labels)\n",
    "        true_neg = tf.metrics.true_negatives(\n",
    "            label_ids,\n",
    "            predicted_labels)   \n",
    "        false_pos = tf.metrics.false_positives(\n",
    "            label_ids,\n",
    "            predicted_labels)  \n",
    "        false_neg = tf.metrics.false_negatives(\n",
    "            label_ids,\n",
    "            predicted_labels)\n",
    "        return {\n",
    "            \"eval_accuracy\": accuracy,\n",
    "            \"f1_score\": f1_score,\n",
    "            \"auc\": auc,\n",
    "            \"precision\": precision,\n",
    "            \"recall\": recall,\n",
    "            \"true_positives\": true_pos,\n",
    "            \"true_negatives\": true_neg,\n",
    "            \"false_positives\": false_pos,\n",
    "            \"false_negatives\": false_neg\n",
    "        }\n",
    "\n",
    "      eval_metrics = metric_fn(label_ids, predicted_labels)\n",
    "\n",
    "      if mode == tf.estimator.ModeKeys.TRAIN:\n",
    "        return tf.estimator.EstimatorSpec(mode=mode,\n",
    "          loss=loss,\n",
    "          train_op=train_op)\n",
    "      else:\n",
    "          return tf.estimator.EstimatorSpec(mode=mode,\n",
    "            loss=loss,\n",
    "            eval_metric_ops=eval_metrics)\n",
    "    else:\n",
    "      (predicted_labels, log_probs) = create_model(\n",
    "        is_predicting, input_ids, input_mask, segment_ids, label_ids, num_labels)\n",
    "\n",
    "      predictions = {\n",
    "          'probabilities': log_probs,\n",
    "          'labels': predicted_labels\n",
    "      }\n",
    "      return tf.estimator.EstimatorSpec(mode, predictions=predictions)\n",
    "\n",
    "  # Return the actual model function in the closure\n",
    "  return model_fn"
   ]
  },
  {
   "cell_type": "code",
   "execution_count": 0,
   "metadata": {
    "colab": {},
    "colab_type": "code",
    "id": "AL7andgbQ8Ri"
   },
   "outputs": [],
   "source": [
    "# Compute train and warmup steps from batch size\n",
    "BATCH_SIZE = 32\n",
    "LEARNING_RATE = 2e-5\n",
    "NUM_TRAIN_EPOCHS = 3.0\n",
    "# Warmup is a period of time where hte learning rate \n",
    "# is small and gradually increases--usually helps training.\n",
    "WARMUP_PROPORTION = 0.1\n",
    "# Model configs\n",
    "SAVE_CHECKPOINTS_STEPS = 500\n",
    "SAVE_SUMMARY_STEPS = 100"
   ]
  },
  {
   "cell_type": "code",
   "execution_count": 0,
   "metadata": {
    "colab": {},
    "colab_type": "code",
    "id": "JTgHPgARRA6F"
   },
   "outputs": [],
   "source": [
    "# Compute # train and warmup steps from batch size\n",
    "num_train_steps = int(len(train_features) / BATCH_SIZE * NUM_TRAIN_EPOCHS)\n",
    "num_warmup_steps = int(num_train_steps * WARMUP_PROPORTION)"
   ]
  },
  {
   "cell_type": "code",
   "execution_count": 0,
   "metadata": {
    "colab": {},
    "colab_type": "code",
    "id": "C8Vj0cYPREKI"
   },
   "outputs": [],
   "source": [
    "# Specify output directory and number of checkpoint steps to save\n",
    "run_config = tf.estimator.RunConfig(\n",
    "    model_dir=OUTPUT_DIR,\n",
    "    save_summary_steps=SAVE_SUMMARY_STEPS,\n",
    "    save_checkpoints_steps=SAVE_CHECKPOINTS_STEPS)"
   ]
  },
  {
   "cell_type": "code",
   "execution_count": 79,
   "metadata": {
    "colab": {
     "base_uri": "https://localhost:8080/",
     "height": 275
    },
    "colab_type": "code",
    "id": "D6QXwRZxRGiU",
    "outputId": "5cbc4c79-7897-43f5-8486-50d5fb8ea8d8"
   },
   "outputs": [
    {
     "name": "stdout",
     "output_type": "stream",
     "text": [
      "INFO:tensorflow:Using config: {'_model_dir': 'trainedModel', '_tf_random_seed': None, '_save_summary_steps': 100, '_save_checkpoints_steps': 500, '_save_checkpoints_secs': None, '_session_config': allow_soft_placement: true\n",
      "graph_options {\n",
      "  rewrite_options {\n",
      "    meta_optimizer_iterations: ONE\n",
      "  }\n",
      "}\n",
      ", '_keep_checkpoint_max': 5, '_keep_checkpoint_every_n_hours': 10000, '_log_step_count_steps': 100, '_train_distribute': None, '_device_fn': None, '_protocol': None, '_eval_distribute': None, '_experimental_distribute': None, '_experimental_max_worker_delay_secs': None, '_session_creation_timeout_secs': 7200, '_service': None, '_cluster_spec': <tensorflow.python.training.server_lib.ClusterSpec object at 0x7fd81b2fe4a8>, '_task_type': 'worker', '_task_id': 0, '_global_id_in_cluster': 0, '_master': '', '_evaluation_master': '', '_is_chief': True, '_num_ps_replicas': 0, '_num_worker_replicas': 1}\n"
     ]
    },
    {
     "name": "stderr",
     "output_type": "stream",
     "text": [
      "INFO:tensorflow:Using config: {'_model_dir': 'trainedModel', '_tf_random_seed': None, '_save_summary_steps': 100, '_save_checkpoints_steps': 500, '_save_checkpoints_secs': None, '_session_config': allow_soft_placement: true\n",
      "graph_options {\n",
      "  rewrite_options {\n",
      "    meta_optimizer_iterations: ONE\n",
      "  }\n",
      "}\n",
      ", '_keep_checkpoint_max': 5, '_keep_checkpoint_every_n_hours': 10000, '_log_step_count_steps': 100, '_train_distribute': None, '_device_fn': None, '_protocol': None, '_eval_distribute': None, '_experimental_distribute': None, '_experimental_max_worker_delay_secs': None, '_session_creation_timeout_secs': 7200, '_service': None, '_cluster_spec': <tensorflow.python.training.server_lib.ClusterSpec object at 0x7fd81b2fe4a8>, '_task_type': 'worker', '_task_id': 0, '_global_id_in_cluster': 0, '_master': '', '_evaluation_master': '', '_is_chief': True, '_num_ps_replicas': 0, '_num_worker_replicas': 1}\n"
     ]
    }
   ],
   "source": [
    "model_fn = model_fn_builder(\n",
    "  num_labels=len(label_list),\n",
    "  learning_rate=LEARNING_RATE,\n",
    "  num_train_steps=num_train_steps,\n",
    "  num_warmup_steps=num_warmup_steps)\n",
    "\n",
    "estimator = tf.estimator.Estimator(\n",
    "  model_fn=model_fn,\n",
    "  config=run_config,\n",
    "  params={\"batch_size\": BATCH_SIZE})"
   ]
  },
  {
   "cell_type": "code",
   "execution_count": 0,
   "metadata": {
    "colab": {},
    "colab_type": "code",
    "id": "xOMn6YecRKdP"
   },
   "outputs": [],
   "source": [
    "# Create an input function for training.\n",
    "train_input_fn = bert.run_classifier.input_fn_builder(\n",
    "    features=train_features,\n",
    "    seq_length=MAX_SEQ_LENGTH,\n",
    "    is_training=True,\n",
    "    drop_remainder=False)"
   ]
  },
  {
   "cell_type": "code",
   "execution_count": 81,
   "metadata": {
    "colab": {
     "base_uri": "https://localhost:8080/",
     "height": 1000
    },
    "colab_type": "code",
    "id": "btbI7qvVRNlR",
    "outputId": "a81fb85e-e137-46b8-f566-45a689260d75"
   },
   "outputs": [
    {
     "name": "stdout",
     "output_type": "stream",
     "text": [
      "Beginning Training!\n",
      "WARNING:tensorflow:From /usr/local/lib/python3.6/dist-packages/tensorflow_core/python/training/training_util.py:236: Variable.initialized_value (from tensorflow.python.ops.variables) is deprecated and will be removed in a future version.\n",
      "Instructions for updating:\n",
      "Use Variable.read_value. Variables in 2.X are initialized automatically both in eager and graph (inside tf.defun) contexts.\n"
     ]
    },
    {
     "name": "stderr",
     "output_type": "stream",
     "text": [
      "WARNING:tensorflow:From /usr/local/lib/python3.6/dist-packages/tensorflow_core/python/training/training_util.py:236: Variable.initialized_value (from tensorflow.python.ops.variables) is deprecated and will be removed in a future version.\n",
      "Instructions for updating:\n",
      "Use Variable.read_value. Variables in 2.X are initialized automatically both in eager and graph (inside tf.defun) contexts.\n"
     ]
    },
    {
     "name": "stdout",
     "output_type": "stream",
     "text": [
      "INFO:tensorflow:Calling model_fn.\n"
     ]
    },
    {
     "name": "stderr",
     "output_type": "stream",
     "text": [
      "INFO:tensorflow:Calling model_fn.\n"
     ]
    },
    {
     "name": "stdout",
     "output_type": "stream",
     "text": [
      "INFO:tensorflow:Saver not created because there are no variables in the graph to restore\n"
     ]
    },
    {
     "name": "stderr",
     "output_type": "stream",
     "text": [
      "INFO:tensorflow:Saver not created because there are no variables in the graph to restore\n"
     ]
    },
    {
     "name": "stdout",
     "output_type": "stream",
     "text": [
      "WARNING:tensorflow:From /usr/local/lib/python3.6/dist-packages/bert/optimization.py:27: The name tf.train.get_or_create_global_step is deprecated. Please use tf.compat.v1.train.get_or_create_global_step instead.\n",
      "\n"
     ]
    },
    {
     "name": "stderr",
     "output_type": "stream",
     "text": [
      "WARNING:tensorflow:From /usr/local/lib/python3.6/dist-packages/bert/optimization.py:27: The name tf.train.get_or_create_global_step is deprecated. Please use tf.compat.v1.train.get_or_create_global_step instead.\n",
      "\n"
     ]
    },
    {
     "name": "stdout",
     "output_type": "stream",
     "text": [
      "WARNING:tensorflow:From /usr/local/lib/python3.6/dist-packages/bert/optimization.py:32: The name tf.train.polynomial_decay is deprecated. Please use tf.compat.v1.train.polynomial_decay instead.\n",
      "\n"
     ]
    },
    {
     "name": "stderr",
     "output_type": "stream",
     "text": [
      "WARNING:tensorflow:From /usr/local/lib/python3.6/dist-packages/bert/optimization.py:32: The name tf.train.polynomial_decay is deprecated. Please use tf.compat.v1.train.polynomial_decay instead.\n",
      "\n"
     ]
    },
    {
     "name": "stdout",
     "output_type": "stream",
     "text": [
      "WARNING:tensorflow:From /usr/local/lib/python3.6/dist-packages/bert/optimization.py:70: The name tf.trainable_variables is deprecated. Please use tf.compat.v1.trainable_variables instead.\n",
      "\n"
     ]
    },
    {
     "name": "stderr",
     "output_type": "stream",
     "text": [
      "WARNING:tensorflow:From /usr/local/lib/python3.6/dist-packages/bert/optimization.py:70: The name tf.trainable_variables is deprecated. Please use tf.compat.v1.trainable_variables instead.\n",
      "\n",
      "/usr/local/lib/python3.6/dist-packages/tensorflow_core/python/framework/indexed_slices.py:424: UserWarning: Converting sparse IndexedSlices to a dense Tensor of unknown shape. This may consume a large amount of memory.\n",
      "  \"Converting sparse IndexedSlices to a dense Tensor of unknown shape. \"\n"
     ]
    },
    {
     "name": "stdout",
     "output_type": "stream",
     "text": [
      "WARNING:tensorflow:\n",
      "The TensorFlow contrib module will not be included in TensorFlow 2.0.\n",
      "For more information, please see:\n",
      "  * https://github.com/tensorflow/community/blob/master/rfcs/20180907-contrib-sunset.md\n",
      "  * https://github.com/tensorflow/addons\n",
      "  * https://github.com/tensorflow/io (for I/O related ops)\n",
      "If you depend on functionality not listed there, please file an issue.\n",
      "\n"
     ]
    },
    {
     "name": "stderr",
     "output_type": "stream",
     "text": [
      "WARNING:tensorflow:\n",
      "The TensorFlow contrib module will not be included in TensorFlow 2.0.\n",
      "For more information, please see:\n",
      "  * https://github.com/tensorflow/community/blob/master/rfcs/20180907-contrib-sunset.md\n",
      "  * https://github.com/tensorflow/addons\n",
      "  * https://github.com/tensorflow/io (for I/O related ops)\n",
      "If you depend on functionality not listed there, please file an issue.\n",
      "\n"
     ]
    },
    {
     "name": "stdout",
     "output_type": "stream",
     "text": [
      "WARNING:tensorflow:From /usr/local/lib/python3.6/dist-packages/tensorflow_core/contrib/metrics/python/metrics/classification.py:162: div (from tensorflow.python.ops.math_ops) is deprecated and will be removed in a future version.\n",
      "Instructions for updating:\n",
      "Deprecated in favor of operator or tf.math.divide.\n"
     ]
    },
    {
     "name": "stderr",
     "output_type": "stream",
     "text": [
      "WARNING:tensorflow:From /usr/local/lib/python3.6/dist-packages/tensorflow_core/contrib/metrics/python/metrics/classification.py:162: div (from tensorflow.python.ops.math_ops) is deprecated and will be removed in a future version.\n",
      "Instructions for updating:\n",
      "Deprecated in favor of operator or tf.math.divide.\n"
     ]
    },
    {
     "name": "stdout",
     "output_type": "stream",
     "text": [
      "INFO:tensorflow:Done calling model_fn.\n"
     ]
    },
    {
     "name": "stderr",
     "output_type": "stream",
     "text": [
      "INFO:tensorflow:Done calling model_fn.\n"
     ]
    },
    {
     "name": "stdout",
     "output_type": "stream",
     "text": [
      "INFO:tensorflow:Create CheckpointSaverHook.\n"
     ]
    },
    {
     "name": "stderr",
     "output_type": "stream",
     "text": [
      "INFO:tensorflow:Create CheckpointSaverHook.\n"
     ]
    },
    {
     "name": "stdout",
     "output_type": "stream",
     "text": [
      "INFO:tensorflow:Graph was finalized.\n"
     ]
    },
    {
     "name": "stderr",
     "output_type": "stream",
     "text": [
      "INFO:tensorflow:Graph was finalized.\n"
     ]
    },
    {
     "name": "stdout",
     "output_type": "stream",
     "text": [
      "INFO:tensorflow:Running local_init_op.\n"
     ]
    },
    {
     "name": "stderr",
     "output_type": "stream",
     "text": [
      "INFO:tensorflow:Running local_init_op.\n"
     ]
    },
    {
     "name": "stdout",
     "output_type": "stream",
     "text": [
      "INFO:tensorflow:Done running local_init_op.\n"
     ]
    },
    {
     "name": "stderr",
     "output_type": "stream",
     "text": [
      "INFO:tensorflow:Done running local_init_op.\n"
     ]
    },
    {
     "name": "stdout",
     "output_type": "stream",
     "text": [
      "INFO:tensorflow:Saving checkpoints for 0 into trainedModel/model.ckpt.\n"
     ]
    },
    {
     "name": "stderr",
     "output_type": "stream",
     "text": [
      "INFO:tensorflow:Saving checkpoints for 0 into trainedModel/model.ckpt.\n"
     ]
    },
    {
     "name": "stdout",
     "output_type": "stream",
     "text": [
      "INFO:tensorflow:loss = 0.9336209, step = 0\n"
     ]
    },
    {
     "name": "stderr",
     "output_type": "stream",
     "text": [
      "INFO:tensorflow:loss = 0.9336209, step = 0\n"
     ]
    },
    {
     "name": "stdout",
     "output_type": "stream",
     "text": [
      "INFO:tensorflow:global_step/sec: 0.574293\n"
     ]
    },
    {
     "name": "stderr",
     "output_type": "stream",
     "text": [
      "INFO:tensorflow:global_step/sec: 0.574293\n"
     ]
    },
    {
     "name": "stdout",
     "output_type": "stream",
     "text": [
      "INFO:tensorflow:loss = 0.37140733, step = 100 (174.131 sec)\n"
     ]
    },
    {
     "name": "stderr",
     "output_type": "stream",
     "text": [
      "INFO:tensorflow:loss = 0.37140733, step = 100 (174.131 sec)\n"
     ]
    },
    {
     "name": "stdout",
     "output_type": "stream",
     "text": [
      "INFO:tensorflow:global_step/sec: 0.647817\n"
     ]
    },
    {
     "name": "stderr",
     "output_type": "stream",
     "text": [
      "INFO:tensorflow:global_step/sec: 0.647817\n"
     ]
    },
    {
     "name": "stdout",
     "output_type": "stream",
     "text": [
      "INFO:tensorflow:loss = 0.51274467, step = 200 (154.362 sec)\n"
     ]
    },
    {
     "name": "stderr",
     "output_type": "stream",
     "text": [
      "INFO:tensorflow:loss = 0.51274467, step = 200 (154.362 sec)\n"
     ]
    },
    {
     "name": "stdout",
     "output_type": "stream",
     "text": [
      "INFO:tensorflow:global_step/sec: 0.647732\n"
     ]
    },
    {
     "name": "stderr",
     "output_type": "stream",
     "text": [
      "INFO:tensorflow:global_step/sec: 0.647732\n"
     ]
    },
    {
     "name": "stdout",
     "output_type": "stream",
     "text": [
      "INFO:tensorflow:loss = 0.3197611, step = 300 (154.388 sec)\n"
     ]
    },
    {
     "name": "stderr",
     "output_type": "stream",
     "text": [
      "INFO:tensorflow:loss = 0.3197611, step = 300 (154.388 sec)\n"
     ]
    },
    {
     "name": "stdout",
     "output_type": "stream",
     "text": [
      "INFO:tensorflow:global_step/sec: 0.647786\n"
     ]
    },
    {
     "name": "stderr",
     "output_type": "stream",
     "text": [
      "INFO:tensorflow:global_step/sec: 0.647786\n"
     ]
    },
    {
     "name": "stdout",
     "output_type": "stream",
     "text": [
      "INFO:tensorflow:loss = 0.16419663, step = 400 (154.369 sec)\n"
     ]
    },
    {
     "name": "stderr",
     "output_type": "stream",
     "text": [
      "INFO:tensorflow:loss = 0.16419663, step = 400 (154.369 sec)\n"
     ]
    },
    {
     "name": "stdout",
     "output_type": "stream",
     "text": [
      "INFO:tensorflow:Saving checkpoints for 500 into trainedModel/model.ckpt.\n"
     ]
    },
    {
     "name": "stderr",
     "output_type": "stream",
     "text": [
      "INFO:tensorflow:Saving checkpoints for 500 into trainedModel/model.ckpt.\n"
     ]
    },
    {
     "name": "stdout",
     "output_type": "stream",
     "text": [
      "INFO:tensorflow:global_step/sec: 0.620103\n"
     ]
    },
    {
     "name": "stderr",
     "output_type": "stream",
     "text": [
      "INFO:tensorflow:global_step/sec: 0.620103\n"
     ]
    },
    {
     "name": "stdout",
     "output_type": "stream",
     "text": [
      "INFO:tensorflow:loss = 0.2607022, step = 500 (161.264 sec)\n"
     ]
    },
    {
     "name": "stderr",
     "output_type": "stream",
     "text": [
      "INFO:tensorflow:loss = 0.2607022, step = 500 (161.264 sec)\n"
     ]
    },
    {
     "name": "stdout",
     "output_type": "stream",
     "text": [
      "INFO:tensorflow:global_step/sec: 0.646456\n"
     ]
    },
    {
     "name": "stderr",
     "output_type": "stream",
     "text": [
      "INFO:tensorflow:global_step/sec: 0.646456\n"
     ]
    },
    {
     "name": "stdout",
     "output_type": "stream",
     "text": [
      "INFO:tensorflow:loss = 0.12960964, step = 600 (154.691 sec)\n"
     ]
    },
    {
     "name": "stderr",
     "output_type": "stream",
     "text": [
      "INFO:tensorflow:loss = 0.12960964, step = 600 (154.691 sec)\n"
     ]
    },
    {
     "name": "stdout",
     "output_type": "stream",
     "text": [
      "INFO:tensorflow:global_step/sec: 0.646292\n"
     ]
    },
    {
     "name": "stderr",
     "output_type": "stream",
     "text": [
      "INFO:tensorflow:global_step/sec: 0.646292\n"
     ]
    },
    {
     "name": "stdout",
     "output_type": "stream",
     "text": [
      "INFO:tensorflow:loss = 0.048909526, step = 700 (154.728 sec)\n"
     ]
    },
    {
     "name": "stderr",
     "output_type": "stream",
     "text": [
      "INFO:tensorflow:loss = 0.048909526, step = 700 (154.728 sec)\n"
     ]
    },
    {
     "name": "stdout",
     "output_type": "stream",
     "text": [
      "INFO:tensorflow:global_step/sec: 0.646295\n"
     ]
    },
    {
     "name": "stderr",
     "output_type": "stream",
     "text": [
      "INFO:tensorflow:global_step/sec: 0.646295\n"
     ]
    },
    {
     "name": "stdout",
     "output_type": "stream",
     "text": [
      "INFO:tensorflow:loss = 0.11113486, step = 800 (154.729 sec)\n"
     ]
    },
    {
     "name": "stderr",
     "output_type": "stream",
     "text": [
      "INFO:tensorflow:loss = 0.11113486, step = 800 (154.729 sec)\n"
     ]
    },
    {
     "name": "stdout",
     "output_type": "stream",
     "text": [
      "INFO:tensorflow:global_step/sec: 0.646979\n"
     ]
    },
    {
     "name": "stderr",
     "output_type": "stream",
     "text": [
      "INFO:tensorflow:global_step/sec: 0.646979\n"
     ]
    },
    {
     "name": "stdout",
     "output_type": "stream",
     "text": [
      "INFO:tensorflow:loss = 0.014768401, step = 900 (154.563 sec)\n"
     ]
    },
    {
     "name": "stderr",
     "output_type": "stream",
     "text": [
      "INFO:tensorflow:loss = 0.014768401, step = 900 (154.563 sec)\n"
     ]
    },
    {
     "name": "stdout",
     "output_type": "stream",
     "text": [
      "INFO:tensorflow:Saving checkpoints for 1000 into trainedModel/model.ckpt.\n"
     ]
    },
    {
     "name": "stderr",
     "output_type": "stream",
     "text": [
      "INFO:tensorflow:Saving checkpoints for 1000 into trainedModel/model.ckpt.\n"
     ]
    },
    {
     "name": "stdout",
     "output_type": "stream",
     "text": [
      "INFO:tensorflow:global_step/sec: 0.619482\n"
     ]
    },
    {
     "name": "stderr",
     "output_type": "stream",
     "text": [
      "INFO:tensorflow:global_step/sec: 0.619482\n"
     ]
    },
    {
     "name": "stdout",
     "output_type": "stream",
     "text": [
      "INFO:tensorflow:loss = 0.10544854, step = 1000 (161.427 sec)\n"
     ]
    },
    {
     "name": "stderr",
     "output_type": "stream",
     "text": [
      "INFO:tensorflow:loss = 0.10544854, step = 1000 (161.427 sec)\n"
     ]
    },
    {
     "name": "stdout",
     "output_type": "stream",
     "text": [
      "INFO:tensorflow:Saving checkpoints for 1098 into trainedModel/model.ckpt.\n"
     ]
    },
    {
     "name": "stderr",
     "output_type": "stream",
     "text": [
      "INFO:tensorflow:Saving checkpoints for 1098 into trainedModel/model.ckpt.\n"
     ]
    },
    {
     "name": "stdout",
     "output_type": "stream",
     "text": [
      "INFO:tensorflow:Loss for final step: 0.12655693.\n"
     ]
    },
    {
     "name": "stderr",
     "output_type": "stream",
     "text": [
      "INFO:tensorflow:Loss for final step: 0.12655693.\n"
     ]
    },
    {
     "name": "stdout",
     "output_type": "stream",
     "text": [
      "Training took time  0:29:55.026472\n"
     ]
    }
   ],
   "source": [
    "print(f'Beginning Training!')\n",
    "current_time = datetime.now()\n",
    "estimator.train(input_fn=train_input_fn, max_steps=num_train_steps)\n",
    "print(\"Training took time \", datetime.now() - current_time)"
   ]
  },
  {
   "cell_type": "code",
   "execution_count": 0,
   "metadata": {
    "colab": {},
    "colab_type": "code",
    "id": "TWhq5pCpRmzH"
   },
   "outputs": [],
   "source": [
    "valid_input_fn = run_classifier.input_fn_builder(\n",
    "    features=valid_features,\n",
    "    seq_length=MAX_SEQ_LENGTH,\n",
    "    is_training=False,\n",
    "    drop_remainder=False)"
   ]
  },
  {
   "cell_type": "code",
   "execution_count": 0,
   "metadata": {
    "colab": {},
    "colab_type": "code",
    "id": "_PRaVDNRRtIs"
   },
   "outputs": [],
   "source": [
    "def getPrediction(in_sentences):\n",
    "  labels = ['negative', 'neutral', 'positive']\n",
    "  input_examples = [run_classifier.InputExample(guid=\"\", text_a = x, text_b = None, label = 0) for x in in_sentences] # here, \"\" is just a dummy label\n",
    "  input_features = run_classifier.convert_examples_to_features(input_examples, label_list, MAX_SEQ_LENGTH, tokenizer)\n",
    "  predict_input_fn = run_classifier.input_fn_builder(features=input_features, seq_length=MAX_SEQ_LENGTH, is_training=False, drop_remainder=False)\n",
    "  predictions = estimator.predict(predict_input_fn) #, yield_single_examples=False)\n",
    "  return [(sentence, prediction['probabilities'], labels[prediction['labels']]) for sentence, prediction in zip(in_sentences, predictions)]"
   ]
  },
  {
   "cell_type": "code",
   "execution_count": 84,
   "metadata": {
    "colab": {
     "base_uri": "https://localhost:8080/",
     "height": 204
    },
    "colab_type": "code",
    "id": "g4fh5S0kXZbi",
    "outputId": "58d36169-383e-40d7-e386-f16faf155150"
   },
   "outputs": [
    {
     "data": {
      "text/html": [
       "<div>\n",
       "<style scoped>\n",
       "    .dataframe tbody tr th:only-of-type {\n",
       "        vertical-align: middle;\n",
       "    }\n",
       "\n",
       "    .dataframe tbody tr th {\n",
       "        vertical-align: top;\n",
       "    }\n",
       "\n",
       "    .dataframe thead th {\n",
       "        text-align: right;\n",
       "    }\n",
       "</style>\n",
       "<table border=\"1\" class=\"dataframe\">\n",
       "  <thead>\n",
       "    <tr style=\"text-align: right;\">\n",
       "      <th></th>\n",
       "      <th>text</th>\n",
       "      <th>sentiment</th>\n",
       "      <th>labels</th>\n",
       "    </tr>\n",
       "  </thead>\n",
       "  <tbody>\n",
       "    <tr>\n",
       "      <th>4794</th>\n",
       "      <td>you're my early frontrunner for best airline! ...</td>\n",
       "      <td>positive</td>\n",
       "      <td>2</td>\n",
       "    </tr>\n",
       "    <tr>\n",
       "      <th>10480</th>\n",
       "      <td>how is it that my flt to EWR was Cancelled Fli...</td>\n",
       "      <td>negative</td>\n",
       "      <td>0</td>\n",
       "    </tr>\n",
       "    <tr>\n",
       "      <th>8067</th>\n",
       "      <td>what is going on with your BDL to DCA flights ...</td>\n",
       "      <td>negative</td>\n",
       "      <td>0</td>\n",
       "    </tr>\n",
       "    <tr>\n",
       "      <th>8880</th>\n",
       "      <td>do they have to depart from Washington, D.C.??</td>\n",
       "      <td>neutral</td>\n",
       "      <td>1</td>\n",
       "    </tr>\n",
       "    <tr>\n",
       "      <th>8292</th>\n",
       "      <td>I can probably find some of them. Are the tick...</td>\n",
       "      <td>negative</td>\n",
       "      <td>0</td>\n",
       "    </tr>\n",
       "  </tbody>\n",
       "</table>\n",
       "</div>"
      ],
      "text/plain": [
       "                                                    text sentiment  labels\n",
       "4794   you're my early frontrunner for best airline! ...  positive       2\n",
       "10480  how is it that my flt to EWR was Cancelled Fli...  negative       0\n",
       "8067   what is going on with your BDL to DCA flights ...  negative       0\n",
       "8880      do they have to depart from Washington, D.C.??   neutral       1\n",
       "8292   I can probably find some of them. Are the tick...  negative       0"
      ]
     },
     "execution_count": 84,
     "metadata": {
      "tags": []
     },
     "output_type": "execute_result"
    }
   ],
   "source": [
    "valid.head()"
   ]
  },
  {
   "cell_type": "code",
   "execution_count": 85,
   "metadata": {
    "colab": {
     "base_uri": "https://localhost:8080/",
     "height": 1000
    },
    "colab_type": "code",
    "id": "pFGyqb9uR8Kx",
    "outputId": "6b9d7d3e-51a4-4bcf-8ee2-af5df5a2fe9c"
   },
   "outputs": [
    {
     "name": "stdout",
     "output_type": "stream",
     "text": [
      "INFO:tensorflow:Writing example 0 of 2928\n"
     ]
    },
    {
     "name": "stderr",
     "output_type": "stream",
     "text": [
      "INFO:tensorflow:Writing example 0 of 2928\n"
     ]
    },
    {
     "name": "stdout",
     "output_type": "stream",
     "text": [
      "INFO:tensorflow:*** Example ***\n"
     ]
    },
    {
     "name": "stderr",
     "output_type": "stream",
     "text": [
      "INFO:tensorflow:*** Example ***\n"
     ]
    },
    {
     "name": "stdout",
     "output_type": "stream",
     "text": [
      "INFO:tensorflow:guid: \n"
     ]
    },
    {
     "name": "stderr",
     "output_type": "stream",
     "text": [
      "INFO:tensorflow:guid: \n"
     ]
    },
    {
     "name": "stdout",
     "output_type": "stream",
     "text": [
      "INFO:tensorflow:tokens: [CLS] you ' re my early front ##runner for best airline ! # oscar ##s ##20 ##16 [SEP]\n"
     ]
    },
    {
     "name": "stderr",
     "output_type": "stream",
     "text": [
      "INFO:tensorflow:tokens: [CLS] you ' re my early front ##runner for best airline ! # oscar ##s ##20 ##16 [SEP]\n"
     ]
    },
    {
     "name": "stdout",
     "output_type": "stream",
     "text": [
      "INFO:tensorflow:input_ids: 101 2017 1005 2128 2026 2220 2392 23195 2005 2190 8582 999 1001 7436 2015 11387 16048 102 0 0 0 0 0 0 0 0 0 0 0 0 0 0 0 0 0 0 0 0 0 0 0 0 0 0 0 0 0 0 0 0 0 0 0 0 0 0 0 0 0 0 0 0 0 0 0 0 0 0 0 0 0 0 0 0 0 0 0 0 0 0 0 0 0 0 0 0 0 0 0 0 0 0 0 0 0 0 0 0 0 0 0 0 0 0 0 0 0 0 0 0 0 0 0 0 0 0 0 0 0 0 0 0 0 0 0 0 0 0\n"
     ]
    },
    {
     "name": "stderr",
     "output_type": "stream",
     "text": [
      "INFO:tensorflow:input_ids: 101 2017 1005 2128 2026 2220 2392 23195 2005 2190 8582 999 1001 7436 2015 11387 16048 102 0 0 0 0 0 0 0 0 0 0 0 0 0 0 0 0 0 0 0 0 0 0 0 0 0 0 0 0 0 0 0 0 0 0 0 0 0 0 0 0 0 0 0 0 0 0 0 0 0 0 0 0 0 0 0 0 0 0 0 0 0 0 0 0 0 0 0 0 0 0 0 0 0 0 0 0 0 0 0 0 0 0 0 0 0 0 0 0 0 0 0 0 0 0 0 0 0 0 0 0 0 0 0 0 0 0 0 0 0 0\n"
     ]
    },
    {
     "name": "stdout",
     "output_type": "stream",
     "text": [
      "INFO:tensorflow:input_mask: 1 1 1 1 1 1 1 1 1 1 1 1 1 1 1 1 1 1 0 0 0 0 0 0 0 0 0 0 0 0 0 0 0 0 0 0 0 0 0 0 0 0 0 0 0 0 0 0 0 0 0 0 0 0 0 0 0 0 0 0 0 0 0 0 0 0 0 0 0 0 0 0 0 0 0 0 0 0 0 0 0 0 0 0 0 0 0 0 0 0 0 0 0 0 0 0 0 0 0 0 0 0 0 0 0 0 0 0 0 0 0 0 0 0 0 0 0 0 0 0 0 0 0 0 0 0 0 0\n"
     ]
    },
    {
     "name": "stderr",
     "output_type": "stream",
     "text": [
      "INFO:tensorflow:input_mask: 1 1 1 1 1 1 1 1 1 1 1 1 1 1 1 1 1 1 0 0 0 0 0 0 0 0 0 0 0 0 0 0 0 0 0 0 0 0 0 0 0 0 0 0 0 0 0 0 0 0 0 0 0 0 0 0 0 0 0 0 0 0 0 0 0 0 0 0 0 0 0 0 0 0 0 0 0 0 0 0 0 0 0 0 0 0 0 0 0 0 0 0 0 0 0 0 0 0 0 0 0 0 0 0 0 0 0 0 0 0 0 0 0 0 0 0 0 0 0 0 0 0 0 0 0 0 0 0\n"
     ]
    },
    {
     "name": "stdout",
     "output_type": "stream",
     "text": [
      "INFO:tensorflow:segment_ids: 0 0 0 0 0 0 0 0 0 0 0 0 0 0 0 0 0 0 0 0 0 0 0 0 0 0 0 0 0 0 0 0 0 0 0 0 0 0 0 0 0 0 0 0 0 0 0 0 0 0 0 0 0 0 0 0 0 0 0 0 0 0 0 0 0 0 0 0 0 0 0 0 0 0 0 0 0 0 0 0 0 0 0 0 0 0 0 0 0 0 0 0 0 0 0 0 0 0 0 0 0 0 0 0 0 0 0 0 0 0 0 0 0 0 0 0 0 0 0 0 0 0 0 0 0 0 0 0\n"
     ]
    },
    {
     "name": "stderr",
     "output_type": "stream",
     "text": [
      "INFO:tensorflow:segment_ids: 0 0 0 0 0 0 0 0 0 0 0 0 0 0 0 0 0 0 0 0 0 0 0 0 0 0 0 0 0 0 0 0 0 0 0 0 0 0 0 0 0 0 0 0 0 0 0 0 0 0 0 0 0 0 0 0 0 0 0 0 0 0 0 0 0 0 0 0 0 0 0 0 0 0 0 0 0 0 0 0 0 0 0 0 0 0 0 0 0 0 0 0 0 0 0 0 0 0 0 0 0 0 0 0 0 0 0 0 0 0 0 0 0 0 0 0 0 0 0 0 0 0 0 0 0 0 0 0\n"
     ]
    },
    {
     "name": "stdout",
     "output_type": "stream",
     "text": [
      "INFO:tensorflow:label: 0 (id = 0)\n"
     ]
    },
    {
     "name": "stderr",
     "output_type": "stream",
     "text": [
      "INFO:tensorflow:label: 0 (id = 0)\n"
     ]
    },
    {
     "name": "stdout",
     "output_type": "stream",
     "text": [
      "INFO:tensorflow:*** Example ***\n"
     ]
    },
    {
     "name": "stderr",
     "output_type": "stream",
     "text": [
      "INFO:tensorflow:*** Example ***\n"
     ]
    },
    {
     "name": "stdout",
     "output_type": "stream",
     "text": [
      "INFO:tensorflow:guid: \n"
     ]
    },
    {
     "name": "stderr",
     "output_type": "stream",
     "text": [
      "INFO:tensorflow:guid: \n"
     ]
    },
    {
     "name": "stdout",
     "output_type": "stream",
     "text": [
      "INFO:tensorflow:tokens: [CLS] how is it that my fl ##t to e ##wr was cancelled flight ##led yet fl ##ts to nyc from usa ##ir ##ways are still flying ? [SEP]\n"
     ]
    },
    {
     "name": "stderr",
     "output_type": "stream",
     "text": [
      "INFO:tensorflow:tokens: [CLS] how is it that my fl ##t to e ##wr was cancelled flight ##led yet fl ##ts to nyc from usa ##ir ##ways are still flying ? [SEP]\n"
     ]
    },
    {
     "name": "stdout",
     "output_type": "stream",
     "text": [
      "INFO:tensorflow:input_ids: 101 2129 2003 2009 2008 2026 13109 2102 2000 1041 13088 2001 8014 3462 3709 2664 13109 3215 2000 16392 2013 3915 4313 14035 2024 2145 3909 1029 102 0 0 0 0 0 0 0 0 0 0 0 0 0 0 0 0 0 0 0 0 0 0 0 0 0 0 0 0 0 0 0 0 0 0 0 0 0 0 0 0 0 0 0 0 0 0 0 0 0 0 0 0 0 0 0 0 0 0 0 0 0 0 0 0 0 0 0 0 0 0 0 0 0 0 0 0 0 0 0 0 0 0 0 0 0 0 0 0 0 0 0 0 0 0 0 0 0 0 0\n"
     ]
    },
    {
     "name": "stderr",
     "output_type": "stream",
     "text": [
      "INFO:tensorflow:input_ids: 101 2129 2003 2009 2008 2026 13109 2102 2000 1041 13088 2001 8014 3462 3709 2664 13109 3215 2000 16392 2013 3915 4313 14035 2024 2145 3909 1029 102 0 0 0 0 0 0 0 0 0 0 0 0 0 0 0 0 0 0 0 0 0 0 0 0 0 0 0 0 0 0 0 0 0 0 0 0 0 0 0 0 0 0 0 0 0 0 0 0 0 0 0 0 0 0 0 0 0 0 0 0 0 0 0 0 0 0 0 0 0 0 0 0 0 0 0 0 0 0 0 0 0 0 0 0 0 0 0 0 0 0 0 0 0 0 0 0 0 0 0\n"
     ]
    },
    {
     "name": "stdout",
     "output_type": "stream",
     "text": [
      "INFO:tensorflow:input_mask: 1 1 1 1 1 1 1 1 1 1 1 1 1 1 1 1 1 1 1 1 1 1 1 1 1 1 1 1 1 0 0 0 0 0 0 0 0 0 0 0 0 0 0 0 0 0 0 0 0 0 0 0 0 0 0 0 0 0 0 0 0 0 0 0 0 0 0 0 0 0 0 0 0 0 0 0 0 0 0 0 0 0 0 0 0 0 0 0 0 0 0 0 0 0 0 0 0 0 0 0 0 0 0 0 0 0 0 0 0 0 0 0 0 0 0 0 0 0 0 0 0 0 0 0 0 0 0 0\n"
     ]
    },
    {
     "name": "stderr",
     "output_type": "stream",
     "text": [
      "INFO:tensorflow:input_mask: 1 1 1 1 1 1 1 1 1 1 1 1 1 1 1 1 1 1 1 1 1 1 1 1 1 1 1 1 1 0 0 0 0 0 0 0 0 0 0 0 0 0 0 0 0 0 0 0 0 0 0 0 0 0 0 0 0 0 0 0 0 0 0 0 0 0 0 0 0 0 0 0 0 0 0 0 0 0 0 0 0 0 0 0 0 0 0 0 0 0 0 0 0 0 0 0 0 0 0 0 0 0 0 0 0 0 0 0 0 0 0 0 0 0 0 0 0 0 0 0 0 0 0 0 0 0 0 0\n"
     ]
    },
    {
     "name": "stdout",
     "output_type": "stream",
     "text": [
      "INFO:tensorflow:segment_ids: 0 0 0 0 0 0 0 0 0 0 0 0 0 0 0 0 0 0 0 0 0 0 0 0 0 0 0 0 0 0 0 0 0 0 0 0 0 0 0 0 0 0 0 0 0 0 0 0 0 0 0 0 0 0 0 0 0 0 0 0 0 0 0 0 0 0 0 0 0 0 0 0 0 0 0 0 0 0 0 0 0 0 0 0 0 0 0 0 0 0 0 0 0 0 0 0 0 0 0 0 0 0 0 0 0 0 0 0 0 0 0 0 0 0 0 0 0 0 0 0 0 0 0 0 0 0 0 0\n"
     ]
    },
    {
     "name": "stderr",
     "output_type": "stream",
     "text": [
      "INFO:tensorflow:segment_ids: 0 0 0 0 0 0 0 0 0 0 0 0 0 0 0 0 0 0 0 0 0 0 0 0 0 0 0 0 0 0 0 0 0 0 0 0 0 0 0 0 0 0 0 0 0 0 0 0 0 0 0 0 0 0 0 0 0 0 0 0 0 0 0 0 0 0 0 0 0 0 0 0 0 0 0 0 0 0 0 0 0 0 0 0 0 0 0 0 0 0 0 0 0 0 0 0 0 0 0 0 0 0 0 0 0 0 0 0 0 0 0 0 0 0 0 0 0 0 0 0 0 0 0 0 0 0 0 0\n"
     ]
    },
    {
     "name": "stdout",
     "output_type": "stream",
     "text": [
      "INFO:tensorflow:label: 0 (id = 0)\n"
     ]
    },
    {
     "name": "stderr",
     "output_type": "stream",
     "text": [
      "INFO:tensorflow:label: 0 (id = 0)\n"
     ]
    },
    {
     "name": "stdout",
     "output_type": "stream",
     "text": [
      "INFO:tensorflow:*** Example ***\n"
     ]
    },
    {
     "name": "stderr",
     "output_type": "stream",
     "text": [
      "INFO:tensorflow:*** Example ***\n"
     ]
    },
    {
     "name": "stdout",
     "output_type": "stream",
     "text": [
      "INFO:tensorflow:guid: \n"
     ]
    },
    {
     "name": "stderr",
     "output_type": "stream",
     "text": [
      "INFO:tensorflow:guid: \n"
     ]
    },
    {
     "name": "stdout",
     "output_type": "stream",
     "text": [
      "INFO:tensorflow:tokens: [CLS] what is going on with your b ##dl to dc ##a flights yesterday and today ? ! why is every single one getting delayed ? [SEP]\n"
     ]
    },
    {
     "name": "stderr",
     "output_type": "stream",
     "text": [
      "INFO:tensorflow:tokens: [CLS] what is going on with your b ##dl to dc ##a flights yesterday and today ? ! why is every single one getting delayed ? [SEP]\n"
     ]
    },
    {
     "name": "stdout",
     "output_type": "stream",
     "text": [
      "INFO:tensorflow:input_ids: 101 2054 2003 2183 2006 2007 2115 1038 19422 2000 5887 2050 7599 7483 1998 2651 1029 999 2339 2003 2296 2309 2028 2893 8394 1029 102 0 0 0 0 0 0 0 0 0 0 0 0 0 0 0 0 0 0 0 0 0 0 0 0 0 0 0 0 0 0 0 0 0 0 0 0 0 0 0 0 0 0 0 0 0 0 0 0 0 0 0 0 0 0 0 0 0 0 0 0 0 0 0 0 0 0 0 0 0 0 0 0 0 0 0 0 0 0 0 0 0 0 0 0 0 0 0 0 0 0 0 0 0 0 0 0 0 0 0 0 0\n"
     ]
    },
    {
     "name": "stderr",
     "output_type": "stream",
     "text": [
      "INFO:tensorflow:input_ids: 101 2054 2003 2183 2006 2007 2115 1038 19422 2000 5887 2050 7599 7483 1998 2651 1029 999 2339 2003 2296 2309 2028 2893 8394 1029 102 0 0 0 0 0 0 0 0 0 0 0 0 0 0 0 0 0 0 0 0 0 0 0 0 0 0 0 0 0 0 0 0 0 0 0 0 0 0 0 0 0 0 0 0 0 0 0 0 0 0 0 0 0 0 0 0 0 0 0 0 0 0 0 0 0 0 0 0 0 0 0 0 0 0 0 0 0 0 0 0 0 0 0 0 0 0 0 0 0 0 0 0 0 0 0 0 0 0 0 0 0\n"
     ]
    },
    {
     "name": "stdout",
     "output_type": "stream",
     "text": [
      "INFO:tensorflow:input_mask: 1 1 1 1 1 1 1 1 1 1 1 1 1 1 1 1 1 1 1 1 1 1 1 1 1 1 1 0 0 0 0 0 0 0 0 0 0 0 0 0 0 0 0 0 0 0 0 0 0 0 0 0 0 0 0 0 0 0 0 0 0 0 0 0 0 0 0 0 0 0 0 0 0 0 0 0 0 0 0 0 0 0 0 0 0 0 0 0 0 0 0 0 0 0 0 0 0 0 0 0 0 0 0 0 0 0 0 0 0 0 0 0 0 0 0 0 0 0 0 0 0 0 0 0 0 0 0 0\n"
     ]
    },
    {
     "name": "stderr",
     "output_type": "stream",
     "text": [
      "INFO:tensorflow:input_mask: 1 1 1 1 1 1 1 1 1 1 1 1 1 1 1 1 1 1 1 1 1 1 1 1 1 1 1 0 0 0 0 0 0 0 0 0 0 0 0 0 0 0 0 0 0 0 0 0 0 0 0 0 0 0 0 0 0 0 0 0 0 0 0 0 0 0 0 0 0 0 0 0 0 0 0 0 0 0 0 0 0 0 0 0 0 0 0 0 0 0 0 0 0 0 0 0 0 0 0 0 0 0 0 0 0 0 0 0 0 0 0 0 0 0 0 0 0 0 0 0 0 0 0 0 0 0 0 0\n"
     ]
    },
    {
     "name": "stdout",
     "output_type": "stream",
     "text": [
      "INFO:tensorflow:segment_ids: 0 0 0 0 0 0 0 0 0 0 0 0 0 0 0 0 0 0 0 0 0 0 0 0 0 0 0 0 0 0 0 0 0 0 0 0 0 0 0 0 0 0 0 0 0 0 0 0 0 0 0 0 0 0 0 0 0 0 0 0 0 0 0 0 0 0 0 0 0 0 0 0 0 0 0 0 0 0 0 0 0 0 0 0 0 0 0 0 0 0 0 0 0 0 0 0 0 0 0 0 0 0 0 0 0 0 0 0 0 0 0 0 0 0 0 0 0 0 0 0 0 0 0 0 0 0 0 0\n"
     ]
    },
    {
     "name": "stderr",
     "output_type": "stream",
     "text": [
      "INFO:tensorflow:segment_ids: 0 0 0 0 0 0 0 0 0 0 0 0 0 0 0 0 0 0 0 0 0 0 0 0 0 0 0 0 0 0 0 0 0 0 0 0 0 0 0 0 0 0 0 0 0 0 0 0 0 0 0 0 0 0 0 0 0 0 0 0 0 0 0 0 0 0 0 0 0 0 0 0 0 0 0 0 0 0 0 0 0 0 0 0 0 0 0 0 0 0 0 0 0 0 0 0 0 0 0 0 0 0 0 0 0 0 0 0 0 0 0 0 0 0 0 0 0 0 0 0 0 0 0 0 0 0 0 0\n"
     ]
    },
    {
     "name": "stdout",
     "output_type": "stream",
     "text": [
      "INFO:tensorflow:label: 0 (id = 0)\n"
     ]
    },
    {
     "name": "stderr",
     "output_type": "stream",
     "text": [
      "INFO:tensorflow:label: 0 (id = 0)\n"
     ]
    },
    {
     "name": "stdout",
     "output_type": "stream",
     "text": [
      "INFO:tensorflow:*** Example ***\n"
     ]
    },
    {
     "name": "stderr",
     "output_type": "stream",
     "text": [
      "INFO:tensorflow:*** Example ***\n"
     ]
    },
    {
     "name": "stdout",
     "output_type": "stream",
     "text": [
      "INFO:tensorflow:guid: \n"
     ]
    },
    {
     "name": "stderr",
     "output_type": "stream",
     "text": [
      "INFO:tensorflow:guid: \n"
     ]
    },
    {
     "name": "stdout",
     "output_type": "stream",
     "text": [
      "INFO:tensorflow:tokens: [CLS] do they have to depart from washington , d . c . ? ? [SEP]\n"
     ]
    },
    {
     "name": "stderr",
     "output_type": "stream",
     "text": [
      "INFO:tensorflow:tokens: [CLS] do they have to depart from washington , d . c . ? ? [SEP]\n"
     ]
    },
    {
     "name": "stdout",
     "output_type": "stream",
     "text": [
      "INFO:tensorflow:input_ids: 101 2079 2027 2031 2000 18280 2013 2899 1010 1040 1012 1039 1012 1029 1029 102 0 0 0 0 0 0 0 0 0 0 0 0 0 0 0 0 0 0 0 0 0 0 0 0 0 0 0 0 0 0 0 0 0 0 0 0 0 0 0 0 0 0 0 0 0 0 0 0 0 0 0 0 0 0 0 0 0 0 0 0 0 0 0 0 0 0 0 0 0 0 0 0 0 0 0 0 0 0 0 0 0 0 0 0 0 0 0 0 0 0 0 0 0 0 0 0 0 0 0 0 0 0 0 0 0 0 0 0 0 0 0 0\n"
     ]
    },
    {
     "name": "stderr",
     "output_type": "stream",
     "text": [
      "INFO:tensorflow:input_ids: 101 2079 2027 2031 2000 18280 2013 2899 1010 1040 1012 1039 1012 1029 1029 102 0 0 0 0 0 0 0 0 0 0 0 0 0 0 0 0 0 0 0 0 0 0 0 0 0 0 0 0 0 0 0 0 0 0 0 0 0 0 0 0 0 0 0 0 0 0 0 0 0 0 0 0 0 0 0 0 0 0 0 0 0 0 0 0 0 0 0 0 0 0 0 0 0 0 0 0 0 0 0 0 0 0 0 0 0 0 0 0 0 0 0 0 0 0 0 0 0 0 0 0 0 0 0 0 0 0 0 0 0 0 0 0\n"
     ]
    },
    {
     "name": "stdout",
     "output_type": "stream",
     "text": [
      "INFO:tensorflow:input_mask: 1 1 1 1 1 1 1 1 1 1 1 1 1 1 1 1 0 0 0 0 0 0 0 0 0 0 0 0 0 0 0 0 0 0 0 0 0 0 0 0 0 0 0 0 0 0 0 0 0 0 0 0 0 0 0 0 0 0 0 0 0 0 0 0 0 0 0 0 0 0 0 0 0 0 0 0 0 0 0 0 0 0 0 0 0 0 0 0 0 0 0 0 0 0 0 0 0 0 0 0 0 0 0 0 0 0 0 0 0 0 0 0 0 0 0 0 0 0 0 0 0 0 0 0 0 0 0 0\n"
     ]
    },
    {
     "name": "stderr",
     "output_type": "stream",
     "text": [
      "INFO:tensorflow:input_mask: 1 1 1 1 1 1 1 1 1 1 1 1 1 1 1 1 0 0 0 0 0 0 0 0 0 0 0 0 0 0 0 0 0 0 0 0 0 0 0 0 0 0 0 0 0 0 0 0 0 0 0 0 0 0 0 0 0 0 0 0 0 0 0 0 0 0 0 0 0 0 0 0 0 0 0 0 0 0 0 0 0 0 0 0 0 0 0 0 0 0 0 0 0 0 0 0 0 0 0 0 0 0 0 0 0 0 0 0 0 0 0 0 0 0 0 0 0 0 0 0 0 0 0 0 0 0 0 0\n"
     ]
    },
    {
     "name": "stdout",
     "output_type": "stream",
     "text": [
      "INFO:tensorflow:segment_ids: 0 0 0 0 0 0 0 0 0 0 0 0 0 0 0 0 0 0 0 0 0 0 0 0 0 0 0 0 0 0 0 0 0 0 0 0 0 0 0 0 0 0 0 0 0 0 0 0 0 0 0 0 0 0 0 0 0 0 0 0 0 0 0 0 0 0 0 0 0 0 0 0 0 0 0 0 0 0 0 0 0 0 0 0 0 0 0 0 0 0 0 0 0 0 0 0 0 0 0 0 0 0 0 0 0 0 0 0 0 0 0 0 0 0 0 0 0 0 0 0 0 0 0 0 0 0 0 0\n"
     ]
    },
    {
     "name": "stderr",
     "output_type": "stream",
     "text": [
      "INFO:tensorflow:segment_ids: 0 0 0 0 0 0 0 0 0 0 0 0 0 0 0 0 0 0 0 0 0 0 0 0 0 0 0 0 0 0 0 0 0 0 0 0 0 0 0 0 0 0 0 0 0 0 0 0 0 0 0 0 0 0 0 0 0 0 0 0 0 0 0 0 0 0 0 0 0 0 0 0 0 0 0 0 0 0 0 0 0 0 0 0 0 0 0 0 0 0 0 0 0 0 0 0 0 0 0 0 0 0 0 0 0 0 0 0 0 0 0 0 0 0 0 0 0 0 0 0 0 0 0 0 0 0 0 0\n"
     ]
    },
    {
     "name": "stdout",
     "output_type": "stream",
     "text": [
      "INFO:tensorflow:label: 0 (id = 0)\n"
     ]
    },
    {
     "name": "stderr",
     "output_type": "stream",
     "text": [
      "INFO:tensorflow:label: 0 (id = 0)\n"
     ]
    },
    {
     "name": "stdout",
     "output_type": "stream",
     "text": [
      "INFO:tensorflow:*** Example ***\n"
     ]
    },
    {
     "name": "stderr",
     "output_type": "stream",
     "text": [
      "INFO:tensorflow:*** Example ***\n"
     ]
    },
    {
     "name": "stdout",
     "output_type": "stream",
     "text": [
      "INFO:tensorflow:guid: \n"
     ]
    },
    {
     "name": "stderr",
     "output_type": "stream",
     "text": [
      "INFO:tensorflow:guid: \n"
     ]
    },
    {
     "name": "stdout",
     "output_type": "stream",
     "text": [
      "INFO:tensorflow:tokens: [CLS] i can probably find some of them . are the ticket # s on there ? [SEP]\n"
     ]
    },
    {
     "name": "stderr",
     "output_type": "stream",
     "text": [
      "INFO:tensorflow:tokens: [CLS] i can probably find some of them . are the ticket # s on there ? [SEP]\n"
     ]
    },
    {
     "name": "stdout",
     "output_type": "stream",
     "text": [
      "INFO:tensorflow:input_ids: 101 1045 2064 2763 2424 2070 1997 2068 1012 2024 1996 7281 1001 1055 2006 2045 1029 102 0 0 0 0 0 0 0 0 0 0 0 0 0 0 0 0 0 0 0 0 0 0 0 0 0 0 0 0 0 0 0 0 0 0 0 0 0 0 0 0 0 0 0 0 0 0 0 0 0 0 0 0 0 0 0 0 0 0 0 0 0 0 0 0 0 0 0 0 0 0 0 0 0 0 0 0 0 0 0 0 0 0 0 0 0 0 0 0 0 0 0 0 0 0 0 0 0 0 0 0 0 0 0 0 0 0 0 0 0 0\n"
     ]
    },
    {
     "name": "stderr",
     "output_type": "stream",
     "text": [
      "INFO:tensorflow:input_ids: 101 1045 2064 2763 2424 2070 1997 2068 1012 2024 1996 7281 1001 1055 2006 2045 1029 102 0 0 0 0 0 0 0 0 0 0 0 0 0 0 0 0 0 0 0 0 0 0 0 0 0 0 0 0 0 0 0 0 0 0 0 0 0 0 0 0 0 0 0 0 0 0 0 0 0 0 0 0 0 0 0 0 0 0 0 0 0 0 0 0 0 0 0 0 0 0 0 0 0 0 0 0 0 0 0 0 0 0 0 0 0 0 0 0 0 0 0 0 0 0 0 0 0 0 0 0 0 0 0 0 0 0 0 0 0 0\n"
     ]
    },
    {
     "name": "stdout",
     "output_type": "stream",
     "text": [
      "INFO:tensorflow:input_mask: 1 1 1 1 1 1 1 1 1 1 1 1 1 1 1 1 1 1 0 0 0 0 0 0 0 0 0 0 0 0 0 0 0 0 0 0 0 0 0 0 0 0 0 0 0 0 0 0 0 0 0 0 0 0 0 0 0 0 0 0 0 0 0 0 0 0 0 0 0 0 0 0 0 0 0 0 0 0 0 0 0 0 0 0 0 0 0 0 0 0 0 0 0 0 0 0 0 0 0 0 0 0 0 0 0 0 0 0 0 0 0 0 0 0 0 0 0 0 0 0 0 0 0 0 0 0 0 0\n"
     ]
    },
    {
     "name": "stderr",
     "output_type": "stream",
     "text": [
      "INFO:tensorflow:input_mask: 1 1 1 1 1 1 1 1 1 1 1 1 1 1 1 1 1 1 0 0 0 0 0 0 0 0 0 0 0 0 0 0 0 0 0 0 0 0 0 0 0 0 0 0 0 0 0 0 0 0 0 0 0 0 0 0 0 0 0 0 0 0 0 0 0 0 0 0 0 0 0 0 0 0 0 0 0 0 0 0 0 0 0 0 0 0 0 0 0 0 0 0 0 0 0 0 0 0 0 0 0 0 0 0 0 0 0 0 0 0 0 0 0 0 0 0 0 0 0 0 0 0 0 0 0 0 0 0\n"
     ]
    },
    {
     "name": "stdout",
     "output_type": "stream",
     "text": [
      "INFO:tensorflow:segment_ids: 0 0 0 0 0 0 0 0 0 0 0 0 0 0 0 0 0 0 0 0 0 0 0 0 0 0 0 0 0 0 0 0 0 0 0 0 0 0 0 0 0 0 0 0 0 0 0 0 0 0 0 0 0 0 0 0 0 0 0 0 0 0 0 0 0 0 0 0 0 0 0 0 0 0 0 0 0 0 0 0 0 0 0 0 0 0 0 0 0 0 0 0 0 0 0 0 0 0 0 0 0 0 0 0 0 0 0 0 0 0 0 0 0 0 0 0 0 0 0 0 0 0 0 0 0 0 0 0\n"
     ]
    },
    {
     "name": "stderr",
     "output_type": "stream",
     "text": [
      "INFO:tensorflow:segment_ids: 0 0 0 0 0 0 0 0 0 0 0 0 0 0 0 0 0 0 0 0 0 0 0 0 0 0 0 0 0 0 0 0 0 0 0 0 0 0 0 0 0 0 0 0 0 0 0 0 0 0 0 0 0 0 0 0 0 0 0 0 0 0 0 0 0 0 0 0 0 0 0 0 0 0 0 0 0 0 0 0 0 0 0 0 0 0 0 0 0 0 0 0 0 0 0 0 0 0 0 0 0 0 0 0 0 0 0 0 0 0 0 0 0 0 0 0 0 0 0 0 0 0 0 0 0 0 0 0\n"
     ]
    },
    {
     "name": "stdout",
     "output_type": "stream",
     "text": [
      "INFO:tensorflow:label: 0 (id = 0)\n"
     ]
    },
    {
     "name": "stderr",
     "output_type": "stream",
     "text": [
      "INFO:tensorflow:label: 0 (id = 0)\n"
     ]
    },
    {
     "name": "stdout",
     "output_type": "stream",
     "text": [
      "INFO:tensorflow:Calling model_fn.\n"
     ]
    },
    {
     "name": "stderr",
     "output_type": "stream",
     "text": [
      "INFO:tensorflow:Calling model_fn.\n"
     ]
    },
    {
     "name": "stdout",
     "output_type": "stream",
     "text": [
      "INFO:tensorflow:Saver not created because there are no variables in the graph to restore\n"
     ]
    },
    {
     "name": "stderr",
     "output_type": "stream",
     "text": [
      "INFO:tensorflow:Saver not created because there are no variables in the graph to restore\n"
     ]
    },
    {
     "name": "stdout",
     "output_type": "stream",
     "text": [
      "INFO:tensorflow:Done calling model_fn.\n"
     ]
    },
    {
     "name": "stderr",
     "output_type": "stream",
     "text": [
      "INFO:tensorflow:Done calling model_fn.\n"
     ]
    },
    {
     "name": "stdout",
     "output_type": "stream",
     "text": [
      "INFO:tensorflow:Graph was finalized.\n"
     ]
    },
    {
     "name": "stderr",
     "output_type": "stream",
     "text": [
      "INFO:tensorflow:Graph was finalized.\n"
     ]
    },
    {
     "name": "stdout",
     "output_type": "stream",
     "text": [
      "INFO:tensorflow:Restoring parameters from trainedModel/model.ckpt-1098\n"
     ]
    },
    {
     "name": "stderr",
     "output_type": "stream",
     "text": [
      "INFO:tensorflow:Restoring parameters from trainedModel/model.ckpt-1098\n"
     ]
    },
    {
     "name": "stdout",
     "output_type": "stream",
     "text": [
      "INFO:tensorflow:Running local_init_op.\n"
     ]
    },
    {
     "name": "stderr",
     "output_type": "stream",
     "text": [
      "INFO:tensorflow:Running local_init_op.\n"
     ]
    },
    {
     "name": "stdout",
     "output_type": "stream",
     "text": [
      "INFO:tensorflow:Done running local_init_op.\n"
     ]
    },
    {
     "name": "stderr",
     "output_type": "stream",
     "text": [
      "INFO:tensorflow:Done running local_init_op.\n"
     ]
    }
   ],
   "source": [
    "predictions = getPrediction(valid.text)"
   ]
  },
  {
   "cell_type": "code",
   "execution_count": 86,
   "metadata": {
    "colab": {
     "base_uri": "https://localhost:8080/",
     "height": 1000
    },
    "colab_type": "code",
    "id": "rLp6tSquR-He",
    "outputId": "4e846fa5-89c2-4caf-8632-cbde0177a333"
   },
   "outputs": [
    {
     "data": {
      "text/plain": [
       "[(\"you're my early frontrunner for best airline! #oscars2016\",\n",
       "  array([-6.1678772e+00, -5.5120792e+00, -6.1522624e-03], dtype=float32),\n",
       "  'positive'),\n",
       " ('how is it that my flt to EWR was Cancelled Flightled yet flts to NYC from USAirways are still flying?',\n",
       "  array([-5.2706334e-03, -5.3021784e+00, -8.1947317e+00], dtype=float32),\n",
       "  'negative'),\n",
       " ('what is going on with your BDL to DCA flights yesterday and today?! Why is every single one getting delayed?',\n",
       "  array([-2.1674968e-03, -6.3692350e+00, -7.7025671e+00], dtype=float32),\n",
       "  'negative'),\n",
       " ('do they have to depart from Washington, D.C.??',\n",
       "  array([-5.2253523 , -0.00984928, -5.421037  ], dtype=float32),\n",
       "  'neutral'),\n",
       " ('I can probably find some of them. Are the ticket #s on there?',\n",
       "  array([-5.5135646 , -0.01075708, -5.0104737 ], dtype=float32),\n",
       "  'neutral'),\n",
       " ('still waiting to hear back. My wallet was stolen from one of your planes so would appreciate a resolution here',\n",
       "  array([-3.4612054e-03, -5.7958913e+00, -7.7868867e+00], dtype=float32),\n",
       "  'negative'),\n",
       " (\"Yes my flight was rebooked. I'm just losing trust in you if I want to get anywhere on time.\",\n",
       "  array([-3.7498414e-03, -5.7464600e+00, -7.5076761e+00], dtype=float32),\n",
       "  'negative'),\n",
       " ('Thank you ! What about Paris ? Could we arrange something from there ?',\n",
       "  array([-6.0829926, -0.0994541, -2.3817675], dtype=float32),\n",
       "  'neutral'),\n",
       " ('not 100% sure, however my ticket included one checked bag, therefore this charge was extra and completely unanticipated.',\n",
       "  array([-2.4989587e-03, -6.1189299e+00, -8.1284428e+00], dtype=float32),\n",
       "  'negative'),\n",
       " ('great crew for flight 504 PHX to YVR tonight! Friendly, efficient. Awesome job.',\n",
       "  array([-6.2076149e+00, -5.8738427e+00, -4.8377132e-03], dtype=float32),\n",
       "  'positive'),\n",
       " (\"I've been on hold to change a date on a ticket for over 3 hours. Can someone please assist me? Unacceptable.\",\n",
       "  array([-1.9746583e-03, -6.4730763e+00, -7.7560840e+00], dtype=float32),\n",
       "  'negative'),\n",
       " (\"I DM'd you\",\n",
       "  array([-0.5675612 , -0.85543853, -4.8286934 ], dtype=float32),\n",
       "  'negative'),\n",
       " ('Already signed up!  Thanks!  Looking forward to trying the Southwest experience.',\n",
       "  array([-6.780161  , -4.564668  , -0.01161668], dtype=float32),\n",
       "  'positive'),\n",
       " ('it was 3472',\n",
       "  array([-1.1761563 , -0.37634575, -5.264331  ], dtype=float32),\n",
       "  'neutral'),\n",
       " (\"Oh well. I'll get to Cancun eventually.\",\n",
       "  array([-5.720617  , -0.8955018 , -0.53048474], dtype=float32),\n",
       "  'positive'),\n",
       " (\"flight 837 passengers stuck on plane in Philly. Where is the gangway?  We can't hear the pilot\",\n",
       "  array([-3.5120493e-03, -5.7568650e+00, -7.9724250e+00], dtype=float32),\n",
       "  'negative'),\n",
       " ('No, had already waited an hour for it and wanted to get home.',\n",
       "  array([-0.01684196, -4.1408362 , -7.141734  ], dtype=float32),\n",
       "  'negative'),\n",
       " ('thanks for the quick response. Should I call daily it wait the 5 days.',\n",
       "  array([-0.313023 , -3.9495363, -1.3882834], dtype=float32),\n",
       "  'negative'),\n",
       " ('now we dont have enough money for parking in your garage this is your fault and im not paying for what should be 10mins into 3hrs',\n",
       "  array([-1.6246942e-03, -6.8061137e+00, -7.5686355e+00], dtype=float32),\n",
       "  'negative'),\n",
       " ('266 at LGB in Sunny So Cal http://t.co/V015PK7DSi',\n",
       "  array([-4.2507086 , -0.02136058, -4.979155  ], dtype=float32),\n",
       "  'neutral'),\n",
       " (\"@yvonneokaka When do I get my personal response and apology for your crew's having forgotten to load baggage onto my flight?\",\n",
       "  array([-2.3700502e-03, -6.2700863e+00, -7.6517191e+00], dtype=float32),\n",
       "  'negative'),\n",
       " (\"No, he didn't have more info. I was more infuriated by the way previous rep treated me. how she can possibly work as a JetBlue rep?\",\n",
       "  array([-1.9262347e-03, -6.6068182e+00, -7.4642954e+00], dtype=float32),\n",
       "  'negative'),\n",
       " ('is a money sucking airline with terrible terrible customer service',\n",
       "  array([-1.9972632e-03, -6.6405439e+00, -7.2803512e+00], dtype=float32),\n",
       "  'negative'),\n",
       " ('and btwn gate a8 &amp; a15 I lost a diamond earring #dayjustgotWORSE! Pls have maintenance look for it!! http://t.co/UieSR3GHHO',\n",
       "  array([-0.97106147, -0.4858973 , -5.087385  ], dtype=float32),\n",
       "  'neutral'),\n",
       " (\"#ShoutOut 2 Kristie(sp?) from Gate4 @ PVD today. She's a #RockStar, was a tremendous help in a tough situation. #PromoteThatGirl\",\n",
       "  array([-6.5505857 , -4.9672923 , -0.00842671], dtype=float32),\n",
       "  'positive'),\n",
       " ('My family, friends and colleagues will NEVER  fly USAir again. Bad weather happens. The good airlines seem to communicate better.',\n",
       "  array([-3.1859139e-03, -5.9315314e+00, -7.5493894e+00], dtype=float32),\n",
       "  'negative'),\n",
       " ('we have just landed, thank you anyway. Btw, flight staff on flight 654 were wonderful despite their full day and heavy load.',\n",
       "  array([-3.6279237 , -5.183593  , -0.03270823], dtype=float32),\n",
       "  'positive'),\n",
       " ('@airbusintheus A320 landing @aruba_airport in February of 2014. #avgeek #warmweather https://t.co/Kaej9G0CHd',\n",
       "  array([-6.109476  , -0.02324696, -3.8748634 ], dtype=float32),\n",
       "  'neutral'),\n",
       " ('Ahhhh! Sorry, just followed.',\n",
       "  array([-4.757221 , -0.0543719, -3.116078 ], dtype=float32),\n",
       "  'neutral'),\n",
       " ('the ticket is a poor gesture of goodwill (for missed trip) to a top status flyer - I may not next time (AA91 LHR-ORD 2/16)',\n",
       "  array([-0.00963596, -4.681964  , -8.019614  ], dtype=float32),\n",
       "  'negative'),\n",
       " (\": When You've Got to Get There, We've Got Excuses! #usairwaysfail\",\n",
       "  array([-6.7158225e-03, -5.1603251e+00, -6.9554138e+00], dtype=float32),\n",
       "  'negative'),\n",
       " (\"I'll pass along the advice. You guys rock!!\",\n",
       "  array([-6.9514775 , -5.0099673 , -0.00765758], dtype=float32),\n",
       "  'positive'),\n",
       " ('Just bought tix for ATX - Dallas route - thanks for adding that! Love yr airline &amp; yr website is BEST transactional site EVER',\n",
       "  array([-6.521823  , -5.1845164 , -0.00709881], dtype=float32),\n",
       "  'positive'),\n",
       " (\"haha no need to apologize __ I'll be Flight Booking Problems sooner than Late Flightr. I love JetBlue\",\n",
       "  array([-5.5906687 , -4.8652616 , -0.01150827], dtype=float32),\n",
       "  'positive'),\n",
       " (\"been on hold  for 2 1/2 hrs. Can't get 2 airport 4 flight icy country backroads! Help pls? Can a human answer? #BNA\",\n",
       "  array([-2.8527775e-03, -6.0025644e+00, -7.8850446e+00], dtype=float32),\n",
       "  'negative'),\n",
       " (\"14 hours????  Sorry don't get it. Oh well. Screw the weekend in Az right?  Eat the hotel, no problem.\",\n",
       "  array([-2.5881387e-03, -6.1251698e+00, -7.8297119e+00], dtype=float32),\n",
       "  'negative'),\n",
       " ('No wonder the cabin is filthy. #badservice',\n",
       "  array([-2.7530410e-03, -6.1629229e+00, -7.3491397e+00], dtype=float32),\n",
       "  'negative'),\n",
       " ('do you operate ANY flights without maintenance issues? Flights in/out of DCA Cancelled Flighted, this is getting old. Update fleet pls!',\n",
       "  array([-0.01008911, -4.622212  , -8.480883  ], dtype=float32),\n",
       "  'negative'),\n",
       " (\"or I'm sure her business will go else where for airline travel. Her name is Kathryn Sotelo\",\n",
       "  array([-2.8577356 , -0.06207954, -5.8805013 ], dtype=float32),\n",
       "  'neutral'),\n",
       " ('I relied on US Airways, and that was my mistake. Awful customer experience.',\n",
       "  array([-1.6232660e-03, -6.6968722e+00, -7.8565598e+00], dtype=float32),\n",
       "  'negative'),\n",
       " ('my flight to DFW from LIT on my way to PDX tomorrow was Cancelled Flighted. Can you help me?',\n",
       "  array([-7.2179977e-03, -5.0012703e+00, -7.6786165e+00], dtype=float32),\n",
       "  'negative'),\n",
       " ('very poor customer service. I WILL think again befor Flight Booking Problems another United flight.',\n",
       "  array([-2.4529388e-03, -6.2096338e+00, -7.7286777e+00], dtype=float32),\n",
       "  'negative'),\n",
       " ('Joni did a great job on flight 5653 to LAX. Thanks for a great flight.',\n",
       "  array([-6.0664344 , -5.39979   , -0.00686039], dtype=float32),\n",
       "  'positive'),\n",
       " ('A broken luggage and a mild case of food poisoning from UA5 LHR-IAH. Who can I email about this?',\n",
       "  array([-2.2069877e-03, -6.2463770e+00, -8.2281141e+00], dtype=float32),\n",
       "  'negative'),\n",
       " ('traditionally used sledge hammer - low $ taking share from driving | now scalpel approach through data science  #ANAmarketers',\n",
       "  array([-0.22350875, -1.6158628 , -6.454769  ], dtype=float32),\n",
       "  'negative'),\n",
       " ('thanks for the info and the quick response!',\n",
       "  array([-6.5554590e+00, -5.5257702e+00, -5.4197996e-03], dtype=float32),\n",
       "  'positive'),\n",
       " ('Great Thank you, lets hope so! Could you please notify me if flight 2302 leaves JFK? Thank you again',\n",
       "  array([-7.260732  , -1.6210258 , -0.22114351], dtype=float32),\n",
       "  'positive'),\n",
       " ('So you are inadequate by accident?',\n",
       "  array([-0.01294966, -4.393986  , -7.571714  ], dtype=float32),\n",
       "  'negative'),\n",
       " ('coupled with self-service policies/cost cutting exacerbates the noted issues. (3/3)',\n",
       "  array([-3.8656287e-03, -5.7472010e+00, -7.3136439e+00], dtype=float32),\n",
       "  'negative'),\n",
       " (\"Can't unload flight #3322 because jetway is broken.  #steps #planB? #waiting nearly an hour\",\n",
       "  array([-2.3171261e-03, -6.2561641e+00, -7.8347049e+00], dtype=float32),\n",
       "  'negative'),\n",
       " ('did not get names...Dallas flight and Chicago',\n",
       "  array([-0.00996932, -4.637586  , -8.340052  ], dtype=float32),\n",
       "  'negative'),\n",
       " ('can we get a honest update on departure of flite 454. Been on plane with infant children',\n",
       "  array([-0.04256463, -3.1942616 , -7.301181  ], dtype=float32),\n",
       "  'negative'),\n",
       " (\"lost my luggage 4 days ago on flight VX 112 from LAX to IAD &amp; I'm calling every day, no response.Please give me back my stuff\",\n",
       "  array([-2.507877e-03, -6.202625e+00, -7.640478e+00], dtype=float32),\n",
       "  'negative'),\n",
       " ('ahhhh your silence is golden now.  This tops it all.  Anyone get fired?',\n",
       "  array([-0.00892578, -5.499133  , -5.3400464 ], dtype=float32),\n",
       "  'negative'),\n",
       " ('landed in Boston at 9 last night.  The 15 hours of traveling was rough tho.',\n",
       "  array([-2.2360103e-03, -6.2789855e+00, -7.9342880e+00], dtype=float32),\n",
       "  'negative'),\n",
       " (\"nice touch with using my first name.  Very intimate.  I'll be filing a claim soon to be reimbursed. Have a us airways day!\",\n",
       "  array([-5.269167  , -2.769279  , -0.07026698], dtype=float32),\n",
       "  'positive'),\n",
       " ('also, the mere fact that I have to go online to issue a statement vice calling and talking to some directly is one good example.',\n",
       "  array([-2.7983338e-03, -6.1063066e+00, -7.4776154e+00], dtype=float32),\n",
       "  'negative'),\n",
       " ('I will. Thank you!',\n",
       "  array([-7.034878  , -3.8259864 , -0.02293862], dtype=float32),\n",
       "  'positive'),\n",
       " ('It was US 893. The gate was open after about 50 mins waiting. What a great way to finish an 18 hour delayed arrival!!',\n",
       "  array([-0.03672  , -5.5606446, -3.4355493], dtype=float32),\n",
       "  'negative'),\n",
       " ('flight 705. EWR to FLL',\n",
       "  array([-5.130496  , -0.01159347, -5.1827016 ], dtype=float32),\n",
       "  'neutral'),\n",
       " (\"I've been on hold with customer service for over an hour. Can you help?!\",\n",
       "  array([-2.3805157e-03, -6.2860265e+00, -7.5703154e+00], dtype=float32),\n",
       "  'negative'),\n",
       " ('hey, I missed my outbound flight - can I still use my return ticket?',\n",
       "  array([-2.093467  , -0.13480267, -5.8595033 ], dtype=float32),\n",
       "  'neutral'),\n",
       " (\" Alright I hope. My JetBlue app is showing a change in my seats and online shows an a320.  Don't want any surprises\",\n",
       "  array([-4.844722  , -0.01430836, -5.061392  ], dtype=float32),\n",
       "  'neutral'),\n",
       " ('Is there a way to receive a refund on a trip that was Cancelled Flight online instead of calling? Your phone lines are super busy.',\n",
       "  array([-2.6128697e-03, -6.0511885e+00, -8.2762156e+00], dtype=float32),\n",
       "  'negative'),\n",
       " (\"thanks! Makes sense. Just annoying that it can't be determined better.\",\n",
       "  array([-4.200457  , -3.687378  , -0.04084942], dtype=float32),\n",
       "  'positive'),\n",
       " ('you would rather a while plane get exposed to a nasty contagious virus then work wth me to get my flight changed to a Late Flightr date',\n",
       "  array([-2.7261733e-03, -6.0866799e+00, -7.7073207e+00], dtype=float32),\n",
       "  'negative'),\n",
       " ('3127. Just landed in LIT.',\n",
       "  array([-4.915234  , -0.01729361, -4.6242514 ], dtype=float32),\n",
       "  'neutral'),\n",
       " ('your gate agent re-routed an impossible itinerary and we had to find a new airline to get us home. Super bummed about this',\n",
       "  array([-1.7623859e-03, -6.7611227e+00, -7.4137945e+00], dtype=float32),\n",
       "  'negative'),\n",
       " ('Apparently the pilot had made some announcement about engine trouble and losing fuel too quickly.',\n",
       "  array([-0.05477092, -2.9463632 , -7.1721396 ], dtype=float32),\n",
       "  'negative'),\n",
       " ('a brilliant brisk am in Boston in cue for vx363 http://t.co/rMZNIVGmg6',\n",
       "  array([-7.18608   , -3.1581821 , -0.04422364], dtype=float32),\n",
       "  'positive'),\n",
       " ('stiiiil waiting. Please respond as my flight leaves in 2 1/2 hrs',\n",
       "  array([-1.2538944, -0.3446074, -5.097765 ], dtype=float32),\n",
       "  'neutral'),\n",
       " (\"I need to Cancelled Flight one leg of a flight, but can't seem to do this online. Been on hold on the phone for 10 minutes. Any help?\",\n",
       "  array([-2.3560165e-03, -6.2186317e+00, -7.9258599e+00], dtype=float32),\n",
       "  'negative'),\n",
       " (\"Cancelled Flights my flight, doesn't send an email, text or call. Now I'm stranded in Louisville.\",\n",
       "  array([-3.6683665e-03, -5.7120481e+00, -7.9414563e+00], dtype=float32),\n",
       "  'negative'),\n",
       " ('bag is supposedly here in Boston',\n",
       "  array([-1.6355636 , -0.22232649, -5.402876  ], dtype=float32),\n",
       "  'neutral'),\n",
       " (\"Does customer care have email or a phone rep that I can speak with? We had so many issues they can't be placed in 2000 characters?\",\n",
       "  array([-5.5357493e-03, -5.2401509e+00, -8.4171915e+00], dtype=float32),\n",
       "  'negative'),\n",
       " ('the lounge tells us they have no pillows for my grandma as one of the ladies opens the closet and I see 2 right there. #unitedlies',\n",
       "  array([-0.28239152, -1.4113542 , -6.1153755 ], dtype=float32),\n",
       "  'negative'),\n",
       " ('you are beyond redemption. Jfk. Baggage claim looks like a luggage warehouse',\n",
       "  array([-3.8917533e-03, -6.0655799e+00, -6.4612823e+00], dtype=float32),\n",
       "  'negative'),\n",
       " ('what is your policy on flying after surgery?',\n",
       "  array([-5.415984 , -0.0104832, -5.1187587], dtype=float32),\n",
       "  'neutral'),\n",
       " ('#1758 now going in 40 min waiting for other plane to vacate gate. #findanothergate',\n",
       "  array([-4.4129132e-03, -5.4889503e+00, -8.2134514e+00], dtype=float32),\n",
       "  'negative'),\n",
       " ('that luggage you forgot...#mia.....he just won an oscar________',\n",
       "  array([-0.74877614, -1.251662  , -1.4228508 ], dtype=float32),\n",
       "  'negative'),\n",
       " (\"I'm #MakingLoveOutofNothingAtAll on my #brandloveaffair to #LAX https://t.co/kdHRUF54sW\",\n",
       "  array([-5.231339  , -0.63875055, -0.76206434], dtype=float32),\n",
       "  'neutral'),\n",
       " (\"you should have assigned seating, because now my cousin &amp; I probably can't sit together on our flight tomorrow.. Thanks.\",\n",
       "  array([-0.08654808, -2.948295  , -3.4907029 ], dtype=float32),\n",
       "  'negative'),\n",
       " ('My flight cost me just under $800 and this is what happens? I fly with @united and have no problems. I come the US 4-5 times...',\n",
       "  array([-2.9114974e-03, -6.0258961e+00, -7.6174450e+00], dtype=float32),\n",
       "  'negative'),\n",
       " ('Not only did u lose the flight plan! Now ur flight crew is FAA timed out! Thx for havin us sit on the tarmac for an hr! #Pathetic',\n",
       "  array([-1.7371577e-03, -6.7213016e+00, -7.5413876e+00], dtype=float32),\n",
       "  'negative'),\n",
       " ('I was. But I have given up.',\n",
       "  array([-6.5673236e-03, -5.1088681e+00, -7.5951610e+00], dtype=float32),\n",
       "  'negative'),\n",
       " ('FYI twice now I\\'ve tried the \"we\\'ll call you when someone is free\" thing. Both times it called, I picked up, then it hung up.',\n",
       "  array([-0.00877158, -4.8601465 , -6.92405   ], dtype=float32),\n",
       "  'negative'),\n",
       " (\"- So does that mean your other flights going into Buffalo from other locations, you don't care about their safety?\",\n",
       "  array([-4.1389521e-03, -5.6246786e+00, -7.5564923e+00], dtype=float32),\n",
       "  'negative'),\n",
       " ('2100$ ticket,12h biz trvl,no wifi.Missed con flt,next one#24h,missed meeting,7$ food voucher,hotel chkout#12,flt#5,no wifi#hotel',\n",
       "  array([-2.9356263e-03, -5.9390883e+00, -8.1220341e+00], dtype=float32),\n",
       "  'negative'),\n",
       " ('an hour at baggage carousel and still no luggage?? Nail in the coffin.',\n",
       "  array([-2.3638660e-03, -6.2648807e+00, -7.6860871e+00], dtype=float32),\n",
       "  'negative'),\n",
       " ('\"Airport snow removal method #22...\"\\nKeep up the good work folks, this is where Cessna\\'s become 747\\'s! http://t.co/oUmC1LrXDN',\n",
       "  array([-4.3385925, -2.0929358, -0.1466218], dtype=float32),\n",
       "  'positive'),\n",
       " ('That would be brighter than all the stars combined on the red carpet tonight!',\n",
       "  array([-6.4823623 , -4.3497286 , -0.01454583], dtype=float32),\n",
       "  'positive'),\n",
       " (\"I've called to resolve my dividend miles issue for a week to no avail.  Please advise ASAP.\",\n",
       "  array([-3.4879344e-03, -5.9723115e+00, -6.9766436e+00], dtype=float32),\n",
       "  'negative'),\n",
       " (\"she's standing here on her cell no announcements no info #thismosaicnothappy\",\n",
       "  array([-3.2269093e-03, -5.8521686e+00, -7.9631743e+00], dtype=float32),\n",
       "  'negative'),\n",
       " ('as the employee responsible for social media content, yes u probably do care however the actions from last night say otherwise',\n",
       "  array([-3.127210e-03, -5.986838e+00, -7.400815e+00], dtype=float32),\n",
       "  'negative'),\n",
       " ('Will do :)',\n",
       "  array([-5.691015  , -0.27080575, -1.4530361 ], dtype=float32),\n",
       "  'neutral'),\n",
       " ('And gold status too.',\n",
       "  array([-6.4133263 , -3.3462312 , -0.03755276], dtype=float32),\n",
       "  'positive'),\n",
       " ('Been trying to call all day, get hung up on every time. Your guys are horrible!',\n",
       "  array([-1.8293804e-03, -6.6238246e+00, -7.6021318e+00], dtype=float32),\n",
       "  'negative'),\n",
       " ('here we go again. Delayed in Chicago why offer the 630 flight if you never intend to fly it',\n",
       "  array([-2.817116e-03, -6.043437e+00, -7.729454e+00], dtype=float32),\n",
       "  'negative'),\n",
       " ('4467 and 152 on 2/25 and 503 and 25 on 2/26th.',\n",
       "  array([-4.089731  , -0.02235056, -5.2289963 ], dtype=float32),\n",
       "  'neutral'),\n",
       " (\"haha and you have to clean a plane that was held overnight in a hangar. Sounds lovely. Also don't lie on screensand say it's weather\",\n",
       "  array([-0.08832556, -3.9050593 , -2.742682  ], dtype=float32),\n",
       "  'negative'),\n",
       " ('I was trying to find airfare for my family.  Your prices are ridiculous!  Almost $1000 more than @USAirways. #notmadeofmoney',\n",
       "  array([-2.4146468e-03, -6.2157173e+00, -7.7897625e+00], dtype=float32),\n",
       "  'negative'),\n",
       " (\"if you could let me know where I'm staying tonight (if you've booked anything) that would be great. Do I have to go to the\",\n",
       "  array([-5.7638526 , -0.01255289, -4.6739373 ], dtype=float32),\n",
       "  'neutral'),\n",
       " (\"@shannonwoodward I'll be checking often. Most probably when they hand the oscars out to the nerds, geeks and badly dressed.\",\n",
       "  array([-1.0190566 , -0.45186734, -5.942236  ], dtype=float32),\n",
       "  'neutral'),\n",
       " ('what you did was illegal and a breach of contract. I will be in touch but not through your \"customer feedback\"',\n",
       "  array([-1.4587725e-03, -6.8288951e+00, -7.8866496e+00], dtype=float32),\n",
       "  'negative'),\n",
       " (\"Wife and I have two new destinations and I'm stuck in DC until Monday with no bags\",\n",
       "  array([-2.939192e-03, -5.958231e+00, -7.956340e+00], dtype=float32),\n",
       "  'negative'),\n",
       " ('@msscottwg  \"That\\'s unusual\" means we screwed up but will never admit to it!  #GoingForGreatnessFAIL',\n",
       "  array([-3.9087338e-03, -5.9058981e+00, -6.7440495e+00], dtype=float32),\n",
       "  'negative'),\n",
       " (\"Why won't you let me leave Newark!?\",\n",
       "  array([-2.8731041e-03, -6.0845637e+00, -7.4332566e+00], dtype=float32),\n",
       "  'negative'),\n",
       " ('Yes, but should be able to get a push notification via the app if I__ logged in and on a trip. Email/text is so 2010 __.',\n",
       "  array([-1.7422466 , -0.19529389, -6.0833144 ], dtype=float32),\n",
       "  'neutral'),\n",
       " ('sat at airport for 5 hrs still sitting at gate..  Sigh',\n",
       "  array([-2.2919120e-03, -6.1995006e+00, -8.2594290e+00], dtype=float32),\n",
       "  'negative'),\n",
       " ('Your Terry is our hero! Got my husband back thru security to retrieve cellphone left on plane in Austin. Terry #85832 U Rock!',\n",
       "  array([-6.9265008e+00, -5.4013543e+00, -5.5070594e-03], dtype=float32),\n",
       "  'positive'),\n",
       " ('Flight 654 Delayed / Flight 409 You sold my seat / flight 0671 strand me in PHX for three hours. Thanks for the memories __________',\n",
       "  array([-1.7442979e-03, -6.7085710e+00, -7.5570102e+00], dtype=float32),\n",
       "  'negative'),\n",
       " ('to jump into the Dallas-Austin market - @Dallas_News http://t.co/EwwGi97gdx',\n",
       "  array([-4.846358  , -0.03507588, -3.6264365 ], dtype=float32),\n",
       "  'neutral'),\n",
       " (\"I fly quite a bit, and it's not difficult to communicate. If agents let people know what's happening, arrangements can be made\",\n",
       "  array([-0.22370043, -1.9585814 , -2.8236797 ], dtype=float32),\n",
       "  'negative'),\n",
       " ('your message was delayed I just responded',\n",
       "  array([-5.9452597e-03, -5.2082071e+00, -7.6928740e+00], dtype=float32),\n",
       "  'negative'),\n",
       " (\"That's a complete cop out! U ask what the issues are, then do nothing about it. How are we supposed to sort the situation now?\",\n",
       "  array([-1.7770227e-03, -6.6126194e+00, -7.7468209e+00], dtype=float32),\n",
       "  'negative'),\n",
       " (\"This experience was the worse flying experience I've ever had. To be met w/ contempt from your Customer Service makes it worse\",\n",
       "  array([-2.1275284e-03, -6.5309362e+00, -7.3117895e+00], dtype=float32),\n",
       "  'negative'),\n",
       " ('162, SMF to JFK!',\n",
       "  array([-4.5634184 , -0.02155835, -4.5188785 ], dtype=float32),\n",
       "  'neutral'),\n",
       " ('word thanks',\n",
       "  array([-7.0597076 , -3.98065   , -0.01972582], dtype=float32),\n",
       "  'positive'),\n",
       " ('@rikrik__ What made you come to this? Can we help you with anything? ^JP_ free tickets , for the i convince .',\n",
       "  array([-2.353381  , -0.11807429, -4.115201  ], dtype=float32),\n",
       "  'neutral'),\n",
       " ('you guys are horrible! First we get stuck in the snow for a hr in ewr now sitting in cmh saying it could be 30min for a gate',\n",
       "  array([-1.9866747e-03, -6.4481287e+00, -7.8209653e+00], dtype=float32),\n",
       "  'negative'),\n",
       " ('- vacation days: relevant, Ritz in PR for the night: $700, losing a day to idiots and sleeping at the Newark ramada; #priceless',\n",
       "  array([-0.0855571, -2.5825772, -5.048298 ], dtype=float32),\n",
       "  'negative'),\n",
       " ('baggage delivery at BWI very delayed and unnecessarily chaotic. Disappointing after a long trip! From a frequent traveler',\n",
       "  array([-2.1069488e-03, -6.4455934e+00, -7.5671134e+00], dtype=float32),\n",
       "  'negative'),\n",
       " ('u suck Big Donkey Balls!',\n",
       "  array([-0.4594305, -1.3279622, -2.2697313], dtype=float32),\n",
       "  'negative'),\n",
       " ('I flew to San Francisco from Fort Lauderdale with you last year, had a fantastic time so would like to go back !',\n",
       "  array([-7.3533053 , -2.5515664 , -0.08186092], dtype=float32),\n",
       "  'positive'),\n",
       " (\"please don't take my membership away :(\",\n",
       "  array([-0.06637599, -2.7634025 , -6.77309   ], dtype=float32),\n",
       "  'negative'),\n",
       " ('Any plans to implement a call-back system on your reFlight Booking Problems line? Been on hold for over an hour now...',\n",
       "  array([-2.5280917e-03, -6.1739359e+00, -7.7245140e+00], dtype=float32),\n",
       "  'negative'),\n",
       " ('any plans to support #ApplePay on board? I have the USAirways MC and it would be nice to still use it if I forget the card.',\n",
       "  array([-5.6670136 , -0.00908468, -5.1876144 ], dtype=float32),\n",
       "  'neutral'),\n",
       " ('Do you have Bereavement discount on airfare as my grandfather just passed and need to attend his funeral this week.',\n",
       "  array([-6.2965345, -0.0095833, -4.867199 ], dtype=float32),\n",
       "  'neutral'),\n",
       " (\"trying to check in for tomorrow's flight. website keeps timing out. what's up?\",\n",
       "  array([-0.13445123, -2.0816088 , -6.835389  ], dtype=float32),\n",
       "  'negative'),\n",
       " (\"pretty sure we didn't actually take off at 7:10 http://t.co/vuxf4r4Unu\",\n",
       "  array([-0.05840683, -2.8850758 , -7.0317593 ], dtype=float32),\n",
       "  'negative'),\n",
       " ('try harder. Take a winners attitude to your work.',\n",
       "  array([-4.8728283e-03, -5.6798930e+00, -6.5382342e+00], dtype=float32),\n",
       "  'negative'),\n",
       " (\"2nd time in a row  I've been over charged by 100's of $$ on my plane ticket WHY? #united I shouldn't have to check my CC everytime\",\n",
       "  array([-1.834140e-03, -6.511731e+00, -7.967531e+00], dtype=float32),\n",
       "  'negative'),\n",
       " ('@KCIAirport __SouthwestAir: Inclement weather may impact scheduled service in. ReFlight Booking Problems options available: http://t.co/KeyrpFlHil_',\n",
       "  array([-4.0694175 , -0.02225286, -5.3144755 ], dtype=float32),\n",
       "  'neutral'),\n",
       " ('thanks',\n",
       "  array([-6.560851  , -3.9510581 , -0.02086523], dtype=float32),\n",
       "  'positive'),\n",
       " (\"@ClaudOakeshott don't need this link, after getting a person u now say u don't know where bags are. Lost on a nonstop phx to jfk.\",\n",
       "  array([-2.0642418e-03, -6.3832173e+00, -7.8953872e+00], dtype=float32),\n",
       "  'negative'),\n",
       " ('very embarrassing.',\n",
       "  array([-5.099623e-03, -5.432816e+00, -7.242000e+00], dtype=float32),\n",
       "  'negative'),\n",
       " (\"if I miss the #Oscars I'll never fly united again\",\n",
       "  array([-4.029252e-03, -5.611093e+00, -7.918402e+00], dtype=float32),\n",
       "  'negative'),\n",
       " ('I would like to be reimbursed for my shuttle from Denver after #1080 diversion 6+ hours sitting in plane and mech problems',\n",
       "  array([-2.448420e-03, -6.155173e+00, -8.037892e+00], dtype=float32),\n",
       "  'negative'),\n",
       " ('Thanks for the response.Tough night for all involved. Our flight got Cancelled Flightled as we started taxiing down the runway.',\n",
       "  array([-1.1106269 , -3.5355659 , -0.44393778], dtype=float32),\n",
       "  'positive'),\n",
       " (\"What's going on with UA 236?  outbound flight last thurs was delayed 4hrs How long will this delay be? #worst2unitedflightsever\",\n",
       "  array([-1.4028242e-03, -6.8386126e+00, -8.0158892e+00], dtype=float32),\n",
       "  'negative'),\n",
       " (\"I would like to know what's going on before his current flight lands.\",\n",
       "  array([-1.988043  , -0.15132733, -5.6634693 ], dtype=float32),\n",
       "  'neutral'),\n",
       " ('Are there any current promotions/codes for Nashville-Denver? Thank you!',\n",
       "  array([-5.861417  , -0.01733544, -4.2447853 ], dtype=float32),\n",
       "  'neutral'),\n",
       " ('flights out of Dallas on Tuesday are not going to be Cancelled Flightled correct?',\n",
       "  array([-4.8268304 , -0.01570863, -4.8830404 ], dtype=float32),\n",
       "  'neutral'),\n",
       " ('how about some sweet promo code to help me visit my family!!!.... Please!!!... Lol',\n",
       "  array([-5.7421713, -0.4142371, -1.090799 ], dtype=float32),\n",
       "  'neutral'),\n",
       " ('oh I will, AA on speed dial',\n",
       "  array([-5.517809  , -0.02539899, -3.8601658 ], dtype=float32),\n",
       "  'neutral'),\n",
       " (\"your service is horrible. I can't get a straight answer from your ground agents.\",\n",
       "  array([-1.9064838e-03, -6.5625992e+00, -7.6160188e+00], dtype=float32),\n",
       "  'negative'),\n",
       " (\"What is the best credit card to use/open to get miles with y'all?\",\n",
       "  array([-6.5945396 , -1.5875926 , -0.23040093], dtype=float32),\n",
       "  'positive'),\n",
       " (\"Of course you are because that's your companies job! You guys failed at it in the first place. Upgrade me and then we'll talk.\",\n",
       "  array([-4.1764663e-03, -5.7558408e+00, -6.9042344e+00], dtype=float32),\n",
       "  'negative'),\n",
       " ('is anyone doing anything there today?  Website is useless and no one is answering the phone.',\n",
       "  array([-2.4720842e-03, -6.1814790e+00, -7.8199110e+00], dtype=float32),\n",
       "  'negative'),\n",
       " ('it insulting that @USAirways @AmericanAir offer a \"non required $50 voucher as a goodwill offering..At least my bag can fly round trip',\n",
       "  array([-1.6534956e-03, -6.6727037e+00, -7.8566647e+00], dtype=float32),\n",
       "  'negative'),\n",
       " ('is the worst. Nonrefundable First class tickets? Oh because when you select Global/FC their system auto selects economy w/upgrade.',\n",
       "  array([-1.9313508e-03, -6.4213610e+00, -8.1017504e+00], dtype=float32),\n",
       "  'negative'),\n",
       " ('how do you NOT do maintenance on #MD80 while it sits for two days? Frozen lines found after its boarded? Come on! #faail #mci',\n",
       "  array([-1.8267626e-03, -6.5805168e+00, -7.7333727e+00], dtype=float32),\n",
       "  'negative'),\n",
       " (\"why did you drop my call. Why don't you have more people answering phones? Why is it always high call volume when I call\",\n",
       "  array([-2.0264108e-03, -6.4266219e+00, -7.8082447e+00], dtype=float32),\n",
       "  'negative'),\n",
       " (\"y'all the real MVP with these prices...\",\n",
       "  array([-4.2181516 , -3.9835227 , -0.03391442], dtype=float32),\n",
       "  'positive'),\n",
       " (\"if I had my tux, it'd be a date! #UMosaicMeCrazy http://t.co/hap4gboSTU\",\n",
       "  array([-5.5895553 , -0.46729177, -0.99542564], dtype=float32),\n",
       "  'neutral'),\n",
       " (\"on Feb. 15th your rep gave me the record locator and told me I'd be receiving an email with the itinerary and confirmation.\",\n",
       "  array([-3.882001  , -0.02407751, -5.750764  ], dtype=float32),\n",
       "  'neutral'),\n",
       " ('fantastic thanks! Will try and tweet a photo of the view :)',\n",
       "  array([-7.0758357, -4.37356  , -0.0135428], dtype=float32),\n",
       "  'positive'),\n",
       " ('FYI your customer service rep Carol is an absolute delight. So pleasant to with with and rebooked me in lightning speed! Thanks!',\n",
       "  array([-6.5752492e+00, -5.4443617e+00, -5.7314583e-03], dtype=float32),\n",
       "  'positive'),\n",
       " ('its always a pleasure ___',\n",
       "  array([-6.304496  , -4.6197953 , -0.01175171], dtype=float32),\n",
       "  'positive'),\n",
       " ('they told to check with the airline regulation first so that is why I contacted you.',\n",
       "  array([-0.71433944, -0.67837733, -5.794288  ], dtype=float32),\n",
       "  'neutral'),\n",
       " ('hot stewardess flipped me off',\n",
       "  array([-0.0188679, -5.061978 , -4.3934526], dtype=float32),\n",
       "  'negative'),\n",
       " (\"We're having 2 grandbabies in 2 weeks -- will travel to DC for the births. Thank you for the reasonable fares!  See you Saturday!\",\n",
       "  array([-7.032942  , -1.7936424 , -0.18300433], dtype=float32),\n",
       "  'positive'),\n",
       " (\"Bag MIA since Wednesday. Still no word where it is or if we'll ever see it again. #lostluggage #frustrated\",\n",
       "  array([-1.8869705e-03, -6.4495702e+00, -8.0985126e+00], dtype=float32),\n",
       "  'negative'),\n",
       " ('do you have any afternoon flights going from BQN to JFK? I only seem to find early morning flights.',\n",
       "  array([-5.580646  , -0.00798273, -5.477245  ], dtype=float32),\n",
       "  'neutral'),\n",
       " ('thanks.  I actually made it, my connection flight was delayed.  Guess all delays are not a bad thing. http://t.co/XGgCNTco8m',\n",
       "  array([-0.00966099, -5.296009  , -5.3810554 ], dtype=float32),\n",
       "  'negative'),\n",
       " ('stuck in YYZ because staff took a break? Not happy 1K....',\n",
       "  array([-1.8872085e-03, -6.4303398e+00, -8.2039661e+00], dtype=float32),\n",
       "  'negative'),\n",
       " ('I am appalled at your lack of communication during our awful journey on 2/21 EWR to BOS. 4 hr delays need to be explained better.',\n",
       "  array([-1.3974672e-03, -6.9840617e+00, -7.6626940e+00], dtype=float32),\n",
       "  'negative'),\n",
       " ('my flight got Cancelled Flightled to Charlotte. Been on hold for an hour, pls pick up!',\n",
       "  array([-2.8562248e-03, -6.0285997e+00, -7.7212229e+00], dtype=float32),\n",
       "  'negative'),\n",
       " ('Such a suprise! New vanity kit set for frequent travellers __ thank you AA! http://t.co/fA7Nygn1Ux',\n",
       "  array([-6.9950085e+00, -5.3063831e+00, -5.8935913e-03], dtype=float32),\n",
       "  'positive'),\n",
       " ('please tell CLT flight 4232 needs a gate. Waiting now for 15 mins.',\n",
       "  array([-4.7844453e-03, -5.4083886e+00, -8.1314640e+00], dtype=float32),\n",
       "  'negative'),\n",
       " ('CEO battles to appease passengers and Wall Street - Waterbury Republican American http://t.co/FFc13zYGJS',\n",
       "  array([-3.5170548 , -0.05192438, -3.8674073 ], dtype=float32),\n",
       "  'neutral'),\n",
       " ('big shoutout to the crews on 2017 Bos&gt;jfk &amp; 486 jfk&gt;roc, &amp; gate crews at c19 Bos &amp; 6 jfk. Long day of delays made better by them!',\n",
       "  array([-0.16146015, -4.142578  , -2.01577   ], dtype=float32),\n",
       "  'negative'),\n",
       " (\"it's not a consolation because my bags are somewhere else, which is a real impediment to me going on a different vacation\",\n",
       "  array([-1.5303103e-03, -6.7018790e+00, -8.1097364e+00], dtype=float32),\n",
       "  'negative'),\n",
       " ('delayed my flight 3 times before Cancelled Flighting it, had angry and rude workers, and are now providing no helpful service at all',\n",
       "  array([-1.7628620e-03, -6.6077876e+00, -7.7958341e+00], dtype=float32),\n",
       "  'negative'),\n",
       " ('Bummer. Might have to go with @AmericanAir card instead. TY for response though.',\n",
       "  array([-5.901163  , -0.71729153, -0.67493135], dtype=float32),\n",
       "  'positive'),\n",
       " ('Flight 236 was great. Fantastic cabin crew. A+ landing. #thankyou #JFK http://t.co/dRW08djHAI',\n",
       "  array([-6.2380180e+00, -5.6251779e+00, -5.5751074e-03], dtype=float32),\n",
       "  'positive'),\n",
       " ('@flightspots about time! #mobileboarding is a must!',\n",
       "  array([-3.4135664e-03, -5.8160629e+00, -7.7553787e+00], dtype=float32),\n",
       "  'negative'),\n",
       " ('@TheHaileyTate Another blatant lie from @USAirways',\n",
       "  array([-2.5032395e-03, -6.1949992e+00, -7.6830163e+00], dtype=float32),\n",
       "  'negative'),\n",
       " ('ok thanks! Where are you counters located? And how Late Flight are they open?',\n",
       "  array([-2.7049751, -0.5152775, -1.0912598], dtype=float32),\n",
       "  'neutral'),\n",
       " (\"- I wouldn't need to wait on hold for 6+ hours if your website worked correctly - please respond!\",\n",
       "  array([-2.0284331e-03, -6.3981438e+00, -7.9244356e+00], dtype=float32),\n",
       "  'negative'),\n",
       " ('once again flying AA4285, once again 60+ min delay because of mechanical issues. Perhaps you should consider maintenance?',\n",
       "  array([-1.8042729e-03, -6.5038624e+00, -8.0954218e+00], dtype=float32),\n",
       "  'negative'),\n",
       " ('Brian at SFO customer service deserves a raise, gave me extra meal voucher and a good joke to cheer me up after flight delay. #FTW',\n",
       "  array([-5.177569 , -5.2243104, -0.011087 ], dtype=float32),\n",
       "  'positive'),\n",
       " ('I know one thing @Delta would NEVER treat their customers like this!!!!',\n",
       "  array([-2.3544705e-03, -6.3877869e+00, -7.3086967e+00], dtype=float32),\n",
       "  'negative'),\n",
       " ('The pilots&amp; crew on flt 3999 and customer service professionals at baggage claim are OUTSTANDING!! Thank you!!',\n",
       "  array([-6.1080532e+00, -5.6110306e+00, -5.8995169e-03], dtype=float32),\n",
       "  'positive'),\n",
       " (\"- after having to now TAG MY OWN bags at the airport I was hoping they would actually arrive WITH me - here's hoping they arrive\",\n",
       "  array([-0.0590896, -2.8772397, -6.823641 ], dtype=float32),\n",
       "  'negative'),\n",
       " (\"I'll read this over a nice glass of wine right before I dig my heels into my next novel! Maybe travel is just what I need...\",\n",
       "  array([-5.5043025 , -0.34904438, -1.2359145 ], dtype=float32),\n",
       "  'neutral'),\n",
       " ('@AmericanAir what a joke of a company today reminded me why I never book with you',\n",
       "  array([-1.7141900e-03, -6.5947022e+00, -7.9717007e+00], dtype=float32),\n",
       "  'negative'),\n",
       " ('I locked myself out of my account and needed access to book a flight.',\n",
       "  array([-3.2383166e-03, -5.8829656e+00, -7.7140632e+00], dtype=float32),\n",
       "  'negative'),\n",
       " ('why Cancelled Flight #1605 on 6/25 &amp; 6/28? Flights now 4 hrs longer &amp;  have layovers. Too Late Flight to find a reasonably priced alternative.',\n",
       "  array([-2.039616e-03, -6.311357e+00, -8.412916e+00], dtype=float32),\n",
       "  'negative'),\n",
       " ('how can your entire system go down? No IT? Really?',\n",
       "  array([-1.5760155e-03, -6.6942658e+00, -7.9957919e+00], dtype=float32),\n",
       "  'negative'),\n",
       " (\"Oh, we are sure it's not planned, but it occurs absolutely consistently, it's usually the only YYJ flight that's Cancelled Flightled daily.\",\n",
       "  array([-2.6950249e-03, -6.1158066e+00, -7.6340399e+00], dtype=float32),\n",
       "  'negative'),\n",
       " ('I have never had such awful customer service and conflicting service. Outrageous.',\n",
       "  array([-1.5735161e-03, -6.8242807e+00, -7.6308298e+00], dtype=float32),\n",
       "  'negative'),\n",
       " ('my SIL bought tix for us to NYC. We were told at the gate that her cc was declined. Supervisor accused us of illegal activity.',\n",
       "  array([-0.00943334, -4.713732  , -7.780562  ], dtype=float32),\n",
       "  'negative'),\n",
       " ('im in a session presented by one of your beloved travelers, @paulgordonbrown,I see why you love him so much http://t.co/vv8cFyhKVb',\n",
       "  array([-6.6015553 , -2.6818523 , -0.07234976], dtype=float32),\n",
       "  'positive'),\n",
       " (\"I'm rebooked on a flight tomorrow even though I had 1st class seat orig I have a lousy coach seat\",\n",
       "  array([-3.2608928e-03, -5.8140116e+00, -8.2163506e+00], dtype=float32),\n",
       "  'negative'),\n",
       " (\"here I was thinking how I could say so many nice things after getting upgraded, but then you delayed my flight... It's ok!\",\n",
       "  array([-4.531235e-03, -5.787395e+00, -6.532765e+00], dtype=float32),\n",
       "  'negative'),\n",
       " ('flight #703 Philly -&gt; Mia? Bwahahaha! Delayed 5+ hrs, were in the air 30 mins then turned back around. #usairwaysfail',\n",
       "  array([-2.3636280e-03, -6.1544986e+00, -8.3479481e+00], dtype=float32),\n",
       "  'negative'),\n",
       " ('I will. Thanks.',\n",
       "  array([-6.4676113 , -3.3283682 , -0.03812197], dtype=float32),\n",
       "  'positive'),\n",
       " ('well this one missed the mark.  She was in a snit from the minute I stepped up to the counter',\n",
       "  array([-0.07729194, -2.849489  , -4.1039977 ], dtype=float32),\n",
       "  'negative'),\n",
       " ('thanks for having ground crews that are surprised when flights arrive. #beingsuckontarmacsucks!',\n",
       "  array([-6.051576  , -5.3874865 , -0.00695167], dtype=float32),\n",
       "  'positive'),\n",
       " ('I am flying from msp to dxb, my child will turn 2 during the trip do I have to buy a return ticket for my child?',\n",
       "  array([-6.0143766 , -0.01012239, -4.875927  ], dtype=float32),\n",
       "  'neutral'),\n",
       " ('Thanks!!! :)  It is good to air on the side of caution',\n",
       "  array([-5.8488607 , -3.5299122 , -0.03272023], dtype=float32),\n",
       "  'positive'),\n",
       " ('Airways Hits New 12-Month High at $17.58 (JBLU) - WKRB News http://t.co/XvBjCzlMDA',\n",
       "  array([-5.324772  , -0.03611746, -3.4866385 ], dtype=float32),\n",
       "  'neutral'),\n",
       " ('do bags still fly free or have you started charging? thanks!',\n",
       "  array([-5.578896  , -0.01654816, -4.371265  ], dtype=float32),\n",
       "  'neutral'),\n",
       " ('DM sent. Thanks so much for the strong customer service!!',\n",
       "  array([-6.2213244e+00, -5.6659560e+00, -5.4633119e-03], dtype=float32),\n",
       "  'positive'),\n",
       " ('load balancing system apparently down #systemwide - major impact on all #united airlines flights. Was this a #cyberattack?',\n",
       "  array([-2.9331304e-03, -5.9918604e+00, -7.7522068e+00], dtype=float32),\n",
       "  'negative'),\n",
       " ('between 3 of us, it is costing over $1000 to get home TODAY for no reason... Where do I send my receipts to be reimbursed?',\n",
       "  array([-1.8453251e-03, -6.4385333e+00, -8.3149681e+00], dtype=float32),\n",
       "  'negative'),\n",
       " ('okay. Thanks.',\n",
       "  array([-6.49207   , -1.4599028 , -0.26627845], dtype=float32),\n",
       "  'positive'),\n",
       " (\"I can't even fit my name on the first two lines, yes... Please do pass on feedback. This is a big downgrade from previous years.\",\n",
       "  array([-7.4049761e-03, -4.9795322e+00, -7.6003437e+00], dtype=float32),\n",
       "  'negative'),\n",
       " ('who do I need to talk to to get a full refund on my trip? Your call center offers no assistance.',\n",
       "  array([-3.0566184e-03, -6.1550322e+00, -6.9812374e+00], dtype=float32),\n",
       "  'negative'),\n",
       " ('no more hotel voucher? Everyone had to get one but not me...what do I do? Arrived from Amsterdam #SnowStorm',\n",
       "  array([-0.03115398, -3.4946146 , -8.068282  ], dtype=float32),\n",
       "  'negative'),\n",
       " (\"She seems a little preoccupied - that's why I'm bringing it to your attention. I am just flagging an issue as an observer.\",\n",
       "  array([-1.4545155 , -0.27067226, -5.621276  ], dtype=float32),\n",
       "  'neutral'),\n",
       " ('new CEO Robin Hayes battles to appease passengers and Wall Street - Business In Savannah http://t.co/KKAY8XaPs1',\n",
       "  array([-4.3860497 , -0.02363438, -4.51831   ], dtype=float32),\n",
       "  'neutral'),\n",
       " ('thank you for the apology',\n",
       "  array([-3.0053291 , -2.096706  , -0.18920465], dtype=float32),\n",
       "  'positive'),\n",
       " ('4-4 in horrible customer service. Empty seats in early flight wantcharge me double to get home early instead the usual Late Flight',\n",
       "  array([-1.6292167e-03, -6.6512341e+00, -7.9997296e+00], dtype=float32),\n",
       "  'negative'),\n",
       " ('Love you guys sooooooo much. Ridiculously appreciated! A+ service!',\n",
       "  array([-4.7580266 , -5.5267286 , -0.01264106], dtype=float32),\n",
       "  'positive'),\n",
       " ('yes, thanks but took forever',\n",
       "  array([-0.08477664, -2.7285974 , -4.136939  ], dtype=float32),\n",
       "  'negative'),\n",
       " ('it seems I never received an ID, just a password.',\n",
       "  array([-0.10492198, -2.313111  , -7.3350315 ], dtype=float32),\n",
       "  'negative'),\n",
       " ('You cause me to miss my flight telling me it already left when it had not. No empathy from gate staff or crew, no apology. Really?',\n",
       "  array([-1.7708349e-03, -6.7663193e+00, -7.3901033e+00], dtype=float32),\n",
       "  'negative'),\n",
       " (\"I been on hold with U for 40mins wasting my time and $ &amp; I don't appreciate it #WheresTheCustomerServiceAt http://t.co/phI2IfNjIT\",\n",
       "  array([-2.2808509e-03, -6.3025422e+00, -7.7138944e+00], dtype=float32),\n",
       "  'negative'),\n",
       " ('why the hell u left *alliance and joined 1world is beyond me not a smart move time to start looking at other carriers',\n",
       "  array([-2.002379e-03, -6.562320e+00, -7.439363e+00], dtype=float32),\n",
       "  'negative'),\n",
       " ('No. I watched these bags be abandoned at depart gate. Watched for &gt;40 mins until owner returned, 20+ mins after I reported',\n",
       "  array([-2.5252379e-03, -6.1032014e+00, -8.1585274e+00], dtype=float32),\n",
       "  'negative'),\n",
       " ('looking for status of flight 1388 schedule for 5:15 am tomorrow morning, thank you',\n",
       "  array([-5.7040615 , -0.00855259, -5.2622304 ], dtype=float32),\n",
       "  'neutral'),\n",
       " (\": You Make the Reservation; We'll Make the Excuses! #usairwaysfail\",\n",
       "  array([-0.00668136, -5.2617574 , -6.5204844 ], dtype=float32),\n",
       "  'negative'),\n",
       " ('i got a new reservation for tomorrow. Thanks!',\n",
       "  array([-7.0927143 , -4.0450087 , -0.01851092], dtype=float32),\n",
       "  'positive'),\n",
       " (\"it doesn't take 6 days to respond to an already open case!\",\n",
       "  array([-2.8180671e-03, -6.1722670e+00, -7.2257795e+00], dtype=float32),\n",
       "  'negative'),\n",
       " ('Are you guys awake? Need help with delayed flight to get protected on Late Flightr flight from PHL.',\n",
       "  array([-0.04678573, -3.100859  , -7.2678866 ], dtype=float32),\n",
       "  'negative'),\n",
       " (\"I can't. I don't have acces to a phone rn. My iPhone broke. :/ would rather change it now then Late Flightr.\",\n",
       "  array([-4.2105359e-03, -5.5216036e+00, -8.5060053e+00], dtype=float32),\n",
       "  'negative'),\n",
       " ('I just want to contact someone with a question &amp; not be put on hold for 5 minutes in order to be hung up on or sent to the pet line',\n",
       "  array([-1.6395710e-03, -6.5941324e+00, -8.2176666e+00], dtype=float32),\n",
       "  'negative'),\n",
       " ('Is Changing Its #MileagePlus Program: Winners and Losers http://t.co/38OTLzAK5d #airline #travel #loyalty #rewards',\n",
       "  array([-5.397801  , -0.02124937, -4.1044755 ], dtype=float32),\n",
       "  'neutral'),\n",
       " (\"my flight has been delayed &amp; I can't talk reach anyone in customer service because of high call volume.\",\n",
       "  array([-1.9438436e-03, -6.4436889e+00, -7.9532838e+00], dtype=float32),\n",
       "  'negative'),\n",
       " (\"What's your current checked bag price policy?  I fly this coming week and couldn't find anything definitive.\",\n",
       "  array([-0.03366779, -3.416347  , -8.198356  ], dtype=float32),\n",
       "  'negative'),\n",
       " ('at Logan airport and waiting to checkin for my 9am flight. Checkin desk not open !!!!! Why?!',\n",
       "  array([-2.5320158e-03, -6.0804362e+00, -8.3281536e+00], dtype=float32),\n",
       "  'negative'),\n",
       " (\"__JetBlue: Our fleet's on fleek. http://t.co/46am1BSi2G_\",\n",
       "  array([-2.6519322 , -0.25515014, -1.8663645 ], dtype=float32),\n",
       "  'neutral'),\n",
       " (\"help! Flight Cancelled Flighted, can't call because my phone doesn't work in Europe. Please help? Says I'm booked want to confirm.\",\n",
       "  array([-3.2902411e-03, -5.7891350e+00, -8.4028702e+00], dtype=float32),\n",
       "  'negative'),\n",
       " ('plus what about food? And taxis?',\n",
       "  array([-2.7416918 , -0.07351519, -5.048843  ], dtype=float32),\n",
       "  'neutral'),\n",
       " ('Tried for VIP Live in The Vineyard but yr site went down, by the time I got in 2 redeem pts those packages gone.',\n",
       "  array([-0.00839278, -4.858976  , -7.4198403 ], dtype=float32),\n",
       "  'negative'),\n",
       " ('Secondly, we did not begin boarding on time despite our aircraft being present and deplaned. Thus we left over 30 min Late Flight',\n",
       "  array([-1.5537583e-03, -6.6901898e+00, -8.0807543e+00], dtype=float32),\n",
       "  'negative'),\n",
       " ('calling that number was useless. Heading to the airport now to pick up my bags. this whole situation seems like a real joke.',\n",
       "  array([-1.4878167e-03, -6.7374430e+00, -8.1082687e+00], dtype=float32),\n",
       "  'negative'),\n",
       " ('if i want to change my flight due to weather conditions in Dallas this weekend, i should be able to cover change fee with miles',\n",
       "  array([-2.3978825 , -0.09868376, -5.7891545 ], dtype=float32),\n",
       "  'neutral'),\n",
       " ('Hi, how do I add a flight to my account? Just created it',\n",
       "  array([-4.7594595 , -0.01261717, -5.529567  ], dtype=float32),\n",
       "  'neutral'),\n",
       " ('how about checking the plane before having everyone board the plane? #pissed',\n",
       "  array([-2.4456850e-03, -6.3298416e+00, -7.3226748e+00], dtype=float32),\n",
       "  'negative'),\n",
       " (\"@KyleJudah new stroller. The travel credit doesn't help cover the cost of a new stroller. Your crew ruined it and therefore should\",\n",
       "  array([-1.7251384e-03, -6.6624885e+00, -7.7158394e+00], dtype=float32),\n",
       "  'negative'),\n",
       " ('every time I try to call, it tells me to try again Late Flightr and just hangs up.',\n",
       "  array([-2.7991659e-03, -6.0194931e+00, -7.9172206e+00], dtype=float32),\n",
       "  'negative'),\n",
       " ('partners with @Visa Checkout as mobile payment method to help boost mobile conversion rates #etailwest #payments #visa',\n",
       "  array([-5.637764  , -0.01822523, -4.233652  ], dtype=float32),\n",
       "  'neutral'),\n",
       " (\"I did and then she made me feel guilty because it was economy plus and I didn't pay for the extra leg room\",\n",
       "  array([-1.7110959e-03, -6.6052275e+00, -7.9398746e+00], dtype=float32),\n",
       "  'negative'),\n",
       " ('I know it is hard to predict, but how are flights from Dallas to Nashville tomorrow AM?',\n",
       "  array([-6.0558295, -0.0069042, -5.395653 ], dtype=float32),\n",
       "  'neutral'),\n",
       " ('Airline trouble this winter &amp; not getting good customer service? contact http://t.co/aQjn4HwNaC  we negotiate w/companies forU!',\n",
       "  array([-0.02121518, -3.8829331 , -7.8205895 ], dtype=float32),\n",
       "  'negative'),\n",
       " (\"why doesn't my daughter, booked with my gold member miles, get on the upgrade list for her flight tomorrow?\",\n",
       "  array([-0.06309573, -2.820564  , -6.454087  ], dtype=float32),\n",
       "  'negative'),\n",
       " (\"UA flight 1247. SFO to LAX took my carry on at gate. I'm Group 2, overhead bins are empty\",\n",
       "  array([-0.09367386, -2.4255497 , -6.9169054 ], dtype=float32),\n",
       "  'negative'),\n",
       " ('today you sporadically changed my flight departure 5 times &amp; left two hours Late Flight. Uncharacteristic of u http://t.co/TXhYJ40llG',\n",
       "  array([-2.3828943e-03, -6.5524116e+00, -6.9554644e+00], dtype=float32),\n",
       "  'negative'),\n",
       " (\"considering I'm now stuck in Newark with virtually sleep in 30+ hours, I doubt it :/ hope car rentals are available\",\n",
       "  array([-3.3402622e-03, -5.7878652e+00, -8.2166262e+00], dtype=float32),\n",
       "  'negative'),\n",
       " ('@dfwairport you 2 together are the best part of flying!',\n",
       "  array([-6.4023418e+00, -5.6897731e+00, -5.0507574e-03], dtype=float32),\n",
       "  'positive'),\n",
       " ('been on hold for over and hour now.',\n",
       "  array([-2.8846341e-03, -6.0263042e+00, -7.6710682e+00], dtype=float32),\n",
       "  'negative'),\n",
       " ('just tried calling. got a high call volume at this moment message and then it said goodbye and hung up_',\n",
       "  array([-7.2590648e-03, -5.0037827e+00, -7.5611229e+00], dtype=float32),\n",
       "  'negative'),\n",
       " ('you guys have such big hearts.. keep up the good work',\n",
       "  array([-5.9113984, -5.491059 , -0.0068553], dtype=float32),\n",
       "  'positive'),\n",
       " ('@dfwairport  Have been trying to get canx flight resched since noon.  got 2 call backs but call disconnects as soon as I answer',\n",
       "  array([-3.6798874e-03, -5.7001662e+00, -8.0233202e+00], dtype=float32),\n",
       "  'negative'),\n",
       " ('since we are leaving tomorrow to miami can you do one thing right and deliver the bags to the airport?',\n",
       "  array([-0.04506055, -3.1363764 , -7.38497   ], dtype=float32),\n",
       "  'negative'),\n",
       " ('your hold music sucks.',\n",
       "  array([-1.9778707e-03, -6.4588032e+00, -7.8010807e+00], dtype=float32),\n",
       "  'negative'),\n",
       " ('you found my camera!  Thank you!  You rock!',\n",
       "  array([-6.6629539e+00, -5.6106749e+00, -4.9481555e-03], dtype=float32),\n",
       "  'positive'),\n",
       " ('you have to be crazy! Treated my mom very poorly. Not happy! #usairwaysfail',\n",
       "  array([-1.7271615e-03, -6.5487342e+00, -8.1328506e+00], dtype=float32),\n",
       "  'negative'),\n",
       " ('wanted to, but you Cancelled Flightled my tickets.... They were too special i guess even for united.',\n",
       "  array([-2.956902e-03, -5.984334e+00, -7.740976e+00], dtype=float32),\n",
       "  'negative'),\n",
       " ('- Group 2 line gets longer every week. Almost no one left for Groups 3-5 anymore. Time to make Explorer Card Group 3?',\n",
       "  array([-1.8826871e-03, -6.4239664e+00, -8.2598066e+00], dtype=float32),\n",
       "  'negative'),\n",
       " (\"it's not letting me DM you !!\",\n",
       "  array([-3.637604e-03, -5.806829e+00, -7.379359e+00], dtype=float32),\n",
       "  'negative'),\n",
       " ('trying to reach him for the number. At last they have him on standbye and gave him 1 meal voucher for a potential 2 day standbye!',\n",
       "  array([-0.20524308, -1.7082009 , -5.435463  ], dtype=float32),\n",
       "  'negative'),\n",
       " ('thanks for the reply. To clarify, the airfare is similar to your likely intended peer group. The $3 beer charge, however, is not',\n",
       "  array([-0.04117117, -3.3171349 , -5.5020027 ], dtype=float32),\n",
       "  'negative'),\n",
       " ('No but u cld explain how such a disorganized and inefficient company w surly and obviously unhappy employees stays in business.',\n",
       "  array([-1.5924404e-03, -6.6971359e+00, -7.9386768e+00], dtype=float32),\n",
       "  'negative'),\n",
       " (\"that's why I'm asking for exception. Staffer moving last minute,we're a nonprofit &amp; losing $400,we just want to change ticket.\",\n",
       "  array([-0.02133876, -3.8723495 , -8.100967  ], dtype=float32),\n",
       "  'negative'),\n",
       " ('flight 500 out of Seattle has 10,000lbs too much fuel and no water for the lavoratories. Nice job guys - est 40min behind now',\n",
       "  array([-2.6171501e-03, -6.1901593e+00, -7.4801698e+00], dtype=float32),\n",
       "  'negative'),\n",
       " ('does it show that we are on the same plane?',\n",
       "  array([-2.9825802 , -0.05458548, -6.007416  ], dtype=float32),\n",
       "  'neutral'),\n",
       " ('for a fee...',\n",
       "  array([-3.4026246, -0.0435327, -4.6763477], dtype=float32),\n",
       "  'neutral'),\n",
       " ('to @SouthwestAir , I get to go to the #DestinationDragons @Imaginedragons show this weekend in UTAH @VelourLive  !!! #ThankYou',\n",
       "  array([-5.8643208 , -0.17700806, -1.8364137 ], dtype=float32),\n",
       "  'neutral'),\n",
       " ('thanks for causing us to miss our connection and now a 6hour delay #flydeltanexttime',\n",
       "  array([-2.2225697e-03, -6.5698190e+00, -7.1084671e+00], dtype=float32),\n",
       "  'negative'),\n",
       " ('@AmericanAir Flight SF to NYC only made it to Philly. Ur customer service is telling me no refund for the last leg? #offensive',\n",
       "  array([-1.8935147e-03, -6.5220246e+00, -7.7727008e+00], dtype=float32),\n",
       "  'negative'),\n",
       " ('anything you can do?',\n",
       "  array([-5.6221623, -0.0379853, -3.3915625], dtype=float32),\n",
       "  'neutral'),\n",
       " ('this is ridiculous.  I have a 6:00 AM flight and two hours of rest, wasted!!!',\n",
       "  array([-1.5743492e-03, -6.7875414e+00, -7.7166061e+00], dtype=float32),\n",
       "  'negative'),\n",
       " (\"I changed my own flight to tonight. Why couldn't AA do that on my behalf instead of a flight tomorrow? Poor effort all around.\",\n",
       "  array([-1.7080017e-03, -6.6710048e+00, -7.7301054e+00], dtype=float32),\n",
       "  'negative'),\n",
       " (\"Personal Device Entertainment system is great but with app crashing every 10/15 mins I'm glad it's free for now.\",\n",
       "  array([-3.5416279e-03, -5.8406463e+00, -7.3724046e+00], dtype=float32),\n",
       "  'negative'),\n",
       " ('male flight attendant on flight 3913 from Orlando to Indy was AMAZING! He needs a raise __ Had the best experience with him',\n",
       "  array([-6.039089  , -5.518464  , -0.00641632], dtype=float32),\n",
       "  'positive'),\n",
       " (\"why don't you ever print my known #traveler number on my ticket? Because of this I never get to use the #TSA prescreen I paid for\",\n",
       "  array([-1.8411605e-03, -6.5355487e+00, -7.8532395e+00], dtype=float32),\n",
       "  'negative'),\n",
       " (\"2 hours and 7 minutes. Just want to know I'm still in the queue...\",\n",
       "  array([-2.3225972e-03, -6.1756015e+00, -8.3331366e+00], dtype=float32),\n",
       "  'negative'),\n",
       " ('thanks to you customers like me stay loyal. From check in to landing.',\n",
       "  array([-6.2980523e+00, -5.4681907e+00, -6.0771443e-03], dtype=float32),\n",
       "  'positive'),\n",
       " ('No thanks. After those 25+ minutes someone did eventually help us and took care of it.',\n",
       "  array([-0.01754912, -5.1113806 , -4.4769278 ], dtype=float32),\n",
       "  'negative'),\n",
       " ('now has stranded is in #Miami without updating any of the departure boards, and once they Cancelled Flightled the flight there was no...',\n",
       "  array([-1.9612142e-03, -6.4405975e+00, -7.9188590e+00], dtype=float32),\n",
       "  'negative'),\n",
       " (\"@rikrik__ What made you come to this? Can we help you with anything? ^JP_ the service just hasn't been great.\",\n",
       "  array([-0.01261564, -4.465361  , -6.872542  ], dtype=float32),\n",
       "  'negative'),\n",
       " ('you have a company policy that refuses employees to speak to other employees over the phone? Interesting',\n",
       "  array([-0.0084968, -4.812607 , -8.004072 ], dtype=float32),\n",
       "  'negative'),\n",
       " ('it was this one but looks like the problem is now fixed. https://t.co/CFI1E3KXA9',\n",
       "  array([-0.28552005, -1.408967  , -5.526189  ], dtype=float32),\n",
       "  'negative'),\n",
       " ('thanks for Cancelled Flighting flight 5097 today. Now missing required training. Not a happy customer.',\n",
       "  array([-2.2358913e-03, -6.3456206e+00, -7.6439109e+00], dtype=float32),\n",
       "  'negative'),\n",
       " ('wow this just blew my mind',\n",
       "  array([-0.20479842, -2.0731032 , -2.8235695 ], dtype=float32),\n",
       "  'negative'),\n",
       " ('Are there any plans for a short haul airline in Europe? Would defiantly fly with you guys :)',\n",
       "  array([-6.5683956 , -0.02885079, -3.610642  ], dtype=float32),\n",
       "  'neutral'),\n",
       " (\"now you don't know where my luggage is?  Seriously?\",\n",
       "  array([-2.1842688e-03, -6.3621616e+00, -7.6923666e+00], dtype=float32),\n",
       "  'negative'),\n",
       " ('you should change your name to United Incompetence. No flight until Monday, have to take a 7 hour drive now to get to my flight!',\n",
       "  array([-2.0681676e-03, -6.3642697e+00, -7.9747148e+00], dtype=float32),\n",
       "  'negative'),\n",
       " (' any effort to fix your points system? 11 days and a call to customer service and still no account update. Chasing points is no fun',\n",
       "  array([-1.9223084e-03, -6.5681810e+00, -7.5690899e+00], dtype=float32),\n",
       "  'negative'),\n",
       " ('Trying to change a flight booked just 6 hours ago but online system is charging me $200 fee per passenger... could you please help?',\n",
       "  array([-0.01813404, -4.039778  , -7.9041986 ], dtype=float32),\n",
       "  'negative'),\n",
       " ('thanks for updating me about the 1+ hour delay the exact second I got to ATL. ______',\n",
       "  array([-0.06829031, -4.729504  , -2.861553  ], dtype=float32),\n",
       "  'negative'),\n",
       " ('no, your service here pretty much ruined my day, but thanks for the weak attempt',\n",
       "  array([-0.02869697, -5.029608  , -3.8282452 ], dtype=float32),\n",
       "  'negative'),\n",
       " ('thanks for taking it up a notch!! leinenkugels #craftbeer #goodflight @ Norfolk_ http://t.co/TgSLjjN6g0',\n",
       "  array([-6.8307147 , -4.989062  , -0.00792348], dtype=float32),\n",
       "  'positive'),\n",
       " ('END: RT @USAirways: Reminder: From 2/28, we__l be tweeting from @AmericanAir. You should join us: http://t.co/NBpCJCpEW9',\n",
       "  array([-5.429599  , -0.00939283, -5.3055367 ], dtype=float32),\n",
       "  'neutral'),\n",
       " ('Awww thank you B6! Glad to hear it!  Made my day! &amp; one last question do you have any idea what tail is operating flt 606 2maro? :)',\n",
       "  array([-6.681136 , -5.088647 , -0.0074484], dtype=float32),\n",
       "  'positive'),\n",
       " ('We waited 40 min for our bags after a 45 min flight #nomorecheckedbags',\n",
       "  array([-2.6260673e-03, -6.0857921e+00, -7.9643216e+00], dtype=float32),\n",
       "  'negative'),\n",
       " ('do you have an application for iOS? Was looking and only saw Virgin Mexico :( &lt;/3',\n",
       "  array([-3.8697634 , -0.02304393, -6.2569275 ], dtype=float32),\n",
       "  'neutral'),\n",
       " (\"tv stream means I get to spend my flight watching 1999 and 2011 Women's World Cup Finals. #throwback #bestflightever\",\n",
       "  array([-3.6859994 , -3.5430129 , -0.05551076], dtype=float32),\n",
       "  'positive'),\n",
       " ('YOU ARE AMAZING!!! YOU ARE THE BEST!!! FOLLOW ME PLEASE AND I FOLLOW YOU BACK;)___________)',\n",
       "  array([-6.7555952e+00, -5.5090685e+00, -5.2278242e-03], dtype=float32),\n",
       "  'positive'),\n",
       " ('Thank you. Fingers crossed.',\n",
       "  array([-5.106204  , -1.8322387 , -0.18165848], dtype=float32),\n",
       "  'positive'),\n",
       " ('new CEO seeks the right balance to please passengers and Wall ... - Times Colonist http://t.co/NzDXRvszWv',\n",
       "  array([-5.0875816 , -0.01667303, -4.5696244 ], dtype=float32),\n",
       "  'neutral'),\n",
       " ('yep,filed a claim at Heathrow yesterday. We were promised a call this morning with an update, but got nothing.',\n",
       "  array([-0.06890928, -2.7205682 , -7.193629  ], dtype=float32),\n",
       "  'negative'),\n",
       " (\"yeah? RT @JetBlue: Our fleet's on fleek. http://t.co/FTv2NWWQF1_\",\n",
       "  array([-3.1472135 , -0.09388583, -3.0652633 ], dtype=float32),\n",
       "  'neutral'),\n",
       " ('Customer service is dead. Last wk, flts delayed/Cancelled Flighted. Bags lost 4 days. Last nt, flt delayed/Cancelled Flighted.  No meal voucher?',\n",
       "  array([-2.1701136e-03, -6.3049188e+00, -7.9851584e+00], dtype=float32),\n",
       "  'negative'),\n",
       " ('everyones flights who were Cancelled Flightled today DESERVE 1',\n",
       "  array([-2.3124877e-03, -6.3716865e+00, -7.4178028e+00], dtype=float32),\n",
       "  'negative'),\n",
       " ('I made my flight but then still had no update emails when I landed, no info ever sent on that or second flight. Losing my biz.',\n",
       "  array([-1.6298118e-03, -6.5838366e+00, -8.3102283e+00], dtype=float32),\n",
       "  'negative'),\n",
       " (\"Our fleet's on fleek. http://t.co/tEjrN09tfw_ NOOOOOOOOOOOOOOOOOO\",\n",
       "  array([-1.1796678, -0.3775715, -4.948363 ], dtype=float32),\n",
       "  'neutral'),\n",
       " ('\\n\\nLate Flight from phoenix, gave ticks away when arrived chicago, held bags hostage chicago, rented van drove to toledo. 5 hr drive.',\n",
       "  array([-3.280617e-03, -5.795852e+00, -8.355537e+00], dtype=float32),\n",
       "  'negative'),\n",
       " ('Q: Just purchased ticket to #Hawaii for trip in Late Flight-March. Does this mean we will acquire miles based on price or distance flown?',\n",
       "  array([-5.602784  , -0.00781431, -5.4976583 ], dtype=float32),\n",
       "  'neutral'),\n",
       " ('For the love of all that is holy, if your automated phone system is going to give like 8 options, give numerical shortcuts',\n",
       "  array([-3.2599422e-03, -5.9151864e+00, -7.4938998e+00], dtype=float32),\n",
       "  'negative'),\n",
       " ('I flew on a flight about 3 months ago. Me and my girlfriend got away with having sex in a restroom. Is it allowed now?',\n",
       "  array([-1.0604384 , -0.42869896, -6.057615  ], dtype=float32),\n",
       "  'neutral'),\n",
       " ('@BoeingAirplanes I really would love to experience first class on that plane,looks stunning!',\n",
       "  array([-6.9995375 , -4.8853135 , -0.00850507], dtype=float32),\n",
       "  'positive'),\n",
       " ('horrible experience, passenger of size was 1/3 in my seat, offered $50 voucher for this by Christine C http://t.co/1xzrK66wVQ',\n",
       "  array([-2.1376396e-03, -6.2964349e+00, -8.1370783e+00], dtype=float32),\n",
       "  'negative'),\n",
       " ('we want room and food allowances. Agents are refusing to give us vouchers to use at rooms we book ourselves.',\n",
       "  array([-2.6782616e-03, -6.0257072e+00, -8.2595863e+00], dtype=float32),\n",
       "  'negative'),\n",
       " ('any updates on flight 5202 from ORF to PHL no one at gate...  ;(',\n",
       "  array([-2.8445756e-03, -5.9947705e+00, -7.9612608e+00], dtype=float32),\n",
       "  'negative'),\n",
       " ('is our luggage #so slow at lax',\n",
       "  array([-3.2118184e-03, -5.8460646e+00, -8.0616541e+00], dtype=float32),\n",
       "  'negative'),\n",
       " ('You definitely will!',\n",
       "  array([-7.0433264 , -4.7566524 , -0.00951269], dtype=float32),\n",
       "  'positive'),\n",
       " ('DCA-&gt;HPN, u r prof hostage takers.We stood on bus 2 plane for 25 min,now sitting on plane with no mvmt &amp; 1 announcement 4 &gt; hour!',\n",
       "  array([-2.7690898e-03, -6.0227413e+00, -7.9800043e+00], dtype=float32),\n",
       "  'negative'),\n",
       " ('are you ever looking for interns ?',\n",
       "  array([-1.6527048 , -0.21612684, -5.865456  ], dtype=float32),\n",
       "  'neutral'),\n",
       " (\"@derekc21 , to my surprise  BA doesn't  have  me registered in the system , I was getting hopeful :(, Lets step it up , Okay ?\",\n",
       "  array([-3.326801  , -0.04065497, -5.538666  ], dtype=float32),\n",
       "  'neutral'),\n",
       " ('flight 433 lets go you look like clowns no one is giving up 1st class for $500',\n",
       "  array([-1.5423319e-03, -6.6867938e+00, -8.1322355e+00], dtype=float32),\n",
       "  'negative'),\n",
       " ('after a grt flight to PHX last week,  tonight was terrible. 2.5 hours taxing and you give us water and crackers to compensate.',\n",
       "  array([-1.8848288e-03, -6.6303344e+00, -7.4817777e+00], dtype=float32),\n",
       "  'negative'),\n",
       " (\"Eh, it happens. I think I'll survive. __ Thanks!\",\n",
       "  array([-6.759328 , -3.56307  , -0.0299559], dtype=float32),\n",
       "  'positive'),\n",
       " (\"do you miss me? Don't worry we'll be together very soon.\",\n",
       "  array([-5.42      , -0.03030859, -3.6719508 ], dtype=float32),\n",
       "  'neutral'),\n",
       " ('Thanks a ton!',\n",
       "  array([-6.7522016 , -4.937808  , -0.00837351], dtype=float32),\n",
       "  'positive'),\n",
       " (\"what's going on with flight 669 and how many free trips will I get from this epic inconvenience @anku http://t.co/pEUc0BMij9\",\n",
       "  array([-3.2042135e-03, -5.8950958e+00, -7.7148666e+00], dtype=float32),\n",
       "  'negative'),\n",
       " ('Phew!! Did it!! (Pant. Wheeze) http://t.co/ZPZ78POeON',\n",
       "  array([-4.8731585 , -0.30011177, -1.3798538 ], dtype=float32),\n",
       "  'neutral'),\n",
       " ('New marketing song? https://t.co/F2LFULCbQ7 let us know what you think? http://t.co/WbhbljJkS7',\n",
       "  array([-5.700888  , -0.00875102, -5.2269654 ], dtype=float32),\n",
       "  'neutral'),\n",
       " ('Saddens me that my first tweet - ever - has to be a complaint about customer service.',\n",
       "  array([-4.4981251e-03, -5.5590782e+00, -7.3607593e+00], dtype=float32),\n",
       "  'negative'),\n",
       " ('@nburnside26  U hate delays, too?  But u have her $$ &amp; are holding her hostage!  #GoingForGreatnessFAIL',\n",
       "  array([-2.8374433e-03, -6.0653930e+00, -7.5779500e+00], dtype=float32),\n",
       "  'negative'),\n",
       " ('thanks for not letting me switch flights Bc I had a checked bag then Cancelled Flighting my flight forcing me to take another 3 hrs Late Flightr!',\n",
       "  array([-1.7848766e-03, -6.5999517e+00, -7.7686648e+00], dtype=float32),\n",
       "  'negative'),\n",
       " ('yes please! I am newly married and trying to update my last name on a preexisting international flight! It seems so easy, but...',\n",
       "  array([-5.4903693 , -0.04162936, -3.3063817 ], dtype=float32),\n",
       "  'neutral'),\n",
       " ('3 months of straight travel ahead. Time to find new airline.',\n",
       "  array([-2.6485387e-03, -6.0496478e+00, -8.1582956e+00], dtype=float32),\n",
       "  'negative'),\n",
       " ('Commitment to excellence is 2b praised. Can get you to the wrong city 2 days Late Flight or the right one 3 days Late Flight. #customerservice',\n",
       "  array([-0.01707484, -5.5370774 , -4.3434258 ], dtype=float32),\n",
       "  'negative'),\n",
       " ('on #UA3785 tonight and told delayed due to Late Flight crew. No idea where crew coming from, your staff ++unhelpful. Any ideas?',\n",
       "  array([-1.7316836e-03, -6.6749735e+00, -7.6670189e+00], dtype=float32),\n",
       "  'negative'),\n",
       " ('missing this wedding because of these delays would not be cool',\n",
       "  array([-1.5160269e-03, -6.7109494e+00, -8.1205788e+00], dtype=float32),\n",
       "  'negative'),\n",
       " ('@CLTDouglas slowest baggage claim ever',\n",
       "  array([-2.1404945e-03, -6.3368516e+00, -7.9065785e+00], dtype=float32),\n",
       "  'negative'),\n",
       " ('is Flight 3113 OMA&gt;DEN on 2/21 actually Cancelled Flightled? Been on hold for over an hour and your website says conflicting messages',\n",
       "  array([-2.0305745e-03, -6.3416200e+00, -8.2277975e+00], dtype=float32),\n",
       "  'negative'),\n",
       " ('how come a $27 shuttle bus from LGA to EWR has electrical power outlets but our new Airbus interiors do not? #whyjeff?',\n",
       "  array([-0.01019426, -4.6244555 , -8.005836  ], dtype=float32),\n",
       "  'negative'),\n",
       " ('flt 419. 2+ hrs Late Flight, baggage + 1 more hr. Now I see they delivered my suitcase wet inside &amp; out. #NotHappy',\n",
       "  array([-1.3704442e-03, -6.9652205e+00, -7.7625241e+00], dtype=float32),\n",
       "  'negative'),\n",
       " ('any news on flight 122 pbi-boston delay? Can we wait to arrive at airport based on reported 1 and 1/2 hour delay?',\n",
       "  array([-6.5605734e-03, -5.0764079e+00, -8.1226711e+00], dtype=float32),\n",
       "  'negative'),\n",
       " ('you know what would be awesome? Providing us with complimentary entertainment on your flights. Especially those longer than 6 hours.',\n",
       "  array([-5.2258084e-03, -5.7349854e+00, -6.2240095e+00], dtype=float32),\n",
       "  'negative'),\n",
       " (\"I'm on flight and no booze being served 30 min in... What gives? #lostrevenue #angryandsober #bachelorpartymishap\",\n",
       "  array([-1.9188579e-03, -6.4669180e+00, -7.9211397e+00], dtype=float32),\n",
       "  'negative'),\n",
       " ('no. Not boarding order. Someone boarded with. Service Animal which a member of my party was allergic to and because the flight was',\n",
       "  array([-0.02574166, -3.6855848 , -8.014461  ], dtype=float32),\n",
       "  'negative'),\n",
       " ('you bet:)',\n",
       "  array([-5.807569 , -0.5697201, -0.8409247], dtype=float32),\n",
       "  'neutral'),\n",
       " ('I really appreciate there not being an easy way to get another flight when mine has been delayed over 2hrs for mechanical reasons',\n",
       "  array([-2.0516317e-03, -6.4338107e+00, -7.7213340e+00], dtype=float32),\n",
       "  'negative'),\n",
       " ('20 minutes plus to get through to a two after the first one transferred me to a spanish hotline is unacceptable!',\n",
       "  array([-1.6645637e-03, -6.7639852e+00, -7.5840302e+00], dtype=float32),\n",
       "  'negative'),\n",
       " ('should give me free baggage for this mess',\n",
       "  array([-2.2313716e-03, -6.3267879e+00, -7.7260790e+00], dtype=float32),\n",
       "  'negative'),\n",
       " ('what time should I arrive at the airport for my 6:15 am domestic flight out of San Diego?',\n",
       "  array([-5.457323 , -0.0078731, -5.633176 ], dtype=float32),\n",
       "  'neutral'),\n",
       " ('@dotnetnate Two hour wait for EXPs as I sit on a JFK PHX flight because US computers are down. Any shot at an LAX flight?',\n",
       "  array([-1.9877453e-03, -6.3948069e+00, -8.0612364e+00], dtype=float32),\n",
       "  'negative'),\n",
       " ('Received awesome phone help from Jim today. Helped me switch around flights booked with points.',\n",
       "  array([-6.121671  , -5.0247865 , -0.00880644], dtype=float32),\n",
       "  'positive'),\n",
       " (\"Let's just say #IDontWannaLiveWithoutYourLove https://t.co/i9KCgaxxFa #ItWasMintToBe #BestInClassSocial #ThankYou #Travel #Business\",\n",
       "  array([-7.0814834 , -3.8258796 , -0.02290005], dtype=float32),\n",
       "  'positive'),\n",
       " ('so you told me to go, knowing what the issue was, only for me to go there and find out that you won__ fix it?',\n",
       "  array([-4.5394232e-03, -5.5790005e+00, -7.1916714e+00], dtype=float32),\n",
       "  'negative'),\n",
       " ('CCNDJP/ I can send a screen shot of the systems error if an email address is provided',\n",
       "  array([-0.27974245, -1.417771  , -6.337801  ], dtype=float32),\n",
       "  'negative'),\n",
       " (\"waiting on plane so long missed my connecting flight it left early. That's the last flight out tonight. HELP http://t.co/hBsJ2sF17h\",\n",
       "  array([-2.924810e-03, -5.955080e+00, -8.022835e+00], dtype=float32),\n",
       "  'negative'),\n",
       " ('flight 1388 tomorrow 5:15 am, status please, thanks',\n",
       "  array([-6.1129303 , -0.02900239, -3.6354582 ], dtype=float32),\n",
       "  'neutral'),\n",
       " (\"3 hour delay plus a jetway that won't move. This biz traveler is never flying u again!\",\n",
       "  array([-1.4644861e-03, -6.7695088e+00, -8.0622177e+00], dtype=float32),\n",
       "  'negative'),\n",
       " ('i am here - what is your resolution?',\n",
       "  array([-1.158378  , -0.38098577, -5.8719707 ], dtype=float32),\n",
       "  'neutral'),\n",
       " ('you just directed me to your mobile website. Where is the direct link? GET IT TOGETHER!',\n",
       "  array([-3.6403358e-03, -5.7830667e+00, -7.4974904e+00], dtype=float32),\n",
       "  'negative'),\n",
       " ('why de-ice before taxing? Maybe it #makestoomuchsense ? #shouldhaveflowndelta #unitedsucks @Delta @SouthwestAir @AmericanAir',\n",
       "  array([-0.54302406, -0.8854183 , -5.0406075 ], dtype=float32),\n",
       "  'negative'),\n",
       " (\"according to @wtop DCA seems to be recovering nicely from yesterday's snow so why are you Cancelled Flightling flights out there?\",\n",
       "  array([-5.9486963e-03, -5.1849775e+00, -8.0135126e+00], dtype=float32),\n",
       "  'negative'),\n",
       " ('I have the DM from @SouthwestVerity if needed',\n",
       "  array([-5.4083247 , -0.00861854, -5.4961925 ], dtype=float32),\n",
       "  'neutral'),\n",
       " (\"And yet we still haven't left yet and I can't watch my pre-paid DirectTV. #firstworldproblems\",\n",
       "  array([-2.2701463e-03, -6.2507219e+00, -7.9908881e+00], dtype=float32),\n",
       "  'negative'),\n",
       " (\"you're my early frontrunner for best airline! #oscars2016\",\n",
       "  array([-6.3316183 , -5.30053   , -0.00679113], dtype=float32),\n",
       "  'positive'),\n",
       " ('#bullying in the #workforce not ok. Get gate agents 2 work as a team. 2 against 1 is never cool. #Delays #flights #UnitedAirlines',\n",
       "  array([-1.6807490e-03, -6.7360368e+00, -7.6171165e+00], dtype=float32),\n",
       "  'negative'),\n",
       " ('@poisonpill76 im in same boat.. 8am flight to Jacksonville... Get me out of here!!',\n",
       "  array([-7.2286492e-03, -5.0158443e+00, -7.4688506e+00], dtype=float32),\n",
       "  'negative'),\n",
       " ('Sounds like  @USAirways should have planned better since this weather was no surprise. Completely unacceptable wait times!!!',\n",
       "  array([-2.1266956e-03, -6.6680403e+00, -7.0661545e+00], dtype=float32),\n",
       "  'negative'),\n",
       " (\"thanks for your attention, I've been flying southwest for 3 years and haven't had this issue in the past.\",\n",
       "  array([-0.15220335, -2.8392582 , -2.4923258 ], dtype=float32),\n",
       "  'negative'),\n",
       " ('no they offered the flight (4/19), I paid, then they changed it.This is the 2nd  time you have done this to me. ruins cruise plans',\n",
       "  array([-1.819504e-03, -6.610664e+00, -7.658570e+00], dtype=float32),\n",
       "  'negative'),\n",
       " ('2 hour flight from FLL to Ewr, 1242, now waiting 1 hour plus for bags, no sign yet. What gives????',\n",
       "  array([-1.6963391e-03, -6.5596757e+00, -8.1856642e+00], dtype=float32),\n",
       "  'negative'),\n",
       " (\"at LAX &amp; just got off the phone w/reservations. Every flight that'd get me to BOS before 11 am tmrw is apparently unavailable __\",\n",
       "  array([-6.9918013e-03, -5.0673246e+00, -7.3109541e+00], dtype=float32),\n",
       "  'negative'),\n",
       " (\"who's in charge of your company? My wife missed her connection to CA you sent her luggage on another flight\",\n",
       "  array([-2.1924763e-03, -6.3253813e+00, -7.8246293e+00], dtype=float32),\n",
       "  'negative'),\n",
       " ('Hi! I just saw a Black History month commercial on TV &amp; Im excited! In support of this month,will you all grant me 1 free trip',\n",
       "  array([-6.1271205 , -0.30019486, -1.3581218 ], dtype=float32),\n",
       "  'neutral'),\n",
       " ('sent',\n",
       "  array([-4.95162   , -0.01394564, -4.9942384 ], dtype=float32),\n",
       "  'neutral'),\n",
       " ('will you review your systems re notification? The website and telephone systems you have in place are clearly inadequate.',\n",
       "  array([-2.4121494e-03, -6.1926041e+00, -7.9164710e+00], dtype=float32),\n",
       "  'negative'),\n",
       " (\"great job getting flight 28 in 10 minutes early. Too bad we're at 50 minutes and counting waiting for our bags.\",\n",
       "  array([-0.00713976, -6.329885  , -5.234023  ], dtype=float32),\n",
       "  'negative'),\n",
       " ('sorry, I meant flight 4420, which was supposed to depart at 5:00, now says 6:30. What is the issue?',\n",
       "  array([-0.01129495, -4.527929  , -7.7555785 ], dtype=float32),\n",
       "  'negative'),\n",
       " ('FIND A WAY TO Cancelled Flight FLIGHT 310!!!!!!!',\n",
       "  array([-0.01421975, -4.3193417 , -7.1178765 ], dtype=float32),\n",
       "  'negative'),\n",
       " ('@AmericanAir you should partner w/ a different hotel in PHL, the clarion is proving to be very difficult &amp; not customer friendly',\n",
       "  array([-1.5661367e-03, -6.8157511e+00, -7.6658287e+00], dtype=float32),\n",
       "  'negative'),\n",
       " ('@NY_NJairports AA1224: 45 mins for Priority bags to arrive, now Late Flight for evening plans! Delta 20 min bag guarantee anyone? :(',\n",
       "  array([-3.0422378e-03, -5.8738041e+00, -8.3973217e+00], dtype=float32),\n",
       "  'negative'),\n",
       " (\"if you're going to charge for wifi, do us all a solid and make sure it doesn't take the length of the flight to open a page\",\n",
       "  array([-6.0188472e-03, -5.2914591e+00, -6.9420323e+00], dtype=float32),\n",
       "  'negative'),\n",
       " (\"cutest salt and pepper shaker ever. Just when I think you guys can't get any better you just do! http://t.co/vC6Keulg2J\",\n",
       "  array([-5.682166  , -5.016124  , -0.01008711], dtype=float32),\n",
       "  'positive'),\n",
       " (' Brazil to volunteer teaching english &amp; spanish to Poor children so they have a skills to improve their chances of a better life.',\n",
       "  array([-3.9330952, -0.0303604, -4.5735626], dtype=float32),\n",
       "  'neutral'),\n",
       " ('Just checking in again - what is the status of our claim.   It is going on 2 months with no attention to this?   We are very upset.',\n",
       "  array([-2.2354156e-03, -6.2497072e+00, -8.1056786e+00], dtype=float32),\n",
       "  'negative'),\n",
       " (' Called JB 3 times!Everytime, Auto Vmsg:\"your wait time should not be longer than 9 mins\" waited longer than 18 mins and no answer!',\n",
       "  array([-1.3398489e-03, -6.8916998e+00, -8.0386600e+00], dtype=float32),\n",
       "  'negative'),\n",
       " ('@perfectomobile I have to admit that not only the app is good but have lots of useful func (such the \"live\" seat map). Congrats',\n",
       "  array([-5.398743  , -5.3611035 , -0.00926068], dtype=float32),\n",
       "  'positive'),\n",
       " ('can you outline the policies for both scenarios?',\n",
       "  array([-4.885026  , -0.01046539, -5.859782  ], dtype=float32),\n",
       "  'neutral'),\n",
       " (\"is not a company that values it's customer &amp; after reading tweets to them I'm not the only one who feels that way #lostmybusiness\",\n",
       "  array([-0.01050726, -4.983772  , -5.62571   ], dtype=float32),\n",
       "  'negative'),\n",
       " ('how about free wifi on flt 1254 out of PBI to make up for 2.5 hr delay? Treat us right.',\n",
       "  array([-2.1621441e-03, -6.3161173e+00, -7.9496698e+00], dtype=float32),\n",
       "  'negative'),\n",
       " (\"I'm rebooked. Getting home 4 hours Late Flightr then planned. What are the chances I'll ever see my bag again? #unhappytraveler\",\n",
       "  array([-1.912433e-03, -6.435484e+00, -8.088701e+00], dtype=float32),\n",
       "  'negative'),\n",
       " ('so you fail again flight to rdu sitting waiting on flight attendants. your logistics are not good',\n",
       "  array([-2.2427901e-03, -6.3676353e+00, -7.5538497e+00], dtype=float32),\n",
       "  'negative'),\n",
       " ('flight is delayed 5 hours. No reason given. Sure love flying with your airline. #whatajoke',\n",
       "  array([-2.4714898e-03, -6.3060412e+00, -7.3491077e+00], dtype=float32),\n",
       "  'negative'),\n",
       " ('Any way that I can get a receipt for a Cancelled Flightled portion of a roundtrip flight? Used the flight voucher just need receipt.',\n",
       "  array([-4.053515  , -0.02100601, -5.676443  ], dtype=float32),\n",
       "  'neutral'),\n",
       " (\"trying to get home is beyond complicated. It's should not be this hard. Students are split up and we will not fly AA ever again\",\n",
       "  array([-1.5768487e-03, -6.6730657e+00, -8.0753622e+00], dtype=float32),\n",
       "  'negative'),\n",
       " (\"Can you not? __JetBlue: Our fleet's on fleek. http://t.co/udPq0flIQo_\",\n",
       "  array([-2.0253818 , -0.33752668, -1.867409  ], dtype=float32),\n",
       "  'neutral'),\n",
       " ('I had to change airports to actually get a flight out when my flight from FAY was Cancelled Flightled twice. $180 taxi ride to RDU--reimburse?',\n",
       "  array([-2.0542489e-03, -6.2964230e+00, -8.4721985e+00], dtype=float32),\n",
       "  'negative'),\n",
       " ('I cant get anyone on the phone to help with award travel.Purchased extra miles and 10 minutes Late Flightr the miles needed was raised.',\n",
       "  array([-2.1553636e-03, -6.3066015e+00, -8.0200157e+00], dtype=float32),\n",
       "  'negative'),\n",
       " ('you can do better than this. And you can do better for me and all the passengers. #flight108 jfk to pwm.',\n",
       "  array([-0.00602619, -5.9248896 , -5.703015  ], dtype=float32),\n",
       "  'negative'),\n",
       " ('117 days maybe.',\n",
       "  array([-1.1607567 , -0.38127914, -5.582348  ], dtype=float32),\n",
       "  'neutral'),\n",
       " ('So frustrating because I still have not gotten them back. Why my bag was sent to NY is a mystery!  Shame on me this time!',\n",
       "  array([-1.9721598e-03, -6.4812603e+00, -7.7327285e+00], dtype=float32),\n",
       "  'negative'),\n",
       " ('#OrthoDoc on-call to in-flight! Glad to have been of service!',\n",
       "  array([-6.6407094 , -5.211884  , -0.00678047], dtype=float32),\n",
       "  'positive'),\n",
       " ('Is it possible to earn Dividend Miles for a passenger that is not me, even if I am purchasing the tickets?',\n",
       "  array([-1.4171561 , -0.28084102, -6.011961  ], dtype=float32),\n",
       "  'neutral'),\n",
       " ('using social business roadmap to develop intelligent path to embed social across enterprise #RaganDisney',\n",
       "  array([-4.991335  , -0.03816994, -3.4849901 ], dtype=float32),\n",
       "  'neutral'),\n",
       " ('flight 790 you had us stuck on the plane for nearly 4 hrs. Set to take off only for flight control to deny us. THE WORST SERVICE',\n",
       "  array([-1.7764277e-03, -6.7269802e+00, -7.4581733e+00], dtype=float32),\n",
       "  'negative'),\n",
       " (\"Capital One and I explained the false fraud alert. Why did the Jet Blue representative issue me a new tkt if it wasn't resolved?\",\n",
       "  array([-2.8387508e-03, -5.9486308e+00, -8.3980637e+00], dtype=float32),\n",
       "  'negative'),\n",
       " ('You guys made my day. Treated me well. Thank you!!!',\n",
       "  array([-6.3395596e+00, -5.6981983e+00, -5.1302221e-03], dtype=float32),\n",
       "  'positive'),\n",
       " ('Has D.C. Thinking About Summer With New Nantucket Service - Broadway World http://t.co/dS22ceeEnj',\n",
       "  array([-5.728764  , -0.01770443, -4.247666  ], dtype=float32),\n",
       "  'neutral'),\n",
       " ('FAIL You Cancelled Flightled our flight frm GJT and then used our reserv home to IAH (from SEA) for reFlight Booking Problems w/out OUR PERMISSION!! #PH6RPS',\n",
       "  array([-1.6847954e-03, -6.6421256e+00, -7.8774152e+00], dtype=float32),\n",
       "  'negative'),\n",
       " (\"still no reply to my email sent on 11th February. Even sent an email asking for acknowledgment that's it been recieved, nothing\",\n",
       "  array([-1.7124050e-03, -6.5151606e+00, -8.3765793e+00], dtype=float32),\n",
       "  'negative'),\n",
       " ('@AmericanAir Your staff members are looking at me like I have two heads. Check your own websites!!! http://t.co/8Hh0c63TIe',\n",
       "  array([-2.0143948e-03, -6.5331178e+00, -7.4914460e+00], dtype=float32),\n",
       "  'negative'),\n",
       " ('@AmericanAir on hold for 8 hours yesterday w/o speaking to an agent on hold again w/ 2 phones ~30 mins let the bashing begin...',\n",
       "  array([-1.9827485e-03, -6.5334773e+00, -7.5486155e+00], dtype=float32),\n",
       "  'negative'),\n",
       " ('you know what would be amazingly awesome? BOS-FLL PLEASE!!!!!!! I want to fly with only you.',\n",
       "  array([-6.7202883 , -3.4642704 , -0.03304195], dtype=float32),\n",
       "  'positive'),\n",
       " ('Designed to deter people from forgetting things or to provide more storage space? The article says the latter #unfriendlyskies',\n",
       "  array([-2.3830130e-03, -6.2336130e+00, -7.7806015e+00], dtype=float32),\n",
       "  'negative'),\n",
       " ('I have a roundtrip ticket now and I need to change one leg of the trip (to a nearby airport) - not possible via website?',\n",
       "  array([-2.20796   , -0.11950272, -5.9094405 ], dtype=float32),\n",
       "  'neutral'),\n",
       " ('Outbound 2 bags 70 lbs bags Returning home 1 bag 50 lbs. What is your logic? And WHY? Am I writing to a Machine? Human HELP required',\n",
       "  array([-3.657558e-03, -5.701823e+00, -8.075979e+00], dtype=float32),\n",
       "  'negative'),\n",
       " ('oops, Sorry, Done,',\n",
       "  array([-2.8296595 , -0.07426885, -4.3784337 ], dtype=float32),\n",
       "  'neutral'),\n",
       " ('I do I was on UA 495 LAX TO DEN - we are scheduled to land LAX @ 7:38 am - please rebook to Denver - best flight',\n",
       "  array([-6.753996  , -2.9163294 , -0.05688597], dtype=float32),\n",
       "  'positive'),\n",
       " ('I have those notifications yet the staff on board say that is not accurate and they have no departure time.',\n",
       "  array([-1.9094583e-03, -6.3871074e+00, -8.4015112e+00], dtype=float32),\n",
       "  'negative'),\n",
       " ('Trying to make the change in advance (not just 24 hours prior)_tried it online earlier and it wanted $300 in change fees.',\n",
       "  array([-0.0706045, -2.6959436, -7.277403 ], dtype=float32),\n",
       "  'negative'),\n",
       " ('and this asshole cut in front of me. Your system blows. http://t.co/7ujt8VTCpa',\n",
       "  array([-1.8270005e-03, -6.8811126e+00, -7.1329575e+00], dtype=float32),\n",
       "  'negative'),\n",
       " ('768 SFO to BOS and no internet it is 2015 what gives?',\n",
       "  array([-3.1956579e-03, -5.8379960e+00, -8.1954069e+00], dtype=float32),\n",
       "  'negative'),\n",
       " (\"you're good. Thank you!\",\n",
       "  array([-6.37091   , -5.0124497 , -0.00840034], dtype=float32),\n",
       "  'positive'),\n",
       " (\"thanks for the response. I know it's not your fault... But Im in ORD in T5 and hungry if you want to stop by ______\",\n",
       "  array([-6.467602  , -3.8033109 , -0.02413884], dtype=float32),\n",
       "  'positive'),\n",
       " ('I would never fly United Airlines again!',\n",
       "  array([-3.7885574e-03, -5.7168965e+00, -7.6178732e+00], dtype=float32),\n",
       "  'negative'),\n",
       " (\"thats because you didnt read my entire tweet. Wife's 12pm flight is now delayed to 6:30.  Thats 3 6+ hour flight delays in 2 weeks\",\n",
       "  array([-1.3615157e-03, -6.8756604e+00, -8.0225458e+00], dtype=float32),\n",
       "  'negative'),\n",
       " ('ruined our honeymoon by causing us to miss our international flight, and now we are stranded.',\n",
       "  array([-2.4119115e-03, -6.2034621e+00, -7.8580723e+00], dtype=float32),\n",
       "  'negative'),\n",
       " (\"That's not weather reLate Flightd.  You are just being nice and blaming the weather.  Airport just wasn't prepared. Investigation time.\",\n",
       "  array([-2.0579367e-03, -6.3470078e+00, -8.0992002e+00], dtype=float32),\n",
       "  'negative'),\n",
       " ('suggest you failures make a HUGE donation to @the_USO  Charlotte, NC as THEY provided GREAT customer service today, unlike you.',\n",
       "  array([-0.01013561, -5.9270163 , -4.903837  ], dtype=float32),\n",
       "  'negative'),\n",
       " ('@ActingOutMgmnt Just make sure they remember to load the bags onto the plane. They Cancelled Flight the flight when they forget...',\n",
       "  array([-2.1275284e-03, -6.3655138e+00, -7.8106594e+00], dtype=float32),\n",
       "  'negative'),\n",
       " (\"the least you could do is make up for what you have caused. You are ruining people's memories! You should be ashamed!\",\n",
       "  array([-1.8391376e-03, -6.7241035e+00, -7.3604150e+00], dtype=float32),\n",
       "  'negative'),\n",
       " ('lies lies....still sitting at the gate, have not moved an inch http://t.co/LulGnwEfFH',\n",
       "  array([-2.4763653e-03, -6.1568313e+00, -7.9450669e+00], dtype=float32),\n",
       "  'negative'),\n",
       " ('this is me and my partners first trip to #NYC I bought the tickets at the same time Please seat us next to each other ConF# ILC0HP',\n",
       "  array([-5.376272  , -0.01353433, -4.7309365 ], dtype=float32),\n",
       "  'neutral'),\n",
       " ('#FirstClass to #London on my way to #LondonFashionWeek #LFW15 __________________',\n",
       "  array([-5.162737  , -0.58662605, -0.8253691 ], dtype=float32),\n",
       "  'neutral'),\n",
       " ('your gif game is strong.',\n",
       "  array([-5.651072  , -4.795444  , -0.01185102], dtype=float32),\n",
       "  'positive'),\n",
       " (\"been on the phone for over an hour with customer service and they can't figure it out! awesome service... NOT!\",\n",
       "  array([-1.6419513e-03, -6.7404976e+00, -7.6873083e+00], dtype=float32),\n",
       "  'negative'),\n",
       " (\"Flight Booking Problems a flight using credit from a previously Cancelled Flightled flight. Can't get thru on the phone and can't book online. Help please.\",\n",
       "  array([-0.00979616, -4.6587586 , -8.216692  ], dtype=float32),\n",
       "  'negative'),\n",
       " ('your service in Philly is unacceptable. Look into better service___ a 16 yr old shouldnt have a hard time http://t.co/WDAKTmr7Mj',\n",
       "  array([-1.8869705e-03, -6.5688653e+00, -7.6380057e+00], dtype=float32),\n",
       "  'negative'),\n",
       " ('we showed up to our flight several hours early. Tried to call &amp; was on hold 15 min b/f call disconnected.',\n",
       "  array([-1.9689475e-03, -6.4206538e+00, -7.9880528e+00], dtype=float32),\n",
       "  'negative'),\n",
       " ('need help. Never got tickets. Conf #ggqzqd',\n",
       "  array([-1.5880193 , -0.23175552, -5.979514  ], dtype=float32),\n",
       "  'neutral'),\n",
       " ('Some 3rd party service known as EZEE flights. A man, who confirmed he was born in India, told me his name was Steve Wilson.',\n",
       "  array([-2.8212779 , -0.06425668, -5.91234   ], dtype=float32),\n",
       "  'neutral'),\n",
       " ('Hey, friends. When I phone the A-list number your IVR hangs up on me. Multiple times. Not sure how to proceed?',\n",
       "  array([-2.0542489e-03, -6.4197826e+00, -7.7678308e+00], dtype=float32),\n",
       "  'negative'),\n",
       " ('I sent email to customer.relations@aa.com. Will this work?',\n",
       "  array([-4.426595  , -0.01468492, -5.943608  ], dtype=float32),\n",
       "  'neutral'),\n",
       " ('btw, her name was Samantha and she won over everyone on the flight',\n",
       "  array([-6.13424   , -4.3789177 , -0.01481554], dtype=float32),\n",
       "  'positive'),\n",
       " ('flight veers off icy runway at @dfwairport. Most DFW flights Cancelled Flighted Mon http://t.co/Q37pOWn6uv @Cowboycerrone figures right?',\n",
       "  array([-7.628358e-03, -4.923948e+00, -8.019501e+00], dtype=float32),\n",
       "  'negative'),\n",
       " ('Do you still offer discounts on seats for children under 2? We would rather put him in a seat than in a lap!',\n",
       "  array([-0.39248767, -1.1313651 , -6.1983585 ], dtype=float32),\n",
       "  'negative'),\n",
       " ('Late Flight crew into #btv last nite delayed todays flt. Will miss connection to #cun. Why do I have to play for hotel tonight in #ewr?',\n",
       "  array([-3.1083147e-03, -5.8711309e+00, -8.1672411e+00], dtype=float32),\n",
       "  'negative'),\n",
       " ('she needs a wheelchair at the gate for sure. What options does she have?',\n",
       "  array([-4.364549  , -0.01665392, -5.573901  ], dtype=float32),\n",
       "  'neutral'),\n",
       " ('status of flight 684 from MCO to LGA tomorrow?',\n",
       "  array([-6.163807  , -0.00855531, -5.049176  ], dtype=float32),\n",
       "  'neutral'),\n",
       " ('@KyleJudah I just spoke to the baggage claim center and they gave me travel credit but will not be responsible for the cost of a',\n",
       "  array([-0.00811163, -4.8631988 , -7.9487047 ], dtype=float32),\n",
       "  'negative'),\n",
       " ('Another customer non service from you. If we waited for you to solve the problem we would miss the funeral. You suck!',\n",
       "  array([-2.1247924e-03, -6.5162249e+00, -7.3489265e+00], dtype=float32),\n",
       "  'negative'),\n",
       " ('amazing flying over 25,000 miles on #UnitedAirlines &amp; alliance last year; still got jilted out of status! #moneyelsewhere',\n",
       "  array([-6.2773848 , -4.950202  , -0.00900068], dtype=float32),\n",
       "  'positive'),\n",
       " (\"you really do have a culture problem. Everyone I tried to work with blamed someone else or told me how they're short staffed\",\n",
       "  array([-2.5070447e-03, -6.2425332e+00, -7.4893618e+00], dtype=float32),\n",
       "  'negative'),\n",
       " (\"I start a new job tomorrow &amp; you Cancelled Flight my flight (1629 BWI-LAX) and you really can't get me on another flight today ?!\",\n",
       "  array([-1.4851979e-03, -6.7832365e+00, -7.9533291e+00], dtype=float32),\n",
       "  'negative'),\n",
       " ('this flight has been amazing. This is the best flight I have ever been on I am not kidding. Service is INCREDIBLE!',\n",
       "  array([-6.6116133e+00, -5.6607418e+00, -4.8362897e-03], dtype=float32),\n",
       "  'positive'),\n",
       " (\"thank you for continuing to be the worst airline out. Didn't need that extra hour of sleep after 29 hours of travel anyway\",\n",
       "  array([-2.2231643e-03, -6.4162674e+00, -7.4424162e+00], dtype=float32),\n",
       "  'negative'),\n",
       " (\"day 3 of this Saga maybe they'll finally make it home.Intentional or not it not gonna get them back there vacation days #badservice\",\n",
       "  array([-2.1678535e-03, -6.3243356e+00, -7.8927889e+00], dtype=float32),\n",
       "  'negative'),\n",
       " (\"yes! I'll be sending an email to customer service today.\",\n",
       "  array([-4.306644  , -0.03942205, -3.681847  ], dtype=float32),\n",
       "  'neutral'),\n",
       " ('So much for Status, EP and 1.5 million miles.  Revenue First class ticket and Im sitting in Coach thanks your rude CS staff',\n",
       "  array([-2.0754244e-03, -6.7364831e+00, -7.0281668e+00], dtype=float32),\n",
       "  'negative'),\n",
       " (\"you don't remember our date Monday night back to NYC? #heartbroken\",\n",
       "  array([-0.04755139, -3.084887  , -7.2597084 ], dtype=float32),\n",
       "  'negative'),\n",
       " (\"I'm try to upgrade my seats to first class but the wait time on the phone is 40 minutes... can you help?\",\n",
       "  array([-2.0059480e-03, -6.3769264e+00, -8.0999250e+00], dtype=float32),\n",
       "  'negative'),\n",
       " ('very frustrated. Bought early bird at 6:30am on day tickets were released and got mid-B ticket. Spend $50 for nothing',\n",
       "  array([-1.6017238e-03, -6.5834041e+00, -8.4338627e+00], dtype=float32),\n",
       "  'negative'),\n",
       " ('so disappointed. Least you could do is give us access to admirals club for an hour before our flight to our wedding!',\n",
       "  array([-1.4566298e-03, -6.9085593e+00, -7.6921372e+00], dtype=float32),\n",
       "  'negative'),\n",
       " ('Another delay. Wow',\n",
       "  array([-2.4774356e-03, -6.2775860e+00, -7.4244537e+00], dtype=float32),\n",
       "  'negative'),\n",
       " (\"I'm sure they did. It's certainly chilly back East today! __\",\n",
       "  array([-3.8447104 , -0.35660404, -1.27813   ], dtype=float32),\n",
       "  'neutral'),\n",
       " ('what is the reason for the delay',\n",
       "  array([-5.198058e-03, -5.330053e+00, -7.984472e+00], dtype=float32),\n",
       "  'negative'),\n",
       " ('ugh always know a way to my heart ____',\n",
       "  array([-6.546452  , -4.6734333 , -0.01083385], dtype=float32),\n",
       "  'positive'),\n",
       " (\"why don't you have driver service to get employees to work in bad weather like hospitals etc #badmgmt #AmericanAirlines\",\n",
       "  array([-1.9668059e-03, -6.4064307e+00, -8.0663052e+00], dtype=float32),\n",
       "  'negative'),\n",
       " ('is probably losing a family of world travelers as customers due to broken processes. @AmericanAir I hope you can fix it',\n",
       "  array([-1.989173e-03, -6.432981e+00, -7.876659e+00], dtype=float32),\n",
       "  'negative'),\n",
       " (\"looks like their inflatable car seats got left on the plane, so I guess they'll be back sometime!! #savethoseseats\",\n",
       "  array([-2.4199748, -0.2800298, -1.8623009], dtype=float32),\n",
       "  'neutral'),\n",
       " ('pleasantly surprised to be boarding my flight on time this morning at @Fly_Nashville. Good job!',\n",
       "  array([-6.7467799e+00, -5.4707537e+00, -5.3972718e-03], dtype=float32),\n",
       "  'positive'),\n",
       " ('thanks, me too',\n",
       "  array([-6.110615  , -3.8167913 , -0.02451556], dtype=float32),\n",
       "  'positive'),\n",
       " ('I sent you a DM, can you please help.',\n",
       "  array([-4.012682 , -0.0217373, -5.678728 ], dtype=float32),\n",
       "  'neutral'),\n",
       " (\"Any idea when the winter advisory will be posted for ATL for tomorrow (2/25)?? I'd rather get to PHL tonight.\",\n",
       "  array([-5.7308674 , -0.00843581, -5.267566  ], dtype=float32),\n",
       "  'neutral'),\n",
       " (\"That's why I love JetBlue! #truebluemember4life\",\n",
       "  array([-6.498567  , -4.805476  , -0.00973761], dtype=float32),\n",
       "  'positive'),\n",
       " ('thanks for making everyone wait in the dark for an hour while Newark tries to figure out which gate to go to. #incompetence',\n",
       "  array([-2.1900972e-03, -6.5638299e+00, -7.1598539e+00], dtype=float32),\n",
       "  'negative'),\n",
       " (\"many people on Ua6318 are going to miss connections due to long wait time in SFO tarmac. Seriously u can't find an empty gate?\",\n",
       "  array([-2.1983047e-03, -6.3858929e+00, -7.5795741e+00], dtype=float32),\n",
       "  'negative'),\n",
       " ('well but for now the only thng we can do is wait for someone to explain us the situation with responsibility http://t.co/ML1JaCpmch',\n",
       "  array([-2.6675614e-03, -6.1961746e+00, -7.3749037e+00], dtype=float32),\n",
       "  'negative'),\n",
       " ('yes I do I am traveling to Marsh Harbor',\n",
       "  array([-4.929641  , -0.01168479, -5.4289618 ], dtype=float32),\n",
       "  'neutral'),\n",
       " ('we have no choice but to pay another $50 to go to the airport in the hopes that we will be treated better by a rep.',\n",
       "  array([-4.2101801e-03, -5.6100183e+00, -7.5233417e+00], dtype=float32),\n",
       "  'negative'),\n",
       " ('just leave certain things to the kids.',\n",
       "  array([-1.2643752 , -0.34010023, -5.13529   ], dtype=float32),\n",
       "  'neutral'),\n",
       " ('THANK YOU FOR ALL THE HELP!  :P You guys are the best.  #americanairlines #americanair',\n",
       "  array([-6.3325791e+00, -5.4548345e+00, -6.0714572e-03], dtype=float32),\n",
       "  'positive'),\n",
       " (\"why won't the site let me book tickets for nov for jfk to kin?\",\n",
       "  array([-2.5006235e-03, -6.1810656e+00, -7.7535200e+00], dtype=float32),\n",
       "  'negative'),\n",
       " (\"can I bring a copy or photo of my baby's birth certificate for the flight? I feel uncomfortable traveling with the real thing.\",\n",
       "  array([-0.1167327, -2.2136843, -7.035863 ], dtype=float32),\n",
       "  'negative'),\n",
       " ('why Cancelled Flight flight VX413? One sec its delayed, on my to airport, the next its Cancelled Flightled?Gonna email or call me to reschedule?',\n",
       "  array([-2.1721357e-03, -6.3418589e+00, -7.8024831e+00], dtype=float32),\n",
       "  'negative'),\n",
       " ('Ahah______ That is why\\nI love SW___(^^)_',\n",
       "  array([-6.6512284, -4.2017875, -0.0163949], dtype=float32),\n",
       "  'positive'),\n",
       " ('I used to be a committed #ContinentalAirlines flyer until merger. I remember now why I switched to @SouthwestAir #CommunicationFail',\n",
       "  array([-0.41041955, -1.1115324 , -4.883054  ], dtype=float32),\n",
       "  'negative'),\n",
       " ('it was 639',\n",
       "  array([-0.96654636, -0.49182433, -4.8164234 ], dtype=float32),\n",
       "  'neutral'),\n",
       " ('&lt;3 RT @SouthwestAir! @danihampton Sorry to hear about the WiFi connection, Dani. Please DM us your conf # so we can help you. Thanks!',\n",
       "  array([-6.7011685 , -1.4359951 , -0.27326378], dtype=float32),\n",
       "  'positive'),\n",
       " ('I did set up notifications through AA &amp; Us airways. still nothing',\n",
       "  array([-4.5877201e-03, -5.4514236e+00, -8.1557102e+00], dtype=float32),\n",
       "  'negative'),\n",
       " ('1st flight of the morning, flying with a toddler. Will the plane be heated to a comfortable temp before boarding starts. #ItsCold',\n",
       "  array([-5.728218  , -0.02952475, -3.6558213 ], dtype=float32),\n",
       "  'neutral'),\n",
       " ('pls get me back to Tallahassee:( no one should ever have to be stranded in Gainesville for this long__',\n",
       "  array([-0.33724943, -1.2709994 , -5.16411   ], dtype=float32),\n",
       "  'negative'),\n",
       " ('I know where that is! Alas I live far, far away now. #Books',\n",
       "  array([-1.3572834, -0.3858099, -2.7687364], dtype=float32),\n",
       "  'neutral'),\n",
       " ('help. I was On  Flight  27 from JKF tonight. seat 7C left portfolio. Need it back!!',\n",
       "  array([-2.2039573 , -0.11902162, -6.2948475 ], dtype=float32),\n",
       "  'neutral'),\n",
       " ('603 &amp; 2705 DFW to PSP thank you!',\n",
       "  array([-6.831239  , -3.7779741 , -0.02423996], dtype=float32),\n",
       "  'positive'),\n",
       " ('Jason (108639) at Gate #3 in SAN made my afternoon!!! #southwestairlines #stellarservice #thanks!',\n",
       "  array([-6.6376476 , -4.9115644 , -0.00870883], dtype=float32),\n",
       "  'positive'),\n",
       " ('narrowly made standby...lots of snags this trip!',\n",
       "  array([-0.00876543, -4.8022428 , -7.569816  ], dtype=float32),\n",
       "  'negative'),\n",
       " (\"not Cancelled Flightling #837 because you don't want to put us in a hotel for night is our guess\",\n",
       "  array([-4.4656079e-03, -5.5023894e+00, -7.8789754e+00], dtype=float32),\n",
       "  'negative'),\n",
       " (\"I filled in the form on the website too. Darn it all. I guess I'll just have to cross my fingers.\",\n",
       "  array([-3.6806576, -0.0396306, -4.29408  ], dtype=float32),\n",
       "  'neutral'),\n",
       " ('DM sent.',\n",
       "  array([-5.0471516 , -0.01362348, -4.9471693 ], dtype=float32),\n",
       "  'neutral'),\n",
       " ('re-staff and commence new policies because your industry is so embarrassed by you.',\n",
       "  array([-1.9578829e-03, -6.5679274e+00, -7.5033326e+00], dtype=float32),\n",
       "  'negative'),\n",
       " (\" MY FLIGHT #2962 OUT OF CLL @ 0600 WON'T LET ME CHECK IN. PLEASE HELP. #IMPORTANTFLIGHT\",\n",
       "  array([-4.3694740e-03, -5.4899974e+00, -8.3686829e+00], dtype=float32),\n",
       "  'negative'),\n",
       " ('LACMA on Fairfax.',\n",
       "  array([-4.1670394 , -0.04735301, -3.4818246 ], dtype=float32),\n",
       "  'neutral'),\n",
       " ('been waiting for 70 minutes on hold because yall Cancelled Flightled my return flight. Answer the phone!!!',\n",
       "  array([-2.1920004e-03, -6.5155759e+00, -7.2511239e+00], dtype=float32),\n",
       "  'negative'),\n",
       " ('@contactcej thanks!',\n",
       "  array([-7.0572977, -4.492322 , -0.012129 ], dtype=float32),\n",
       "  'positive'),\n",
       " (\"I'm so upset that my luggage was damaged and the rude employee at the Laguardia airport didn't help!\",\n",
       "  array([-1.8284285e-03, -6.5844116e+00, -7.7174826e+00], dtype=float32),\n",
       "  'negative'),\n",
       " ('your wifi is a lie and i hate you',\n",
       "  array([-2.2458825e-03, -6.4109988e+00, -7.4186249e+00], dtype=float32),\n",
       "  'negative'),\n",
       " ('after losing my bags for 4 days&amp;charging me $475 to\"arrange pick up\"in argentina,claiming tollfree: won\\'t reimburse me. Help!',\n",
       "  array([-1.5275726e-03, -6.6733189e+00, -8.2462654e+00], dtype=float32),\n",
       "  'negative'),\n",
       " ('not sure why I would bother when the agent at the airport didnt help &amp; nobody on phone would. Ticket Cancelled Flightled for no reason.',\n",
       "  array([-2.0757811e-03, -6.3846245e+00, -7.8588910e+00], dtype=float32),\n",
       "  'negative'),\n",
       " ('I have been on phone with rep for over 30 min and was transferred after asking not to be. She was the worse rep I ever had',\n",
       "  array([-1.8888743e-03, -6.5550585e+00, -7.6752896e+00], dtype=float32),\n",
       "  'negative'),\n",
       " (\"On hold over 2 hrs and got cutoff !Cancelled Flightled my flight, now can't get to booked cruise in Florida! Terrible customer service!\",\n",
       "  array([-2.5441442e-03, -6.2324677e+00, -7.4587321e+00], dtype=float32),\n",
       "  'negative'),\n",
       " (\"Thank You. We'll be in touch! #MoveAboutTheCountry\",\n",
       "  array([-6.8607783 , -4.546844  , -0.01171707], dtype=float32),\n",
       "  'positive'),\n",
       " ('wanted to connect to discuss sponsorship opportunities with http://t.co/q6Xedzvhh9, silicon valleys only 10 day film festival',\n",
       "  array([-5.9278374 , -0.02373858, -3.8730514 ], dtype=float32),\n",
       "  'neutral'),\n",
       " ('counter agents at RDU deserve a medal. #thankyou',\n",
       "  array([-6.024454  , -4.3017473 , -0.01609253], dtype=float32),\n",
       "  'positive'),\n",
       " ('how do I see your report team?',\n",
       "  array([-2.755753  , -0.06817974, -6.054917  ], dtype=float32),\n",
       "  'neutral'),\n",
       " ('order @FARE (3/3)',\n",
       "  array([-4.769947  , -0.01671301, -4.8167205 ], dtype=float32),\n",
       "  'neutral'),\n",
       " ('Club DEN, East or West, both are disgusting. http://t.co/XijYrPsLZK',\n",
       "  array([-5.855905e-03, -5.425480e+00, -6.546042e+00], dtype=float32),\n",
       "  'negative'),\n",
       " ('I respect the stress of a merger but one rep to reschedule/replane 15 ppl who are already Late Flight? #youcandobetter',\n",
       "  array([-1.6874135e-03, -6.6066699e+00, -8.0025091e+00], dtype=float32),\n",
       "  'negative'),\n",
       " ('my flight is Cancelled Flightled due to weather. What next ?',\n",
       "  array([-3.4148733e-03, -5.7580066e+00, -8.2875013e+00], dtype=float32),\n",
       "  'negative'),\n",
       " ('u would not be able to rebook me to get home any sooner than a now 2hr delayed flight.  #linesforever #customerservice #fail #again',\n",
       "  array([-1.8149823e-03, -6.6430163e+00, -7.5806398e+00], dtype=float32),\n",
       "  'negative'),\n",
       " ('Been dealing w/ @americanair to solve the probs your team created. Your Manch, NH staff is clearly your C-team, btw. #NotEvenJV',\n",
       "  array([-0.0369313, -4.448705 , -3.7064755], dtype=float32),\n",
       "  'negative'),\n",
       " ('the dinner and called me \"hon\". Not the service I would expect from 1st class.  #disappointed',\n",
       "  array([-2.7115503e-03, -6.1571212e+00, -7.4360905e+00], dtype=float32),\n",
       "  'negative'),\n",
       " ('landed at Phoenix, but we had to board a flight quickly to Vegas so no time at the airport. What now?',\n",
       "  array([-4.0055057e-03, -5.6505141e+00, -7.6380000e+00], dtype=float32),\n",
       "  'negative'),\n",
       " ('totally would have.... but the outside view was even more camera ready haha #EvenMoreSpace #EvenMoreView http://t.co/dXuX6DBfd3',\n",
       "  array([-4.7745295 , -4.778893  , -0.01699093], dtype=float32),\n",
       "  'positive'),\n",
       " ('Having an issue finding a missing item on a plane. Can you help me find which airport my plane headed to next?',\n",
       "  array([-0.01121302, -4.5363083 , -7.73418   ], dtype=float32),\n",
       "  'negative'),\n",
       " (\"apparently sleeping in B terminal wasn't the worst situation. Someone told other UA passengers they had to sleep at baggage claim.\",\n",
       "  array([-2.6987107e-03, -6.0378637e+00, -8.0840330e+00], dtype=float32),\n",
       "  'negative'),\n",
       " ('Left my computer on the plane. Two weeks Late Flightr they found it and sent it to me. #greatservice.  #happy #customer',\n",
       "  array([-4.7831035 , -4.6811585 , -0.01779566], dtype=float32),\n",
       "  'positive'),\n",
       " (\"better do the right thing and take care of @Cowboycerrone or els you're losing business!!!!\",\n",
       "  array([-2.6526998e-03, -6.1460319e+00, -7.5865426e+00], dtype=float32),\n",
       "  'negative'),\n",
       " ('#DestinationDragons @Imaginedragons Scavenger Hunt Vegas, BE READY!!! http://t.co/vHgkiTzSaw',\n",
       "  array([-5.9124575 , -0.01571826, -4.3513136 ], dtype=float32),\n",
       "  'neutral'),\n",
       " (\"the best is your 800 message saying to use website and your website is saying you need to call.  If you don't answer, #hardtodo\",\n",
       "  array([-2.0158226e-03, -6.5592136e+00, -7.4239197e+00], dtype=float32),\n",
       "  'negative'),\n",
       " (\"love how you can't get an agent on the phone and the automated system hangs up on you\",\n",
       "  array([-1.5123370e-03, -6.8631167e+00, -7.6723337e+00], dtype=float32),\n",
       "  'negative'),\n",
       " (\"@AmericanAir won't even refund for a flight they Cancelled Flightled #horriblecustomerservice\",\n",
       "  array([-1.7832107e-03, -6.6920800e+00, -7.5222535e+00], dtype=float32),\n",
       "  'negative'),\n",
       " ('I am scheduled for the morning, 2 days after the fact, yes..not sure why my evening flight was the only one Cancelled Flightled',\n",
       "  array([-3.2051641e-03, -5.8253517e+00, -8.3009863e+00], dtype=float32),\n",
       "  'negative'),\n",
       " ('flight 1614 FLL to ATL. My wife traveling with infant. Line to check baggage 200 people long due to your computer system crash',\n",
       "  array([-2.2587283e-03, -6.2797089e+00, -7.8693271e+00], dtype=float32),\n",
       "  'negative'),\n",
       " ('Pres/CEO Gary Kelly at #TheRoFo addressing 2000 of his BWI based employees. @cbsbaltimore http://t.co/OI32uq2tTZ',\n",
       "  array([-4.7473464 , -0.08177601, -2.6614475 ], dtype=float32),\n",
       "  'neutral'),\n",
       " ('yea they been booked on 10 next avalible flights since sat 7am. And when time comes no plane 2nd day of work missed #hotelliving',\n",
       "  array([-2.2982156e-03, -6.3015165e+00, -7.6798840e+00], dtype=float32),\n",
       "  'negative'),\n",
       " ('I am heading to JFK now just on principle alone to deal w my lost &amp; damaged bag. #jetblue #jetbluesucks #jfk #badservice #fail',\n",
       "  array([-1.6367147e-03, -6.6943340e+00, -7.8302441e+00], dtype=float32),\n",
       "  'negative'),\n",
       " ('Adds Pillows Instead of Lie-Flat Seats in First Class Arms Race \\nhttp://t.co/SfjDuahx9Z by @skift',\n",
       "  array([-4.9718285 , -0.01615377, -4.700198  ], dtype=float32),\n",
       "  'neutral'),\n",
       " ('as far as being delayed goes_ Looks like tailwinds are going to make up for it. Good news!',\n",
       "  array([-0.08951395, -3.0153787 , -3.3077817 ], dtype=float32),\n",
       "  'negative'),\n",
       " (\"great job today In ruining 45 people's vacation. Thanks to your incompetent pilot and staff we have all now missed our flights\",\n",
       "  array([-1.9413450e-03, -6.6765256e+00, -7.2943225e+00], dtype=float32),\n",
       "  'negative'),\n",
       " ('Another dead end.  They only handle AA L&amp;F.  They gave me the same failed # I already had. 610-362-7498(99) VM full.  #lost',\n",
       "  array([-1.9634748e-03, -6.4483681e+00, -7.8795037e+00], dtype=float32),\n",
       "  'negative'),\n",
       " (\"I need assistance with pulling your agents' heads out of their asses\",\n",
       "  array([-5.7422440e-03, -5.4511089e+00, -6.5470676e+00], dtype=float32),\n",
       "  'negative'),\n",
       " (\" I open the credit card and earn 44,000+ miles, and you wont' credit the miles to my account to restore the forfeited miles\",\n",
       "  array([-2.3977598e-03, -6.1657605e+00, -8.1289749e+00], dtype=float32),\n",
       "  'negative'),\n",
       " ('I thought about moving a lot of business over too, but first impressions count.. Glad it was miles and not cash.',\n",
       "  array([-0.02459652, -3.766809  , -6.7500587 ], dtype=float32),\n",
       "  'negative'),\n",
       " ('Not a happy flyer.  UA flight 1161 from SFO to Cleveland.  Sunday 2/22.  Stay tuned for blog article from http://t.co/VdFdODqVGx',\n",
       "  array([-0.01196552, -4.4676776 , -7.77467   ], dtype=float32),\n",
       "  'negative'),\n",
       " ('@superyan I did hear a last call for boarding of this flight when I was at JFK a few hours ago. good luck w/flights!',\n",
       "  array([-4.0561295 , -0.02058943, -5.78834   ], dtype=float32),\n",
       "  'neutral'),\n",
       " (\"Well, to the degree that he could... Just to know, after this experience I'm Cancelled Flighting my miles card. Thank god for @Delta\",\n",
       "  array([-0.01714375, -4.4387136 , -5.2616925 ], dtype=float32),\n",
       "  'negative'),\n",
       " (' I heard a rumor flight 898 was Cancelled Flightled.  Is this true?',\n",
       "  array([-1.0695988 , -0.42286208, -6.386117  ], dtype=float32),\n",
       "  'neutral'),\n",
       " ('45 minutes and moved two feet in BZE. __ http://t.co/AwGjkjIIac',\n",
       "  array([-0.05981479, -2.8902044 , -5.9929996 ], dtype=float32),\n",
       "  'negative'),\n",
       " ('and they were traveling as guests of a mileage plus member using that members miles. Great customer service.',\n",
       "  array([-5.5574074 , -5.392502  , -0.00844491], dtype=float32),\n",
       "  'positive'),\n",
       " (\"I just need to get to RIC tonight. I've been in EWR for 24hrs now.\",\n",
       "  array([-2.7258168e-03, -6.0365915e+00, -8.0092783e+00], dtype=float32),\n",
       "  'negative'),\n",
       " ('in a few weeks',\n",
       "  array([-5.405756  , -0.09426191, -2.4596488 ], dtype=float32),\n",
       "  'neutral'),\n",
       " (\"site errored out at last step of changing award. Now can't even pull up reservation. 60 minute wait time.  Thanks @United!\",\n",
       "  array([-2.4056088e-03, -6.2878060e+00, -7.5169749e+00], dtype=float32),\n",
       "  'negative'),\n",
       " ('thanks is there a beareavement discount anymore or not should I just book online',\n",
       "  array([-5.7906737 , -0.01912253, -4.142385  ], dtype=float32),\n",
       "  'neutral'),\n",
       " ('dang... I thought I was in a teleportation device! Ua514',\n",
       "  array([-0.91336656, -0.52067053, -5.358785  ], dtype=float32),\n",
       "  'neutral'),\n",
       " ('Inconvenience is an understatement. More like torture. Clearly going down the wrong path, JetBlue.',\n",
       "  array([-2.2754986e-03, -6.4175148e+00, -7.3536968e+00], dtype=float32),\n",
       "  'negative'),\n",
       " ('yea, a refund. Your airline ruined our trip.',\n",
       "  array([-2.5538944e-03, -6.2512183e+00, -7.3815947e+00], dtype=float32),\n",
       "  'negative'),\n",
       " (\"that is certainly not the impression she's under.\",\n",
       "  array([-0.00726404, -5.0487065 , -7.106049  ], dtype=float32),\n",
       "  'negative'),\n",
       " ('is there any way me &amp; my best friend could get tickets to #DestinationDragons ? they mean everything in the world to us.',\n",
       "  array([-6.3879633, -0.3120424, -1.322877 ], dtype=float32),\n",
       "  'neutral'),\n",
       " ('@NTrustOpen can i go  #GolfUnited',\n",
       "  array([-5.539336 , -0.0316803, -3.6025345], dtype=float32),\n",
       "  'neutral'),\n",
       " (\"looks like I have. Best I can hope for I guess. It's on us air, so I don't think I'll get miles on Alaska. Which sucks.\",\n",
       "  array([-0.02032314, -3.9498947 , -7.057066  ], dtype=float32),\n",
       "  'negative'),\n",
       " ('want go from New Orleans houston see my dad at md anderson can you help me out',\n",
       "  array([-5.896227  , -0.01087559, -4.819993  ], dtype=float32),\n",
       "  'neutral'),\n",
       " ('thanks for giving away my seat. Another fine job! http://t.co/r7ibqr4CYd',\n",
       "  array([-6.3601270e+00, -5.4102755e+00, -6.2188450e-03], dtype=float32),\n",
       "  'positive'),\n",
       " ('Airline trouble this winter &amp; not getting good customer service? contact http://t.co/aQjn4HwNaC  we negotiate resolutions for You!',\n",
       "  array([-0.02187237, -3.8520274 , -7.828298  ], dtype=float32),\n",
       "  'negative'),\n",
       " ('thanks!!',\n",
       "  array([-6.102347  , -4.0104456 , -0.02057308], dtype=float32),\n",
       "  'positive'),\n",
       " ('why do you let one person board with early bird and save seats for entire party? #notcool #flight2149',\n",
       "  array([-1.8844719e-03, -6.5394888e+00, -7.7345424e+00], dtype=float32),\n",
       "  'negative'),\n",
       " ('can I get your service desk # at IAD?',\n",
       "  array([-4.5294557 , -0.01510491, -5.4715037 ], dtype=float32),\n",
       "  'neutral'),\n",
       " (\"you don't need to cut services, charge more and give a better flying experience. That's why I use jet blue in the first place\",\n",
       "  array([-0.01539936, -4.8583546 , -4.8904266 ], dtype=float32),\n",
       "  'negative'),\n",
       " (\":/ he was trying to take stuff from the under the seat in front of him and bugging out throughout the flight. Didn't feel safe.\",\n",
       "  array([-3.6203812e-03, -5.6974092e+00, -8.2581177e+00], dtype=float32),\n",
       "  'negative'),\n",
       " ('How many tickets are left?',\n",
       "  array([-5.740236  , -0.00791804, -5.365992  ], dtype=float32),\n",
       "  'neutral'),\n",
       " (\"that doesn't look to fat to me! It looks yummy!\",\n",
       "  array([-6.3307533, -3.3232481, -0.0385499], dtype=float32),\n",
       "  'positive'),\n",
       " ('My sister just received a call that her trip Wednesday (flts 2348/3499) was Cancelled Flightled and resched to next day. Why?',\n",
       "  array([-0.09924092, -2.369736  , -6.9380536 ], dtype=float32),\n",
       "  'negative'),\n",
       " (\"flights been Cancelled Flightled, can't get through to the desk and nothing showing online under my reservation - what do I do?\",\n",
       "  array([-2.0139189e-03, -6.3321133e+00, -8.3614902e+00], dtype=float32),\n",
       "  'negative'),\n",
       " ('the ads on your phone systems when waiting for a rep is the most annoying thing ever especially when waiting for over 10 mins...',\n",
       "  array([-1.6062466e-03, -6.7446685e+00, -7.7566762e+00], dtype=float32),\n",
       "  'negative'),\n",
       " ('They were very understanding and helped me out.  Thx! #Comps',\n",
       "  array([-6.2306857 , -5.405148  , -0.00648241], dtype=float32),\n",
       "  'positive'),\n",
       " ('Third straight time that my flight has been delayed flying with you guys. This will be my last trip with you.',\n",
       "  array([-1.8867325e-03, -6.5126843e+00, -7.8226681e+00], dtype=float32),\n",
       "  'negative'),\n",
       " (\"it still says that I can't check into my flight because the information is incorrect but everything is entered correctly\",\n",
       "  array([-2.0444936e-03, -6.3730612e+00, -7.9998703e+00], dtype=float32),\n",
       "  'negative'),\n",
       " ('ok thank you for the quick response JetBlue still the best comp',\n",
       "  array([-6.2018113e+00, -5.8585501e+00, -4.8931139e-03], dtype=float32),\n",
       "  'positive'),\n",
       " ('no hold times, just disconnections.   There is no excuse for that',\n",
       "  array([-2.2429090e-03, -6.2591043e+00, -8.0242519e+00], dtype=float32),\n",
       "  'negative'),\n",
       " (\"Problem is, I wasn't issued a position until today at the gate. And no option to upgrade. Not good when you're 6'4.\",\n",
       "  array([-3.4471871e-03, -5.8071465e+00, -7.7396111e+00], dtype=float32),\n",
       "  'negative'),\n",
       " ('simply amazing. Smiles for miles.Thank u for my upgrade tomorrow for ORD.We are spending a lot of time together next few weeks!',\n",
       "  array([-7.0306921e+00, -5.1248159e+00, -6.8550645e-03], dtype=float32),\n",
       "  'positive'),\n",
       " (\"@united two broken airplanes, two days Late Flightr and I'm stranded after a funeral and missing out on my last semester of #college. __\",\n",
       "  array([-4.4028251e-03, -5.5566530e+00, -7.5398874e+00], dtype=float32),\n",
       "  'negative'),\n",
       " ('I just hope that pilot had a good day off',\n",
       "  array([-0.07922625, -2.6299148 , -5.500551  ], dtype=float32),\n",
       "  'negative'),\n",
       " ('Nope - had to rebook through Houston so I could get to Amarillo before 11pm. Stuck in SFO for four hours.',\n",
       "  array([-2.0822051e-03, -6.3790231e+00, -7.8668485e+00], dtype=float32),\n",
       "  'negative'),\n",
       " ('No thanks.  Took care of it when I called',\n",
       "  array([-2.2668304 , -0.17187837, -2.913631  ], dtype=float32),\n",
       "  'neutral'),\n",
       " (\"I'm on the flight, finally in the air. Not enough food to feed customers. No movie or entertainment on a 5 hr flight.\",\n",
       "  array([-2.1068298e-03, -6.3894749e+00, -7.7622280e+00], dtype=float32),\n",
       "  'negative'),\n",
       " ('first you lost all my bags, now you Cancelled Flight my flight home. 30 min wait to talk to somebody #poorservice #notgoodenough',\n",
       "  array([-2.2037763e-03, -6.4184351e+00, -7.4696941e+00], dtype=float32),\n",
       "  'negative'),\n",
       " (\"thank you for blowing my vacation. Couldn't get me anywhere today to make my reservation and also lost 2 bags of mine!\",\n",
       "  array([-1.6738465e-03, -6.7504702e+00, -7.5967722e+00], dtype=float32),\n",
       "  'negative'),\n",
       " ('we are through. I can quit you. I am. The nonsense &amp; lies are a colossal infringement you can no longer get away with',\n",
       "  array([-2.0336676e-03, -6.4783406e+00, -7.6104832e+00], dtype=float32),\n",
       "  'negative'),\n",
       " ('what are my chances of making a connection to El Paso (AA504) with DFW from SAT (AA200) delayed 30 minutes?',\n",
       "  array([-4.1203136e-03, -5.5772343e+00, -8.0200672e+00], dtype=float32),\n",
       "  'negative'),\n",
       " (\"It is now going to be reported to the police due to the sexual assult sad that you didn't care\",\n",
       "  array([-1.7441788e-03, -6.5456676e+00, -8.0910778e+00], dtype=float32),\n",
       "  'negative'),\n",
       " ('40+ minutes waiting at the gate for the broken jetway. Different gate maybe?',\n",
       "  array([-2.1332381e-03, -6.3188396e+00, -8.0197983e+00], dtype=float32),\n",
       "  'negative'),\n",
       " (\"a confirmed flight. I'm so done! Thanks for nothing!\",\n",
       "  array([-2.3953812e-03, -6.6360745e+00, -6.8305511e+00], dtype=float32),\n",
       "  'negative'),\n",
       " ('took me 4+ hours to book flights yesterday due to system errors between you and @AmericanAir. paid $320 extra due to time lapse',\n",
       "  array([-1.8635303e-03, -6.5437412e+00, -7.7688885e+00], dtype=float32),\n",
       "  'negative'),\n",
       " ('crew did the best they could but it was out of their control. You only get one chance of a honeymoon &amp; you failed miserably',\n",
       "  array([-2.7945298e-03, -6.1408401e+00, -7.3578868e+00], dtype=float32),\n",
       "  'negative'),\n",
       " (\"I'd rather spend two days in the back seat of a Volkswagen than two hours on your plane! #disgruntled #whatacluster\",\n",
       "  array([-1.8732873e-03, -6.5895820e+00, -7.6072030e+00], dtype=float32),\n",
       "  'negative'),\n",
       " (\"I spent an hour on the phone with customer service only to find out that they can't help. Need help with family pooling asap.\",\n",
       "  array([-2.9906570e-03, -5.9670291e+00, -7.7650003e+00], dtype=float32),\n",
       "  'negative'),\n",
       " (\"There is no excuse for leaving a minor to spend the night sobbing (9 hours) in a plastic chair. UA's actions? Terrible. # united\",\n",
       "  array([-1.5406655e-03, -6.7876253e+00, -7.7947812e+00], dtype=float32),\n",
       "  'negative'),\n",
       " ('I spoke with a representative that offered no solution, I am a loyal customer who flies on @VirginAtlantic as well',\n",
       "  array([-0.0228094, -4.841066 , -4.2231317], dtype=float32),\n",
       "  'negative'),\n",
       " (\"@gg8929 so why did you Cancelled Flight tickets for thousands of people when you didn't like the exchange rate? #doublestandards\",\n",
       "  array([-2.2461205e-03, -6.2719126e+00, -7.9433346e+00], dtype=float32),\n",
       "  'negative'),\n",
       " ('save mile to visit family in 2015 and this will impact how many times I can see my mother.  I planned and you change the rules',\n",
       "  array([-2.8007112e-03, -6.0428066e+00, -7.7707477e+00], dtype=float32),\n",
       "  'negative'),\n",
       " (\"looks like you are up and running for the day. Still can't get through on the phone. Can you follow so I can dm you my info\",\n",
       "  array([-5.3225714e-03, -5.3117080e+00, -7.8886824e+00], dtype=float32),\n",
       "  'negative'),\n",
       " (\"your online site doesn't have flights listed in chronological order, resulting in a mis-purchase. Anything that can be done?\",\n",
       "  array([-5.4375841e-03, -5.2688007e+00, -8.2058172e+00], dtype=float32),\n",
       "  'negative'),\n",
       " (\"thanks for the Cancelled Flightation today. Only airline that's Cancelled Flighted. Lost a customer today.\",\n",
       "  array([-4.669951e-03, -5.845538e+00, -6.338878e+00], dtype=float32),\n",
       "  'negative'),\n",
       " ('ripped my suitcase. I then was yelled at with attitude from Geraldine, your employee at the baggage center.Worst airline= #jetblue',\n",
       "  array([-1.3719918e-03, -6.9891996e+00, -7.7079196e+00], dtype=float32),\n",
       "  'negative'),\n",
       " ('what is going on with baggage claim in Newark!#tiredandwanttogohome',\n",
       "  array([-3.1905482e-03, -5.8945036e+00, -7.7496834e+00], dtype=float32),\n",
       "  'negative'),\n",
       " (\"I bought a plane ticket 2 months ago and still haven't received my flight info and ticket in my email when it will come?\",\n",
       "  array([-4.2395005e-03, -5.5223088e+00, -8.3601074e+00], dtype=float32),\n",
       "  'negative'),\n",
       " (\"I'm sure you don't but question still remains why we only found out at 8.20 that crew won't come before 9.50 for 8.10 flt. Tks.\",\n",
       "  array([-1.9395603e-03, -6.3533435e+00, -8.5332127e+00], dtype=float32),\n",
       "  'negative'),\n",
       " ('Thanks!',\n",
       "  array([-6.4421005 , -4.2441154 , -0.01606989], dtype=float32),\n",
       "  'positive'),\n",
       " ('how do you refuse a customer who is willing to pay to upgrade when half of your first class is empty',\n",
       "  array([-2.1649988e-03, -6.5315771e+00, -7.2559819e+00], dtype=float32),\n",
       "  'negative'),\n",
       " (\"rep wouldn't rebook. This is such a waste of time and poor communication\",\n",
       "  array([-1.3119909e-03, -6.8876977e+00, -8.1427402e+00], dtype=float32),\n",
       "  'negative'),\n",
       " ('thats weak. See ya __\\nHey @VirginAmerica !!',\n",
       "  array([-2.407144  , -0.28877404, -1.8279274 ], dtype=float32),\n",
       "  'neutral'),\n",
       " ('How do I get through @TSA to finally board UA 1534?',\n",
       "  array([-4.6138334 , -0.01475717, -5.352766  ], dtype=float32),\n",
       "  'neutral'),\n",
       " ('US 728 then lost ground power three different times. Not only grounded endlessly; now without air, lights, entertainment.',\n",
       "  array([-2.1096847e-03, -6.2978864e+00, -8.2271137e+00], dtype=float32),\n",
       "  'negative'),\n",
       " ('I normally ___ you, but this Late Flightst flight experience was the worst. 2 hours on runway, no wifi &amp; tv not working properly',\n",
       "  array([-2.1139672e-03, -6.3895135e+00, -7.7456565e+00], dtype=float32),\n",
       "  'negative'),\n",
       " (\"not yet. I'm next in the terminal a customer service area.\",\n",
       "  array([-5.4347385e-03, -5.2845249e+00, -7.9558344e+00], dtype=float32),\n",
       "  'negative'),\n",
       " (\"I don't see AA @united\",\n",
       "  array([-1.5578196 , -0.24237725, -5.371918  ], dtype=float32),\n",
       "  'neutral'),\n",
       " ('no flights to HRL :( is this a limited route?',\n",
       "  array([-1.782109 , -0.1875364, -5.9078054], dtype=float32),\n",
       "  'neutral'),\n",
       " ('would you consider honoring the original fare price if I were to try Flight Booking Problems the ticket again?',\n",
       "  array([-1.1170073, -0.3983669, -6.625101 ], dtype=float32),\n",
       "  'neutral'),\n",
       " (\"@British_Airways trying to speak with an agent about my flight to London tonight but can't get anyone from AA.  Can you help?\",\n",
       "  array([-0.00909578, -4.7425904 , -7.991198  ], dtype=float32),\n",
       "  'negative'),\n",
       " ('love them! Always get the best deals!',\n",
       "  array([-6.4087958e+00, -5.4320836e+00, -6.0392278e-03], dtype=float32),\n",
       "  'positive'),\n",
       " (\"Shame that there's no flex to tickets transfer rules.  Even calling from Neurosurgery ICU isn't enough!\",\n",
       "  array([-2.3738558e-03, -6.3234768e+00, -7.4568977e+00], dtype=float32),\n",
       "  'negative'),\n",
       " ('How many 787s do you currently operate and what other aircraft do you operate?',\n",
       "  array([-5.1090903 , -0.01124261, -5.271061  ], dtype=float32),\n",
       "  'neutral'),\n",
       " (\"You guys are totally losing me. I've been an AA fan for years but telling me reps are busy and hanging up on me is really bad.\",\n",
       "  array([-1.7360867e-03, -6.6657820e+00, -7.6824927e+00], dtype=float32),\n",
       "  'negative'),\n",
       " ('you guys rock!! http://t.co/LA397zaoAY',\n",
       "  array([-6.9659433e+00, -5.6793170e+00, -4.3688803e-03], dtype=float32),\n",
       "  'positive'),\n",
       " ('Been trying since 1230 to file a report.',\n",
       "  array([-4.1288612e-03, -5.5965018e+00, -7.8003268e+00], dtype=float32),\n",
       "  'negative'),\n",
       " (\"That's what I planned on but Boston traffic due to recent weather was insane! If I had been expedited I would have made it.\",\n",
       "  array([-2.7966695e-03, -6.0795813e+00, -7.5935173e+00], dtype=float32),\n",
       "  'negative'),\n",
       " ('I need to request a refund on my flight that was Cancelled Flightled this morning due to the weather.',\n",
       "  array([-0.02016648, -3.9465756 , -7.348195  ], dtype=float32),\n",
       "  'negative'),\n",
       " ('flight 1183 to Orlando.',\n",
       "  array([-5.1616745 , -0.01674994, -4.5209804 ], dtype=float32),\n",
       "  'neutral'),\n",
       " ('should I expect delays at dca for 7am departure?  Going to Orlando on flight 723',\n",
       "  array([-0.06161606, -2.8300295 , -7.2020245 ], dtype=float32),\n",
       "  'negative'),\n",
       " (\"I received my luggage that also looked to be left in the snow when I arrived. I'm asking for all 50 people to be refunded.\",\n",
       "  array([-8.007921e-03, -4.873445e+00, -8.019597e+00], dtype=float32),\n",
       "  'negative'),\n",
       " ('Waiting for my luggage on flight 1923. Is there a delay?',\n",
       "  array([-0.1866809, -1.7773653, -6.71836  ], dtype=float32),\n",
       "  'negative'),\n",
       " ('not yet. But we will see shortly.',\n",
       "  array([-3.5031137 , -0.03764507, -4.984709  ], dtype=float32),\n",
       "  'neutral'),\n",
       " ('Yeah, we figured it out.  Thanks.',\n",
       "  array([-6.2882404 , -3.4736042 , -0.03341521], dtype=float32),\n",
       "  'positive'),\n",
       " ('i would like help with some flights please.',\n",
       "  array([-5.893041 , -0.0132518, -4.5653925], dtype=float32),\n",
       "  'neutral'),\n",
       " (\"I filed a report in Atlanta. My bags are in Charlotte, NC. 24 hours Late Flightr and still can't find my luggage ... @USAirways\",\n",
       "  array([-2.5068070e-03, -6.1346946e+00, -7.9948049e+00], dtype=float32),\n",
       "  'negative'),\n",
       " ('Maybe stop telling people the wrong info on your customer service calls.',\n",
       "  array([-2.4764843e-03, -6.2895713e+00, -7.3891730e+00], dtype=float32),\n",
       "  'negative'),\n",
       " ('what happened to Doom?!',\n",
       "  array([-0.1396538, -2.0493393, -6.4885335], dtype=float32),\n",
       "  'negative'),\n",
       " ('US 728 pilot started the flight by announcing arrival into Gatwick, not Heathrow. Moments of concern for all aboard.',\n",
       "  array([-2.537638  , -0.10508125, -3.8778288 ], dtype=float32),\n",
       "  'neutral'),\n",
       " (\"and it's not a inconvenience it is a disaster. It's A $500 phone bill from you that you refuse to pay\",\n",
       "  array([-1.6459977e-03, -6.6637111e+00, -7.9069052e+00], dtype=float32),\n",
       "  'negative'),\n",
       " ('You should still develop an app - then you will be my favorite airline.',\n",
       "  array([-0.00915532, -5.193258  , -5.6381063 ], dtype=float32),\n",
       "  'negative'),\n",
       " ('yep, they moved me to 16A as they showed me flying \"standby\"',\n",
       "  array([-2.3615808 , -0.12063099, -3.9441373 ], dtype=float32),\n",
       "  'neutral'),\n",
       " (\"have been on hold for 58 minutes - need help USAIR - why won't you help?\",\n",
       "  array([-2.1868856e-03, -6.2964959e+00, -7.9815993e+00], dtype=float32),\n",
       "  'negative'),\n",
       " (\"I know you're dealing with the weather, but @PHLAirport is a hot mess. Pls send reinforcements\",\n",
       "  array([-0.01328662, -4.3828106 , -7.2523403 ], dtype=float32),\n",
       "  'negative'),\n",
       " (\"can I access Frankfurt arrival lounge when I'm flying global first class?\",\n",
       "  array([-5.5306797 , -0.01294848, -4.721519  ], dtype=float32),\n",
       "  'neutral'),\n",
       " ('Alright, thank you. Is there a page that says the routes you have for each aircraft? Specifically the 787.',\n",
       "  array([-5.91859   , -0.00992778, -4.93511   ], dtype=float32),\n",
       "  'neutral'),\n",
       " (\"now we are waiting over an half hr for the packages. What's wrong with you guys?? http://t.co/wVGpp3Ymz1\",\n",
       "  array([-2.0433040e-03, -6.5271745e+00, -7.4559207e+00], dtype=float32),\n",
       "  'negative'),\n",
       " (\"374 ORD to ROC. Fam came to see me at SNA. I'm a member, so is my dad. He used his miles for them.\",\n",
       "  array([-5.5200605 , -0.07231882, -2.7217429 ], dtype=float32),\n",
       "  'neutral'),\n",
       " ('flight home Cancelled Flightled today.  Any way we can get another flight to NYC from Texas? 4 hour wait for a call back from airline',\n",
       "  array([-3.9415066e-03, -5.6315050e+00, -7.9562345e+00], dtype=float32),\n",
       "  'negative'),\n",
       " (\"Phone just disconnects if you stay on the line. Need to checkout of hotel in 2 hrs &amp; have no place to go. Can't keep calling.\",\n",
       "  array([-1.7819017e-03, -6.4631848e+00, -8.4193430e+00], dtype=float32),\n",
       "  'negative'),\n",
       " (\"this is not true. Gate agents 100% caused this. And we're not helpful. Thanks for making me miss connection!! http://t.co/xAIzW2isml\",\n",
       "  array([-1.9885781e-03, -6.6030598e+00, -7.3691607e+00], dtype=float32),\n",
       "  'negative'),\n",
       " (\"for SFO, but hopefully you'll add PDX soon __JetBlue We added two new destinations (FLL and SFO) from Las Vegas in the last year!_\",\n",
       "  array([-5.785609  , -0.44494313, -1.032634  ], dtype=float32),\n",
       "  'neutral'),\n",
       " (\"your plane's been waiting at the Gate for two hours with all passengers onboard in their cramped seats. Yuck.\",\n",
       "  array([-1.9337303e-03, -6.4861126e+00, -7.8058858e+00], dtype=float32),\n",
       "  'negative'),\n",
       " (\"I'm upset because we were lied to. Was told ice on runway, but EVERY other carrier was able to fly. Airport confirmed no ice!\",\n",
       "  array([-1.8078426e-03, -6.5578671e+00, -7.8561954e+00], dtype=float32),\n",
       "  'negative'),\n",
       " ('why must a traveler miss a flight to Late Flight check a bag?  I missed my morning appointments and you lost my business. #sfo2lax',\n",
       "  array([-2.1820087e-03, -6.4508100e+00, -7.4179373e+00], dtype=float32),\n",
       "  'negative'),\n",
       " (\"pilot for flight 729 didn't show until after departure ___ &amp; now there's a broken computer. Next time flying @United. #ALWAYSLate Flight\",\n",
       "  array([-2.5890898e-03, -6.0842333e+00, -8.0879364e+00], dtype=float32),\n",
       "  'negative'),\n",
       " ('4 of us are stranded   And flying from New Orleans to Huston tonight and we will be stuck there for two days. Rather fly than wait.',\n",
       "  array([-1.6173152e-03, -6.6582189e+00, -8.0087099e+00], dtype=float32),\n",
       "  'negative'),\n",
       " ('why am i mot getting my refund?',\n",
       "  array([-0.01062121, -4.607371  , -7.440415  ], dtype=float32),\n",
       "  'negative'),\n",
       " ('still on hold...1 hr 27 mins....thank god for chairman status. status match @Delta?',\n",
       "  array([-5.062618e-03, -5.404578e+00, -7.498508e+00], dtype=float32),\n",
       "  'negative'),\n",
       " (\"I'm over that honestly just would like to get going on the journey.\",\n",
       "  array([-1.4787363 , -0.28181025, -4.0365877 ], dtype=float32),\n",
       "  'neutral'),\n",
       " (\"been on hold 2 hours for a Cancelled Flighted flight. I understand the delay. I don't understand you auto-reFlight Booking Problems me on TUESDAY. HELP!\",\n",
       "  array([-2.0862499e-03, -6.3929029e+00, -7.7976513e+00], dtype=float32),\n",
       "  'negative'),\n",
       " ('If a travel advisory is posted for DEN, can I then make changes to my ticket? Anything I need to know before I call?',\n",
       "  array([-5.722001 , -0.0071793, -5.551806 ], dtype=float32),\n",
       "  'neutral'),\n",
       " ('already contacted Central Baggage &amp; sent DM. @RenttheRunway is charging me for the dress that was in the lost suitcase #help',\n",
       "  array([-3.2277412e-03, -5.8819723e+00, -7.7442317e+00], dtype=float32),\n",
       "  'negative'),\n",
       " (\"Missing flight attendant = Delayed Flight. Prime example how 1 person impacts 100's of people. HNL -&gt; IAH (UA252) #wastedtime\",\n",
       "  array([-1.6803920e-03, -6.6255116e+00, -7.9495392e+00], dtype=float32),\n",
       "  'negative'),\n",
       " ('Will never fly with you again! Terrible service!! Ruined our entire vacation!! #lostsuitcase #noreimbursement',\n",
       "  array([-2.0074947e-03, -6.5466433e+00, -7.4689512e+00], dtype=float32),\n",
       "  'negative'),\n",
       " (\"now you're sending a gate agent to talk to us? Joke of an airline. Thanks for ruining my vacation. #neverflyAAagain\",\n",
       "  array([-1.9702562e-03, -6.5700455e+00, -7.4759159e+00], dtype=float32),\n",
       "  'negative'),\n",
       " (\"  Phone agents can't see same flights I see online???  Can't change tickets even when I am paying. Very frustrating #jetblue\",\n",
       "  array([-1.9707321e-03, -6.4680138e+00, -7.7835116e+00], dtype=float32),\n",
       "  'negative'),\n",
       " ('instead of Bourbon street how about #quiet #planes #SaveTheDiagonals',\n",
       "  array([-0.0377345, -3.3350766, -6.5573936], dtype=float32),\n",
       "  'negative'),\n",
       " ('A tweeted apology is not enough for delay fiasco. NONE for insult from gate agent is worse. Except for Mark N., all bad at CLT.',\n",
       "  array([-1.7121669e-03, -6.8692288e+00, -7.3061571e+00], dtype=float32),\n",
       "  'negative'),\n",
       " ('AA2416 on time and awesome flight. Great job American!',\n",
       "  array([-6.6905212e+00, -5.5754256e+00, -5.0451825e-03], dtype=float32),\n",
       "  'positive'),\n",
       " (\"Glad to know I'll be flying the luv airline tomorrow ;)\",\n",
       "  array([-6.8801527 , -4.878471  , -0.00867409], dtype=float32),\n",
       "  'positive'),\n",
       " (\"I've done everything. Still no luck in finding my bag. I don't understand how my bag could have been misplaced. Very upsetting.\",\n",
       "  array([-1.7091918e-03, -6.6284423e+00, -7.8610888e+00], dtype=float32),\n",
       "  'negative'),\n",
       " ('thanks!',\n",
       "  array([-6.4085975 , -4.1148334 , -0.01813954], dtype=float32),\n",
       "  'positive'),\n",
       " ('have scheduled flight Sat(2morrow) CHO-CLT CHO needs to be added to weather advisory.  Please evaluate asap.',\n",
       "  array([-4.1924143 , -0.01827966, -5.8078694 ], dtype=float32),\n",
       "  'neutral'),\n",
       " ('nice. I wonder how you pick who to respond to? Maybe only happy customers are easier. I wonder how many of those you have left.',\n",
       "  array([-0.6808851, -0.8708774, -2.5869792], dtype=float32),\n",
       "  'negative'),\n",
       " ('I__e been on the line waiting for 40 minutes again.',\n",
       "  array([-2.6307043e-03, -6.1049509e+00, -7.8353653e+00], dtype=float32),\n",
       "  'negative'),\n",
       " ('on SFO-&gt;AUS UA343 2/17, IS9JX1; my seat appears to have had a mite problem. Dr recently confirmed over 50 bug bites were mites',\n",
       "  array([-0.11480749, -2.2303936 , -6.931821  ], dtype=float32),\n",
       "  'negative'),\n",
       " ('Any way that we could look at other options for today?',\n",
       "  array([-5.2409706 , -0.00985637, -5.4008455 ], dtype=float32),\n",
       "  'neutral'),\n",
       " ('im flying with you from mi-boston and then icelandair to iceland, 8 hours between. can we check our bags all the way?',\n",
       "  array([-0.01686024, -4.110071  , -8.071765  ], dtype=float32),\n",
       "  'negative'),\n",
       " (\"@Dumas2TTG Good morning, Tamara. We'll try to get you comfortably on a flight as soon as we can._#NoXTraLegRoom #NoCoatCloset\",\n",
       "  array([-5.109851 , -0.7908032, -0.6152928], dtype=float32),\n",
       "  'positive'),\n",
       " ('@PHLAirport Will Flight 2155 that arrives at E11 be a penguin plane?',\n",
       "  array([-5.0317364, -0.0122271, -5.180497 ], dtype=float32),\n",
       "  'neutral'),\n",
       " ('when I called I was told my bag had made it to PHL, but still has not been delivered or any call from the delivery service',\n",
       "  array([-2.3946678e-03, -6.1740813e+00, -8.0817804e+00], dtype=float32),\n",
       "  'negative'),\n",
       " ('the plane crew has been as professional and courteous as the gate agents were flustered.',\n",
       "  array([-0.32155183, -4.4280734 , -1.3354509 ], dtype=float32),\n",
       "  'negative'),\n",
       " ('Your agent sent our family on 3 diff planes to dfw that were as Late Flight due to delay as the Cancelled Flighted plane that started this #fail',\n",
       "  array([-1.2521055e-03, -7.0532980e+00, -7.8574452e+00], dtype=float32),\n",
       "  'negative'),\n",
       " (\"now it's just t-minus 32 minutes until my Elevate a Silver upgrade window opens . #FreeNeverSucks ____\",\n",
       "  array([-0.02987318, -3.7520816 , -5.122259  ], dtype=float32),\n",
       "  'negative'),\n",
       " (\"is the worst. I have to postpone my trip and they can't accommodate guests like @SouthwestAir #NeverAgain\",\n",
       "  array([-2.0097550e-03, -6.4660926e+00, -7.7009740e+00], dtype=float32),\n",
       "  'negative'),\n",
       " ('The engineer that designed the 787 door frame to extend half a foot into the plane for seat 27A should be forced to always sit here',\n",
       "  array([-4.0472988e-03, -5.6977639e+00, -7.2851133e+00], dtype=float32),\n",
       "  'negative'),\n",
       " (\"I'm in line at the airport right now. Will you cover hotel fair or am I to sleep in the airport?\",\n",
       "  array([-1.9058666 , -0.16303743, -6.349921  ], dtype=float32),\n",
       "  'neutral'),\n",
       " ('I think you guys had a half full flight at 4 so you held our overbooked 3pm flight to fill the other one then Cancelled Flightled mine',\n",
       "  array([-1.589941e-03, -6.628006e+00, -8.232234e+00], dtype=float32),\n",
       "  'negative'),\n",
       " ('@sa_craig no, not helped one bit. actually ended up driving home due to extreme disorganization and lack of communication.',\n",
       "  array([-2.3699312e-03, -6.1437297e+00, -8.4206533e+00], dtype=float32),\n",
       "  'negative'),\n",
       " (\"to add insult to injury, I have to go pick it up myself. Real class act! I'll stick the Delta from now on.\",\n",
       "  array([-3.800726 , -1.9010575, -0.1884584], dtype=float32),\n",
       "  'positive'),\n",
       " (\"Our fleet's on fleek. http://t.co/7iM9rHIvyR_ Plz stop\",\n",
       "  array([-2.663617  , -0.08259635, -4.6479073 ], dtype=float32),\n",
       "  'neutral'),\n",
       " ('aa employees were rude and unwilling to help. 10,000 miles is a rotten cherry on top of a dog shit Sunday. #nocareforcustomers',\n",
       "  array([-1.6515914e-03, -6.6513882e+00, -7.9348812e+00], dtype=float32),\n",
       "  'negative'),\n",
       " (\"absolutely no worries. I'm just never flying with you again. Ever. Even I have to hitch hike cross country #passengersarepeople\",\n",
       "  array([-0.00871852, -4.8583045 , -6.994417  ], dtype=float32),\n",
       "  'negative'),\n",
       " ('You left 175 PEOPLE on a hot plane with no ventilation for over an hour and a half and then had to bus them to JFK because of ....',\n",
       "  array([-1.4757944e-03, -6.8276114e+00, -7.8460374e+00], dtype=float32),\n",
       "  'negative'),\n",
       " ('thanks for the reply. I have been in contact with Customer Care to get clarification on this issue.',\n",
       "  array([-2.0318663 , -0.39335084, -1.6392921 ], dtype=float32),\n",
       "  'neutral'),\n",
       " ('No thank you. @AmericanAir was responsive &amp; I found alternate travel home.',\n",
       "  array([-5.448236  , -3.7682807 , -0.02777785], dtype=float32),\n",
       "  'positive'),\n",
       " ('@Adam_Karren @zj76 how did you save the $200 on checked snowboard? Trying to check in this morning, website wants $200! (prem.gold)',\n",
       "  array([-3.34524   , -0.03762544, -6.39212   ], dtype=float32),\n",
       "  'neutral'),\n",
       " ('well my mom called earlier and you guys had her on hold for close to an hour',\n",
       "  array([-2.2789477e-03, -6.3099136e+00, -7.6883960e+00], dtype=float32),\n",
       "  'negative'),\n",
       " ('Only the JFK baggage office is open to help re-book all of us on Cancelled Flightled flight 3121 to DCA. Shameful.',\n",
       "  array([-1.8008220e-03, -6.6577840e+00, -7.5709224e+00], dtype=float32),\n",
       "  'negative'),\n",
       " ('standby so far for two of us. With snow storm hitting Iowa tomorrow we could be stuck here for two days.',\n",
       "  array([-0.03138656, -3.6458523 , -5.3391533 ], dtype=float32),\n",
       "  'negative'),\n",
       " ('Only middle seats. SFO -&gt; BOS. Not fun. She keeps getting $10 credits. Would much rather have a working TV.',\n",
       "  array([-4.3780194e-03, -5.4945407e+00, -8.2574301e+00], dtype=float32),\n",
       "  'negative'),\n",
       " (\"caught earlier flight to ORD. Gate checked bag, and you've lost it at O'Hare. original flight lands in 20minutes. #frustrating!\",\n",
       "  array([-2.5635257e-03, -6.1370192e+00, -7.8266821e+00], dtype=float32),\n",
       "  'negative'),\n",
       " ('Always love opening the upgrade email.',\n",
       "  array([-6.00429   , -4.510719  , -0.01355009], dtype=float32),\n",
       "  'positive'),\n",
       " ('Cancelled Flighting flights 45 minutes before takeoff &amp; sitting for 45 min on the runway of the rescheduled flight #badservice',\n",
       "  array([-2.2060361e-03, -6.3605623e+00, -7.6517277e+00], dtype=float32),\n",
       "  'negative'),\n",
       " ('congrats, you just got all my business from EWR to SFO/LAX. Fuck you @united fl1289 SFO/EWR was the clincher...',\n",
       "  array([-0.00783182, -5.454397  , -5.648235  ], dtype=float32),\n",
       "  'negative'),\n",
       " ('you denied a mom her AM flight because she NEEDED her breast pumping parts on a full flight? Please FIX this ASAP!! #freeflight',\n",
       "  array([-1.8048679e-03, -6.7080374e+00, -7.4485860e+00], dtype=float32),\n",
       "  'negative'),\n",
       " ('ready to go to Disneyworld!  For the @runDisney #PrincessHalf http://t.co/sTQY9V8256',\n",
       "  array([-6.013959  , -0.08885024, -2.4940724 ], dtype=float32),\n",
       "  'neutral'),\n",
       " ('So break whatever you want, take no responsibility..Too bad for customer? #media #filmcrew @chicagotribune @WSJ #nytimes @CNN',\n",
       "  array([-2.1418030e-03, -6.4208436e+00, -7.5768366e+00], dtype=float32),\n",
       "  'negative'),\n",
       " (\"'s free wifi on board is the best thing that's happened since sliced bread\",\n",
       "  array([-6.2592664e+00, -5.8999333e+00, -4.6631875e-03], dtype=float32),\n",
       "  'positive'),\n",
       " ('Are the hours of operation for the Club at SFO that are posted online current?',\n",
       "  array([-3.9357643 , -0.02373404, -5.5406995 ], dtype=float32),\n",
       "  'neutral'),\n",
       " ('Been on hold 34 min so far trying to book seat for my infant. Price increased $42 in meantime. What do I do?',\n",
       "  array([-3.4244962e-03, -5.7900839e+00, -7.9268918e+00], dtype=float32),\n",
       "  'negative'),\n",
       " ('I am signed up for notifications. This is the first trip I was not updated on. Not sure why this happened.',\n",
       "  array([-2.460193e-03, -6.102801e+00, -8.419375e+00], dtype=float32),\n",
       "  'negative'),\n",
       " ('love it as always!',\n",
       "  array([-6.4821215e+00, -5.5245781e+00, -5.5333781e-03], dtype=float32),\n",
       "  'positive'),\n",
       " ('I am in seat 4C and I cannot even open my laptop; and I paid extra for this seat!!',\n",
       "  array([-2.0297419e-03, -6.3802476e+00, -8.0072765e+00], dtype=float32),\n",
       "  'negative'),\n",
       " ('I miss saying goodbye to my friend cause of your crappy service I swear you will never hear the end of it.#AmericanAirlines',\n",
       "  array([-2.0973131e-03, -6.5207186e+00, -7.3818173e+00], dtype=float32),\n",
       "  'negative'),\n",
       " ('appreciate it, but changing time by 10 min multiple times 6 hours before flight is just annoying and seems like you have 0 clue',\n",
       "  array([-1.9039852e-03, -6.5177817e+00, -7.7628245e+00], dtype=float32),\n",
       "  'negative'),\n",
       " (\"didn't need this. RT @JetBlue: Our fleet's on fleek. http://t.co/cpZB285o71\",\n",
       "  array([-3.3663495 , -0.07894626, -3.1845968 ], dtype=float32),\n",
       "  'neutral'),\n",
       " ('can you get me home to Syracuse? After 6 Cancelled Flightled flights, one re routing three of us are sitting in Charlotte',\n",
       "  array([-5.4240678e-03, -5.2692556e+00, -8.2473717e+00], dtype=float32),\n",
       "  'negative'),\n",
       " ('yup! He said there would be flight change fee. But the plane should be here in 45 minutes apparently.',\n",
       "  array([-5.2517788e-03, -5.3155327e+00, -8.0366421e+00], dtype=float32),\n",
       "  'negative'),\n",
       " ('#stuck in Florida with no flights... Service sucks here. #nofood #nodrinks #nohelp',\n",
       "  array([-2.7803832e-03, -6.0143294e+00, -8.0075235e+00], dtype=float32),\n",
       "  'negative'),\n",
       " ('when will you be issuing a weather advisory for RDU?? the entire state of NC has shut down from the overnight winter storm.',\n",
       "  array([-0.4682213, -0.9906175, -5.9764915], dtype=float32),\n",
       "  'negative'),\n",
       " (\"nice 2 know. I paid 4 a seat. Then you sold my seat. now I bought a 3rd seat. It's a good scam, but a scam all the same.\",\n",
       "  array([-4.3094154e-03, -5.5307746e+00, -7.9947505e+00], dtype=float32),\n",
       "  'negative'),\n",
       " ('what a pointless tweet. At least @AmericanAir asked me to follow them to try and resolve',\n",
       "  array([-2.6755272e-03, -6.1857553e+00, -7.3966289e+00], dtype=float32),\n",
       "  'negative'),\n",
       " ('If SNA curfew causes diversion, do you provide transportation from LAX? On AA1237 now, pilot not sure if we have time.',\n",
       "  array([-0.11298292, -2.2432206 , -7.239253  ], dtype=float32),\n",
       "  'negative'),\n",
       " ('Seriously? I should keep trying after seven hours. That is your corporate policy? #usairwaysfail',\n",
       "  array([-1.9343253e-03, -6.5885701e+00, -7.4940095e+00], dtype=float32),\n",
       "  'negative'),\n",
       " ('is it on a flight now? Thanks for reply.',\n",
       "  array([-6.644508 , -0.2988401, -1.3585978], dtype=float32),\n",
       "  'neutral'),\n",
       " ('appreciate the early arrival of UA1002, but any chance ORD will ever bring the bags out?',\n",
       "  array([-0.42741826, -1.0651851 , -5.761853  ], dtype=float32),\n",
       "  'negative'),\n",
       " (\"that's what I have been told. But refund doesn't really makeup for the inconvenience caused and the missed meeting... Does it?\",\n",
       "  array([-2.139543e-03, -6.318382e+00, -8.003323e+00], dtype=float32),\n",
       "  'negative'),\n",
       " ('I appreciate the speedy response. But the longer you delay the more inconvenience you put on your customers. Please nix change fee!',\n",
       "  array([-1.8452061e-03, -6.6647396e+00, -7.4727497e+00], dtype=float32),\n",
       "  'negative'),\n",
       " ('thanks!!',\n",
       "  array([-6.195365  , -4.1292973 , -0.01829944], dtype=float32),\n",
       "  'positive'),\n",
       " ('Not possible to carry-on and put in a closet/overhead? Had success doing that with other airlines. Thanks',\n",
       "  array([-3.8096961e-03, -5.8449025e+00, -7.0043864e+00], dtype=float32),\n",
       "  'negative'),\n",
       " (\"each flight is worse than last! flight attendants don't even know whether the plane is equipped with power outlets at the seats!\",\n",
       "  array([-2.1535794e-03, -6.4160337e+00, -7.5690651e+00], dtype=float32),\n",
       "  'negative'),\n",
       " (\"44 minutes on hold so far. And still haven't spoke to a human. Never using you again.\",\n",
       "  array([-1.997858e-03, -6.433037e+00, -7.853583e+00], dtype=float32),\n",
       "  'negative'),\n",
       " ('amen!',\n",
       "  array([-5.902892  , -0.93732893, -0.50154245], dtype=float32),\n",
       "  'positive'),\n",
       " ('have you considered adding the \"we\\'ll call you back when we have someone free\" feature to your support line?',\n",
       "  array([-0.04124175, -3.2238317 , -7.417531  ], dtype=float32),\n",
       "  'negative'),\n",
       " ('your saving grace was our flight attendant Dallas who was amazing. wish he would transfer to Delta where I would see him again',\n",
       "  array([-6.181226e+00, -5.591166e+00, -5.815491e-03], dtype=float32),\n",
       "  'positive'),\n",
       " ('| RT @WMCActionNews5: New airline expected to make its way to MEM http://t.co/Gbd5R1OlSI',\n",
       "  array([-5.536033  , -0.01247861, -4.7725325 ], dtype=float32),\n",
       "  'neutral'),\n",
       " ('I believe that the website said I could receive credit for upcoming flights since I Cancelled Flighted my last one. Is this true?',\n",
       "  array([-0.5419787, -0.8740704, -6.7645187], dtype=float32),\n",
       "  'negative'),\n",
       " ('my flight to DFW from LIT on my way to PDX tomorrow was Cancelled Flighted. Can you help me?',\n",
       "  array([-0.00802507, -4.894847  , -7.5851793 ], dtype=float32),\n",
       "  'negative'),\n",
       " ('Awesome USAir, TYSVM &lt;3',\n",
       "  array([-7.02008   , -4.8729305 , -0.00858143], dtype=float32),\n",
       "  'positive'),\n",
       " ('can you maybe have more than 1 person working customer service desk in Houston airport? Line 3 rows deep 1 person working',\n",
       "  array([-6.401983e-03, -5.087714e+00, -8.471076e+00], dtype=float32),\n",
       "  'negative'),\n",
       " ('AMAZING c/s today by SW thank you SO very much. This is the reason we fly you #southwest',\n",
       "  array([-6.6775765e+00, -5.2881289e+00, -6.3299639e-03], dtype=float32),\n",
       "  'positive'),\n",
       " ('flight UA3364 been sitting on tarmac for 30 mins with no report as to why...any input?',\n",
       "  array([-2.5437875e-03, -6.0797362e+00, -8.2869587e+00], dtype=float32),\n",
       "  'negative'),\n",
       " ('great flight experience again... SFO-JFK... Dare I say it? A consistent high quality on a legacy airline? Keep it up guys!',\n",
       "  array([-5.4743857 , -5.306627  , -0.00919359], dtype=float32),\n",
       "  'positive'),\n",
       " ('I paid for inflight wifi only for it not to work. Download speed was 0.21mbps &amp; I ended up watching the free TV instead.',\n",
       "  array([-2.9851897e-03, -5.9909286e+00, -7.6427765e+00], dtype=float32),\n",
       "  'negative'),\n",
       " ('why are we delayed :( flight 1601',\n",
       "  array([-3.7215753e-03, -5.6897883e+00, -8.0032883e+00], dtype=float32),\n",
       "  'negative'),\n",
       " (\"dealing w fam emergency. Was told was rebooked this am to AA flight 4297 out of ORD and now it's not in system. Need help ASAP.\",\n",
       "  array([-2.5299944e-03, -6.1131144e+00, -8.0687456e+00], dtype=float32),\n",
       "  'negative'),\n",
       " ('will the kudos to capt. Herman be relayed to his chief pilot or should I be emailing someone?',\n",
       "  array([-4.547138  , -0.01302756, -6.055234  ], dtype=float32),\n",
       "  'neutral'),\n",
       " ('you are one great airline ___',\n",
       "  array([-6.06615  , -5.400352 , -0.0068585], dtype=float32),\n",
       "  'positive'),\n",
       " ('my luggage is set to go to DCA however, I am rerouted to Dulles. Currently in NOLO however bags are in Houston. Can you fix this?',\n",
       "  array([-4.6436093e-03, -5.4444313e+00, -8.0706053e+00], dtype=float32),\n",
       "  'negative'),\n",
       " (\"thanks, I'm booked. Just spent an extra 7 hrs in the TEN w/ no explanation. Now flying middle seat to CHAR instead of Memphis.\",\n",
       "  array([-0.00923198, -5.2642956 , -5.517364  ], dtype=float32),\n",
       "  'negative'),\n",
       " ('Great, thanks. Followed.',\n",
       "  array([-6.703168  , -3.4665554 , -0.03298958], dtype=float32),\n",
       "  'positive'),\n",
       " ('In Ethiopia adopting a child.  Need flight home from ADD to GRR Late Flight 2/27 or very early 2/28. (need to change existing reservation)',\n",
       "  array([-5.021864  , -0.01020913, -5.6366158 ], dtype=float32),\n",
       "  'neutral'),\n",
       " ('#NAME?',\n",
       "  array([-0.39057186, -1.2052783 , -3.7413714 ], dtype=float32),\n",
       "  'negative'),\n",
       " ('had to let us off the plane bc the toilets done even work! There goes my family vacay to playa del Carmen, Mexico! #neveragain',\n",
       "  array([-0.00735149, -5.317411  , -6.024359  ], dtype=float32),\n",
       "  'negative'),\n",
       " (\"I understand. But why is this the only flight of the day not going out? Twice?! I'm now out of extra meds and diapers for baby.\",\n",
       "  array([-1.8919678e-03, -6.4326472e+00, -8.1735172e+00], dtype=float32),\n",
       "  'negative'),\n",
       " ('877 from amsterdam to ewr, 02.27.2015, 737-300.',\n",
       "  array([-5.2625165 , -0.01213525, -4.979196  ], dtype=float32),\n",
       "  'neutral'),\n",
       " ('did you know that suicide is the second leading cause of death among teens 10-24',\n",
       "  array([-5.1298947 , -0.01070931, -5.352773  ], dtype=float32),\n",
       "  'neutral'),\n",
       " ('can you use the aa credit platinum select world mastercard for Alaska flights?  Or just american?',\n",
       "  array([-6.2708044 , -0.00919949, -4.9244747 ], dtype=float32),\n",
       "  'neutral'),\n",
       " ('once again your lack of customer service astounds me! You are the worst airline in the history of airlines! Train your staff!',\n",
       "  array([-1.6235040e-03, -6.8001747e+00, -7.5839567e+00], dtype=float32),\n",
       "  'negative'),\n",
       " ('employees spreading a bit of #MardiGras cheer at 7:30 this morning in Atlanta  #NFTYConvention http://t.co/ttbtY89Ilo',\n",
       "  array([-5.64241   , -0.09619456, -2.4285069 ], dtype=float32),\n",
       "  'neutral'),\n",
       " ('CEO Kelly draws record crowd to @BWI_Airport Business Partnership breakfast http://t.co/CVba4olcBl http://t.co/wTa5pX70A5',\n",
       "  array([-4.674043 , -0.0188576, -4.6727567], dtype=float32),\n",
       "  'neutral'),\n",
       " (\"that's the number I called -it wouldn't let me speak to an agent because of the issues with weather today\",\n",
       "  array([-1.8135543e-03, -6.5096993e+00, -8.0378904e+00], dtype=float32),\n",
       "  'negative'),\n",
       " ('lost bag on flight to Vegas. Now to El Paso. Going to Dallas love. Gate attendant said see if can coordinate to get it to Love',\n",
       "  array([-0.01671957, -4.147968  , -7.1510644 ], dtype=float32),\n",
       "  'negative'),\n",
       " (\"__USAirways: @fispahani Weather disruptions have caused some of our crew to run Late Flight. We're sorry for the delay to your flight._\",\n",
       "  array([-5.4419707e-03, -5.4140458e+00, -6.9344678e+00], dtype=float32),\n",
       "  'negative'),\n",
       " ('lol the fleet on fleek... i see yall ballin... new jets on deck..',\n",
       "  array([-5.102645  , -0.51054215, -0.9320408 ], dtype=float32),\n",
       "  'neutral'),\n",
       " (\"there's an employee at gate 45 of JFK telling people their bag doesn't fit and needs to be checked when it clearly fits #AA291\",\n",
       "  array([-3.0700478e-03, -5.8658876e+00, -8.3739758e+00], dtype=float32),\n",
       "  'negative'),\n",
       " ('pls help me get this resolved &amp; reimbursement made.  gracias, rico; pls send me private msg with phone number or email address',\n",
       "  array([-1.6670392 , -0.21307324, -5.777061  ], dtype=float32),\n",
       "  'neutral'),\n",
       " ('thx for the note. Flight was Cancelled Flightled and today is all booked so had to go with another carrier. :(',\n",
       "  array([-0.00860909, -5.160985  , -5.8653064 ], dtype=float32),\n",
       "  'negative'),\n",
       " ('and I was denied an upgrade because of catering issues??? #poorservice',\n",
       "  array([-2.1816518e-03, -6.3250957e+00, -7.8533959e+00], dtype=float32),\n",
       "  'negative'),\n",
       " ('but to make us tru to find space in other flights.  This customer service is as bad as @SpiritAirlines.',\n",
       "  array([-1.6299308e-03, -6.7022829e+00, -7.8228760e+00], dtype=float32),\n",
       "  'negative'),\n",
       " (\"@AmericanAir  best u could do-I might get my refund within 2 billing cycles. Months of u guys asking for another chance. I'm done\",\n",
       "  array([-3.0762276e-03, -5.9265881e+00, -7.8142886e+00], dtype=float32),\n",
       "  'negative'),\n",
       " (\"I tried reaching out to you guys I'm running out time and patience I just want my flight to be honor and I want a confirmation!\",\n",
       "  array([-4.1370527e-03, -5.5676813e+00, -8.0818424e+00], dtype=float32),\n",
       "  'negative'),\n",
       " ('@united 5 hours, 3 gates, and 3 planes Late Flightr still not an update, explanation, or apology to be had. #WorstAirlineEver #UnitedAirlines',\n",
       "  array([-1.6075558e-03, -6.6796374e+00, -7.9576459e+00], dtype=float32),\n",
       "  'negative'),\n",
       " ('i got it at the gate, thanks for checking!',\n",
       "  array([-6.5284915 , -4.0484514 , -0.01909166], dtype=float32),\n",
       "  'positive'),\n",
       " ('time for a rant...you delayed my flight and still forgot my luggage...then delayed on the Tarmac, moments I love you United',\n",
       "  array([-1.7264475e-03, -6.6357679e+00, -7.7937155e+00], dtype=float32),\n",
       "  'negative'),\n",
       " (\"Its the ABC's of PR, let your customers have the most info possible. Might want to go brush up on the basics...\",\n",
       "  array([-0.01121255, -4.9107347 , -5.577282  ], dtype=float32),\n",
       "  'negative'),\n",
       " (\"thanks so much. Can't wait to fly with you guys :)\",\n",
       "  array([-6.7341728e+00, -5.4297853e+00, -5.5892142e-03], dtype=float32),\n",
       "  'positive'),\n",
       " ('I do! The best airline wifi ever. Thank you!',\n",
       "  array([-6.7570534 , -5.1142387 , -0.00719906], dtype=float32),\n",
       "  'positive'),\n",
       " ('- Great flight from Phoenix to Dallas tonight!Great service and ON TIME! Makes @timieyancey very happy! http://t.co/TkVCMhbPim',\n",
       "  array([-6.6766510e+00, -5.4663529e+00, -5.5017243e-03], dtype=float32),\n",
       "  'positive'),\n",
       " (\"I was suppose to be in FL 4 hours ago. And I'm not. I've been waiting for hours this is just ridiculous\",\n",
       "  array([-2.4848082e-03, -6.1792483e+00, -7.7998729e+00], dtype=float32),\n",
       "  'negative'),\n",
       " ('she has crossed 4 prior times with other carriers and no issue. Karen was rude, untrained and unhelpful I also spoke',\n",
       "  array([-1.5137653e-03, -6.8175793e+00, -7.7793241e+00], dtype=float32),\n",
       "  'negative'),\n",
       " (\"Thank you. It's much appreciated. We have been on the plane for 90 min now at the gate.\",\n",
       "  array([-2.516673 , -3.7188487, -0.11092  ], dtype=float32),\n",
       "  'positive'),\n",
       " ('Retrain in Customer Service first, make proper adjustments when Cancelled Flightling flights. Own up to your Mistakes.',\n",
       "  array([-0.00752235, -5.0758195 , -6.6860905 ], dtype=float32),\n",
       "  'negative'),\n",
       " ('- why does my TSA-pre work with every airline BUT you? I pay good money for that. Spent 30 mins on phone to fix to zero success.',\n",
       "  array([-1.5280487e-03, -6.7429247e+00, -7.9643202e+00], dtype=float32),\n",
       "  'negative'),\n",
       " ('is my new go to airline',\n",
       "  array([-5.7858815, -2.6018298, -0.0803518], dtype=float32),\n",
       "  'positive'),\n",
       " ('Morning! 4603 has been delayed by 7 hours. Can you get me to Newark for my 10am meeting?',\n",
       "  array([-2.2349397e-03, -6.3478189e+00, -7.6378512e+00], dtype=float32),\n",
       "  'negative'),\n",
       " (' Mad love http://t.co/4ojrSDWPkK NYC-',\n",
       "  array([-6.551424  , -4.8614383 , -0.00920965], dtype=float32),\n",
       "  'positive'),\n",
       " ('thank you for compensating us for our 4 lost bags. We will fly with you again! #UnitedAirlines',\n",
       "  array([-2.7838604 , -4.3547273 , -0.07757824], dtype=float32),\n",
       "  'positive'),\n",
       " ('I was told a \"return call\" by a human',\n",
       "  array([-0.02487877, -3.7371614 , -7.195086  ], dtype=float32),\n",
       "  'negative'),\n",
       " ('easy fix, let the business select actually board 1st, then board the pre-boards...',\n",
       "  array([-0.01361019, -4.327949  , -8.036588  ], dtype=float32),\n",
       "  'negative'),\n",
       " ('I will be patient in my luxurious middle seat on my next delayed flight',\n",
       "  array([-3.2488918e-03, -5.9443779e+00, -7.3807282e+00], dtype=float32),\n",
       "  'negative'),\n",
       " ('unsmiling rep. told us hotel shuttle comes \"like every 15 minutes.\" Breezy 30 min. Late Flightr we\\'re taking a cab. You going to reimburse?',\n",
       "  array([-2.076138e-03, -6.338149e+00, -8.090623e+00], dtype=float32),\n",
       "  'negative'),\n",
       " ('how can I check to see if my flight to NYC is expected to be delayed or Cancelled Flightled for this Tuesday?',\n",
       "  array([-5.3827395 , -0.00893617, -5.4488735 ], dtype=float32),\n",
       "  'neutral'),\n",
       " ('Hi-i have a travel question. Could you please follow me so i can dm you?',\n",
       "  array([-5.93058   , -0.00820823, -5.199809  ], dtype=float32),\n",
       "  'neutral'),\n",
       " ('I have been trying to speak with an agent the whole day about my Cancelled Flightled flight, what I can do?',\n",
       "  array([-3.7830945e-03, -5.6472540e+00, -8.2988901e+00], dtype=float32),\n",
       "  'negative'),\n",
       " (\"get me on flight 4146 to denver and I'll be more than happy !!!!!\",\n",
       "  array([-2.228947 , -1.7451978, -0.3316369], dtype=float32),\n",
       "  'positive'),\n",
       " ('Travelling from pwm to atl on Sunday That flight got Cancelled Flightled and my new flight is Cancelled Flightled and got disconnected when reFlight Booking Problems',\n",
       "  array([-2.0936253e-03, -6.3265071e+00, -8.1013079e+00], dtype=float32),\n",
       "  'negative'),\n",
       " ('I love imagine dragons o flipping much, pls #DestinationDragons',\n",
       "  array([-7.7146773 , -3.4490004 , -0.03275426], dtype=float32),\n",
       "  'positive'),\n",
       " ('I have fam thats supposed to fly 2/22 that are currently in the hosp.3 trys to speak to a human, yr phone sys cuts off. pls hlp!',\n",
       "  array([-5.4390067e-03, -5.2662249e+00, -8.2504492e+00], dtype=float32),\n",
       "  'negative'),\n",
       " ('I do not want to deal with your customer service agents with no practical knowledge.Provide me with a direct contact.',\n",
       "  array([-1.9806069e-03, -6.5814743e+00, -7.4304848e+00], dtype=float32),\n",
       "  'negative'),\n",
       " ('Both pictures taken at the same time but which is right? #totallyconfused http://t.co/dvSLtQZKmQ',\n",
       "  array([-5.1757483, -0.6944689, -0.7031804], dtype=float32),\n",
       "  'neutral'),\n",
       " ('check out new music http://t.co/maRcnOCWzn',\n",
       "  array([-4.66331  , -0.0187254, -4.6977253], dtype=float32),\n",
       "  'neutral'),\n",
       " ('I need help. In air on #717 to CLT from PHL. Conf: D1MQF5 Need confirmed on #1776 to BNA at 10:30. Been bumped all day, need home',\n",
       "  array([-0.00951694, -4.693053  , -8.068746  ], dtype=float32),\n",
       "  'negative'),\n",
       " (\"Heads up We didn't check 8 bags, 2 we checked arrived, those aren't claim #s for our 2. Other people's bags? http://t.co/dplQ3mhQGD\",\n",
       "  array([-3.3314701e-03, -5.7762594e+00, -8.3964872e+00], dtype=float32),\n",
       "  'negative'),\n",
       " ('I JUST ASKED MY BOYFRIEND TO PROM OVER THE LOUDSPEAKER ON FLIGHT 494 HE SAID YES!!!! BEST DAY EVER!!! THANK U SO MUCH!!!!!!',\n",
       "  array([-7.6919036e+00, -4.9951987e+00, -7.2531477e-03], dtype=float32),\n",
       "  'positive'),\n",
       " ('How do I redeem my pass to the admirals club? I have 1 free visit with my barclay card membership. And can I bring a companion?',\n",
       "  array([-6.0875144, -0.0097081, -4.9076242], dtype=float32),\n",
       "  'neutral'),\n",
       " (\"@love_dragonss lol I'm sorry I'm just seeing this now but LAUREN OH MY GOD AHHHH\",\n",
       "  array([-5.1166253, -0.3298378, -1.2911172], dtype=float32),\n",
       "  'neutral'),\n",
       " (\"Thank u Thank u Thank u for coming through for us! I sincerely didn't think it would happen. &lt;3 #SWA #THANKYOU\",\n",
       "  array([-6.687923  , -4.80806   , -0.00945412], dtype=float32),\n",
       "  'positive'),\n",
       " ('two were non revs, right?',\n",
       "  array([-1.7214215 , -0.20106357, -5.7054496 ], dtype=float32),\n",
       "  'neutral'),\n",
       " (\"delayed depart bc ur flight attendant wasn't there. Then after landing took 3 hrs to get a gate. Now it's another he and NO bags\",\n",
       "  array([-1.9704942e-03, -6.3950009e+00, -8.1164370e+00], dtype=float32),\n",
       "  'negative'),\n",
       " ('you need to follow me so I can dm you to give you the info',\n",
       "  array([-4.3044186 , -0.01782248, -5.483226  ], dtype=float32),\n",
       "  'neutral'),\n",
       " (\"do you have a pair of tickets to the @Imaginedragons show in Atlanta?! I'd love to go! #DestinationDragons\",\n",
       "  array([-6.2641654 , -0.08254082, -2.5597665 ], dtype=float32),\n",
       "  'neutral'),\n",
       " ('how do I get my account number if your website says email is unavailable?',\n",
       "  array([-0.01390085, -4.3005004 , -8.322812  ], dtype=float32),\n",
       "  'negative'),\n",
       " ('thanks for the link, now finally arrived in Brussels, 9 h after schedule...',\n",
       "  array([-5.724303  , -4.336577  , -0.01648191], dtype=float32),\n",
       "  'positive'),\n",
       " ('Ever consider coming to Memphis?  Need some TrueBlue service and fares badly!!',\n",
       "  array([-0.40754086, -1.0991595 , -6.460017  ], dtype=float32),\n",
       "  'negative'),\n",
       " ('Appreciated, but in this case we waited an extra 55 minutes for a lost mechanic to fax the log. Fax...like in the 80s.',\n",
       "  array([-1.8146253e-03, -6.5583882e+00, -7.8369336e+00], dtype=float32),\n",
       "  'negative'),\n",
       " ('landed safely everything worked out.',\n",
       "  array([-6.627287  , -5.1858354 , -0.00694303], dtype=float32),\n",
       "  'positive'),\n",
       " ('I hope so. The plane does appear to be leaving a nearby terminal for our gate.',\n",
       "  array([-3.69074   , -0.02888646, -5.6493654 ], dtype=float32),\n",
       "  'neutral'),\n",
       " ('is to airlines as @comcast @XFINITY is to cable/internet',\n",
       "  array([-4.123724, -0.022048, -5.180972], dtype=float32),\n",
       "  'neutral'),\n",
       " ('any updates on flight 1917 from Philly to LA?  Been sitting at gate for close to 2 hours',\n",
       "  array([-2.4375985e-03, -6.1207733e+00, -8.3439922e+00], dtype=float32),\n",
       "  'negative'),\n",
       " (\"Bad enough that there is no seat assigned he's  seating at an exit seat and a male flight attendant removes him from there\",\n",
       "  array([-2.0236745e-03, -6.4363127e+00, -7.7769127e+00], dtype=float32),\n",
       "  'negative'),\n",
       " ('refund',\n",
       "  array([-3.3794098 , -0.06561669, -3.525311  ], dtype=float32),\n",
       "  'neutral'),\n",
       " ('bad weather and multiple Cancelled Flighted flights has us all scared!  Noted for next time.',\n",
       "  array([-7.0269592e-03, -5.0938153e+00, -7.0494790e+00], dtype=float32),\n",
       "  'negative'),\n",
       " ('uhuh.Group trying to get out of Nashville and into IAD today instead of tomorrow,why be preemptive though... https://t.co/yBv0xaowKv',\n",
       "  array([-1.3546147, -0.3044325, -5.423555 ], dtype=float32),\n",
       "  'neutral'),\n",
       " (\"sure,I'll send a message now!\",\n",
       "  array([-4.4869056 , -0.02539097, -4.281935  ], dtype=float32),\n",
       "  'neutral'),\n",
       " ('Offering Special Fares to @GoPureGrenada @discovergrenada http://t.co/MBcEhCSZX3 @CaribbeJan @islandexpert http://t.co/2Zm4jkAlZl',\n",
       "  array([-5.3519135 , -0.01909715, -4.2561436 ], dtype=float32),\n",
       "  'neutral'),\n",
       " (\"...YOU ARE DESPICABLE! The flight plan was lost! Now we've been sitting on the tarmac for an hour! Its a 45 min flight!\",\n",
       "  array([-1.7982041e-03, -6.5879569e+00, -7.7758627e+00], dtype=float32),\n",
       "  'negative'),\n",
       " ('I think me and my group could use some nice cold drinks once we get in the air...we are all over 21 ____',\n",
       "  array([-4.654784  , -0.07348561, -2.7914124 ], dtype=float32),\n",
       "  'neutral'),\n",
       " (\"I think this is the best first class I have ever gotten!!  Denver to LAX and it's wonderful!!!\",\n",
       "  array([-6.9375944 , -5.065737  , -0.00730652], dtype=float32),\n",
       "  'positive'),\n",
       " (\"can you connect me to a person without having to wait 2+ hours on hold? I still haven't been able to resolve the problem.\",\n",
       "  array([-1.8593657e-03, -6.4763646e+00, -8.0526543e+00], dtype=float32),\n",
       "  'negative'),\n",
       " ('@OBJ_3 even airlines are scheming to get a follow from OBJ LMAOOO ________',\n",
       "  array([-1.6257682 , -0.25795028, -3.4865642 ], dtype=float32),\n",
       "  'neutral'),\n",
       " (\"Well, I didn't_but NOW I DO! :-D\",\n",
       "  array([-2.3904757, -0.5659875, -1.0770032], dtype=float32),\n",
       "  'neutral'),\n",
       " ('Never mind that you could have told the gate I was on my way - you could delay 10 mins but not 15?',\n",
       "  array([-2.8754815e-03, -5.9610157e+00, -8.1318293e+00], dtype=float32),\n",
       "  'negative'),\n",
       " (\"Thank you for the acknowledgement. The IFE didn't work all that well anyway so maybe time to upgrade to lower profile system.\",\n",
       "  array([-0.25833714, -2.6239758 , -1.8633552 ], dtype=float32),\n",
       "  'negative'),\n",
       " (\"1416 Cancelled Flightled? Can't get out for two days? No explanation?\",\n",
       "  array([-2.824724e-03, -6.055991e+00, -7.648092e+00], dtype=float32),\n",
       "  'negative'),\n",
       " ('great to hear Thankyou so much. Greatly appreciate your replies. Feel much more settled now.',\n",
       "  array([-6.715587  , -5.082991  , -0.00744083], dtype=float32),\n",
       "  'positive'),\n",
       " ('Thanks, ^KP. Please also mention the Quiche breakfast and Tandoori chicken dinner entrees and accompaniments are truly First Class.',\n",
       "  array([-6.4894495 , -5.217825  , -0.00696268], dtype=float32),\n",
       "  'positive'),\n",
       " ('you really need a better system for handling Cancelled Flightled flights http://t.co/3uBCoAsyws',\n",
       "  array([-4.5203171e-03, -5.5309119e+00, -7.5096507e+00], dtype=float32),\n",
       "  'negative'),\n",
       " ('my flight was already Cancelled Flightled this morning because of a \"snow storm in Denver\". And now I\\'m in DC waiting for a pilot to get on+',\n",
       "  array([-3.4050127e-03, -5.8632274e+00, -7.4926305e+00], dtype=float32),\n",
       "  'negative'),\n",
       " ('I have been denied. Not sure how you charge $150 one way then $25 on way hime',\n",
       "  array([-1.6198145e-03, -6.6138535e+00, -8.1918888e+00], dtype=float32),\n",
       "  'negative'),\n",
       " (\"No it isn't -  sheer incompetence was reigning at DFW today. I was there. On a plane on the GD runway. I doubt you were.\",\n",
       "  array([-1.8018930e-03, -6.5300198e+00, -7.9829078e+00], dtype=float32),\n",
       "  'negative'),\n",
       " ('robocalls me with another Cancelled Flightation. And then when I don__ accept the change it won__ let me connect to an agent. Just wow.',\n",
       "  array([-2.5743460e-03, -6.1778369e+00, -7.6085362e+00], dtype=float32),\n",
       "  'negative'),\n",
       " (\"@Analystdoc Unfortunately that's not an available option with our current system. Sorry guys. That's a certain #fail Fix it plz.\",\n",
       "  array([-1.9469369e-03, -6.4115605e+00, -8.1033726e+00], dtype=float32),\n",
       "  'negative'),\n",
       " ('thanks for trying to take my money without notice. In any other industry, you Cancelled Flight a service, a refund is issued. Cont_',\n",
       "  array([-1.8452061e-03, -6.7351427e+00, -7.3306503e+00], dtype=float32),\n",
       "  'negative'),\n",
       " ('well lucky I only fly JB..I guess I would be even more squished on any other airline __',\n",
       "  array([-0.0851878, -3.559616 , -2.933499 ], dtype=float32),\n",
       "  'negative'),\n",
       " ('I was helped by a nice lady at PHX checkin. I spent 4 hours on hold in 24 hours, so might want to look at efficiency there.',\n",
       "  array([-1.8518695e-03, -6.5003319e+00, -7.9656487e+00], dtype=float32),\n",
       "  'negative'),\n",
       " ('already spoke to that line, unwilling to help - really poor support #hitawall',\n",
       "  array([-2.9337246e-03, -5.9342608e+00, -8.1723709e+00], dtype=float32),\n",
       "  'negative'),\n",
       " ('guys 5350 in dfw  stuck at the gate for half an hour.  Do we pull the slide or what?',\n",
       "  array([-2.0773278e-03, -6.2799015e+00, -8.5090313e+00], dtype=float32),\n",
       "  'negative'),\n",
       " ('No. The entire problem here is that I was never sent anything via email and only given a Flight Booking Problems number over the phone.',\n",
       "  array([-1.5148366e-03, -6.7941570e+00, -7.8408122e+00], dtype=float32),\n",
       "  'negative'),\n",
       " ('Already tried. How about Conf # via DM',\n",
       "  array([-3.5542343 , -0.03246672, -5.7011943 ], dtype=float32),\n",
       "  'neutral'),\n",
       " ('can you DM me? Been on hold with customer service very long time (53 min +) and getting the run-around. Thanks.',\n",
       "  array([-2.2659835e-03, -6.2855072e+00, -7.8232450e+00], dtype=float32),\n",
       "  'negative'),\n",
       " ('Waiting, time does not cost anything for @JetBlue hundreds people how payed thousand dollars with no feedback http://t.co/Ji2pg4gom9',\n",
       "  array([-2.7304532e-03, -6.1055956e+00, -7.6083231e+00], dtype=float32),\n",
       "  'negative'),\n",
       " ('too bad you say it takes 10 to 14 days via YOUR confirmation email. When I inquired after 3 weeks you claim 6 to 8 weeks!',\n",
       "  array([-1.7504860e-03, -6.4854097e+00, -8.4066544e+00], dtype=float32),\n",
       "  'negative'),\n",
       " (\"but the 4 hour policy- when I called and they said I didn't report it soon enough. What would have changed if I had noticed sooner?\",\n",
       "  array([-5.6388834e-03, -5.2434034e+00, -7.9842415e+00], dtype=float32),\n",
       "  'negative'),\n",
       " ('Thank you for the service credit. And to @PamGrout for positive thoughts.',\n",
       "  array([-6.4399543 , -4.166793  , -0.01724628], dtype=float32),\n",
       "  'positive'),\n",
       " ('I use to #LUV swa but after an hour and counting on hold, for a flight they Cancelled Flighted on me? #noluv',\n",
       "  array([-1.7184742e-03, -6.4873276e+00, -8.5459309e+00], dtype=float32),\n",
       "  'negative'),\n",
       " (\"You completely let me down tonight. Your gate agents' ambivalence is just too much. How sad for you (&amp; me.)\",\n",
       "  array([-5.0365240e-03, -6.2437057e+00, -5.7824149e+00], dtype=float32),\n",
       "  'negative'),\n",
       " ('yes. On a nonstop to Memphis tomorrow morning. With the snow coming in I got my fingers crossed it will go.',\n",
       "  array([-5.7607284 , -0.01378657, -4.552283  ], dtype=float32),\n",
       "  'neutral'),\n",
       " ('@UnitedAppeals @gg8929 What kind of hypocrisy is that? Only Cancelled Flightling tickets with bad exchange rate if in your advantage #united',\n",
       "  array([-2.5297564e-03, -6.1864123e+00, -7.6642423e+00], dtype=float32),\n",
       "  'negative'),\n",
       " ('Keep the flights cheap and early/on time and you are good. Flew @AmericanAir  and Cancelled Flightled my flight 4 times last month. United&gt;',\n",
       "  array([-0.45881844, -4.504484  , -1.0302696 ], dtype=float32),\n",
       "  'negative'),\n",
       " (\"is moving the plane to the end of the runway for us to sit on it for an hour and a half. They didn't even let us off.\",\n",
       "  array([-2.0632902e-03, -6.4725423e+00, -7.5697665e+00], dtype=float32),\n",
       "  'negative'),\n",
       " ('great flight! And great view! http://t.co/auFM4xdaj2',\n",
       "  array([-6.471101e+00, -5.527193e+00, -5.540017e-03], dtype=float32),\n",
       "  'positive'),\n",
       " ('@USAirways \"ma\\'am if you have a complaint you should visit our customer service desk\" {sees line ~45 people deep}',\n",
       "  array([-4.8124441e-03, -5.4199963e+00, -7.8920732e+00], dtype=float32),\n",
       "  'negative'),\n",
       " (\"My wife was with our dog.  They wouldn't even let her out off the plane.  My daughter was at Newburgh lives close by. So wrong\",\n",
       "  array([-4.3731532e-03, -5.5243039e+00, -7.8886614e+00], dtype=float32),\n",
       "  'negative'),\n",
       " ('Yes - with extra $77. I wonder what are you going yo loose, if there is room.',\n",
       "  array([-1.8769891, -0.1691627, -5.960649 ], dtype=float32),\n",
       "  'neutral'),\n",
       " ('when will the system be up and running?',\n",
       "  array([-4.5094643 , -0.01506288, -5.5351467 ], dtype=float32),\n",
       "  'neutral'),\n",
       " ('why are customer svc reps unable to handle calls. Is there a 24hrs Cancelled Flightlation policy? Booked yesterday need to Cancelled Flight',\n",
       "  array([-2.2146003e-03, -6.2537732e+00, -8.1492577e+00], dtype=float32),\n",
       "  'negative'),\n",
       " ('truly the WORST day of flying I have ever experienced...',\n",
       "  array([-3.0455657e-03, -6.0217319e+00, -7.3930798e+00], dtype=float32),\n",
       "  'negative'),\n",
       " (\"plz plz plz hold 4438 to EYW. The 810 PHL &gt;CLT is sooo Late Flight. Gonna miss the connection for @jabevan221 's 40th #GTH239\",\n",
       "  array([-7.2713727e-03, -4.9758735e+00, -7.9793854e+00], dtype=float32),\n",
       "  'negative'),\n",
       " (\"remember - I'm very doubtful and not very hopeful :(\",\n",
       "  array([-0.06930688, -2.7207892 , -6.779379  ], dtype=float32),\n",
       "  'negative'),\n",
       " ('splitting up my flights quadruples the price',\n",
       "  array([-4.0020621e-03, -5.6517205e+00, -7.6362996e+00], dtype=float32),\n",
       "  'negative'),\n",
       " (\"i'm getting info from the website, but needing to check it and the alerts would be much more beneficial.\",\n",
       "  array([-0.03779695, -3.32001   , -6.9706492 ], dtype=float32),\n",
       "  'negative'),\n",
       " ('Yes, there is horrible snow. But seriously, can you not hire more people to answer the phones? Competitor have call back numbers.',\n",
       "  array([-1.8725733e-03, -6.5519547e+00, -7.7209511e+00], dtype=float32),\n",
       "  'negative'),\n",
       " ('Looks like they came through. Thanks again for the help.',\n",
       "  array([-6.0245557 , -4.7179685 , -0.01141682], dtype=float32),\n",
       "  'positive'),\n",
       " ('big thanks to your team. family emerg, same day ticket, experience was excellent. 1st time flying with yall, not my last!',\n",
       "  array([-6.4397597e+00, -5.4354148e+00, -5.9740553e-03], dtype=float32),\n",
       "  'positive'),\n",
       " (\"a voucher.. I can't believe I took this risk. Not only was the plane terribly filthy and I had 15 screaming babies in my face..\",\n",
       "  array([-2.6965707e-03, -6.1479316e+00, -7.4963908e+00], dtype=float32),\n",
       "  'negative'),\n",
       " (\"I've been on hold for 40 minutes just to get a receipt. I know you guys are busy but I think it's time to higher more staff!\",\n",
       "  array([-2.5064503e-03, -6.2101879e+00, -7.6121225e+00], dtype=float32),\n",
       "  'negative'),\n",
       " ('Do you have plans for an iPad app?  The iPhone app is great, but on the  iPad you have to flip the iPad.  Is there a beta? Tks.',\n",
       "  array([-4.7823005 , -0.01336732, -5.3181944 ], dtype=float32),\n",
       "  'neutral'),\n",
       " (\"messaged you as requested- and called your baggage team again. It's STILL in Newark. please help or let me know next steps!!\",\n",
       "  array([-5.9497626e-03, -5.2835464e+00, -7.0611773e+00], dtype=float32),\n",
       "  'negative'),\n",
       " ('you cxl both my flights to/from DFW to CLL w/o notice then treat me like trash on the phone and offer no compensation? WTH?',\n",
       "  array([-1.6260033e-03, -6.8254967e+00, -7.5259485e+00], dtype=float32),\n",
       "  'negative'),\n",
       " ('terrible landing on 915',\n",
       "  array([-0.01490939, -4.263807  , -7.222235  ], dtype=float32),\n",
       "  'negative'),\n",
       " (' anywhere... away from this snow globe to warmth sand and palm trees..',\n",
       "  array([-3.9125526 , -0.08544809, -2.7820776 ], dtype=float32),\n",
       "  'neutral'),\n",
       " (\"attached original ticket. flight number was 1672. isn't the experience I thought I would have. Terrible! http://t.co/5SdlyN9MSS\",\n",
       "  array([-1.6029141e-03, -6.6361942e+00, -8.1472864e+00], dtype=float32),\n",
       "  'negative'),\n",
       " (\"Boooo!!!!!!   Don't be like the other airlines!!  http://t.co/WHAGPknnLF\",\n",
       "  array([-0.01125994, -5.0051436 , -5.405156  ], dtype=float32),\n",
       "  'negative'),\n",
       " ('why are you charging people to see the freaking flight map? https://t.co/AgPb45v8wt',\n",
       "  array([-3.1071263e-03, -5.9834800e+00, -7.4485197e+00], dtype=float32),\n",
       "  'negative'),\n",
       " ('wifi on my plane but I gotta pay for it? Help your broke homegirl out_____',\n",
       "  array([-3.3049744e-03, -5.8473096e+00, -7.7949157e+00], dtype=float32),\n",
       "  'negative'),\n",
       " ('quick question - i bought wifi for my phone, do I have to buy it again on my tablet? I have 9 hours left on my trip',\n",
       "  array([-1.8074079 , -0.18173958, -6.1645374 ], dtype=float32),\n",
       "  'neutral'),\n",
       " (\" please don't go to the check in process @AmericanAir uses at #MCO. It's an absolute disaster.\",\n",
       "  array([-2.1040938e-03, -6.3191690e+00, -8.1101637e+00], dtype=float32),\n",
       "  'negative'),\n",
       " ('thanks to Ella-Mae at LAS counter for going above and beyond to help us get back to ABQ after our flight was Cancelled Flightled!',\n",
       "  array([-6.454618e+00, -5.778293e+00, -4.678138e-03], dtype=float32),\n",
       "  'positive'),\n",
       " ('Nicest people ever flight to Chicago.Thanks David Deane &amp; Norma Sedholm for making me feel comfortable _____________________',\n",
       "  array([-6.568754  , -5.20417   , -0.00692101], dtype=float32),\n",
       "  'positive'),\n",
       " ('I will, as soon as I am done with my article.  Thanks!  ~Tom',\n",
       "  array([-6.919447 , -3.5125217, -0.0312946], dtype=float32),\n",
       "  'positive'),\n",
       " (\"if you actually cared about what you did it would be one thing. Sounds like you don't like being told how lousy your service is.\",\n",
       "  array([-2.0107068e-03, -6.4838314e+00, -7.6400619e+00], dtype=float32),\n",
       "  'negative'),\n",
       " ('Thanks for remembering to load my bag onto my connecting flight. Oh wait you forgot. Iceland should be fun with no clothes....',\n",
       "  array([-0.00651948, -5.3752127 , -6.2827024 ], dtype=float32),\n",
       "  'negative'),\n",
       " ('QSVGRU when would the next flight arrive?',\n",
       "  array([-5.4542656 , -0.00750875, -5.743768  ], dtype=float32),\n",
       "  'neutral'),\n",
       " (\"If it's any consolation, your staff was stellar. Just not the hour+ delays I encountered with every one of my 4 flights.\",\n",
       "  array([-0.16148925, -5.209181  , -1.9403186 ], dtype=float32),\n",
       "  'negative'),\n",
       " ('if you mean by posted, no USAir empl to direct anyone, 800# not accepting calls, no contact from USAir re: rebook #greatjob',\n",
       "  array([-1.6282647e-03, -6.6037273e+00, -8.2112141e+00], dtype=float32),\n",
       "  'negative'),\n",
       " ('this made me have to Cancelled Flight my car reservation and it came out to more money...why did you reschedule a time without the crew?',\n",
       "  array([-1.7237104e-03, -6.5985799e+00, -7.9297318e+00], dtype=float32),\n",
       "  'negative'),\n",
       " ('I need you to follow back in order to DM.',\n",
       "  array([-4.953849  , -0.01082984, -5.5953045 ], dtype=float32),\n",
       "  'neutral'),\n",
       " ('How do I check? Reservation for Joe Watson and Kelsey Jennings. We were on hold for 2 hours. Waiting for call back now. ETA?',\n",
       "  array([-2.8197314e-03, -6.0041223e+00, -7.9653592e+00], dtype=float32),\n",
       "  'negative'),\n",
       " ('how can I get travel question answered quickly... Online and calling not helping with this busy day',\n",
       "  array([-2.5691143e-03, -6.0608768e+00, -8.3628006e+00], dtype=float32),\n",
       "  'negative'),\n",
       " ('any way to get 2 ppl on standby list for flight 1970 FLL to BOS. Trying to find way home.',\n",
       "  array([-5.601875 , -0.0064888, -5.8864336], dtype=float32),\n",
       "  'neutral'),\n",
       " ('flights to Dfw Cancelled Flightled today?',\n",
       "  array([-0.7759034, -0.6222246, -5.821489 ], dtype=float32),\n",
       "  'neutral'),\n",
       " ('it most certainly was not.',\n",
       "  array([-0.02471887, -3.7838473 , -6.3884673 ], dtype=float32),\n",
       "  'negative'),\n",
       " ('Not fast enough.  No excuse for service between big hubs to have such outdated craft. Southwest has wifi. This is awful.',\n",
       "  array([-1.6699191e-03, -6.6640425e+00, -7.8429475e+00], dtype=float32),\n",
       "  'negative'),\n",
       " (\"Well, I fly into Huntsville, AL. But I'd take either Nashville or Birmingham too!\",\n",
       "  array([-4.948856  , -0.02199494, -4.2224083 ], dtype=float32),\n",
       "  'neutral'),\n",
       " ('at the gate! IAD to RDU',\n",
       "  array([-5.328058  , -0.17455544, -1.8622919 ], dtype=float32),\n",
       "  'neutral'),\n",
       " ('no because you will charge me or delay me further. United 1612 still waiting.',\n",
       "  array([-2.1698759e-03, -6.3331666e+00, -7.8464408e+00], dtype=float32),\n",
       "  'negative'),\n",
       " (\"pretty frustrating when you can't even stay on hold to get help after a flight Cancelled Flightation!\",\n",
       "  array([-1.9884591e-03, -6.5632992e+00, -7.4607487e+00], dtype=float32),\n",
       "  'negative'),\n",
       " (\" at fort launder dale and the gate agent can't switch flights to an earlier flight but we can on our phone...ridiculous\",\n",
       "  array([-3.8066085e-03, -5.6661153e+00, -7.9921365e+00], dtype=float32),\n",
       "  'negative'),\n",
       " (\"suck and their customer services are the worst  whats the point of having a loyalty scheme that they don't honor #badairline\",\n",
       "  array([-1.8481808e-03, -6.6462622e+00, -7.5100565e+00], dtype=float32),\n",
       "  'negative'),\n",
       " (\"you had us REBOARD without the captain.  So now we'll be sitting in here for another 20+ min? http://t.co/EEReKDf9Fq\",\n",
       "  array([-2.3436479e-03, -6.3727403e+00, -7.3642840e+00], dtype=float32),\n",
       "  'negative'),\n",
       " (\"I forgot that Intl flights out of LAX don't go from Intl Terminal! Easiest re-check in ever! woo!\",\n",
       "  array([-5.7119010e-03, -5.2379375e+00, -7.8638411e+00], dtype=float32),\n",
       "  'negative'),\n",
       " ('horrible service, wrong plane arrived, many confirmed passengers could not get on flight we paid for due to lack of seats flight',\n",
       "  array([-2.4069168e-03, -6.2014832e+00, -7.8817616e+00], dtype=float32),\n",
       "  'negative'),\n",
       " ('Coach interior on UA 992 looked like it was salvaged from the 80s. Tiny unusable video, no power &amp; lifevests on the floor #UA992 _',\n",
       "  array([-2.2607502e-03, -6.2772412e+00, -7.8762674e+00], dtype=float32),\n",
       "  'negative'),\n",
       " ('A generic form with tons of fields asking for info you already?  Expected more as a premier platinum. Another #servicefail',\n",
       "  array([-2.4888513e-03, -6.0908899e+00, -8.4110880e+00], dtype=float32),\n",
       "  'negative'),\n",
       " ('Thank you Alicia!  #ExceptionalService',\n",
       "  array([-6.7302566e+00, -5.4772139e+00, -5.3896834e-03], dtype=float32),\n",
       "  'positive'),\n",
       " (\"y'all are fast we already have our 5 winners! Congrats!!\",\n",
       "  array([-7.334882  , -4.831123  , -0.00866735], dtype=float32),\n",
       "  'positive'),\n",
       " ('Never felt better taken care of! Indian aunties are the gold standard. Thanks Aruna! http://t.co/aypyaDUY6a',\n",
       "  array([-6.7365885e+00, -5.3697863e+00, -5.8589862e-03], dtype=float32),\n",
       "  'positive'),\n",
       " ('and have empty \"help\" desks',\n",
       "  array([-3.0343940e-03, -5.9533038e+00, -7.7456274e+00], dtype=float32),\n",
       "  'negative'),\n",
       " ('LOVE your TV ad with the girl dancing. Makes me laugh every time, AND now I want to take a trip! :-)',\n",
       "  array([-6.6363502e+00, -5.4899526e+00, -5.4546567e-03], dtype=float32),\n",
       "  'positive'),\n",
       " ('oh the irony. A dog who will not spot barking in waiting area is now right in front of me! Please send me a cocktail coupon stat',\n",
       "  array([-4.4334456e-03, -5.8749595e+00, -6.4286051e+00], dtype=float32),\n",
       "  'negative'),\n",
       " ('only 1 guest needs to change a flight on a reservation of 2. How can I do it? I NEED this to happen. Say it can...Please help!',\n",
       "  array([-0.02943829, -3.5546782 , -7.7783093 ], dtype=float32),\n",
       "  'negative'),\n",
       " (\"Thank you, but that isn't really responding to my request, is it? You are sending me into a generic environment on your site.\",\n",
       "  array([-1.7874945e-03, -6.5620809e+00, -7.8941355e+00], dtype=float32),\n",
       "  'negative'),\n",
       " (' Tried to leave Monday, all other planes left but mine. Now this one keeps getting delayed. Missed work. Have to pay for a cab',\n",
       "  array([-1.8618645e-03, -6.4434614e+00, -8.2198858e+00], dtype=float32),\n",
       "  'negative'),\n",
       " ('Hi, booked a flight yesterday and received an email w/ confirmation number but today I got this error \"no active flight segments\"',\n",
       "  array([-0.0112333, -4.5109067, -8.611577 ], dtype=float32),\n",
       "  'negative'),\n",
       " (\" thanks Southwest for saving our trip. my sweetheart isn't going to miss seeing #AltonBrownLive thanks to y'all! #SOhappy\",\n",
       "  array([-6.8748870e+00, -5.2221689e+00, -6.4498354e-03], dtype=float32),\n",
       "  'positive'),\n",
       " ('we followed the baggage rules on your website and was still charges $150. But only going one way',\n",
       "  array([-2.0684055e-03, -6.3249359e+00, -8.1983194e+00], dtype=float32),\n",
       "  'negative'),\n",
       " ('Need help with a flight. Weather + funeral = tough combination. On hold for over an hour. Please?',\n",
       "  array([-2.3574438e-03, -6.1841702e+00, -8.1358566e+00], dtype=float32),\n",
       "  'negative'),\n",
       " (\"Our fleet's on fleek. http://t.co/RLWBJ80mA5_ r u serious\",\n",
       "  array([-0.33104053, -1.2889937 , -5.071019  ], dtype=float32),\n",
       "  'negative'),\n",
       " ('and @WSJ team up offering in-flight access to journal content http://t.co/PTsbkA4cDJ',\n",
       "  array([-4.697164  , -0.02594891, -4.1047554 ], dtype=float32),\n",
       "  'neutral'),\n",
       " (' great way to start my vacation with an on time departure! Looking forward to my global first class suite!',\n",
       "  array([-5.7376866 , -5.2095475 , -0.00872431], dtype=float32),\n",
       "  'positive'),\n",
       " ('I want to enter the family pooling contest, it says \"by 2/19\" on the website, can I please enter still!',\n",
       "  array([-5.675106  , -0.01043047, -4.969591  ], dtype=float32),\n",
       "  'neutral'),\n",
       " ('I tried speaking to multiple people at your reservations desk after 30 min on hold. #waivethefee #poorcustomerservice #Neptune',\n",
       "  array([-1.1793571e-03, -7.0022120e+00, -8.2216148e+00], dtype=float32),\n",
       "  'negative'),\n",
       " (\"flight 645 to Phoenix deboards passengers going to Salt Lake City because they can't resolve a simple bathroom issue. #fail\",\n",
       "  array([-1.6193384e-03, -6.6538925e+00, -8.0191336e+00], dtype=float32),\n",
       "  'negative'),\n",
       " ('takes my money at once but then requires 7 to 10 days to process a refund? Why does your auto attendant hang up? #usairwaysfail',\n",
       "  array([-1.6653967e-03, -6.5978818e+00, -8.1093454e+00], dtype=float32),\n",
       "  'negative'),\n",
       " ('yes, it says it should be deliver within 6 hours after pick up line.',\n",
       "  array([-0.05366885, -2.960578  , -7.67328   ], dtype=float32),\n",
       "  'negative'),\n",
       " ('I just had an interview how long does it take before you hear back',\n",
       "  array([-1.2693241 , -0.33245063, -6.312006  ], dtype=float32),\n",
       "  'neutral'),\n",
       " ('The only thing you fella have done right today is get me to the pacific time zone.',\n",
       "  array([-0.00700861, -5.251291  , -6.3519616 ], dtype=float32),\n",
       "  'negative'),\n",
       " ('This has to be the best video I have seen ever! - #teamspirit https://t.co/X5JenA7NyE',\n",
       "  array([-6.4713106 , -5.23611   , -0.00689177], dtype=float32),\n",
       "  'positive'),\n",
       " ('they had record of it being at Denver on the concourse prior to me gettin on the shuttle. I just want to confirm its location',\n",
       "  array([-3.154909  , -0.04624443, -5.9719963 ], dtype=float32),\n",
       "  'neutral'),\n",
       " (\"It's very difficult to work with Baggage claims when they don't answer the phone\",\n",
       "  array([-2.111945e-03, -6.448900e+00, -7.547542e+00], dtype=float32),\n",
       "  'negative'),\n",
       " ('Completely understand Act of God weather-reLate Flightd Cancelled Flightlation, but 4 days without reimbursement of any kind is #unacceptable',\n",
       "  array([-1.6911027e-03, -6.7530117e+00, -7.5572529e+00], dtype=float32),\n",
       "  'negative'),\n",
       " ('thanks for the quick response! Fingers crossed the plane gets here then',\n",
       "  array([-6.8383956e+00, -5.3989272e+00, -5.6090113e-03], dtype=float32),\n",
       "  'positive'),\n",
       " (\"@LeeAnnHealey I was all, yeah sale fares! I got places to fly! Oh damn, right, I live where SWA doesn't fly. #why\",\n",
       "  array([-5.214461 , -0.5195504, -0.9168542], dtype=float32),\n",
       "  'neutral'),\n",
       " (\"Our fleet's on fleek. http://t.co/5xGnyHGAFz_ this is what I hate\",\n",
       "  array([-2.6316554e-03, -6.1594605e+00, -7.5716863e+00], dtype=float32),\n",
       "  'negative'),\n",
       " ('So important to accept others for who they are. #SWADiversity',\n",
       "  array([-5.596605  , -4.2992587 , -0.01744029], dtype=float32),\n",
       "  'positive'),\n",
       " (\"@AmericanAir you know...hockey sticks are expensive. Your baggage handlers shouldn't just be throwing them on the cart.\",\n",
       "  array([-2.8984225e-03, -6.0240369e+00, -7.6536026e+00], dtype=float32),\n",
       "  'negative'),\n",
       " ('This is getting a bit ridiculous when and you have made me miss 2 full days off work and had to pay for cabs back and forth',\n",
       "  array([-1.6064846e-03, -6.7536988e+00, -7.7318387e+00], dtype=float32),\n",
       "  'negative'),\n",
       " ('absolutely',\n",
       "  array([-1.247264  , -0.36289802, -4.0714364 ], dtype=float32),\n",
       "  'neutral'),\n",
       " ('I was re accommodated for my DSM flight tonight after a delay from Myrtle Beach now the flight to DSM is back on for tonight?',\n",
       "  array([-0.41893333, -1.135448  , -3.86448   ], dtype=float32),\n",
       "  'negative'),\n",
       " (\"flt 4439 is on the ground, but you don't have a gate for us at dca. Why is this happening?\",\n",
       "  array([-4.2675147e-03, -5.5383034e+00, -8.0310221e+00], dtype=float32),\n",
       "  'negative'),\n",
       " (\"we can't all be american airlines I suppose... http://t.co/0EWj7oKlji\",\n",
       "  array([-4.2085953 , -0.02261293, -4.8939395 ], dtype=float32),\n",
       "  'neutral'),\n",
       " ('patience is what my connecting flight will need. Why do you guys do this to me every time I travel? Every. Single. Time.',\n",
       "  array([-1.6652778e-03, -6.7613182e+00, -7.5885744e+00], dtype=float32),\n",
       "  'negative'),\n",
       " (\"why aren't twitter and reservations connected? What do people want? Reservations, duh?!?!\",\n",
       "  array([-0.18615536, -1.780426  , -6.6538095 ], dtype=float32),\n",
       "  'negative'),\n",
       " ('@robinreda being stuck two days in the airport is not something pretty normal. I am positive you can find a plane to Europe',\n",
       "  array([-2.1729686e-03, -6.2859917e+00, -8.0840988e+00], dtype=float32),\n",
       "  'negative'),\n",
       " ('I left my iPad on my flight 1831 from ERW to DEN. I opened claim 442998. It has so many memories on it. Plz help get it back.',\n",
       "  array([-4.5983267 , -0.01911587, -4.7255654 ], dtype=float32),\n",
       "  'neutral'),\n",
       " ('i want an Icecream baby...',\n",
       "  array([-4.515269  , -0.04020333, -3.5590727 ], dtype=float32),\n",
       "  'neutral'),\n",
       " ('got to the strip that fast before. Stoked for special @Imaginedragons show tonight! Thx again @SouthwestAir! http://t.co/ToPqmVqnJp',\n",
       "  array([-7.3249083 , -3.4518511 , -0.03288058], dtype=float32),\n",
       "  'positive'),\n",
       " ('whatever your lil #mint heart desires! http://t.co/WmX12F33ZC',\n",
       "  array([-7.261658  , -3.4534545 , -0.03287251], dtype=float32),\n",
       "  'positive'),\n",
       " ('my flight from MCO has been delayed &amp; scheduled to arrive after my connection departs. What options do I have?',\n",
       "  array([-4.1261306e-03, -5.6017194e+00, -7.7609601e+00], dtype=float32),\n",
       "  'negative'),\n",
       " ('ugh kicking myself for missing out on #destinationdragons. I need some @Imaginedragons back in my life  http://t.co/sbEhi46bMk',\n",
       "  array([-0.01035343, -4.6348844 , -7.4307065 ], dtype=float32),\n",
       "  'negative'),\n",
       " (\"#kudos! And we're done and heading to warmer weather!\",\n",
       "  array([-6.653509  , -4.72962   , -0.01017089], dtype=float32),\n",
       "  'positive'),\n",
       " ('If I__ unable to use my departing flight can I still use the returning flight?',\n",
       "  array([-4.0010695 , -0.02103415, -5.9841347 ], dtype=float32),\n",
       "  'neutral'),\n",
       " (\"i appreciate your apology. Sincerely. Thank you. That's really all I ever wanted to begin with.\",\n",
       "  array([-1.886585  , -3.2556736 , -0.21089809], dtype=float32),\n",
       "  'positive'),\n",
       " ('I would like to talk to a customer service agent about the service / non service I received on my last flight a a week or so a go.\\nJ',\n",
       "  array([-0.0228101, -3.8100266, -7.8132963], dtype=float32),\n",
       "  'negative'),\n",
       " (': Maybe You Should Drive #usairwaysfail',\n",
       "  array([-2.5784397 , -0.08236353, -5.753833  ], dtype=float32),\n",
       "  'neutral'),\n",
       " ('are flights leaving Dallas right now? In Maui trying to figure out how delayed flight 7 is going to be',\n",
       "  array([-0.4291978, -1.0588667, -6.1562896], dtype=float32),\n",
       "  'negative'),\n",
       " ('can I get any kind of update on the delayed flight from Boston to Houston at 7:30? Really need to be back home tonight!',\n",
       "  array([-0.02267237, -3.8354342 , -7.0997815 ], dtype=float32),\n",
       "  'negative'),\n",
       " ('I did already rebook, and now I will miss my first appointments in London tomorrow morning. Thanks for ruining my trip - AGAIN!',\n",
       "  array([-1.9652592e-03, -6.6225629e+00, -7.3644700e+00], dtype=float32),\n",
       "  'negative'),\n",
       " (\"flight from JFK to EGE was cxld after on runway for an hour. Flight moved to 7am but they won't give luggage back. Nice.\",\n",
       "  array([-2.1647608e-03, -6.3144956e+00, -7.9501271e+00], dtype=float32),\n",
       "  'negative'),\n",
       " ('if I apply for ur credit card, do you automatically get the companion certificate or do I have to wait for it?',\n",
       "  array([-5.685362  , -0.00903234, -5.185623  ], dtype=float32),\n",
       "  'neutral'),\n",
       " ('Will the nightmare ever end? Just found out our flight today is delayed due to \"ground handling delays affecting a prior flight.\"',\n",
       "  array([-2.7525653e-03, -6.0119014e+00, -8.1140070e+00], dtype=float32),\n",
       "  'negative'),\n",
       " ('Using JetBlue air miles?',\n",
       "  array([-2.674847  , -0.07923869, -4.924926  ], dtype=float32),\n",
       "  'neutral'),\n",
       " ('Need to go frm TPA to MCI tmrw &amp; my connection thru DFW is Cancelled Flightled. Can u connect me thru a diff city? Been on hold for 2 hrs',\n",
       "  array([-4.2292918e-03, -5.5496907e+00, -8.0115433e+00], dtype=float32),\n",
       "  'negative'),\n",
       " ('poor storm customer service, 1hr takeoff delay waiting for the snack cart, rude steward (no names) and I love you guys. #TrueBlue',\n",
       "  array([-1.5022195e-03, -6.9188976e+00, -7.5768628e+00], dtype=float32),\n",
       "  'negative'),\n",
       " ('thank you for doing the best you could to get me rebooked. Agent on phone &amp; addtl resolution on DM was very much appreciated.',\n",
       "  array([-5.5598297 , -5.433312  , -0.00825198], dtype=float32),\n",
       "  'positive'),\n",
       " ('you changed my AAdvantage travel plans &amp; I called 800-433-7300 to get help but it sea ur too busy &amp; hangs up on me. What gives?',\n",
       "  array([-1.8666240e-03, -6.5704803e+00, -7.6761475e+00], dtype=float32),\n",
       "  'negative'),\n",
       " ('i understand, thanks',\n",
       "  array([-6.21683  , -1.8745259, -0.1689197], dtype=float32),\n",
       "  'positive'),\n",
       " ('thank you for the update!',\n",
       "  array([-6.6259456 , -4.5894685 , -0.01155022], dtype=float32),\n",
       "  'positive'),\n",
       " ('I\\'m disappointed my flight was Cancelled Flighted, mostly because I was excited to listen to the song \"I\\'m Blue\" while flying on JetBlue.',\n",
       "  array([-2.171541e-03, -6.275105e+00, -8.157708e+00], dtype=float32),\n",
       "  'negative'),\n",
       " ('YOU SUCK!',\n",
       "  array([-0.00599704, -5.9450965 , -5.6956735 ], dtype=float32),\n",
       "  'negative'),\n",
       " ('thanks!',\n",
       "  array([-6.5064692 , -4.1413336 , -0.01754842], dtype=float32),\n",
       "  'positive'),\n",
       " ('EWR ppl told me to call 1800#, have 2x/day since Monday. Still at layover loc. have that ref # tho. Any help appreciated.',\n",
       "  array([-0.03091753, -3.5168133 , -7.1946645 ], dtype=float32),\n",
       "  'negative'),\n",
       " ('to the rescue. Sundown in Chicago. Next stop San Antonio! http://t.co/rQBpmwETtq',\n",
       "  array([-5.320183  , -0.05647562, -2.9953606 ], dtype=float32),\n",
       "  'neutral'),\n",
       " (\"letting me down in San Fran. No Media rate? What's the deal? Looks like this is the last time I fly anywhere with you.\",\n",
       "  array([-3.0729000e-03, -5.9040914e+00, -7.9869294e+00], dtype=float32),\n",
       "  'negative'),\n",
       " ('Any news about the departure of the flight UA51?',\n",
       "  array([-4.147903  , -0.01877431, -5.8775425 ], dtype=float32),\n",
       "  'neutral'),\n",
       " ('i will never fly with you again. i went on vacation this week and you lost my bags both ways. now i have no clothes. thankyou',\n",
       "  array([-1.5933926e-03, -6.7152467e+00, -7.8759356e+00], dtype=float32),\n",
       "  'negative'),\n",
       " ('why is raleigh not on the updated southern states advisory???',\n",
       "  array([-1.6908993 , -0.20562157, -6.4988117 ], dtype=float32),\n",
       "  'neutral'),\n",
       " ('the nightmare continues... http://t.co/TsvgbrL15f',\n",
       "  array([-0.07610053, -2.688947  , -5.2354364 ], dtype=float32),\n",
       "  'negative'),\n",
       " (' ok my 4th try today....giving up at 12.45am after 138 minute hold time. #terrible http://t.co/Ps9Q9RPSiL',\n",
       "  array([-2.0895808e-03, -6.4262252e+00, -7.6652689e+00], dtype=float32),\n",
       "  'negative'),\n",
       " (\"I fly American because of family but severe weather excuse so I can't call to make change, why have a computer if u cant modify\",\n",
       "  array([-5.5190334e-03, -5.2336035e+00, -8.6824331e+00], dtype=float32),\n",
       "  'negative'),\n",
       " (\"still haven't been able to get through, thanks for responding\",\n",
       "  array([-4.4605047e-03, -5.5940232e+00, -7.2216849e+00], dtype=float32),\n",
       "  'negative'),\n",
       " ('Thanks! He is.',\n",
       "  array([-6.5751605, -4.760575 , -0.0100052], dtype=float32),\n",
       "  'positive'),\n",
       " (\"change your hold music, going on hour 3 and i'm about to loose it\",\n",
       "  array([-0.00970149, -4.6741705 , -8.043113  ], dtype=float32),\n",
       "  'negative'),\n",
       " ('bag in possession but no clothes in bag??',\n",
       "  array([-4.459318e-03, -5.452613e+00, -8.714293e+00], dtype=float32),\n",
       "  'negative'),\n",
       " ...]"
      ]
     },
     "execution_count": 86,
     "metadata": {
      "tags": []
     },
     "output_type": "execute_result"
    }
   ],
   "source": [
    "predictions"
   ]
  },
  {
   "cell_type": "code",
   "execution_count": 87,
   "metadata": {
    "colab": {
     "base_uri": "https://localhost:8080/",
     "height": 34
    },
    "colab_type": "code",
    "id": "xISWc81OXscQ",
    "outputId": "f019e4af-fae5-4fc7-8337-102844359aa9"
   },
   "outputs": [
    {
     "data": {
      "text/plain": [
       "'positive'"
      ]
     },
     "execution_count": 87,
     "metadata": {
      "tags": []
     },
     "output_type": "execute_result"
    }
   ],
   "source": [
    "predictions[0][2]"
   ]
  },
  {
   "cell_type": "code",
   "execution_count": 0,
   "metadata": {
    "colab": {},
    "colab_type": "code",
    "id": "Oo_ouVRjW2Jc"
   },
   "outputs": [],
   "source": [
    "preds = [x[2] for x in predictions]"
   ]
  },
  {
   "cell_type": "code",
   "execution_count": 89,
   "metadata": {
    "colab": {
     "base_uri": "https://localhost:8080/",
     "height": 187
    },
    "colab_type": "code",
    "id": "nEsR1M56X9MN",
    "outputId": "df045497-cd97-4df1-af7a-e085a5eb5836"
   },
   "outputs": [
    {
     "name": "stdout",
     "output_type": "stream",
     "text": [
      "              precision    recall  f1-score   support\n",
      "\n",
      "    negative       0.91      0.91      0.91      1889\n",
      "     neutral       0.70      0.70      0.70       580\n",
      "    positive       0.80      0.80      0.80       459\n",
      "\n",
      "    accuracy                           0.85      2928\n",
      "   macro avg       0.80      0.81      0.81      2928\n",
      "weighted avg       0.85      0.85      0.85      2928\n",
      "\n"
     ]
    }
   ],
   "source": [
    "from sklearn.metrics import classification_report, confusion_matrix\n",
    "print(classification_report(valid.sentiment, preds))"
   ]
  },
  {
   "cell_type": "code",
   "execution_count": 90,
   "metadata": {
    "colab": {
     "base_uri": "https://localhost:8080/",
     "height": 68
    },
    "colab_type": "code",
    "id": "H_-USWsPYM-l",
    "outputId": "98feec10-6a53-477a-fae6-28bfe69edceb",
    "scrolled": true
   },
   "outputs": [
    {
     "data": {
      "text/plain": [
       "array([[1722,  124,   43],\n",
       "       [ 121,  408,   51],\n",
       "       [  42,   48,  369]])"
      ]
     },
     "execution_count": 90,
     "metadata": {
      "tags": []
     },
     "output_type": "execute_result"
    }
   ],
   "source": [
    "confusion_matrix(valid.sentiment, preds)"
   ]
  },
  {
   "cell_type": "markdown",
   "metadata": {},
   "source": [
    "###### The model has an f1 score of 0.85. We can tune the threshold based on the requirement of Precision, Recall parameters and use AUC-ROC curve to come to a optimal threshold value"
   ]
  }
 ],
 "metadata": {
  "accelerator": "GPU",
  "colab": {
   "collapsed_sections": [],
   "name": "Elli Lilly_Bert.ipynb",
   "provenance": []
  },
  "kernelspec": {
   "display_name": "Python 3",
   "language": "python",
   "name": "python3"
  },
  "language_info": {
   "codemirror_mode": {
    "name": "ipython",
    "version": 3
   },
   "file_extension": ".py",
   "mimetype": "text/x-python",
   "name": "python",
   "nbconvert_exporter": "python",
   "pygments_lexer": "ipython3",
   "version": "3.7.4"
  }
 },
 "nbformat": 4,
 "nbformat_minor": 1
}
